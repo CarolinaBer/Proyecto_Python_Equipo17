{
  "nbformat": 4,
  "nbformat_minor": 0,
  "metadata": {
    "colab": {
      "name": "Proyecto_BEDU:Violencia_mujer.ipynb",
      "provenance": [],
      "collapsed_sections": [
        "amwI0eC0_6Od",
        "xGqSNZTT67JM",
        "7YGyMJFUbf3H",
        "WfHd5sfEtjBo",
        "JEPFySWaQSkt",
        "n9EQfL3cXhgv",
        "f-CFztboAGyo",
        "0Vc-MXaNk0hH",
        "yDA9cinmYamy",
        "73UeQrjUYmmP"
      ]
    },
    "kernelspec": {
      "name": "python3",
      "display_name": "Python 3"
    }
  },
  "cells": [
    {
      "cell_type": "markdown",
      "metadata": {
        "id": "ppjps_bKma2H"
      },
      "source": [
        "#**Violencia contra la mujer en México.** \r\n",
        "\r\n",
        "---\r\n",
        "##Proyecto BEDU-Santander: Python.\r\n",
        "\r\n",
        "**Equipo no.17:**\r\n",
        "\r\n",
        "*   Bernal Rodríguez Carolina.\r\n",
        "*   Velázquez Valdez Carlos.\r\n",
        "*   Zamudio Guzmán Linette.\r\n",
        "\r\n",
        "\r\n"
      ]
    },
    {
      "cell_type": "markdown",
      "metadata": {
        "id": "toNrU2vcrfmd"
      },
      "source": [
        "##**Contexto e importancia.**\r\n",
        "\r\n",
        "Las Naciones Unidas definen la violencia contra la mujer como \"*todo acto de violencia de género que resulte, o pueda tener como resultado un daño físico, sexual o psicológico para la mujer, inclusive las amenazas de tales actos, la coacción o la privación arbitraria de libertad, tanto si se producen en la vida pública como en la privada*\"(OMS,2017).\r\n",
        "\r\n",
        "\r\n",
        "> **\"*Las estimaciones mundiales publicadas por la OMS indican que alrededor de una de cada tres (35%) mujeres en el mundo han sufrido violencia física y/o sexual de pareja o violencia sexual por terceros en algún momento de su vida.*\"(OMS,2017).**\r\n",
        "\r\n",
        "Actualmente las niñas y mujeres sufren diversos tipos de violencia (en sus múltiples manifestaciones) en diversos  ámbitos de su vida como lo son: el hogar, el espacio público, la escuela, el trabajo, el ciberespacio,  la política, entre otros. En particular,no podemos ignorar que la mujer aún padece situaciones de violencia y maltrato especialmente por su pareja y en ocasiones en su propio hogar.\r\n",
        " >**\"*Un 38% de los asesinatos de mujeres que se producen en el mundo son cometidos por su pareja masculina.*\"(OMS,2017).**\r\n",
        "<p align= \"justify\">\r\n",
        "La violencia en contra de  la mujer ha sido y sigue siendo, por desgracia,un problema de alcance internacional. Como todo problema, parte de la solución se encuentra en el ámbito de la prevención primaria, a fin de que dejen de existir actos de violencia  y e impedir que estos lleguen a reproducirse.Para propiciar cambios significativos y duraderos es importante promulgar y aplicar leyes que promuevan la igualdad de género mediante un enfoque multisectorial. Esto es vital, ya que la desigualdad de género es escalable a su expresión más condenable, la violencia contra la mujer. De tal forma que, mediante la erradicación de la desiguldad de género podremos eliminar con mayor eficacia la violencia contra la mujer.\r\n",
        "\r\n",
        "###**Magnitud del problema en México.**\r\n",
        "<p align= \"justify\">\r\n",
        "En materia de desigualdad de género, nuestro país ocupa la posición 72 de un total de 186 naciones. Con un índice de 0.382,México se encuentra arriba del promedio de Europa y Asia Central y por debajo del promedio de América Latina (0.419) y de la media mundial en esta materia (0.463)(Moctezuma, D. Narro,J.Orozco,L, 2014).</p>\r\n",
        "\r\n",
        "<p align= \"justify\">\r\n",
        "<img src=\"https://delphos.nu/site/wp-content/uploads/2017/11/DCVCM_1.jpg\" width=\"500px\" style=\"center\"/>\r\n",
        "\r\n",
        "<p align= \"justify\">\r\n",
        "Al problema de desigualdad y discriminación que enfrentan las mujeres en nuestra sociedad, se suman las violencias de tipo físico, sexual o psicológico.Vivimos un panorama en el que es imposible permanecer indiferente ante el alarmante crecimiento de la trata, de  la esclavitud sexual de las mujeres y de los feminicidios. De acuerdo al INEGI, de 2007 a 2010 la tasa de muertes por feminicidios aumentó más del doble al pasar de 2 a 4.4 por cada cien mil fallecimientos (Moctezuma, D. Narro,J.Orozco,L, 2014)."
      ]
    },
    {
      "cell_type": "markdown",
      "metadata": {
        "id": "gcht92pYzd3L"
      },
      "source": [
        "###**¿Qué sucede en la actualidad con la violencia de género en México?**\r\n",
        "Debido a la situación que estamos viviendo en la actualidad, durante la pandemia por COVID-19,estamos ante una nueva urgencia para la acción. Las medidas de aislamiento y distanciamiento social del confinamiento, junto con el estrés, la ansiedad y las preocupaciones sociales o económicas, han aumentado el riesgo de violencia en el hogar lo que llevó a que los registros de violencia contra la mujer en el hogar amentara 60% en México, de acuerdo con cifras de la Organización de las Naciones Unidas (ONU).\r\n",
        "\r\n",
        "A medida que estos factores de riesgo de violencia aumentan, disminuyen los factores de protección, incluido el acceso a los servicios de salud y protección necesarios. \r\n",
        "\r\n",
        "En ese sentido, Juliette Bonnafé, integrante del equipo de ONU Mujeres en México, señaló que este dato lo apunta el registro de llamadas a las líneas de apoyo que tiene esta institución para atender a mujeres que enfrentan esta situación.(https://www.forbes.com.mx/women-violencia-mujer-hogar-aumenta-60-pandemia/)"
      ]
    },
    {
      "cell_type": "markdown",
      "metadata": {
        "id": "snsVdQbUj95y"
      },
      "source": [
        "##**Información sobre soluciones ya existentes.**\r\n",
        "\r\n",
        "Dado que el tema de violencia contra la mujer se ha vuelto de relevancia a nivel mundial por la gran cantidad de mujeres que lo sufren, diversos grupos tanto gubernamentales como no gubernamentales se han dado a la tarea de realizar análisis de datos.\r\n",
        "\r\n",
        "Un ejemplo es *La Data*. Grupo que se dedica a realizar periodismo y sustentarlo a través de análisis de datos. Realizó un análisis sobre violencia hacia las mujeres en el cuál se incluye el costo que representa este tipo de violencia, el ámbito en el que ocurre, información sobre el número de feminicidios, tipo de ayuda que solicitaron las víctimas. Para más información: http://www.ladata.mx/violenciamujeres/\r\n"
      ]
    },
    {
      "cell_type": "markdown",
      "metadata": {
        "id": "c9LClII0Xbk5"
      },
      "source": [
        "##**Acercamiento al problema.**\r\n",
        "\r\n",
        "En relación a lo anteriormente expuesto, nos planteamos las siguientes ***preguntas*** para lograr comprender, dimensionalizar y analizar el problema de **violencia contra la mujer en México**:\r\n",
        "\r\n",
        "- ¿En qué delegación de la CDMX ocurre el mayor número de delitos contra la mujer?\r\n",
        "- ¿Cúal es el delito con mayor número de denuncias relacionado a violencia contra la mujer?\r\n",
        "- ¿Cómo se ha reflejado la violencia de género en los últimos años en la CDMX?\r\n",
        "- ¿Cómo se relaciona la situación social (escolaridad, ocupación, estado civil) con la violencia de género en México?\r\n",
        "-¿Cuáles son las entidades con mayor número de delitos en general (violencia de género)?\r\n",
        "-¿Cuáles son los delitos relacionados con violencia de género con mayor número de víctimas en México?\r\n",
        "-¿Cual ha sido la tendencia de abuso sexual/violación/violencia de genero en México del 2015-2020?\r\n",
        "-¿Cómo ha ido aumentando el número de feminicidios en México con el paso de los años?¿En qué entidades se han visto más reportes de estos?\r\n",
        "  "
      ]
    },
    {
      "cell_type": "markdown",
      "metadata": {
        "id": "5qSW1--rXUMi"
      },
      "source": [
        "##**Búsqueda de Bases de Datos.**\r\n",
        "\r\n",
        "De la búsqueda de información y contexto del tema fue posible plantear la problemática a investigar, posteriormente, con el objetivo de analizarla a fondo se planteron preguntas de investigación con las cuales se espera obtener respuestas claves y conclusiones.\r\n",
        "\r\n",
        "Así, el siguiente paso es encontrar las ***bases de datos*** adecuadas para responder dichas preguntas. Dichas bases de datos se encuentran localizadas en el repositorio de Github del Equipo en la carpera **Datasets**. Disponibles en:https://github.com/CarolinaBer/Proyecto_Python_Equipo17 en formato .zip.     \r\n",
        "\r\n",
        "`llamadas_poblacion_gral_cdmx.csv`Contiene  la información de las llamadas realizadas al servicio LOCATEL desde noviembre de 2016. A PARTIR DE NOVIEMBRE DEL 2020 LA BASE DE DATOS DE LÍNEA MUJERES FUE COMPLETADA PARA MOSTRAR TODOS LOS SERVICIOS OFRECIDOS PARA LA POBLACIÓN EN GENERAL. <br>\r\n",
        "`carpetas_investigacion_cdmx_2016_2020.csv` Contiene la información actualizada de las carpetas de investigación de la Fiscalía General de Justicia (FGJ) de la Ciudad de México a partir de enero de 2016. <br>\r\n",
        "`vitimas_carpeta_cdmx_2016_2020.csv` Contiene la información actualizada de las víctimas de los delitos en las carpetas de investigación de la Fiscalía General de Justicia (FGJ) de la Ciudad de México a partir de enero de 2019. <br>\r\n",
        "`municipal_delitos_nacional_2015_ene2021.csv` Contiene las cifras de incidencia delictiva municipal, 2015 - enero 2021.  <br>\r\n",
        "`victimas_nacional_2015_ene2021.csv` Contiene datos de las víctimas registradas a nivel nacional durante 2015-enero 2021. <br>\r\n",
        "`personas_desaparecidas_al2018_ff.csv`  Contiene el total de registros de personas relacionadas con averiguaciones previas y carpetas de investigación del fuero federal iniciadas en el periodo comprendido entre enero de 2014 y abril de 2018, y que permanecen sin localizar al corte del 30 de abril de 2018. <br>\r\n",
        "`personas_desaparecidas_al2018_fc.csv` Contiene el total de registros de personas relacionadas con averiguaciones previas, carpetas de investigación o actas circunstanciadas del fuero común que permanecen sin localizar al corte del 30 de abril del 2018. <br>\r\n"
      ]
    },
    {
      "cell_type": "markdown",
      "metadata": {
        "id": "LTLVjMu_6my0"
      },
      "source": [
        "##**Limpieza y análisis de las Bases de Datos.** \r\n",
        "\r\n",
        "Cada una de las bases de datos requerirá un procedimiento de limpieza particular para poder analizar los datos, en general el procedimiento de limpieza consta de lo siguiente:\r\n",
        "\r\n",
        "\r\n",
        "*   Eliminar valores perdidos NaN.\r\n",
        "*   Renombramiento de columnas.\r\n",
        "*   Realizar agrupaciones pertinentes para lograr obtener un análisis estadístico.\r\n",
        "\r\n"
      ]
    },
    {
      "cell_type": "markdown",
      "metadata": {
        "id": "6nSg8hCT7oKA"
      },
      "source": [
        "\r\n",
        "\r\n",
        "---\r\n",
        "\r\n"
      ]
    },
    {
      "cell_type": "markdown",
      "metadata": {
        "id": "amwI0eC0_6Od"
      },
      "source": [
        "### **Limpieza y análisis de `llamadas_poblacion_gral_cdmx.csv`**"
      ]
    },
    {
      "cell_type": "markdown",
      "metadata": {
        "id": "Zlg7BwHOQNpu"
      },
      "source": [
        "En esta base podrás encontrar toda la información de las llamadas realizadas al servicio LOCATEL desde noviembre de 2016. Dicha información se actualiza semanalmente a partir del 6 de abril de 2020. **A PARTIR DE NOVIEMBRE DEL 2020 LA BASE DE DATOS DE LÍNEA MUJERES FUE COMPLETADA PARA MOSTRAR TODOS LOS SERVICIOS OFRECIDOS PARA LA POBLACIÓN EN GENERAL.**"
      ]
    },
    {
      "cell_type": "code",
      "metadata": {
        "id": "oIt82E5_phQo"
      },
      "source": [
        "#Importando las paqueterías necesarias \r\n",
        "import pandas as pd \r\n",
        "import os \r\n",
        "import numpy as np "
      ],
      "execution_count": null,
      "outputs": []
    },
    {
      "cell_type": "code",
      "metadata": {
        "id": "mZSGOxKJ8bDw"
      },
      "source": [
        "#Lectura de los archivos .csv . NOTA: Los archivos se encuentran en una carpeta de Drive que facilita su lectura en este Notebook.\r\n",
        "#Adicionalmente cada dataset analizado se encuentra en formato .zip en el Github del equipo  disponibles para su descarga.\r\n",
        "#Fue obtenido de [I] Gobierno CDMX.Datos Abiertos.\r\n",
        "ruta_archivo = \"/content/drive/MyDrive/Datasets/Datasets/llamadas_poblacion_gral_cdmx.csv\"\r\n",
        "llamadas_poblacion_gral = \"llamadas_poblacion_gral.csv\"\r\n",
        "df_llamadas_poblacion_cdmx = pd.read_csv(ruta_archivo,encoding = \"latin1\")"
      ],
      "execution_count": null,
      "outputs": []
    },
    {
      "cell_type": "markdown",
      "metadata": {
        "id": "xGqSNZTT67JM"
      },
      "source": [
        "### **Explorando el dataset.**"
      ]
    },
    {
      "cell_type": "code",
      "metadata": {
        "id": "kBjorfqRHCz4",
        "colab": {
          "base_uri": "https://localhost:8080/",
          "height": 285
        },
        "outputId": "a74d9951-8c5b-4b42-9400-944783d87815"
      },
      "source": [
        "#Exploración del dataset \r\n",
        "df_llamadas_poblacion_cdmx.head(3) #Se puede observar que existen valores NaN a limpiar y algunos datos disponibles"
      ],
      "execution_count": null,
      "outputs": [
        {
          "output_type": "execute_result",
          "data": {
            "text/html": [
              "<div>\n",
              "<style scoped>\n",
              "    .dataframe tbody tr th:only-of-type {\n",
              "        vertical-align: middle;\n",
              "    }\n",
              "\n",
              "    .dataframe tbody tr th {\n",
              "        vertical-align: top;\n",
              "    }\n",
              "\n",
              "    .dataframe thead th {\n",
              "        text-align: right;\n",
              "    }\n",
              "</style>\n",
              "<table border=\"1\" class=\"dataframe\">\n",
              "  <thead>\n",
              "    <tr style=\"text-align: right;\">\n",
              "      <th></th>\n",
              "      <th>FOLIO</th>\n",
              "      <th>FECHA_ALTA</th>\n",
              "      <th>AÑO_ALTA</th>\n",
              "      <th>MES_ALTA</th>\n",
              "      <th>DÍA_ALTA</th>\n",
              "      <th>HORA_ALTA</th>\n",
              "      <th>SEXO</th>\n",
              "      <th>EDAD</th>\n",
              "      <th>ESTADO_CIVIL</th>\n",
              "      <th>OCUPACION</th>\n",
              "      <th>ESCOLARIDAD</th>\n",
              "      <th>ESTADO_USUARIA</th>\n",
              "      <th>MUNICIPIO_USUARIA</th>\n",
              "      <th>COLONIA_USUARIA</th>\n",
              "      <th>CP_USUARIA</th>\n",
              "      <th>ESTADO_HECHOS</th>\n",
              "      <th>MUNICIPIO_HECHOS</th>\n",
              "      <th>COLONIA_HECHOS</th>\n",
              "      <th>CP_HECHOS</th>\n",
              "      <th>ORIGEN</th>\n",
              "      <th>SERVICIO</th>\n",
              "      <th>TEMATICA_1</th>\n",
              "      <th>TEMATICA_2</th>\n",
              "      <th>TEMATICA_3</th>\n",
              "      <th>TEMATICA_4</th>\n",
              "      <th>TEMATICA_5</th>\n",
              "      <th>TEMATICA_6</th>\n",
              "      <th>TEMATICA_7</th>\n",
              "    </tr>\n",
              "  </thead>\n",
              "  <tbody>\n",
              "    <tr>\n",
              "      <th>0</th>\n",
              "      <td>3011.0</td>\n",
              "      <td>2016-11-01</td>\n",
              "      <td>2016</td>\n",
              "      <td>11</td>\n",
              "      <td>1</td>\n",
              "      <td>0</td>\n",
              "      <td>MASCULINO</td>\n",
              "      <td>34</td>\n",
              "      <td>CASADO (A)</td>\n",
              "      <td>EMPLEADO (A)</td>\n",
              "      <td>BACHILLERATO</td>\n",
              "      <td>CIUDAD DE MÉXICO</td>\n",
              "      <td>MIGUEL HIDALGO</td>\n",
              "      <td>MÉXICO NUEVO</td>\n",
              "      <td>11260.0</td>\n",
              "      <td>CIUDAD DE MÉXICO</td>\n",
              "      <td>MIGUEL HIDALGO</td>\n",
              "      <td>MÉXICO NUEVO</td>\n",
              "      <td>11260.0</td>\n",
              "      <td>ASESORÍA</td>\n",
              "      <td>JURÍDICO</td>\n",
              "      <td>INFORMACION GENERAL</td>\n",
              "      <td>FUNDAMENTOS LEGALES</td>\n",
              "      <td>NaN</td>\n",
              "      <td>NaN</td>\n",
              "      <td>NaN</td>\n",
              "      <td>NaN</td>\n",
              "      <td>NaN</td>\n",
              "    </tr>\n",
              "    <tr>\n",
              "      <th>1</th>\n",
              "      <td>3012.0</td>\n",
              "      <td>2016-11-01</td>\n",
              "      <td>2016</td>\n",
              "      <td>11</td>\n",
              "      <td>1</td>\n",
              "      <td>0</td>\n",
              "      <td>FEMENINO</td>\n",
              "      <td>54</td>\n",
              "      <td>SOLTERO (A)</td>\n",
              "      <td>EMPLEADO (A)</td>\n",
              "      <td>LICENCIATURA</td>\n",
              "      <td>CIUDAD DE MÉXICO</td>\n",
              "      <td>GUSTAVO A. MADERO</td>\n",
              "      <td>CONSTITUCIÓN DE LA REPÚBLICA</td>\n",
              "      <td>7469.0</td>\n",
              "      <td>NaN</td>\n",
              "      <td>NaN</td>\n",
              "      <td>NaN</td>\n",
              "      <td>NaN</td>\n",
              "      <td>ASESORÍA</td>\n",
              "      <td>JURÍDICO</td>\n",
              "      <td>INFORMACION GENERAL</td>\n",
              "      <td>DEPENDENCIAS ADMINISTRATIVAS</td>\n",
              "      <td>REFERENCIA INSTITUCIONAL</td>\n",
              "      <td>NaN</td>\n",
              "      <td>NaN</td>\n",
              "      <td>NaN</td>\n",
              "      <td>NaN</td>\n",
              "    </tr>\n",
              "    <tr>\n",
              "      <th>2</th>\n",
              "      <td>3013.0</td>\n",
              "      <td>2016-11-01</td>\n",
              "      <td>2016</td>\n",
              "      <td>11</td>\n",
              "      <td>1</td>\n",
              "      <td>0</td>\n",
              "      <td>FEMENINO</td>\n",
              "      <td>42</td>\n",
              "      <td>SOLTERO (A)</td>\n",
              "      <td>EMPLEADO (A)</td>\n",
              "      <td>LICENCIATURA</td>\n",
              "      <td>ESTADO DE MÉXICO</td>\n",
              "      <td>ECATEPEC DE MORELOS</td>\n",
              "      <td>NUEVO PASEO DE SAN AGUSTÍN</td>\n",
              "      <td>55130.0</td>\n",
              "      <td>CIUDAD DE MÉXICO</td>\n",
              "      <td>GUSTAVO A. MADERO</td>\n",
              "      <td>SANTA MARIA TICOMAN</td>\n",
              "      <td>7330.0</td>\n",
              "      <td>ASESORÍA</td>\n",
              "      <td>JURÍDICO</td>\n",
              "      <td>PENAL</td>\n",
              "      <td>DELITOS CONTRA LA LIBERTAD Y LA SEGURIDAD SEXU...</td>\n",
              "      <td>ABUSO SEXUAL</td>\n",
              "      <td>MENORES DE EDAD</td>\n",
              "      <td>NaN</td>\n",
              "      <td>NaN</td>\n",
              "      <td>NaN</td>\n",
              "    </tr>\n",
              "  </tbody>\n",
              "</table>\n",
              "</div>"
            ],
            "text/plain": [
              "    FOLIO  FECHA_ALTA  AÑO_ALTA  ...  TEMATICA_5  TEMATICA_6  TEMATICA_7\n",
              "0  3011.0  2016-11-01      2016  ...         NaN         NaN         NaN\n",
              "1  3012.0  2016-11-01      2016  ...         NaN         NaN         NaN\n",
              "2  3013.0  2016-11-01      2016  ...         NaN         NaN         NaN\n",
              "\n",
              "[3 rows x 28 columns]"
            ]
          },
          "metadata": {
            "tags": []
          },
          "execution_count": 5
        }
      ]
    },
    {
      "cell_type": "code",
      "metadata": {
        "colab": {
          "base_uri": "https://localhost:8080/"
        },
        "id": "ja2eGNsBNuh4",
        "outputId": "aedd6c25-f5de-4c80-a255-1211bdd012f2"
      },
      "source": [
        "#Exploración del dataset\r\n",
        "print(df_llamadas_poblacion_cdmx.dtypes) #Observamos todas las columnas y el tipo de dato que almacenan \r\n",
        "df_llamadas_poblacion_cdmx.shape  #Para obtener el número de registros y columnas "
      ],
      "execution_count": null,
      "outputs": [
        {
          "output_type": "stream",
          "text": [
            "FOLIO                float64\n",
            "FECHA_ALTA            object\n",
            "AÑO_ALTA               int64\n",
            "MES_ALTA               int64\n",
            "DÍA_ALTA               int64\n",
            "HORA_ALTA              int64\n",
            "SEXO                  object\n",
            "EDAD                   int64\n",
            "ESTADO_CIVIL          object\n",
            "OCUPACION             object\n",
            "ESCOLARIDAD           object\n",
            "ESTADO_USUARIA        object\n",
            "MUNICIPIO_USUARIA     object\n",
            "COLONIA_USUARIA       object\n",
            "CP_USUARIA           float64\n",
            "ESTADO_HECHOS         object\n",
            "MUNICIPIO_HECHOS      object\n",
            "COLONIA_HECHOS        object\n",
            "CP_HECHOS            float64\n",
            "ORIGEN                object\n",
            "SERVICIO              object\n",
            "TEMATICA_1            object\n",
            "TEMATICA_2            object\n",
            "TEMATICA_3            object\n",
            "TEMATICA_4            object\n",
            "TEMATICA_5            object\n",
            "TEMATICA_6            object\n",
            "TEMATICA_7            object\n",
            "dtype: object\n"
          ],
          "name": "stdout"
        },
        {
          "output_type": "execute_result",
          "data": {
            "text/plain": [
              "(868073, 28)"
            ]
          },
          "metadata": {
            "tags": []
          },
          "execution_count": 6
        }
      ]
    },
    {
      "cell_type": "code",
      "metadata": {
        "colab": {
          "base_uri": "https://localhost:8080/"
        },
        "id": "X9VVuPRoQ6lx",
        "outputId": "c6eeb335-1915-4a7e-80ba-8c692bd12f84"
      },
      "source": [
        "df_llamadas_poblacion_cdmx.info() #Obteniendo la información del dataset"
      ],
      "execution_count": null,
      "outputs": [
        {
          "output_type": "stream",
          "text": [
            "<class 'pandas.core.frame.DataFrame'>\n",
            "RangeIndex: 868073 entries, 0 to 868072\n",
            "Data columns (total 28 columns):\n",
            " #   Column             Non-Null Count   Dtype  \n",
            "---  ------             --------------   -----  \n",
            " 0   FOLIO              868072 non-null  float64\n",
            " 1   FECHA_ALTA         868073 non-null  object \n",
            " 2   AÑO_ALTA           868073 non-null  int64  \n",
            " 3   MES_ALTA           868073 non-null  int64  \n",
            " 4   DÍA_ALTA           868073 non-null  int64  \n",
            " 5   HORA_ALTA          868073 non-null  int64  \n",
            " 6   SEXO               868073 non-null  object \n",
            " 7   EDAD               868073 non-null  int64  \n",
            " 8   ESTADO_CIVIL       743086 non-null  object \n",
            " 9   OCUPACION          734638 non-null  object \n",
            " 10  ESCOLARIDAD        719520 non-null  object \n",
            " 11  ESTADO_USUARIA     868073 non-null  object \n",
            " 12  MUNICIPIO_USUARIA  867188 non-null  object \n",
            " 13  COLONIA_USUARIA    867188 non-null  object \n",
            " 14  CP_USUARIA         868061 non-null  float64\n",
            " 15  ESTADO_HECHOS      179985 non-null  object \n",
            " 16  MUNICIPIO_HECHOS   179985 non-null  object \n",
            " 17  COLONIA_HECHOS     179985 non-null  object \n",
            " 18  CP_HECHOS          179985 non-null  float64\n",
            " 19  ORIGEN             868073 non-null  object \n",
            " 20  SERVICIO           868073 non-null  object \n",
            " 21  TEMATICA_1         868073 non-null  object \n",
            " 22  TEMATICA_2         846963 non-null  object \n",
            " 23  TEMATICA_3         754001 non-null  object \n",
            " 24  TEMATICA_4         377277 non-null  object \n",
            " 25  TEMATICA_5         226313 non-null  object \n",
            " 26  TEMATICA_6         191661 non-null  object \n",
            " 27  TEMATICA_7         162459 non-null  object \n",
            "dtypes: float64(3), int64(5), object(20)\n",
            "memory usage: 185.4+ MB\n"
          ],
          "name": "stdout"
        }
      ]
    },
    {
      "cell_type": "code",
      "metadata": {
        "colab": {
          "base_uri": "https://localhost:8080/"
        },
        "id": "z-yKz7lzQ9dh",
        "outputId": "238b50d3-429c-4d56-b95a-3527f1915250"
      },
      "source": [
        "df_llamadas_poblacion_cdmx.columns #Obteniendo la información de las columnas que contiene."
      ],
      "execution_count": null,
      "outputs": [
        {
          "output_type": "execute_result",
          "data": {
            "text/plain": [
              "Index(['FOLIO', 'FECHA_ALTA', 'AÑO_ALTA', 'MES_ALTA', 'DÍA_ALTA', 'HORA_ALTA',\n",
              "       'SEXO', 'EDAD', 'ESTADO_CIVIL', 'OCUPACION', 'ESCOLARIDAD',\n",
              "       'ESTADO_USUARIA', 'MUNICIPIO_USUARIA', 'COLONIA_USUARIA', 'CP_USUARIA',\n",
              "       'ESTADO_HECHOS', 'MUNICIPIO_HECHOS', 'COLONIA_HECHOS', 'CP_HECHOS',\n",
              "       'ORIGEN', 'SERVICIO', 'TEMATICA_1', 'TEMATICA_2', 'TEMATICA_3',\n",
              "       'TEMATICA_4', 'TEMATICA_5', 'TEMATICA_6', 'TEMATICA_7'],\n",
              "      dtype='object')"
            ]
          },
          "metadata": {
            "tags": []
          },
          "execution_count": 8
        }
      ]
    },
    {
      "cell_type": "markdown",
      "metadata": {
        "id": "7YGyMJFUbf3H"
      },
      "source": [
        "### **Encontrando y limpiando valores NaN.** "
      ]
    },
    {
      "cell_type": "code",
      "metadata": {
        "colab": {
          "base_uri": "https://localhost:8080/"
        },
        "id": "9XaQrH9wbbTq",
        "outputId": "bce1a49b-f71b-4498-a210-d52c0bc1a792"
      },
      "source": [
        "#Identificando los valores perdidos por columna\r\n",
        "df_llamadas_cdmx_NaN = df_llamadas_poblacion_cdmx.isna().sum(axis=0)\r\n",
        "print(df_llamadas_cdmx_NaN)"
      ],
      "execution_count": null,
      "outputs": [
        {
          "output_type": "stream",
          "text": [
            "FOLIO                     1\n",
            "FECHA_ALTA                0\n",
            "AÑO_ALTA                  0\n",
            "MES_ALTA                  0\n",
            "DÍA_ALTA                  0\n",
            "HORA_ALTA                 0\n",
            "SEXO                      0\n",
            "EDAD                      0\n",
            "ESTADO_CIVIL         124987\n",
            "OCUPACION            133435\n",
            "ESCOLARIDAD          148553\n",
            "ESTADO_USUARIA            0\n",
            "MUNICIPIO_USUARIA       885\n",
            "COLONIA_USUARIA         885\n",
            "CP_USUARIA               12\n",
            "ESTADO_HECHOS        688088\n",
            "MUNICIPIO_HECHOS     688088\n",
            "COLONIA_HECHOS       688088\n",
            "CP_HECHOS            688088\n",
            "ORIGEN                    0\n",
            "SERVICIO                  0\n",
            "TEMATICA_1                0\n",
            "TEMATICA_2            21110\n",
            "TEMATICA_3           114072\n",
            "TEMATICA_4           490796\n",
            "TEMATICA_5           641760\n",
            "TEMATICA_6           676412\n",
            "TEMATICA_7           705614\n",
            "dtype: int64\n"
          ],
          "name": "stdout"
        }
      ]
    },
    {
      "cell_type": "code",
      "metadata": {
        "colab": {
          "base_uri": "https://localhost:8080/"
        },
        "id": "Hwh_sT2vdQe_",
        "outputId": "0bee98b1-5864-4bd7-99ac-a1f6c181813b"
      },
      "source": [
        "# Ordenamos los valores perdidos de menor a mayor\r\n",
        "df_llamadas_cdmx_NaN[df_llamadas_cdmx_NaN>0].sort_values()"
      ],
      "execution_count": null,
      "outputs": [
        {
          "output_type": "execute_result",
          "data": {
            "text/plain": [
              "FOLIO                     1\n",
              "CP_USUARIA               12\n",
              "MUNICIPIO_USUARIA       885\n",
              "COLONIA_USUARIA         885\n",
              "TEMATICA_2            21110\n",
              "TEMATICA_3           114072\n",
              "ESTADO_CIVIL         124987\n",
              "OCUPACION            133435\n",
              "ESCOLARIDAD          148553\n",
              "TEMATICA_4           490796\n",
              "TEMATICA_5           641760\n",
              "TEMATICA_6           676412\n",
              "MUNICIPIO_HECHOS     688088\n",
              "COLONIA_HECHOS       688088\n",
              "ESTADO_HECHOS        688088\n",
              "CP_HECHOS            688088\n",
              "TEMATICA_7           705614\n",
              "dtype: int64"
            ]
          },
          "metadata": {
            "tags": []
          },
          "execution_count": 10
        }
      ]
    },
    {
      "cell_type": "code",
      "metadata": {
        "id": "u4aBiGgTeIFT"
      },
      "source": [
        "#Tenemos que eliminar las columnas que tienen más de la mitad de valores perdidos \r\n",
        "df_llamadas_cdmx_modificado = df_llamadas_poblacion_cdmx.drop(columns=['TEMATICA_4','TEMATICA_5', 'TEMATICA_6', 'MUNICIPIO_HECHOS', 'COLONIA_HECHOS','ESTADO_HECHOS','CP_HECHOS','TEMATICA_7'])"
      ],
      "execution_count": null,
      "outputs": []
    },
    {
      "cell_type": "code",
      "metadata": {
        "colab": {
          "base_uri": "https://localhost:8080/"
        },
        "id": "TRuFIhoofsr0",
        "outputId": "4b49f0e7-34b3-4bb0-f49c-9abb5df76251"
      },
      "source": [
        "#Volvemos a observar los valores perdidos ya del dataset modificado ordenados de menor a mayor \r\n",
        "df_llamadas_cdmx__modificado_NaN = df_llamadas_cdmx_modificado.isna().sum(axis=0)\r\n",
        "df_llamadas_cdmx__modificado_NaN[df_llamadas_cdmx__modificado_NaN>0].sort_values()"
      ],
      "execution_count": null,
      "outputs": [
        {
          "output_type": "execute_result",
          "data": {
            "text/plain": [
              "FOLIO                     1\n",
              "CP_USUARIA               12\n",
              "MUNICIPIO_USUARIA       885\n",
              "COLONIA_USUARIA         885\n",
              "TEMATICA_2            21110\n",
              "TEMATICA_3           114072\n",
              "ESTADO_CIVIL         124987\n",
              "OCUPACION            133435\n",
              "ESCOLARIDAD          148553\n",
              "dtype: int64"
            ]
          },
          "metadata": {
            "tags": []
          },
          "execution_count": 12
        }
      ]
    },
    {
      "cell_type": "code",
      "metadata": {
        "colab": {
          "base_uri": "https://localhost:8080/"
        },
        "id": "q-n3Jiwwif6w",
        "outputId": "a354e60c-6ef1-4426-b0b2-b0c3a8cfb9bc"
      },
      "source": [
        "# Ahora las columnas CP_USUARIA, MUNICIPIO_USUARTIA y  COLONIA_USUARIA tienen aproximadamente el 10% de valores perdidos, con la finalidad de no perder \r\n",
        "# estos datos pueden modificarse \r\n",
        "\r\n",
        "df_llamadas_cdmx_modificado['CP_USUARIA'] = df_llamadas_cdmx_modificado['CP_USUARIA'].fillna('Desconocido')\r\n",
        "df_llamadas_cdmx_modificado['MUNICIPIO_USUARIA'] = df_llamadas_cdmx_modificado['MUNICIPIO_USUARIA'].fillna('Desconocido')\r\n",
        "df_llamadas_cdmx_modificado['COLONIA_USUARIA'] = df_llamadas_cdmx_modificado['COLONIA_USUARIA'].fillna('Desconocido')\r\n",
        "\r\n",
        "#Nuevamente checamos los valores NaN que nos faltan\r\n",
        "\r\n",
        "df_llamadas_cdmx__modificado_NaN = df_llamadas_cdmx_modificado.isna().sum(axis=0)\r\n",
        "df_llamadas_cdmx__modificado_NaN[df_llamadas_cdmx__modificado_NaN>0].sort_values()\r\n"
      ],
      "execution_count": null,
      "outputs": [
        {
          "output_type": "execute_result",
          "data": {
            "text/plain": [
              "FOLIO                1\n",
              "TEMATICA_2       21110\n",
              "TEMATICA_3      114072\n",
              "ESTADO_CIVIL    124987\n",
              "OCUPACION       133435\n",
              "ESCOLARIDAD     148553\n",
              "dtype: int64"
            ]
          },
          "metadata": {
            "tags": []
          },
          "execution_count": 13
        }
      ]
    },
    {
      "cell_type": "code",
      "metadata": {
        "colab": {
          "base_uri": "https://localhost:8080/"
        },
        "id": "CLyUy4AZk6-2",
        "outputId": "16b84762-753f-40aa-d225-94d6313939f3"
      },
      "source": [
        "#Limpiando los NaN faltantes, limpiando las filas que tengan mínimo 1 valor NaN.\r\n",
        "df_llamadas_cdmx_modificado  = df_llamadas_cdmx_modificado.dropna(axis=0, how='any')\r\n",
        "\r\n",
        "#Confirmamos que ya no exista ningún valor perdidio \r\n",
        "df_llamadas_cdmx__modificado_NaN = df_llamadas_cdmx_modificado.isna().sum(axis=0)\r\n",
        "print(df_llamadas_cdmx__modificado_NaN)"
      ],
      "execution_count": null,
      "outputs": [
        {
          "output_type": "stream",
          "text": [
            "FOLIO                0\n",
            "FECHA_ALTA           0\n",
            "AÑO_ALTA             0\n",
            "MES_ALTA             0\n",
            "DÍA_ALTA             0\n",
            "HORA_ALTA            0\n",
            "SEXO                 0\n",
            "EDAD                 0\n",
            "ESTADO_CIVIL         0\n",
            "OCUPACION            0\n",
            "ESCOLARIDAD          0\n",
            "ESTADO_USUARIA       0\n",
            "MUNICIPIO_USUARIA    0\n",
            "COLONIA_USUARIA      0\n",
            "CP_USUARIA           0\n",
            "ORIGEN               0\n",
            "SERVICIO             0\n",
            "TEMATICA_1           0\n",
            "TEMATICA_2           0\n",
            "TEMATICA_3           0\n",
            "dtype: int64\n"
          ],
          "name": "stdout"
        }
      ]
    },
    {
      "cell_type": "code",
      "metadata": {
        "colab": {
          "base_uri": "https://localhost:8080/",
          "height": 435
        },
        "id": "c0CNvtylmPbB",
        "outputId": "fcd6d360-03ec-40e3-f5a2-023d4b9a3873"
      },
      "source": [
        "#Observamos el dataset y nos damos cuenta de que los índices no corresponden por lo que hay que resetearlo.\r\n",
        "df_llamadas_cdmx_modificado.head()"
      ],
      "execution_count": null,
      "outputs": [
        {
          "output_type": "execute_result",
          "data": {
            "text/html": [
              "<div>\n",
              "<style scoped>\n",
              "    .dataframe tbody tr th:only-of-type {\n",
              "        vertical-align: middle;\n",
              "    }\n",
              "\n",
              "    .dataframe tbody tr th {\n",
              "        vertical-align: top;\n",
              "    }\n",
              "\n",
              "    .dataframe thead th {\n",
              "        text-align: right;\n",
              "    }\n",
              "</style>\n",
              "<table border=\"1\" class=\"dataframe\">\n",
              "  <thead>\n",
              "    <tr style=\"text-align: right;\">\n",
              "      <th></th>\n",
              "      <th>FOLIO</th>\n",
              "      <th>FECHA_ALTA</th>\n",
              "      <th>AÑO_ALTA</th>\n",
              "      <th>MES_ALTA</th>\n",
              "      <th>DÍA_ALTA</th>\n",
              "      <th>HORA_ALTA</th>\n",
              "      <th>SEXO</th>\n",
              "      <th>EDAD</th>\n",
              "      <th>ESTADO_CIVIL</th>\n",
              "      <th>OCUPACION</th>\n",
              "      <th>ESCOLARIDAD</th>\n",
              "      <th>ESTADO_USUARIA</th>\n",
              "      <th>MUNICIPIO_USUARIA</th>\n",
              "      <th>COLONIA_USUARIA</th>\n",
              "      <th>CP_USUARIA</th>\n",
              "      <th>ORIGEN</th>\n",
              "      <th>SERVICIO</th>\n",
              "      <th>TEMATICA_1</th>\n",
              "      <th>TEMATICA_2</th>\n",
              "      <th>TEMATICA_3</th>\n",
              "    </tr>\n",
              "  </thead>\n",
              "  <tbody>\n",
              "    <tr>\n",
              "      <th>1</th>\n",
              "      <td>3012.0</td>\n",
              "      <td>2016-11-01</td>\n",
              "      <td>2016</td>\n",
              "      <td>11</td>\n",
              "      <td>1</td>\n",
              "      <td>0</td>\n",
              "      <td>FEMENINO</td>\n",
              "      <td>54</td>\n",
              "      <td>SOLTERO (A)</td>\n",
              "      <td>EMPLEADO (A)</td>\n",
              "      <td>LICENCIATURA</td>\n",
              "      <td>CIUDAD DE MÉXICO</td>\n",
              "      <td>GUSTAVO A. MADERO</td>\n",
              "      <td>CONSTITUCIÓN DE LA REPÚBLICA</td>\n",
              "      <td>7469</td>\n",
              "      <td>ASESORÍA</td>\n",
              "      <td>JURÍDICO</td>\n",
              "      <td>INFORMACION GENERAL</td>\n",
              "      <td>DEPENDENCIAS ADMINISTRATIVAS</td>\n",
              "      <td>REFERENCIA INSTITUCIONAL</td>\n",
              "    </tr>\n",
              "    <tr>\n",
              "      <th>2</th>\n",
              "      <td>3013.0</td>\n",
              "      <td>2016-11-01</td>\n",
              "      <td>2016</td>\n",
              "      <td>11</td>\n",
              "      <td>1</td>\n",
              "      <td>0</td>\n",
              "      <td>FEMENINO</td>\n",
              "      <td>42</td>\n",
              "      <td>SOLTERO (A)</td>\n",
              "      <td>EMPLEADO (A)</td>\n",
              "      <td>LICENCIATURA</td>\n",
              "      <td>ESTADO DE MÉXICO</td>\n",
              "      <td>ECATEPEC DE MORELOS</td>\n",
              "      <td>NUEVO PASEO DE SAN AGUSTÍN</td>\n",
              "      <td>55130</td>\n",
              "      <td>ASESORÍA</td>\n",
              "      <td>JURÍDICO</td>\n",
              "      <td>PENAL</td>\n",
              "      <td>DELITOS CONTRA LA LIBERTAD Y LA SEGURIDAD SEXU...</td>\n",
              "      <td>ABUSO SEXUAL</td>\n",
              "    </tr>\n",
              "    <tr>\n",
              "      <th>3</th>\n",
              "      <td>3014.0</td>\n",
              "      <td>2016-11-01</td>\n",
              "      <td>2016</td>\n",
              "      <td>11</td>\n",
              "      <td>1</td>\n",
              "      <td>1</td>\n",
              "      <td>FEMENINO</td>\n",
              "      <td>40</td>\n",
              "      <td>SOLTERO (A)</td>\n",
              "      <td>DESEMPLEADO (A)</td>\n",
              "      <td>BACHILLERATO</td>\n",
              "      <td>CIUDAD DE MÉXICO</td>\n",
              "      <td>AZCAPOTZALCO</td>\n",
              "      <td>EL ROSARIO</td>\n",
              "      <td>2100</td>\n",
              "      <td>ASESORÍA</td>\n",
              "      <td>JURÍDICO</td>\n",
              "      <td>PENAL</td>\n",
              "      <td>DELITOS CONTRA LA INTEGRIDAD FAMILIAR</td>\n",
              "      <td>VIOLENCIA FAMILIAR</td>\n",
              "    </tr>\n",
              "    <tr>\n",
              "      <th>5</th>\n",
              "      <td>3016.0</td>\n",
              "      <td>2016-11-01</td>\n",
              "      <td>2016</td>\n",
              "      <td>11</td>\n",
              "      <td>1</td>\n",
              "      <td>2</td>\n",
              "      <td>MASCULINO</td>\n",
              "      <td>35</td>\n",
              "      <td>SOLTERO (A)</td>\n",
              "      <td>EMPLEADO (A)</td>\n",
              "      <td>SECUNDARIA</td>\n",
              "      <td>CIUDAD DE MÉXICO</td>\n",
              "      <td>GUSTAVO A. MADERO</td>\n",
              "      <td>NUEVA ATZACOALCO</td>\n",
              "      <td>7420</td>\n",
              "      <td>ASESORÍA</td>\n",
              "      <td>JURÍDICO</td>\n",
              "      <td>INFORMACION GENERAL</td>\n",
              "      <td>DEPENDENCIAS ADMINISTRATIVAS</td>\n",
              "      <td>REFERENCIA INSTITUCIONAL</td>\n",
              "    </tr>\n",
              "    <tr>\n",
              "      <th>6</th>\n",
              "      <td>3017.0</td>\n",
              "      <td>2016-11-01</td>\n",
              "      <td>2016</td>\n",
              "      <td>11</td>\n",
              "      <td>1</td>\n",
              "      <td>4</td>\n",
              "      <td>MASCULINO</td>\n",
              "      <td>38</td>\n",
              "      <td>SOLTERO (A)</td>\n",
              "      <td>EMPLEADO (A)</td>\n",
              "      <td>SECUNDARIA</td>\n",
              "      <td>ESTADO DE MÉXICO</td>\n",
              "      <td>TLALNEPANTLA DE BAZ</td>\n",
              "      <td>LOS REYES IXTACALA 1RA. SECCIÓN</td>\n",
              "      <td>54090</td>\n",
              "      <td>ASESORÍA</td>\n",
              "      <td>JURÍDICO</td>\n",
              "      <td>LABORAL</td>\n",
              "      <td>PRESTACIONES</td>\n",
              "      <td>DÍAS FESTIVOS</td>\n",
              "    </tr>\n",
              "  </tbody>\n",
              "</table>\n",
              "</div>"
            ],
            "text/plain": [
              "    FOLIO  ...                TEMATICA_3\n",
              "1  3012.0  ...  REFERENCIA INSTITUCIONAL\n",
              "2  3013.0  ...              ABUSO SEXUAL\n",
              "3  3014.0  ...        VIOLENCIA FAMILIAR\n",
              "5  3016.0  ...  REFERENCIA INSTITUCIONAL\n",
              "6  3017.0  ...             DÍAS FESTIVOS\n",
              "\n",
              "[5 rows x 20 columns]"
            ]
          },
          "metadata": {
            "tags": []
          },
          "execution_count": 15
        }
      ]
    },
    {
      "cell_type": "code",
      "metadata": {
        "colab": {
          "base_uri": "https://localhost:8080/",
          "height": 435
        },
        "id": "OAvQlKMIoItH",
        "outputId": "e7de6359-3450-4f9c-f460-c27893601f58"
      },
      "source": [
        "# Resetendo el índice para que sea compatible con el nuevo dataset y corroboramos.\r\n",
        "df_llamadas_cdmx_modificado_limpio = df_llamadas_cdmx_modificado.reset_index(drop=True)\r\n",
        "df_llamadas_cdmx_modificado_limpio.head() #¡Listo! Ya tenemos nuestro Dataset libre de valores NaN"
      ],
      "execution_count": null,
      "outputs": [
        {
          "output_type": "execute_result",
          "data": {
            "text/html": [
              "<div>\n",
              "<style scoped>\n",
              "    .dataframe tbody tr th:only-of-type {\n",
              "        vertical-align: middle;\n",
              "    }\n",
              "\n",
              "    .dataframe tbody tr th {\n",
              "        vertical-align: top;\n",
              "    }\n",
              "\n",
              "    .dataframe thead th {\n",
              "        text-align: right;\n",
              "    }\n",
              "</style>\n",
              "<table border=\"1\" class=\"dataframe\">\n",
              "  <thead>\n",
              "    <tr style=\"text-align: right;\">\n",
              "      <th></th>\n",
              "      <th>FOLIO</th>\n",
              "      <th>FECHA_ALTA</th>\n",
              "      <th>AÑO_ALTA</th>\n",
              "      <th>MES_ALTA</th>\n",
              "      <th>DÍA_ALTA</th>\n",
              "      <th>HORA_ALTA</th>\n",
              "      <th>SEXO</th>\n",
              "      <th>EDAD</th>\n",
              "      <th>ESTADO_CIVIL</th>\n",
              "      <th>OCUPACION</th>\n",
              "      <th>ESCOLARIDAD</th>\n",
              "      <th>ESTADO_USUARIA</th>\n",
              "      <th>MUNICIPIO_USUARIA</th>\n",
              "      <th>COLONIA_USUARIA</th>\n",
              "      <th>CP_USUARIA</th>\n",
              "      <th>ORIGEN</th>\n",
              "      <th>SERVICIO</th>\n",
              "      <th>TEMATICA_1</th>\n",
              "      <th>TEMATICA_2</th>\n",
              "      <th>TEMATICA_3</th>\n",
              "    </tr>\n",
              "  </thead>\n",
              "  <tbody>\n",
              "    <tr>\n",
              "      <th>0</th>\n",
              "      <td>3012.0</td>\n",
              "      <td>2016-11-01</td>\n",
              "      <td>2016</td>\n",
              "      <td>11</td>\n",
              "      <td>1</td>\n",
              "      <td>0</td>\n",
              "      <td>FEMENINO</td>\n",
              "      <td>54</td>\n",
              "      <td>SOLTERO (A)</td>\n",
              "      <td>EMPLEADO (A)</td>\n",
              "      <td>LICENCIATURA</td>\n",
              "      <td>CIUDAD DE MÉXICO</td>\n",
              "      <td>GUSTAVO A. MADERO</td>\n",
              "      <td>CONSTITUCIÓN DE LA REPÚBLICA</td>\n",
              "      <td>7469</td>\n",
              "      <td>ASESORÍA</td>\n",
              "      <td>JURÍDICO</td>\n",
              "      <td>INFORMACION GENERAL</td>\n",
              "      <td>DEPENDENCIAS ADMINISTRATIVAS</td>\n",
              "      <td>REFERENCIA INSTITUCIONAL</td>\n",
              "    </tr>\n",
              "    <tr>\n",
              "      <th>1</th>\n",
              "      <td>3013.0</td>\n",
              "      <td>2016-11-01</td>\n",
              "      <td>2016</td>\n",
              "      <td>11</td>\n",
              "      <td>1</td>\n",
              "      <td>0</td>\n",
              "      <td>FEMENINO</td>\n",
              "      <td>42</td>\n",
              "      <td>SOLTERO (A)</td>\n",
              "      <td>EMPLEADO (A)</td>\n",
              "      <td>LICENCIATURA</td>\n",
              "      <td>ESTADO DE MÉXICO</td>\n",
              "      <td>ECATEPEC DE MORELOS</td>\n",
              "      <td>NUEVO PASEO DE SAN AGUSTÍN</td>\n",
              "      <td>55130</td>\n",
              "      <td>ASESORÍA</td>\n",
              "      <td>JURÍDICO</td>\n",
              "      <td>PENAL</td>\n",
              "      <td>DELITOS CONTRA LA LIBERTAD Y LA SEGURIDAD SEXU...</td>\n",
              "      <td>ABUSO SEXUAL</td>\n",
              "    </tr>\n",
              "    <tr>\n",
              "      <th>2</th>\n",
              "      <td>3014.0</td>\n",
              "      <td>2016-11-01</td>\n",
              "      <td>2016</td>\n",
              "      <td>11</td>\n",
              "      <td>1</td>\n",
              "      <td>1</td>\n",
              "      <td>FEMENINO</td>\n",
              "      <td>40</td>\n",
              "      <td>SOLTERO (A)</td>\n",
              "      <td>DESEMPLEADO (A)</td>\n",
              "      <td>BACHILLERATO</td>\n",
              "      <td>CIUDAD DE MÉXICO</td>\n",
              "      <td>AZCAPOTZALCO</td>\n",
              "      <td>EL ROSARIO</td>\n",
              "      <td>2100</td>\n",
              "      <td>ASESORÍA</td>\n",
              "      <td>JURÍDICO</td>\n",
              "      <td>PENAL</td>\n",
              "      <td>DELITOS CONTRA LA INTEGRIDAD FAMILIAR</td>\n",
              "      <td>VIOLENCIA FAMILIAR</td>\n",
              "    </tr>\n",
              "    <tr>\n",
              "      <th>3</th>\n",
              "      <td>3016.0</td>\n",
              "      <td>2016-11-01</td>\n",
              "      <td>2016</td>\n",
              "      <td>11</td>\n",
              "      <td>1</td>\n",
              "      <td>2</td>\n",
              "      <td>MASCULINO</td>\n",
              "      <td>35</td>\n",
              "      <td>SOLTERO (A)</td>\n",
              "      <td>EMPLEADO (A)</td>\n",
              "      <td>SECUNDARIA</td>\n",
              "      <td>CIUDAD DE MÉXICO</td>\n",
              "      <td>GUSTAVO A. MADERO</td>\n",
              "      <td>NUEVA ATZACOALCO</td>\n",
              "      <td>7420</td>\n",
              "      <td>ASESORÍA</td>\n",
              "      <td>JURÍDICO</td>\n",
              "      <td>INFORMACION GENERAL</td>\n",
              "      <td>DEPENDENCIAS ADMINISTRATIVAS</td>\n",
              "      <td>REFERENCIA INSTITUCIONAL</td>\n",
              "    </tr>\n",
              "    <tr>\n",
              "      <th>4</th>\n",
              "      <td>3017.0</td>\n",
              "      <td>2016-11-01</td>\n",
              "      <td>2016</td>\n",
              "      <td>11</td>\n",
              "      <td>1</td>\n",
              "      <td>4</td>\n",
              "      <td>MASCULINO</td>\n",
              "      <td>38</td>\n",
              "      <td>SOLTERO (A)</td>\n",
              "      <td>EMPLEADO (A)</td>\n",
              "      <td>SECUNDARIA</td>\n",
              "      <td>ESTADO DE MÉXICO</td>\n",
              "      <td>TLALNEPANTLA DE BAZ</td>\n",
              "      <td>LOS REYES IXTACALA 1RA. SECCIÓN</td>\n",
              "      <td>54090</td>\n",
              "      <td>ASESORÍA</td>\n",
              "      <td>JURÍDICO</td>\n",
              "      <td>LABORAL</td>\n",
              "      <td>PRESTACIONES</td>\n",
              "      <td>DÍAS FESTIVOS</td>\n",
              "    </tr>\n",
              "  </tbody>\n",
              "</table>\n",
              "</div>"
            ],
            "text/plain": [
              "    FOLIO  ...                TEMATICA_3\n",
              "0  3012.0  ...  REFERENCIA INSTITUCIONAL\n",
              "1  3013.0  ...              ABUSO SEXUAL\n",
              "2  3014.0  ...        VIOLENCIA FAMILIAR\n",
              "3  3016.0  ...  REFERENCIA INSTITUCIONAL\n",
              "4  3017.0  ...             DÍAS FESTIVOS\n",
              "\n",
              "[5 rows x 20 columns]"
            ]
          },
          "metadata": {
            "tags": []
          },
          "execution_count": 16
        }
      ]
    },
    {
      "cell_type": "markdown",
      "metadata": {
        "id": "WfHd5sfEtjBo"
      },
      "source": [
        "### **Modificando el nombre de las columnas.**"
      ]
    },
    {
      "cell_type": "code",
      "metadata": {
        "colab": {
          "base_uri": "https://localhost:8080/"
        },
        "id": "vVE5Bx3ko2GK",
        "outputId": "dd33a013-5e08-4491-9380-46ca4419e549"
      },
      "source": [
        "#Primero cambiaremos todos los nombres de las columnas a minúsculas. \r\n",
        "df_llamadas_cdmx_modificado_limpio.columns= df_llamadas_cdmx_modificado_limpio.columns.str.strip().str.lower()\r\n",
        "df_llamadas_cdmx_modificado_limpio.columns"
      ],
      "execution_count": null,
      "outputs": [
        {
          "output_type": "execute_result",
          "data": {
            "text/plain": [
              "Index(['folio', 'fecha_alta', 'año_alta', 'mes_alta', 'día_alta', 'hora_alta',\n",
              "       'sexo', 'edad', 'estado_civil', 'ocupacion', 'escolaridad',\n",
              "       'estado_usuaria', 'municipio_usuaria', 'colonia_usuaria', 'cp_usuaria',\n",
              "       'origen', 'servicio', 'tematica_1', 'tematica_2', 'tematica_3'],\n",
              "      dtype='object')"
            ]
          },
          "metadata": {
            "tags": []
          },
          "execution_count": 17
        }
      ]
    },
    {
      "cell_type": "code",
      "metadata": {
        "id": "nFCz1ImlsZZT"
      },
      "source": [
        "#Como ahora se incluye a la población en general, hay que modificar \"usuaria\" y modificar los nombres de tematica y origen a otros más comprensibles\r\n",
        "#Creamos un diccionario con el nombre de las columnas viejas y nuevas\r\n",
        "nombre_columnas_llamadas_cdmx = {\r\n",
        "    'día_alta':'dia_alta',\r\n",
        "    'estado_usuaria':'estado',\r\n",
        "    'municipio_usuaria':'municipio',\r\n",
        "    'colonia_usuaria':'colonia',\r\n",
        "    'cp_usuaria' : 'cp',\r\n",
        "    'origen':'plataforma',\r\n",
        "    'tematica_1': 'razon_llamada_gral',\r\n",
        "    'tematica_2': 'razon_llamada_especifica',\r\n",
        "    'tematica_3': 'llamada_detalles'\r\n",
        "}\r\n"
      ],
      "execution_count": null,
      "outputs": []
    },
    {
      "cell_type": "code",
      "metadata": {
        "id": "-bOmQxt1zh95"
      },
      "source": [
        "#Modificamos el nombre de las columnas del dataframe\r\n",
        "df_llamadas_cdmx_limpio_renombrado = df_llamadas_cdmx_modificado_limpio.rename(columns=nombre_columnas_llamadas_cdmx)"
      ],
      "execution_count": null,
      "outputs": []
    },
    {
      "cell_type": "code",
      "metadata": {
        "colab": {
          "base_uri": "https://localhost:8080/",
          "height": 268
        },
        "id": "W9zqmAlQzuzC",
        "outputId": "feb1f903-2267-4f05-a4bd-7e4564e6aeaf"
      },
      "source": [
        "# ¡Listo! Tenemos nuestro dataframe limpio y renombrado \r\n",
        "df_llamadas_cdmx_limpio_renombrado.head(3)"
      ],
      "execution_count": null,
      "outputs": [
        {
          "output_type": "execute_result",
          "data": {
            "text/html": [
              "<div>\n",
              "<style scoped>\n",
              "    .dataframe tbody tr th:only-of-type {\n",
              "        vertical-align: middle;\n",
              "    }\n",
              "\n",
              "    .dataframe tbody tr th {\n",
              "        vertical-align: top;\n",
              "    }\n",
              "\n",
              "    .dataframe thead th {\n",
              "        text-align: right;\n",
              "    }\n",
              "</style>\n",
              "<table border=\"1\" class=\"dataframe\">\n",
              "  <thead>\n",
              "    <tr style=\"text-align: right;\">\n",
              "      <th></th>\n",
              "      <th>folio</th>\n",
              "      <th>fecha_alta</th>\n",
              "      <th>año_alta</th>\n",
              "      <th>mes_alta</th>\n",
              "      <th>dia_alta</th>\n",
              "      <th>hora_alta</th>\n",
              "      <th>sexo</th>\n",
              "      <th>edad</th>\n",
              "      <th>estado_civil</th>\n",
              "      <th>ocupacion</th>\n",
              "      <th>escolaridad</th>\n",
              "      <th>estado</th>\n",
              "      <th>municipio</th>\n",
              "      <th>colonia</th>\n",
              "      <th>cp</th>\n",
              "      <th>plataforma</th>\n",
              "      <th>servicio</th>\n",
              "      <th>razon_llamada_gral</th>\n",
              "      <th>razon_llamada_especifica</th>\n",
              "      <th>llamada_detalles</th>\n",
              "    </tr>\n",
              "  </thead>\n",
              "  <tbody>\n",
              "    <tr>\n",
              "      <th>0</th>\n",
              "      <td>3012.0</td>\n",
              "      <td>2016-11-01</td>\n",
              "      <td>2016</td>\n",
              "      <td>11</td>\n",
              "      <td>1</td>\n",
              "      <td>0</td>\n",
              "      <td>FEMENINO</td>\n",
              "      <td>54</td>\n",
              "      <td>SOLTERO (A)</td>\n",
              "      <td>EMPLEADO (A)</td>\n",
              "      <td>LICENCIATURA</td>\n",
              "      <td>CIUDAD DE MÉXICO</td>\n",
              "      <td>GUSTAVO A. MADERO</td>\n",
              "      <td>CONSTITUCIÓN DE LA REPÚBLICA</td>\n",
              "      <td>7469</td>\n",
              "      <td>ASESORÍA</td>\n",
              "      <td>JURÍDICO</td>\n",
              "      <td>INFORMACION GENERAL</td>\n",
              "      <td>DEPENDENCIAS ADMINISTRATIVAS</td>\n",
              "      <td>REFERENCIA INSTITUCIONAL</td>\n",
              "    </tr>\n",
              "    <tr>\n",
              "      <th>1</th>\n",
              "      <td>3013.0</td>\n",
              "      <td>2016-11-01</td>\n",
              "      <td>2016</td>\n",
              "      <td>11</td>\n",
              "      <td>1</td>\n",
              "      <td>0</td>\n",
              "      <td>FEMENINO</td>\n",
              "      <td>42</td>\n",
              "      <td>SOLTERO (A)</td>\n",
              "      <td>EMPLEADO (A)</td>\n",
              "      <td>LICENCIATURA</td>\n",
              "      <td>ESTADO DE MÉXICO</td>\n",
              "      <td>ECATEPEC DE MORELOS</td>\n",
              "      <td>NUEVO PASEO DE SAN AGUSTÍN</td>\n",
              "      <td>55130</td>\n",
              "      <td>ASESORÍA</td>\n",
              "      <td>JURÍDICO</td>\n",
              "      <td>PENAL</td>\n",
              "      <td>DELITOS CONTRA LA LIBERTAD Y LA SEGURIDAD SEXU...</td>\n",
              "      <td>ABUSO SEXUAL</td>\n",
              "    </tr>\n",
              "    <tr>\n",
              "      <th>2</th>\n",
              "      <td>3014.0</td>\n",
              "      <td>2016-11-01</td>\n",
              "      <td>2016</td>\n",
              "      <td>11</td>\n",
              "      <td>1</td>\n",
              "      <td>1</td>\n",
              "      <td>FEMENINO</td>\n",
              "      <td>40</td>\n",
              "      <td>SOLTERO (A)</td>\n",
              "      <td>DESEMPLEADO (A)</td>\n",
              "      <td>BACHILLERATO</td>\n",
              "      <td>CIUDAD DE MÉXICO</td>\n",
              "      <td>AZCAPOTZALCO</td>\n",
              "      <td>EL ROSARIO</td>\n",
              "      <td>2100</td>\n",
              "      <td>ASESORÍA</td>\n",
              "      <td>JURÍDICO</td>\n",
              "      <td>PENAL</td>\n",
              "      <td>DELITOS CONTRA LA INTEGRIDAD FAMILIAR</td>\n",
              "      <td>VIOLENCIA FAMILIAR</td>\n",
              "    </tr>\n",
              "  </tbody>\n",
              "</table>\n",
              "</div>"
            ],
            "text/plain": [
              "    folio  ...          llamada_detalles\n",
              "0  3012.0  ...  REFERENCIA INSTITUCIONAL\n",
              "1  3013.0  ...              ABUSO SEXUAL\n",
              "2  3014.0  ...        VIOLENCIA FAMILIAR\n",
              "\n",
              "[3 rows x 20 columns]"
            ]
          },
          "metadata": {
            "tags": []
          },
          "execution_count": 21
        }
      ]
    },
    {
      "cell_type": "code",
      "metadata": {
        "colab": {
          "base_uri": "https://localhost:8080/",
          "height": 268
        },
        "id": "SVGDvP7p0_B5",
        "outputId": "7b30d55c-5f87-4ffc-ddde-61114c4d792c"
      },
      "source": [
        "#Vamos a modificar los datos del dataset para que aparezcan en minúsculas\r\n",
        "# Para ello es necesario utilizar applymap para encontrar las cadenas de caracteres que se pueden modificar junto con la función lambda\r\n",
        "df_llamadas_cdmx_limpio_renombrado = df_llamadas_cdmx_limpio_renombrado.applymap(lambda texto: texto.lower() if type(texto)== str else texto)\r\n",
        "df_llamadas_cdmx_limpio_renombrado.head(3)"
      ],
      "execution_count": null,
      "outputs": [
        {
          "output_type": "execute_result",
          "data": {
            "text/html": [
              "<div>\n",
              "<style scoped>\n",
              "    .dataframe tbody tr th:only-of-type {\n",
              "        vertical-align: middle;\n",
              "    }\n",
              "\n",
              "    .dataframe tbody tr th {\n",
              "        vertical-align: top;\n",
              "    }\n",
              "\n",
              "    .dataframe thead th {\n",
              "        text-align: right;\n",
              "    }\n",
              "</style>\n",
              "<table border=\"1\" class=\"dataframe\">\n",
              "  <thead>\n",
              "    <tr style=\"text-align: right;\">\n",
              "      <th></th>\n",
              "      <th>folio</th>\n",
              "      <th>fecha_alta</th>\n",
              "      <th>año_alta</th>\n",
              "      <th>mes_alta</th>\n",
              "      <th>dia_alta</th>\n",
              "      <th>hora_alta</th>\n",
              "      <th>sexo</th>\n",
              "      <th>edad</th>\n",
              "      <th>estado_civil</th>\n",
              "      <th>ocupacion</th>\n",
              "      <th>escolaridad</th>\n",
              "      <th>estado</th>\n",
              "      <th>municipio</th>\n",
              "      <th>colonia</th>\n",
              "      <th>cp</th>\n",
              "      <th>plataforma</th>\n",
              "      <th>servicio</th>\n",
              "      <th>razon_llamada_gral</th>\n",
              "      <th>razon_llamada_especifica</th>\n",
              "      <th>llamada_detalles</th>\n",
              "    </tr>\n",
              "  </thead>\n",
              "  <tbody>\n",
              "    <tr>\n",
              "      <th>0</th>\n",
              "      <td>3012.0</td>\n",
              "      <td>2016-11-01</td>\n",
              "      <td>2016</td>\n",
              "      <td>11</td>\n",
              "      <td>1</td>\n",
              "      <td>0</td>\n",
              "      <td>femenino</td>\n",
              "      <td>54</td>\n",
              "      <td>soltero (a)</td>\n",
              "      <td>empleado (a)</td>\n",
              "      <td>licenciatura</td>\n",
              "      <td>ciudad de méxico</td>\n",
              "      <td>gustavo a. madero</td>\n",
              "      <td>constitución de la república</td>\n",
              "      <td>7469</td>\n",
              "      <td>asesoría</td>\n",
              "      <td>jurídico</td>\n",
              "      <td>informacion general</td>\n",
              "      <td>dependencias administrativas</td>\n",
              "      <td>referencia institucional</td>\n",
              "    </tr>\n",
              "    <tr>\n",
              "      <th>1</th>\n",
              "      <td>3013.0</td>\n",
              "      <td>2016-11-01</td>\n",
              "      <td>2016</td>\n",
              "      <td>11</td>\n",
              "      <td>1</td>\n",
              "      <td>0</td>\n",
              "      <td>femenino</td>\n",
              "      <td>42</td>\n",
              "      <td>soltero (a)</td>\n",
              "      <td>empleado (a)</td>\n",
              "      <td>licenciatura</td>\n",
              "      <td>estado de méxico</td>\n",
              "      <td>ecatepec de morelos</td>\n",
              "      <td>nuevo paseo de san agustín</td>\n",
              "      <td>55130</td>\n",
              "      <td>asesoría</td>\n",
              "      <td>jurídico</td>\n",
              "      <td>penal</td>\n",
              "      <td>delitos contra la libertad y la seguridad sexu...</td>\n",
              "      <td>abuso sexual</td>\n",
              "    </tr>\n",
              "    <tr>\n",
              "      <th>2</th>\n",
              "      <td>3014.0</td>\n",
              "      <td>2016-11-01</td>\n",
              "      <td>2016</td>\n",
              "      <td>11</td>\n",
              "      <td>1</td>\n",
              "      <td>1</td>\n",
              "      <td>femenino</td>\n",
              "      <td>40</td>\n",
              "      <td>soltero (a)</td>\n",
              "      <td>desempleado (a)</td>\n",
              "      <td>bachillerato</td>\n",
              "      <td>ciudad de méxico</td>\n",
              "      <td>azcapotzalco</td>\n",
              "      <td>el rosario</td>\n",
              "      <td>2100</td>\n",
              "      <td>asesoría</td>\n",
              "      <td>jurídico</td>\n",
              "      <td>penal</td>\n",
              "      <td>delitos contra la integridad familiar</td>\n",
              "      <td>violencia familiar</td>\n",
              "    </tr>\n",
              "  </tbody>\n",
              "</table>\n",
              "</div>"
            ],
            "text/plain": [
              "    folio  ...          llamada_detalles\n",
              "0  3012.0  ...  referencia institucional\n",
              "1  3013.0  ...              abuso sexual\n",
              "2  3014.0  ...        violencia familiar\n",
              "\n",
              "[3 rows x 20 columns]"
            ]
          },
          "metadata": {
            "tags": []
          },
          "execution_count": 22
        }
      ]
    },
    {
      "cell_type": "code",
      "metadata": {
        "colab": {
          "base_uri": "https://localhost:8080/"
        },
        "id": "Lh-MP2qj5FS4",
        "outputId": "a13a75c8-04d9-45b6-c36a-ff8a2ad1b054"
      },
      "source": [
        "#Recordando el tipo de datos que tenemos \r\n",
        "print(df_llamadas_cdmx_limpio_renombrado.shape) #Nuevo tamaño de nuestro dataset\r\n",
        "df_llamadas_cdmx_limpio_renombrado.dtypes"
      ],
      "execution_count": null,
      "outputs": [
        {
          "output_type": "stream",
          "text": [
            "(624850, 20)\n"
          ],
          "name": "stdout"
        },
        {
          "output_type": "execute_result",
          "data": {
            "text/plain": [
              "folio                       float64\n",
              "fecha_alta                   object\n",
              "año_alta                      int64\n",
              "mes_alta                      int64\n",
              "dia_alta                      int64\n",
              "hora_alta                     int64\n",
              "sexo                         object\n",
              "edad                          int64\n",
              "estado_civil                 object\n",
              "ocupacion                    object\n",
              "escolaridad                  object\n",
              "estado                       object\n",
              "municipio                    object\n",
              "colonia                      object\n",
              "cp                           object\n",
              "plataforma                   object\n",
              "servicio                     object\n",
              "razon_llamada_gral           object\n",
              "razon_llamada_especifica     object\n",
              "llamada_detalles             object\n",
              "dtype: object"
            ]
          },
          "metadata": {
            "tags": []
          },
          "execution_count": 23
        }
      ]
    },
    {
      "cell_type": "markdown",
      "metadata": {
        "id": "JEPFySWaQSkt"
      },
      "source": [
        "###**Modificación del dataframe limpio y renombrado.** "
      ]
    },
    {
      "cell_type": "markdown",
      "metadata": {
        "id": "HMu9Xe6a7IIs"
      },
      "source": [
        "Es conveniente modificar los valores del dataframe al tipo de formato correspondiente como es el caso de fecha_alta y folio (únicamente contiene valores enteros).Además en este caso, y debido al formato en el que está la columna hora_alta no será útil para el análisis por lo que la eliminaremos.  "
      ]
    },
    {
      "cell_type": "code",
      "metadata": {
        "colab": {
          "base_uri": "https://localhost:8080/",
          "height": 202
        },
        "id": "ahkLCSRyTu06",
        "outputId": "6b02a469-15d8-4b82-9662-2675dfca56b7"
      },
      "source": [
        "#Cambiando el formato de fecha_alta de string a datetime\r\n",
        "df_llamadas_cdmx_limpio_renombrado['fecha_alta'] = pd.to_datetime(df_llamadas_cdmx_limpio_renombrado['fecha_alta'])\r\n",
        "df_llamadas_cdmx_limpio_renombrado.head(2)"
      ],
      "execution_count": null,
      "outputs": [
        {
          "output_type": "execute_result",
          "data": {
            "text/html": [
              "<div>\n",
              "<style scoped>\n",
              "    .dataframe tbody tr th:only-of-type {\n",
              "        vertical-align: middle;\n",
              "    }\n",
              "\n",
              "    .dataframe tbody tr th {\n",
              "        vertical-align: top;\n",
              "    }\n",
              "\n",
              "    .dataframe thead th {\n",
              "        text-align: right;\n",
              "    }\n",
              "</style>\n",
              "<table border=\"1\" class=\"dataframe\">\n",
              "  <thead>\n",
              "    <tr style=\"text-align: right;\">\n",
              "      <th></th>\n",
              "      <th>folio</th>\n",
              "      <th>fecha_alta</th>\n",
              "      <th>año_alta</th>\n",
              "      <th>mes_alta</th>\n",
              "      <th>dia_alta</th>\n",
              "      <th>hora_alta</th>\n",
              "      <th>sexo</th>\n",
              "      <th>edad</th>\n",
              "      <th>estado_civil</th>\n",
              "      <th>ocupacion</th>\n",
              "      <th>escolaridad</th>\n",
              "      <th>estado</th>\n",
              "      <th>municipio</th>\n",
              "      <th>colonia</th>\n",
              "      <th>cp</th>\n",
              "      <th>plataforma</th>\n",
              "      <th>servicio</th>\n",
              "      <th>razon_llamada_gral</th>\n",
              "      <th>razon_llamada_especifica</th>\n",
              "      <th>llamada_detalles</th>\n",
              "    </tr>\n",
              "  </thead>\n",
              "  <tbody>\n",
              "    <tr>\n",
              "      <th>0</th>\n",
              "      <td>3012.0</td>\n",
              "      <td>2016-11-01</td>\n",
              "      <td>2016</td>\n",
              "      <td>11</td>\n",
              "      <td>1</td>\n",
              "      <td>0</td>\n",
              "      <td>femenino</td>\n",
              "      <td>54</td>\n",
              "      <td>soltero (a)</td>\n",
              "      <td>empleado (a)</td>\n",
              "      <td>licenciatura</td>\n",
              "      <td>ciudad de méxico</td>\n",
              "      <td>gustavo a. madero</td>\n",
              "      <td>constitución de la república</td>\n",
              "      <td>7469</td>\n",
              "      <td>asesoría</td>\n",
              "      <td>jurídico</td>\n",
              "      <td>informacion general</td>\n",
              "      <td>dependencias administrativas</td>\n",
              "      <td>referencia institucional</td>\n",
              "    </tr>\n",
              "    <tr>\n",
              "      <th>1</th>\n",
              "      <td>3013.0</td>\n",
              "      <td>2016-11-01</td>\n",
              "      <td>2016</td>\n",
              "      <td>11</td>\n",
              "      <td>1</td>\n",
              "      <td>0</td>\n",
              "      <td>femenino</td>\n",
              "      <td>42</td>\n",
              "      <td>soltero (a)</td>\n",
              "      <td>empleado (a)</td>\n",
              "      <td>licenciatura</td>\n",
              "      <td>estado de méxico</td>\n",
              "      <td>ecatepec de morelos</td>\n",
              "      <td>nuevo paseo de san agustín</td>\n",
              "      <td>55130</td>\n",
              "      <td>asesoría</td>\n",
              "      <td>jurídico</td>\n",
              "      <td>penal</td>\n",
              "      <td>delitos contra la libertad y la seguridad sexu...</td>\n",
              "      <td>abuso sexual</td>\n",
              "    </tr>\n",
              "  </tbody>\n",
              "</table>\n",
              "</div>"
            ],
            "text/plain": [
              "    folio  ...          llamada_detalles\n",
              "0  3012.0  ...  referencia institucional\n",
              "1  3013.0  ...              abuso sexual\n",
              "\n",
              "[2 rows x 20 columns]"
            ]
          },
          "metadata": {
            "tags": []
          },
          "execution_count": 24
        }
      ]
    },
    {
      "cell_type": "code",
      "metadata": {
        "colab": {
          "base_uri": "https://localhost:8080/"
        },
        "id": "SqAVMVhSU98e",
        "outputId": "3927a9cc-1496-4b68-c0e0-943365f302ea"
      },
      "source": [
        "df_llamadas_cdmx_limpio_renombrado.dtypes\r\n",
        "print(df_llamadas_cdmx_limpio_renombrado.columns)"
      ],
      "execution_count": null,
      "outputs": [
        {
          "output_type": "stream",
          "text": [
            "Index(['folio', 'fecha_alta', 'año_alta', 'mes_alta', 'dia_alta', 'hora_alta',\n",
            "       'sexo', 'edad', 'estado_civil', 'ocupacion', 'escolaridad', 'estado',\n",
            "       'municipio', 'colonia', 'cp', 'plataforma', 'servicio',\n",
            "       'razon_llamada_gral', 'razon_llamada_especifica', 'llamada_detalles'],\n",
            "      dtype='object')\n"
          ],
          "name": "stdout"
        }
      ]
    },
    {
      "cell_type": "code",
      "metadata": {
        "id": "zqAtCLGsV7G_"
      },
      "source": [
        "#Cambiamos el formato de folio de float64 a int64\r\n",
        "df_llamadas_cdmx_limpio_renombrado['folio'] = df_llamadas_cdmx_limpio_renombrado['folio'].astype(int)"
      ],
      "execution_count": null,
      "outputs": []
    },
    {
      "cell_type": "code",
      "metadata": {
        "colab": {
          "base_uri": "https://localhost:8080/"
        },
        "id": "fWfki3t8WY6x",
        "outputId": "a5e89ae2-e700-4d1d-ea4c-53f016d1de21"
      },
      "source": [
        "df_llamadas_cdmx_limpio_renombrado.dtypes"
      ],
      "execution_count": null,
      "outputs": [
        {
          "output_type": "execute_result",
          "data": {
            "text/plain": [
              "folio                                int64\n",
              "fecha_alta                  datetime64[ns]\n",
              "año_alta                             int64\n",
              "mes_alta                             int64\n",
              "dia_alta                             int64\n",
              "hora_alta                            int64\n",
              "sexo                                object\n",
              "edad                                 int64\n",
              "estado_civil                        object\n",
              "ocupacion                           object\n",
              "escolaridad                         object\n",
              "estado                              object\n",
              "municipio                           object\n",
              "colonia                             object\n",
              "cp                                  object\n",
              "plataforma                          object\n",
              "servicio                            object\n",
              "razon_llamada_gral                  object\n",
              "razon_llamada_especifica            object\n",
              "llamada_detalles                    object\n",
              "dtype: object"
            ]
          },
          "metadata": {
            "tags": []
          },
          "execution_count": 27
        }
      ]
    },
    {
      "cell_type": "code",
      "metadata": {
        "colab": {
          "base_uri": "https://localhost:8080/",
          "height": 268
        },
        "id": "pyuoGBqWW_q-",
        "outputId": "bb760960-a8c3-4014-bf33-bf65f7f084ce"
      },
      "source": [
        "# Eliminamos la columna de hora_alta\r\n",
        "df_llamadas_cdmx_final = df_llamadas_cdmx_limpio_renombrado.drop(['hora_alta'],axis=1)\r\n",
        "df_llamadas_cdmx_final.head(3)"
      ],
      "execution_count": null,
      "outputs": [
        {
          "output_type": "execute_result",
          "data": {
            "text/html": [
              "<div>\n",
              "<style scoped>\n",
              "    .dataframe tbody tr th:only-of-type {\n",
              "        vertical-align: middle;\n",
              "    }\n",
              "\n",
              "    .dataframe tbody tr th {\n",
              "        vertical-align: top;\n",
              "    }\n",
              "\n",
              "    .dataframe thead th {\n",
              "        text-align: right;\n",
              "    }\n",
              "</style>\n",
              "<table border=\"1\" class=\"dataframe\">\n",
              "  <thead>\n",
              "    <tr style=\"text-align: right;\">\n",
              "      <th></th>\n",
              "      <th>folio</th>\n",
              "      <th>fecha_alta</th>\n",
              "      <th>año_alta</th>\n",
              "      <th>mes_alta</th>\n",
              "      <th>dia_alta</th>\n",
              "      <th>sexo</th>\n",
              "      <th>edad</th>\n",
              "      <th>estado_civil</th>\n",
              "      <th>ocupacion</th>\n",
              "      <th>escolaridad</th>\n",
              "      <th>estado</th>\n",
              "      <th>municipio</th>\n",
              "      <th>colonia</th>\n",
              "      <th>cp</th>\n",
              "      <th>plataforma</th>\n",
              "      <th>servicio</th>\n",
              "      <th>razon_llamada_gral</th>\n",
              "      <th>razon_llamada_especifica</th>\n",
              "      <th>llamada_detalles</th>\n",
              "    </tr>\n",
              "  </thead>\n",
              "  <tbody>\n",
              "    <tr>\n",
              "      <th>0</th>\n",
              "      <td>3012</td>\n",
              "      <td>2016-11-01</td>\n",
              "      <td>2016</td>\n",
              "      <td>11</td>\n",
              "      <td>1</td>\n",
              "      <td>femenino</td>\n",
              "      <td>54</td>\n",
              "      <td>soltero (a)</td>\n",
              "      <td>empleado (a)</td>\n",
              "      <td>licenciatura</td>\n",
              "      <td>ciudad de méxico</td>\n",
              "      <td>gustavo a. madero</td>\n",
              "      <td>constitución de la república</td>\n",
              "      <td>7469</td>\n",
              "      <td>asesoría</td>\n",
              "      <td>jurídico</td>\n",
              "      <td>informacion general</td>\n",
              "      <td>dependencias administrativas</td>\n",
              "      <td>referencia institucional</td>\n",
              "    </tr>\n",
              "    <tr>\n",
              "      <th>1</th>\n",
              "      <td>3013</td>\n",
              "      <td>2016-11-01</td>\n",
              "      <td>2016</td>\n",
              "      <td>11</td>\n",
              "      <td>1</td>\n",
              "      <td>femenino</td>\n",
              "      <td>42</td>\n",
              "      <td>soltero (a)</td>\n",
              "      <td>empleado (a)</td>\n",
              "      <td>licenciatura</td>\n",
              "      <td>estado de méxico</td>\n",
              "      <td>ecatepec de morelos</td>\n",
              "      <td>nuevo paseo de san agustín</td>\n",
              "      <td>55130</td>\n",
              "      <td>asesoría</td>\n",
              "      <td>jurídico</td>\n",
              "      <td>penal</td>\n",
              "      <td>delitos contra la libertad y la seguridad sexu...</td>\n",
              "      <td>abuso sexual</td>\n",
              "    </tr>\n",
              "    <tr>\n",
              "      <th>2</th>\n",
              "      <td>3014</td>\n",
              "      <td>2016-11-01</td>\n",
              "      <td>2016</td>\n",
              "      <td>11</td>\n",
              "      <td>1</td>\n",
              "      <td>femenino</td>\n",
              "      <td>40</td>\n",
              "      <td>soltero (a)</td>\n",
              "      <td>desempleado (a)</td>\n",
              "      <td>bachillerato</td>\n",
              "      <td>ciudad de méxico</td>\n",
              "      <td>azcapotzalco</td>\n",
              "      <td>el rosario</td>\n",
              "      <td>2100</td>\n",
              "      <td>asesoría</td>\n",
              "      <td>jurídico</td>\n",
              "      <td>penal</td>\n",
              "      <td>delitos contra la integridad familiar</td>\n",
              "      <td>violencia familiar</td>\n",
              "    </tr>\n",
              "  </tbody>\n",
              "</table>\n",
              "</div>"
            ],
            "text/plain": [
              "   folio  ...          llamada_detalles\n",
              "0   3012  ...  referencia institucional\n",
              "1   3013  ...              abuso sexual\n",
              "2   3014  ...        violencia familiar\n",
              "\n",
              "[3 rows x 19 columns]"
            ]
          },
          "metadata": {
            "tags": []
          },
          "execution_count": 28
        }
      ]
    },
    {
      "cell_type": "markdown",
      "metadata": {
        "id": "n9EQfL3cXhgv"
      },
      "source": [
        "### **Filtrado de la información relevante**\r\n",
        "Como las llamadas fueron realizadas con diversos fines, es necesario filtrar los datos de aquellas que son relevantes para el tema de violencia contra la mujer. Para ello utilizaremos las columnas **razon_llamada_gral** , **razon_llamada_especifica** y **llamada_detalles**. "
      ]
    },
    {
      "cell_type": "code",
      "metadata": {
        "colab": {
          "base_uri": "https://localhost:8080/"
        },
        "id": "AeqDAegvsWYk",
        "outputId": "431e7b1f-7225-40cc-9f21-00a3929fc7f5"
      },
      "source": [
        "#El tamaño del dataframe es ahora\r\n",
        "df_llamadas_cdmx_final.shape"
      ],
      "execution_count": null,
      "outputs": [
        {
          "output_type": "execute_result",
          "data": {
            "text/plain": [
              "(624850, 19)"
            ]
          },
          "metadata": {
            "tags": []
          },
          "execution_count": 29
        }
      ]
    },
    {
      "cell_type": "code",
      "metadata": {
        "colab": {
          "base_uri": "https://localhost:8080/"
        },
        "id": "MEvkPwbolk0N",
        "outputId": "71cc1681-9504-4511-b628-fd2c871779c1"
      },
      "source": [
        "# Valores que toma la columna 'razon_llamada_gral'\r\n",
        "print(df_llamadas_cdmx_final['razon_llamada_gral'].unique())"
      ],
      "execution_count": null,
      "outputs": [
        {
          "output_type": "stream",
          "text": [
            "['informacion general' 'penal' 'laboral' 'familiar' 'administrativa'\n",
            " 'arrendamiento' 'mercantil' 'civil' 'seguridad social' 'fiscal'\n",
            " 'instituciones' 'ortopedia y traumatologia' 'medicamentos'\n",
            " 'signos y sintomas generales' 'cirugia' 'cardiologia' 'adicciones'\n",
            " 'ginecologia obstetricia' 'toxicologia' 'conflictos emocionales'\n",
            " 'noviazgo' 'gastroenterologia' 'otorrinolaringologia' 'odontologia'\n",
            " 'sexualidad' 'pareja' 'violencia' 'familia' 'infectologia'\n",
            " 'examenes de laboratorio' 'psiquiatria' 'notarial'\n",
            " 'salud sexual y reproductiva' 'endocrinologias' 'medicina preventiva'\n",
            " 'neurologia' 'oftalmologia' 'dermatologia' 'neumologia' 'alergologia'\n",
            " 'urologia' 'circulatorio' 'nutricion' 'hematologia' 'salud'\n",
            " 'servicios del área' 'escolar' 'oncologia' 'grupo de pares'\n",
            " 'reumatologia' 'neonatologia' 'material medico' 'enfermeades endemicas'\n",
            " 'donacion de organos' 'hipertension' 'enfermedades mas comunes'\n",
            " 'traumatismo' 'convulsiones' 'intoxicación o envenenamiento' 'diabetes'\n",
            " 'maniobras' 'ahogamiento' 'embarazo' 'infarto agudo al miocardio'\n",
            " 'crisis neuroconversiva']\n"
          ],
          "name": "stdout"
        }
      ]
    },
    {
      "cell_type": "code",
      "metadata": {
        "id": "F3PUroDHhjrT"
      },
      "source": [
        "#Realizamos un primer filrado utilizando razon_llamada_gral con los temas penal, pareja y noviazgo. \r\n",
        "df_llamadas_cdmx_filtrado_gral = df_llamadas_cdmx_final[df_llamadas_cdmx_final.razon_llamada_gral.str.contains('penal|pareja|noviazgo')]"
      ],
      "execution_count": null,
      "outputs": []
    },
    {
      "cell_type": "code",
      "metadata": {
        "colab": {
          "base_uri": "https://localhost:8080/",
          "height": 791
        },
        "id": "CzPQm5vLox6l",
        "outputId": "c69dd7d7-b4d2-401b-c73c-750c8dacdd3b"
      },
      "source": [
        "#Nos damos cuenta que aún tenemos registros relacionados con otros temas como \"delitos conta el patrimonio\" que debemos filtrar\r\n",
        "df_llamadas_cdmx_filtrado_gral "
      ],
      "execution_count": null,
      "outputs": [
        {
          "output_type": "execute_result",
          "data": {
            "text/html": [
              "<div>\n",
              "<style scoped>\n",
              "    .dataframe tbody tr th:only-of-type {\n",
              "        vertical-align: middle;\n",
              "    }\n",
              "\n",
              "    .dataframe tbody tr th {\n",
              "        vertical-align: top;\n",
              "    }\n",
              "\n",
              "    .dataframe thead th {\n",
              "        text-align: right;\n",
              "    }\n",
              "</style>\n",
              "<table border=\"1\" class=\"dataframe\">\n",
              "  <thead>\n",
              "    <tr style=\"text-align: right;\">\n",
              "      <th></th>\n",
              "      <th>folio</th>\n",
              "      <th>fecha_alta</th>\n",
              "      <th>año_alta</th>\n",
              "      <th>mes_alta</th>\n",
              "      <th>dia_alta</th>\n",
              "      <th>sexo</th>\n",
              "      <th>edad</th>\n",
              "      <th>estado_civil</th>\n",
              "      <th>ocupacion</th>\n",
              "      <th>escolaridad</th>\n",
              "      <th>estado</th>\n",
              "      <th>municipio</th>\n",
              "      <th>colonia</th>\n",
              "      <th>cp</th>\n",
              "      <th>plataforma</th>\n",
              "      <th>servicio</th>\n",
              "      <th>razon_llamada_gral</th>\n",
              "      <th>razon_llamada_especifica</th>\n",
              "      <th>llamada_detalles</th>\n",
              "    </tr>\n",
              "  </thead>\n",
              "  <tbody>\n",
              "    <tr>\n",
              "      <th>1</th>\n",
              "      <td>3013</td>\n",
              "      <td>2016-11-01</td>\n",
              "      <td>2016</td>\n",
              "      <td>11</td>\n",
              "      <td>1</td>\n",
              "      <td>femenino</td>\n",
              "      <td>42</td>\n",
              "      <td>soltero (a)</td>\n",
              "      <td>empleado (a)</td>\n",
              "      <td>licenciatura</td>\n",
              "      <td>estado de méxico</td>\n",
              "      <td>ecatepec de morelos</td>\n",
              "      <td>nuevo paseo de san agustín</td>\n",
              "      <td>55130</td>\n",
              "      <td>asesoría</td>\n",
              "      <td>jurídico</td>\n",
              "      <td>penal</td>\n",
              "      <td>delitos contra la libertad y la seguridad sexu...</td>\n",
              "      <td>abuso sexual</td>\n",
              "    </tr>\n",
              "    <tr>\n",
              "      <th>2</th>\n",
              "      <td>3014</td>\n",
              "      <td>2016-11-01</td>\n",
              "      <td>2016</td>\n",
              "      <td>11</td>\n",
              "      <td>1</td>\n",
              "      <td>femenino</td>\n",
              "      <td>40</td>\n",
              "      <td>soltero (a)</td>\n",
              "      <td>desempleado (a)</td>\n",
              "      <td>bachillerato</td>\n",
              "      <td>ciudad de méxico</td>\n",
              "      <td>azcapotzalco</td>\n",
              "      <td>el rosario</td>\n",
              "      <td>2100</td>\n",
              "      <td>asesoría</td>\n",
              "      <td>jurídico</td>\n",
              "      <td>penal</td>\n",
              "      <td>delitos contra la integridad familiar</td>\n",
              "      <td>violencia familiar</td>\n",
              "    </tr>\n",
              "    <tr>\n",
              "      <th>6</th>\n",
              "      <td>3022</td>\n",
              "      <td>2016-11-01</td>\n",
              "      <td>2016</td>\n",
              "      <td>11</td>\n",
              "      <td>1</td>\n",
              "      <td>femenino</td>\n",
              "      <td>52</td>\n",
              "      <td>casado (a)</td>\n",
              "      <td>empleado (a)</td>\n",
              "      <td>secundaria</td>\n",
              "      <td>ciudad de méxico</td>\n",
              "      <td>álvaro obregón</td>\n",
              "      <td>puente colorado</td>\n",
              "      <td>1730</td>\n",
              "      <td>asesoría</td>\n",
              "      <td>jurídico</td>\n",
              "      <td>penal</td>\n",
              "      <td>delitos contra la integridad familiar</td>\n",
              "      <td>violencia familiar</td>\n",
              "    </tr>\n",
              "    <tr>\n",
              "      <th>8</th>\n",
              "      <td>3024</td>\n",
              "      <td>2016-11-01</td>\n",
              "      <td>2016</td>\n",
              "      <td>11</td>\n",
              "      <td>1</td>\n",
              "      <td>femenino</td>\n",
              "      <td>64</td>\n",
              "      <td>soltero (a)</td>\n",
              "      <td>empleado (a)</td>\n",
              "      <td>licenciatura</td>\n",
              "      <td>ciudad de méxico</td>\n",
              "      <td>azcapotzalco</td>\n",
              "      <td>nueva santa maria</td>\n",
              "      <td>2800</td>\n",
              "      <td>asesoría</td>\n",
              "      <td>jurídico</td>\n",
              "      <td>penal</td>\n",
              "      <td>delitos contra el patrimonio</td>\n",
              "      <td>abuso de confianza</td>\n",
              "    </tr>\n",
              "    <tr>\n",
              "      <th>10</th>\n",
              "      <td>3029</td>\n",
              "      <td>2016-11-01</td>\n",
              "      <td>2016</td>\n",
              "      <td>11</td>\n",
              "      <td>1</td>\n",
              "      <td>femenino</td>\n",
              "      <td>52</td>\n",
              "      <td>casado (a)</td>\n",
              "      <td>hogar</td>\n",
              "      <td>bachillerato</td>\n",
              "      <td>ciudad de méxico</td>\n",
              "      <td>gustavo a. madero</td>\n",
              "      <td>la patera vallejo</td>\n",
              "      <td>7710</td>\n",
              "      <td>asesoría</td>\n",
              "      <td>jurídico</td>\n",
              "      <td>penal</td>\n",
              "      <td>delitos contra la vida y la integridad corporal</td>\n",
              "      <td>lesiones</td>\n",
              "    </tr>\n",
              "    <tr>\n",
              "      <th>...</th>\n",
              "      <td>...</td>\n",
              "      <td>...</td>\n",
              "      <td>...</td>\n",
              "      <td>...</td>\n",
              "      <td>...</td>\n",
              "      <td>...</td>\n",
              "      <td>...</td>\n",
              "      <td>...</td>\n",
              "      <td>...</td>\n",
              "      <td>...</td>\n",
              "      <td>...</td>\n",
              "      <td>...</td>\n",
              "      <td>...</td>\n",
              "      <td>...</td>\n",
              "      <td>...</td>\n",
              "      <td>...</td>\n",
              "      <td>...</td>\n",
              "      <td>...</td>\n",
              "      <td>...</td>\n",
              "    </tr>\n",
              "    <tr>\n",
              "      <th>624831</th>\n",
              "      <td>871713</td>\n",
              "      <td>2021-02-28</td>\n",
              "      <td>2021</td>\n",
              "      <td>2</td>\n",
              "      <td>28</td>\n",
              "      <td>femenino</td>\n",
              "      <td>49</td>\n",
              "      <td>soltero (a)</td>\n",
              "      <td>desempleado (a)</td>\n",
              "      <td>bachillerato</td>\n",
              "      <td>ciudad de méxico</td>\n",
              "      <td>benito juárez</td>\n",
              "      <td>narvarte oriente</td>\n",
              "      <td>3023</td>\n",
              "      <td>asesoría</td>\n",
              "      <td>jurídico</td>\n",
              "      <td>penal</td>\n",
              "      <td>delitos contra el patrimonio</td>\n",
              "      <td>daño a la propiedad</td>\n",
              "    </tr>\n",
              "    <tr>\n",
              "      <th>624834</th>\n",
              "      <td>871716</td>\n",
              "      <td>2021-02-28</td>\n",
              "      <td>2021</td>\n",
              "      <td>2</td>\n",
              "      <td>28</td>\n",
              "      <td>femenino</td>\n",
              "      <td>38</td>\n",
              "      <td>soltero (a)</td>\n",
              "      <td>hogar</td>\n",
              "      <td>bachillerato</td>\n",
              "      <td>ciudad de méxico</td>\n",
              "      <td>gustavo a. madero</td>\n",
              "      <td>luis donaldo colosio</td>\n",
              "      <td>7164</td>\n",
              "      <td>asesoría</td>\n",
              "      <td>psicológico</td>\n",
              "      <td>pareja</td>\n",
              "      <td>separacion o divorcio</td>\n",
              "      <td>enfrentar ruptura</td>\n",
              "    </tr>\n",
              "    <tr>\n",
              "      <th>624836</th>\n",
              "      <td>871718</td>\n",
              "      <td>2021-02-28</td>\n",
              "      <td>2021</td>\n",
              "      <td>2</td>\n",
              "      <td>28</td>\n",
              "      <td>femenino</td>\n",
              "      <td>51</td>\n",
              "      <td>soltero (a)</td>\n",
              "      <td>comerciante</td>\n",
              "      <td>secundaria</td>\n",
              "      <td>estado de méxico</td>\n",
              "      <td>valle de chalco solidaridad</td>\n",
              "      <td>avándaro</td>\n",
              "      <td>56618</td>\n",
              "      <td>asesoría</td>\n",
              "      <td>jurídico</td>\n",
              "      <td>penal</td>\n",
              "      <td>delitos contra la integridad familiar</td>\n",
              "      <td>violencia familiar</td>\n",
              "    </tr>\n",
              "    <tr>\n",
              "      <th>624837</th>\n",
              "      <td>871719</td>\n",
              "      <td>2021-02-28</td>\n",
              "      <td>2021</td>\n",
              "      <td>2</td>\n",
              "      <td>28</td>\n",
              "      <td>femenino</td>\n",
              "      <td>25</td>\n",
              "      <td>unión libre</td>\n",
              "      <td>hogar</td>\n",
              "      <td>secundaria</td>\n",
              "      <td>ciudad de méxico</td>\n",
              "      <td>coyoacán</td>\n",
              "      <td>adolfo ruiz cortines</td>\n",
              "      <td>4630</td>\n",
              "      <td>asesoría</td>\n",
              "      <td>jurídico</td>\n",
              "      <td>penal</td>\n",
              "      <td>delitos contra la vida y la integridad corporal</td>\n",
              "      <td>lesiones</td>\n",
              "    </tr>\n",
              "    <tr>\n",
              "      <th>624846</th>\n",
              "      <td>871728</td>\n",
              "      <td>2021-02-28</td>\n",
              "      <td>2021</td>\n",
              "      <td>2</td>\n",
              "      <td>28</td>\n",
              "      <td>masculino</td>\n",
              "      <td>53</td>\n",
              "      <td>soltero (a)</td>\n",
              "      <td>trabajo independiente</td>\n",
              "      <td>secundaria</td>\n",
              "      <td>ciudad de méxico</td>\n",
              "      <td>iztapalapa</td>\n",
              "      <td>unidad ejército constitucionalista</td>\n",
              "      <td>9220</td>\n",
              "      <td>asesoría</td>\n",
              "      <td>jurídico</td>\n",
              "      <td>penal</td>\n",
              "      <td>delitos contra la integridad familiar</td>\n",
              "      <td>violencia familiar</td>\n",
              "    </tr>\n",
              "  </tbody>\n",
              "</table>\n",
              "<p>98343 rows × 19 columns</p>\n",
              "</div>"
            ],
            "text/plain": [
              "         folio  ...     llamada_detalles\n",
              "1         3013  ...         abuso sexual\n",
              "2         3014  ...   violencia familiar\n",
              "6         3022  ...   violencia familiar\n",
              "8         3024  ...   abuso de confianza\n",
              "10        3029  ...             lesiones\n",
              "...        ...  ...                  ...\n",
              "624831  871713  ...  daño a la propiedad\n",
              "624834  871716  ...    enfrentar ruptura\n",
              "624836  871718  ...   violencia familiar\n",
              "624837  871719  ...             lesiones\n",
              "624846  871728  ...   violencia familiar\n",
              "\n",
              "[98343 rows x 19 columns]"
            ]
          },
          "metadata": {
            "tags": []
          },
          "execution_count": 32
        }
      ]
    },
    {
      "cell_type": "code",
      "metadata": {
        "id": "c9tVSnPhnqNY"
      },
      "source": [
        "#Mantenemos todos los registros resultantes al razon_llamada_gral = 'violencia' \r\n",
        "df_llamadas_cdmx_filtrado_violencia = df_llamadas_cdmx_final[df_llamadas_cdmx_final.razon_llamada_gral.str.contains('violencia')]"
      ],
      "execution_count": null,
      "outputs": []
    },
    {
      "cell_type": "code",
      "metadata": {
        "colab": {
          "base_uri": "https://localhost:8080/"
        },
        "id": "ff-9XhO-oAPi",
        "outputId": "c7ca63c8-8c33-4219-f46e-ce0de5b269c6"
      },
      "source": [
        "#Tamaño del dataframe\r\n",
        "df_llamadas_cdmx_filtrado_violencia.shape"
      ],
      "execution_count": null,
      "outputs": [
        {
          "output_type": "execute_result",
          "data": {
            "text/plain": [
              "(25231, 19)"
            ]
          },
          "metadata": {
            "tags": []
          },
          "execution_count": 34
        }
      ]
    },
    {
      "cell_type": "code",
      "metadata": {
        "id": "K8NjqVqEn4pt"
      },
      "source": [
        "# Realizamos el segundo filtrado de llamadas generales para delimitarlo a la violencia física y del hogar mediante palabras clave\r\n",
        "# Obtenemos el dataframe filtrado general que solamente incluye llamadas relacionadas con violencia  \r\n",
        "df_llamadas_cdmx_filtrado_gral = df_llamadas_cdmx_filtrado_gral[df_llamadas_cdmx_filtrado_gral.razon_llamada_especifica.str.contains('integridad | libertad | seguridad | violencia')]"
      ],
      "execution_count": null,
      "outputs": []
    },
    {
      "cell_type": "code",
      "metadata": {
        "colab": {
          "base_uri": "https://localhost:8080/"
        },
        "id": "Rbtx6-ntr1zW",
        "outputId": "9b9e609c-ab61-4cc1-d589-5903907c6266"
      },
      "source": [
        "df_llamadas_cdmx_filtrado_gral.shape"
      ],
      "execution_count": null,
      "outputs": [
        {
          "output_type": "execute_result",
          "data": {
            "text/plain": [
              "(40503, 19)"
            ]
          },
          "metadata": {
            "tags": []
          },
          "execution_count": 36
        }
      ]
    },
    {
      "cell_type": "code",
      "metadata": {
        "colab": {
          "base_uri": "https://localhost:8080/",
          "height": 268
        },
        "id": "XGyIgU6b_MuW",
        "outputId": "a43e438d-f76b-42b4-dcb3-8bc0b072f3db"
      },
      "source": [
        "# Para tener el dataframe conpleto es necesario unir los dataframes de  df_llamadas_cdmx_filtrado_gral y df_llamadas_cdmx_filtrado_violencia\r\n",
        "# ¡Listo! Tenemos el dataframe que vamos a utilizar para analizar \r\n",
        "df_llamadas_violencia_cdmx = pd.concat([df_llamadas_cdmx_filtrado_gral, df_llamadas_cdmx_filtrado_violencia], axis=0)\r\n",
        "df_llamadas_violencia_cdmx.tail(3)"
      ],
      "execution_count": null,
      "outputs": [
        {
          "output_type": "execute_result",
          "data": {
            "text/html": [
              "<div>\n",
              "<style scoped>\n",
              "    .dataframe tbody tr th:only-of-type {\n",
              "        vertical-align: middle;\n",
              "    }\n",
              "\n",
              "    .dataframe tbody tr th {\n",
              "        vertical-align: top;\n",
              "    }\n",
              "\n",
              "    .dataframe thead th {\n",
              "        text-align: right;\n",
              "    }\n",
              "</style>\n",
              "<table border=\"1\" class=\"dataframe\">\n",
              "  <thead>\n",
              "    <tr style=\"text-align: right;\">\n",
              "      <th></th>\n",
              "      <th>folio</th>\n",
              "      <th>fecha_alta</th>\n",
              "      <th>año_alta</th>\n",
              "      <th>mes_alta</th>\n",
              "      <th>dia_alta</th>\n",
              "      <th>sexo</th>\n",
              "      <th>edad</th>\n",
              "      <th>estado_civil</th>\n",
              "      <th>ocupacion</th>\n",
              "      <th>escolaridad</th>\n",
              "      <th>estado</th>\n",
              "      <th>municipio</th>\n",
              "      <th>colonia</th>\n",
              "      <th>cp</th>\n",
              "      <th>plataforma</th>\n",
              "      <th>servicio</th>\n",
              "      <th>razon_llamada_gral</th>\n",
              "      <th>razon_llamada_especifica</th>\n",
              "      <th>llamada_detalles</th>\n",
              "    </tr>\n",
              "  </thead>\n",
              "  <tbody>\n",
              "    <tr>\n",
              "      <th>624832</th>\n",
              "      <td>871714</td>\n",
              "      <td>2021-02-28</td>\n",
              "      <td>2021</td>\n",
              "      <td>2</td>\n",
              "      <td>28</td>\n",
              "      <td>femenino</td>\n",
              "      <td>18</td>\n",
              "      <td>soltero (a)</td>\n",
              "      <td>estudiante</td>\n",
              "      <td>bachillerato</td>\n",
              "      <td>ciudad de méxico</td>\n",
              "      <td>tlalpan</td>\n",
              "      <td>viveros coatectlán</td>\n",
              "      <td>14479</td>\n",
              "      <td>asesoría</td>\n",
              "      <td>psicológico</td>\n",
              "      <td>violencia</td>\n",
              "      <td>otra</td>\n",
              "      <td>solicitud de servicios de apoyo</td>\n",
              "    </tr>\n",
              "    <tr>\n",
              "      <th>624842</th>\n",
              "      <td>871724</td>\n",
              "      <td>2021-02-28</td>\n",
              "      <td>2021</td>\n",
              "      <td>2</td>\n",
              "      <td>28</td>\n",
              "      <td>femenino</td>\n",
              "      <td>53</td>\n",
              "      <td>soltero (a)</td>\n",
              "      <td>comerciante</td>\n",
              "      <td>bachillerato</td>\n",
              "      <td>ciudad de méxico</td>\n",
              "      <td>álvaro obregón</td>\n",
              "      <td>olivar del conde 1a sección</td>\n",
              "      <td>1400</td>\n",
              "      <td>asesoría</td>\n",
              "      <td>psicológico</td>\n",
              "      <td>violencia</td>\n",
              "      <td>de género</td>\n",
              "      <td>familiar</td>\n",
              "    </tr>\n",
              "    <tr>\n",
              "      <th>624843</th>\n",
              "      <td>871725</td>\n",
              "      <td>2021-02-28</td>\n",
              "      <td>2021</td>\n",
              "      <td>2</td>\n",
              "      <td>28</td>\n",
              "      <td>femenino</td>\n",
              "      <td>32</td>\n",
              "      <td>casado (a)</td>\n",
              "      <td>empleado (a)</td>\n",
              "      <td>bachillerato</td>\n",
              "      <td>ciudad de méxico</td>\n",
              "      <td>tlalpan</td>\n",
              "      <td>delegación política tlalpan</td>\n",
              "      <td>14009</td>\n",
              "      <td>asesoría</td>\n",
              "      <td>psicológico</td>\n",
              "      <td>violencia</td>\n",
              "      <td>otra</td>\n",
              "      <td>solicitud de servicios de apoyo</td>\n",
              "    </tr>\n",
              "  </tbody>\n",
              "</table>\n",
              "</div>"
            ],
            "text/plain": [
              "         folio  ...                 llamada_detalles\n",
              "624832  871714  ...  solicitud de servicios de apoyo\n",
              "624842  871724  ...                         familiar\n",
              "624843  871725  ...  solicitud de servicios de apoyo\n",
              "\n",
              "[3 rows x 19 columns]"
            ]
          },
          "metadata": {
            "tags": []
          },
          "execution_count": 37
        }
      ]
    },
    {
      "cell_type": "code",
      "metadata": {
        "colab": {
          "base_uri": "https://localhost:8080/"
        },
        "id": "D_B_oOhNYtfN",
        "outputId": "36fa6617-2c61-4880-83fe-ed4f5bef938b"
      },
      "source": [
        "#El tamaño de este dataframe es \r\n",
        "df_llamadas_violencia_cdmx.shape"
      ],
      "execution_count": null,
      "outputs": [
        {
          "output_type": "execute_result",
          "data": {
            "text/plain": [
              "(65734, 19)"
            ]
          },
          "metadata": {
            "tags": []
          },
          "execution_count": 38
        }
      ]
    },
    {
      "cell_type": "markdown",
      "metadata": {
        "id": "f-CFztboAGyo"
      },
      "source": [
        "### **Analisis Exploratorio de datos.**\r\n",
        "Ya tenemos la base de datos limpia y con las columnas deseadas, por lo que es momento de obtener un análisis estadístico y realizar agrupaciones. "
      ]
    },
    {
      "cell_type": "code",
      "metadata": {
        "colab": {
          "base_uri": "https://localhost:8080/"
        },
        "id": "r71g2PeukphU",
        "outputId": "5843324f-41f2-46a3-c4bc-663b4625c69a"
      },
      "source": [
        "#Agrupando los datos de acuerdo al sexo de la persona que realizó la llamada y contando el número de llamadas. \r\n",
        "#Con el fin de observar los porcentajes de mujeres y hombres que realizaron la llamada con tema de violencia. \r\n",
        "\r\n",
        "df_llamadas_violencia_cdmx.groupby(['sexo']).size() #Es notorio que el mayor porcentaje lo representan las mujeres "
      ],
      "execution_count": null,
      "outputs": [
        {
          "output_type": "execute_result",
          "data": {
            "text/plain": [
              "sexo\n",
              "femenino     51582\n",
              "masculino    14152\n",
              "dtype: int64"
            ]
          },
          "metadata": {
            "tags": []
          },
          "execution_count": 40
        }
      ]
    },
    {
      "cell_type": "code",
      "metadata": {
        "colab": {
          "base_uri": "https://localhost:8080/"
        },
        "id": "sRZeOCff0qO9",
        "outputId": "8253c95c-d090-4929-fa71-67167cc3d208"
      },
      "source": [
        "df_llamadas_violencia_cdmx.edad.describe() #La columna numérica de la cual podemos obtener más datos es edad "
      ],
      "execution_count": null,
      "outputs": [
        {
          "output_type": "execute_result",
          "data": {
            "text/plain": [
              "count    65734.000000\n",
              "mean        41.462896\n",
              "std         13.128671\n",
              "min          2.000000\n",
              "25%         32.000000\n",
              "50%         40.000000\n",
              "75%         50.000000\n",
              "max         99.000000\n",
              "Name: edad, dtype: float64"
            ]
          },
          "metadata": {
            "tags": []
          },
          "execution_count": 41
        }
      ]
    },
    {
      "cell_type": "code",
      "metadata": {
        "id": "QVJKd0gmxBOb"
      },
      "source": [
        "# Agrupamos los datos estadísticos de promedio, desviación estándar, máximo, mínimo y los cuantiles de acuerdo a la edad.\r\n",
        "estadistica_edad = df_llamadas_violencia_cdmx.groupby(['sexo']).edad.describe()"
      ],
      "execution_count": null,
      "outputs": []
    },
    {
      "cell_type": "code",
      "metadata": {
        "colab": {
          "base_uri": "https://localhost:8080/",
          "height": 143
        },
        "id": "_4aIxW5d2ceS",
        "outputId": "62c36fe0-041a-4488-ebea-42c3cd259817"
      },
      "source": [
        "#Eliminamos la columna count ya que anteriormente ya obtuvimos dicha información con .size()\r\n",
        "estadistica_edad = estadistica_edad.drop(['count'],axis=1)\r\n",
        "estadistica_edad"
      ],
      "execution_count": null,
      "outputs": [
        {
          "output_type": "execute_result",
          "data": {
            "text/html": [
              "<div>\n",
              "<style scoped>\n",
              "    .dataframe tbody tr th:only-of-type {\n",
              "        vertical-align: middle;\n",
              "    }\n",
              "\n",
              "    .dataframe tbody tr th {\n",
              "        vertical-align: top;\n",
              "    }\n",
              "\n",
              "    .dataframe thead th {\n",
              "        text-align: right;\n",
              "    }\n",
              "</style>\n",
              "<table border=\"1\" class=\"dataframe\">\n",
              "  <thead>\n",
              "    <tr style=\"text-align: right;\">\n",
              "      <th></th>\n",
              "      <th>mean</th>\n",
              "      <th>std</th>\n",
              "      <th>min</th>\n",
              "      <th>25%</th>\n",
              "      <th>50%</th>\n",
              "      <th>75%</th>\n",
              "      <th>max</th>\n",
              "    </tr>\n",
              "    <tr>\n",
              "      <th>sexo</th>\n",
              "      <th></th>\n",
              "      <th></th>\n",
              "      <th></th>\n",
              "      <th></th>\n",
              "      <th></th>\n",
              "      <th></th>\n",
              "      <th></th>\n",
              "    </tr>\n",
              "  </thead>\n",
              "  <tbody>\n",
              "    <tr>\n",
              "      <th>femenino</th>\n",
              "      <td>41.477453</td>\n",
              "      <td>13.131449</td>\n",
              "      <td>3.0</td>\n",
              "      <td>32.0</td>\n",
              "      <td>40.0</td>\n",
              "      <td>50.0</td>\n",
              "      <td>96.0</td>\n",
              "    </tr>\n",
              "    <tr>\n",
              "      <th>masculino</th>\n",
              "      <td>41.409836</td>\n",
              "      <td>13.118866</td>\n",
              "      <td>2.0</td>\n",
              "      <td>32.0</td>\n",
              "      <td>40.0</td>\n",
              "      <td>50.0</td>\n",
              "      <td>99.0</td>\n",
              "    </tr>\n",
              "  </tbody>\n",
              "</table>\n",
              "</div>"
            ],
            "text/plain": [
              "                mean        std  min   25%   50%   75%   max\n",
              "sexo                                                        \n",
              "femenino   41.477453  13.131449  3.0  32.0  40.0  50.0  96.0\n",
              "masculino  41.409836  13.118866  2.0  32.0  40.0  50.0  99.0"
            ]
          },
          "metadata": {
            "tags": []
          },
          "execution_count": 44
        }
      ]
    },
    {
      "cell_type": "markdown",
      "metadata": {
        "id": "5LFUXqyC4H2m"
      },
      "source": [
        "De lo anterior observamos que el promedio de edad de las personas que realizaron las llamadas es ***41 años*** para ambos sexos, con una desviación estándar de ***13 años*** y con los cuantiles observamos los rangos de edades en las que caen el 25%,50% y 75% de los datos."
      ]
    },
    {
      "cell_type": "code",
      "metadata": {
        "colab": {
          "base_uri": "https://localhost:8080/",
          "height": 206
        },
        "id": "ABMQo-137dHV",
        "outputId": "fe7ba4f2-c887-49f8-dc6e-e0d8e467262c"
      },
      "source": [
        "df_razon_llamada_gral_por_sexo = df_llamadas_violencia_cdmx.groupby(['sexo','razon_llamada_gral'])[[\"folio\"]].agg(\"count\")\r\n",
        "df_razon_llamada_gral_por_sexo.columns = [\"conteo_llamada\"]\r\n",
        "df_razon_llamada_gral_por_sexo"
      ],
      "execution_count": null,
      "outputs": [
        {
          "output_type": "execute_result",
          "data": {
            "text/html": [
              "<div>\n",
              "<style scoped>\n",
              "    .dataframe tbody tr th:only-of-type {\n",
              "        vertical-align: middle;\n",
              "    }\n",
              "\n",
              "    .dataframe tbody tr th {\n",
              "        vertical-align: top;\n",
              "    }\n",
              "\n",
              "    .dataframe thead th {\n",
              "        text-align: right;\n",
              "    }\n",
              "</style>\n",
              "<table border=\"1\" class=\"dataframe\">\n",
              "  <thead>\n",
              "    <tr style=\"text-align: right;\">\n",
              "      <th></th>\n",
              "      <th></th>\n",
              "      <th>conteo_llamada</th>\n",
              "    </tr>\n",
              "    <tr>\n",
              "      <th>sexo</th>\n",
              "      <th>razon_llamada_gral</th>\n",
              "      <th></th>\n",
              "    </tr>\n",
              "  </thead>\n",
              "  <tbody>\n",
              "    <tr>\n",
              "      <th rowspan=\"2\" valign=\"top\">femenino</th>\n",
              "      <th>penal</th>\n",
              "      <td>29781</td>\n",
              "    </tr>\n",
              "    <tr>\n",
              "      <th>violencia</th>\n",
              "      <td>21801</td>\n",
              "    </tr>\n",
              "    <tr>\n",
              "      <th rowspan=\"2\" valign=\"top\">masculino</th>\n",
              "      <th>penal</th>\n",
              "      <td>10722</td>\n",
              "    </tr>\n",
              "    <tr>\n",
              "      <th>violencia</th>\n",
              "      <td>3430</td>\n",
              "    </tr>\n",
              "  </tbody>\n",
              "</table>\n",
              "</div>"
            ],
            "text/plain": [
              "                              conteo_llamada\n",
              "sexo      razon_llamada_gral                \n",
              "femenino  penal                        29781\n",
              "          violencia                    21801\n",
              "masculino penal                        10722\n",
              "          violencia                     3430"
            ]
          },
          "metadata": {
            "tags": []
          },
          "execution_count": 45
        }
      ]
    },
    {
      "cell_type": "code",
      "metadata": {
        "colab": {
          "base_uri": "https://localhost:8080/"
        },
        "id": "ZJOlNw0-5whF",
        "outputId": "6a5c0e49-cfb9-4b72-b61c-68666da64129"
      },
      "source": [
        "razon_especifica_llamada = df_llamadas_violencia_cdmx.groupby(['sexo','razon_llamada_especifica']).size()\r\n",
        "razon_especifica_llamada"
      ],
      "execution_count": null,
      "outputs": [
        {
          "output_type": "execute_result",
          "data": {
            "text/plain": [
              "sexo       razon_llamada_especifica                                                             \n",
              "femenino   de género                                                                                15039\n",
              "           delitos contra la integridad familiar                                                    16270\n",
              "           delitos contra la libertad personal                                                       1977\n",
              "           delitos contra la libertad y la seguridad sexuales y el normal desarrollo psicosexual     2988\n",
              "           delitos contra la paz, la seguridad de las personas y la inviolabilidad del domicilio     4447\n",
              "           delitos contra la seguridad colectiva                                                       22\n",
              "           delitos contra la seguridad de la subsistencia familiar                                    444\n",
              "           delitos contra la seguridad de las instituciones del distrito federal                        5\n",
              "           delitos contra la vida y la integridad corporal                                           3628\n",
              "           discriminación                                                                             120\n",
              "           infantil                                                                                  2819\n",
              "           otra                                                                                      3823\n",
              "masculino  de género                                                                                 1677\n",
              "           delitos contra la integridad familiar                                                     4028\n",
              "           delitos contra la libertad personal                                                        931\n",
              "           delitos contra la libertad y la seguridad sexuales y el normal desarrollo psicosexual     1142\n",
              "           delitos contra la paz, la seguridad de las personas y la inviolabilidad del domicilio     2401\n",
              "           delitos contra la seguridad colectiva                                                       24\n",
              "           delitos contra la seguridad de la subsistencia familiar                                     99\n",
              "           delitos contra la vida y la integridad corporal                                           2097\n",
              "           discriminación                                                                              44\n",
              "           infantil                                                                                   763\n",
              "           otra                                                                                       946\n",
              "dtype: int64"
            ]
          },
          "metadata": {
            "tags": []
          },
          "execution_count": 46
        }
      ]
    },
    {
      "cell_type": "code",
      "metadata": {
        "colab": {
          "base_uri": "https://localhost:8080/",
          "height": 457
        },
        "id": "DDxtFrxQ-yln",
        "outputId": "a5de7794-2af2-4090-914f-89140bb968e4"
      },
      "source": [
        "df_llamadas_2016_2021_por_sexo = df_llamadas_violencia_cdmx.groupby([df_llamadas_violencia_cdmx['fecha_alta'].dt.year,'sexo'])[[\"folio\"]].agg(\"count\")\r\n",
        "#renombro a la agrupación como conteo_llamadas:\r\n",
        "df_llamadas_2016_2021_por_sexo.columns = [\"conteo_llamadas\"]\r\n",
        "df_llamadas_2016_2021_por_sexo"
      ],
      "execution_count": null,
      "outputs": [
        {
          "output_type": "execute_result",
          "data": {
            "text/html": [
              "<div>\n",
              "<style scoped>\n",
              "    .dataframe tbody tr th:only-of-type {\n",
              "        vertical-align: middle;\n",
              "    }\n",
              "\n",
              "    .dataframe tbody tr th {\n",
              "        vertical-align: top;\n",
              "    }\n",
              "\n",
              "    .dataframe thead th {\n",
              "        text-align: right;\n",
              "    }\n",
              "</style>\n",
              "<table border=\"1\" class=\"dataframe\">\n",
              "  <thead>\n",
              "    <tr style=\"text-align: right;\">\n",
              "      <th></th>\n",
              "      <th></th>\n",
              "      <th>conteo_llamadas</th>\n",
              "    </tr>\n",
              "    <tr>\n",
              "      <th>fecha_alta</th>\n",
              "      <th>sexo</th>\n",
              "      <th></th>\n",
              "    </tr>\n",
              "  </thead>\n",
              "  <tbody>\n",
              "    <tr>\n",
              "      <th rowspan=\"2\" valign=\"top\">2016</th>\n",
              "      <th>femenino</th>\n",
              "      <td>645</td>\n",
              "    </tr>\n",
              "    <tr>\n",
              "      <th>masculino</th>\n",
              "      <td>234</td>\n",
              "    </tr>\n",
              "    <tr>\n",
              "      <th rowspan=\"2\" valign=\"top\">2017</th>\n",
              "      <th>femenino</th>\n",
              "      <td>3525</td>\n",
              "    </tr>\n",
              "    <tr>\n",
              "      <th>masculino</th>\n",
              "      <td>1141</td>\n",
              "    </tr>\n",
              "    <tr>\n",
              "      <th rowspan=\"2\" valign=\"top\">2018</th>\n",
              "      <th>femenino</th>\n",
              "      <td>8142</td>\n",
              "    </tr>\n",
              "    <tr>\n",
              "      <th>masculino</th>\n",
              "      <td>2657</td>\n",
              "    </tr>\n",
              "    <tr>\n",
              "      <th rowspan=\"2\" valign=\"top\">2019</th>\n",
              "      <th>femenino</th>\n",
              "      <td>11408</td>\n",
              "    </tr>\n",
              "    <tr>\n",
              "      <th>masculino</th>\n",
              "      <td>4025</td>\n",
              "    </tr>\n",
              "    <tr>\n",
              "      <th rowspan=\"2\" valign=\"top\">2020</th>\n",
              "      <th>femenino</th>\n",
              "      <td>24500</td>\n",
              "    </tr>\n",
              "    <tr>\n",
              "      <th>masculino</th>\n",
              "      <td>5356</td>\n",
              "    </tr>\n",
              "    <tr>\n",
              "      <th rowspan=\"2\" valign=\"top\">2021</th>\n",
              "      <th>femenino</th>\n",
              "      <td>3362</td>\n",
              "    </tr>\n",
              "    <tr>\n",
              "      <th>masculino</th>\n",
              "      <td>739</td>\n",
              "    </tr>\n",
              "  </tbody>\n",
              "</table>\n",
              "</div>"
            ],
            "text/plain": [
              "                      conteo_llamadas\n",
              "fecha_alta sexo                      \n",
              "2016       femenino               645\n",
              "           masculino              234\n",
              "2017       femenino              3525\n",
              "           masculino             1141\n",
              "2018       femenino              8142\n",
              "           masculino             2657\n",
              "2019       femenino             11408\n",
              "           masculino             4025\n",
              "2020       femenino             24500\n",
              "           masculino             5356\n",
              "2021       femenino              3362\n",
              "           masculino              739"
            ]
          },
          "metadata": {
            "tags": []
          },
          "execution_count": 47
        }
      ]
    },
    {
      "cell_type": "markdown",
      "metadata": {
        "id": "P-XTUvb7M94J"
      },
      "source": [
        "#### **Llamadas realizadas por mujeres en temas de violencia.** "
      ]
    },
    {
      "cell_type": "code",
      "metadata": {
        "id": "Aw3U1MQaLcJx"
      },
      "source": [
        "df_llamadas_mujeres_violencia =  df_llamadas_violencia_cdmx[df_llamadas_violencia_cdmx.sexo.str.contains('femenino')]"
      ],
      "execution_count": null,
      "outputs": []
    },
    {
      "cell_type": "code",
      "metadata": {
        "colab": {
          "base_uri": "https://localhost:8080/"
        },
        "id": "JBtPQc5yNYrL",
        "outputId": "df16d90e-84a3-466e-8880-052db52f7683"
      },
      "source": [
        "llamadas_mujeres_razon_especifica = df_llamadas_mujeres_violencia.groupby(['razon_llamada_especifica']).size().sort_values(ascending= False)\r\n",
        "llamadas_mujeres_razon_especifica "
      ],
      "execution_count": null,
      "outputs": [
        {
          "output_type": "execute_result",
          "data": {
            "text/plain": [
              "razon_llamada_especifica\n",
              "delitos contra la integridad familiar                                                    16270\n",
              "de género                                                                                15039\n",
              "delitos contra la paz, la seguridad de las personas y la inviolabilidad del domicilio     4447\n",
              "otra                                                                                      3823\n",
              "delitos contra la vida y la integridad corporal                                           3628\n",
              "delitos contra la libertad y la seguridad sexuales y el normal desarrollo psicosexual     2988\n",
              "infantil                                                                                  2819\n",
              "delitos contra la libertad personal                                                       1977\n",
              "delitos contra la seguridad de la subsistencia familiar                                    444\n",
              "discriminación                                                                             120\n",
              "delitos contra la seguridad colectiva                                                       22\n",
              "delitos contra la seguridad de las instituciones del distrito federal                        5\n",
              "dtype: int64"
            ]
          },
          "metadata": {
            "tags": []
          },
          "execution_count": 49
        }
      ]
    },
    {
      "cell_type": "code",
      "metadata": {
        "colab": {
          "base_uri": "https://localhost:8080/"
        },
        "id": "EtVASJ4LQCHv",
        "outputId": "05adec77-3d7d-4925-e7f2-e339be744336"
      },
      "source": [
        "df_llamadas_mujeres_violencia.groupby(['edad']).size().sort_values(ascending= False)"
      ],
      "execution_count": null,
      "outputs": [
        {
          "output_type": "execute_result",
          "data": {
            "text/plain": [
              "edad\n",
              "45    2683\n",
              "40    2221\n",
              "35    2191\n",
              "50    1653\n",
              "30    1621\n",
              "      ... \n",
              "91       3\n",
              "93       2\n",
              "5        1\n",
              "4        1\n",
              "96       1\n",
              "Length: 91, dtype: int64"
            ]
          },
          "metadata": {
            "tags": []
          },
          "execution_count": 50
        }
      ]
    },
    {
      "cell_type": "markdown",
      "metadata": {
        "id": "YuGhWSlHYigM"
      },
      "source": [
        "#### **Análisis de los datos respecto a la situación social: estado_civil \tocupacion y\tescolaridad.**"
      ]
    },
    {
      "cell_type": "code",
      "metadata": {
        "colab": {
          "base_uri": "https://localhost:8080/"
        },
        "id": "bzjWIX6yYblx",
        "outputId": "9f14c12b-e388-4697-889a-12594f0bfd0f"
      },
      "source": [
        "#Escolaridad \r\n",
        "df_llamadas_escolaridad = df_llamadas_violencia_cdmx.groupby(['sexo','escolaridad'])[['folio']].agg(\"count\")\r\n",
        "df_llamadas_escolaridad.columns = [\"conteo_llamadas\"]\r\n",
        "print(df_llamadas_escolaridad)\r\n",
        "\r\n",
        "#Ocupación\r\n",
        "df_llamadas_ocupacion = df_llamadas_violencia_cdmx.groupby(['sexo','ocupacion'])[['folio']].agg(\"count\")\r\n",
        "df_llamadas_ocupacion.columns = [\"conteo_llamadas\"]\r\n",
        "print(df_llamadas_ocupacion)\r\n",
        "\r\n",
        "#Estado Civil\r\n",
        "df_llamadas_estado_civil = df_llamadas_violencia_cdmx.groupby(['sexo','estado_civil'])[['folio']].agg(\"count\")\r\n",
        "df_llamadas_estado_civil.columns = [\"conteo_llamadas\"]\r\n",
        "print(df_llamadas_estado_civil)"
      ],
      "execution_count": null,
      "outputs": [
        {
          "output_type": "stream",
          "text": [
            "                           conteo_llamadas\n",
            "sexo      escolaridad                     \n",
            "femenino  bachillerato               20927\n",
            "          doctorado                    108\n",
            "          licenciatura                9026\n",
            "          maestria                     723\n",
            "          primaria                    3951\n",
            "          secundaria                 16043\n",
            "          sin escolaridad              804\n",
            "masculino bachillerato                5703\n",
            "          doctorado                     44\n",
            "          licenciatura                2855\n",
            "          maestria                     206\n",
            "          primaria                    1015\n",
            "          secundaria                  4143\n",
            "          sin escolaridad              186\n",
            "                                          conteo_llamadas\n",
            "sexo      ocupacion                                      \n",
            "femenino  comerciante                                3327\n",
            "          desempleado (a)                            2204\n",
            "          empleada del hogar(remunerado)              648\n",
            "          empleado (a)                              22008\n",
            "          empresario (a)                               78\n",
            "          estudiante                                 1904\n",
            "          hogar                                     17629\n",
            "          otro                                         17\n",
            "          pensionado (a)                             1168\n",
            "          trabajador (a) de gobierno                  912\n",
            "          trabajo independiente                      1687\n",
            "masculino comerciante                                1255\n",
            "          desempleado (a)                            1000\n",
            "          empleada del hogar(remunerado)               26\n",
            "          empleado (a)                               8450\n",
            "          empresario (a)                               64\n",
            "          estudiante                                  641\n",
            "          hogar                                       581\n",
            "          otro                                          6\n",
            "          pensionado (a)                              601\n",
            "          trabajador (a) de gobierno                  343\n",
            "          trabajo independiente                      1185\n",
            "                        conteo_llamadas\n",
            "sexo      estado_civil                 \n",
            "femenino  casado (a)              15725\n",
            "          concubinato               578\n",
            "          soltero (a)             29004\n",
            "          unión libre              6275\n",
            "masculino casado (a)               4971\n",
            "          concubinato               133\n",
            "          soltero (a)              7414\n",
            "          unión libre              1634\n"
          ],
          "name": "stdout"
        }
      ]
    },
    {
      "cell_type": "code",
      "metadata": {
        "colab": {
          "base_uri": "https://localhost:8080/",
          "height": 300
        },
        "id": "Gut1eGyod70v",
        "outputId": "aa60de49-6a48-4f63-b971-e01fd1037fbd"
      },
      "source": [
        "#Se muestra el estado civil de las mujeres que realizaron las llamadas así como ocupación y escolaridad. Nota: no se visualizan todos ya que es\r\n",
        "#la misma información que arriba.\r\n",
        "df_llamadas_mujeres_estado_civil =  df_llamadas_estado_civil.loc[\"femenino\"]\r\n",
        "df_llamadas_mujeres_estado_civil.sort_values(by=\"conteo_llamadas\",ascending =False)\r\n",
        "\r\n",
        "df_llamadas_mujeres_ocupacion =  df_llamadas_ocupacion.loc[\"femenino\"]\r\n",
        "df_llamadas_mujeres_ocupacion.sort_values(by=\"conteo_llamadas\",ascending =False)\r\n",
        "\r\n",
        "df_llamadas_mujeres_escolaridad =  df_llamadas_escolaridad.loc[\"femenino\"]\r\n",
        "df_llamadas_mujeres_escolaridad.sort_values(by=\"conteo_llamadas\",ascending =False)"
      ],
      "execution_count": null,
      "outputs": [
        {
          "output_type": "execute_result",
          "data": {
            "text/html": [
              "<div>\n",
              "<style scoped>\n",
              "    .dataframe tbody tr th:only-of-type {\n",
              "        vertical-align: middle;\n",
              "    }\n",
              "\n",
              "    .dataframe tbody tr th {\n",
              "        vertical-align: top;\n",
              "    }\n",
              "\n",
              "    .dataframe thead th {\n",
              "        text-align: right;\n",
              "    }\n",
              "</style>\n",
              "<table border=\"1\" class=\"dataframe\">\n",
              "  <thead>\n",
              "    <tr style=\"text-align: right;\">\n",
              "      <th></th>\n",
              "      <th>conteo_llamadas</th>\n",
              "    </tr>\n",
              "    <tr>\n",
              "      <th>escolaridad</th>\n",
              "      <th></th>\n",
              "    </tr>\n",
              "  </thead>\n",
              "  <tbody>\n",
              "    <tr>\n",
              "      <th>bachillerato</th>\n",
              "      <td>20927</td>\n",
              "    </tr>\n",
              "    <tr>\n",
              "      <th>secundaria</th>\n",
              "      <td>16043</td>\n",
              "    </tr>\n",
              "    <tr>\n",
              "      <th>licenciatura</th>\n",
              "      <td>9026</td>\n",
              "    </tr>\n",
              "    <tr>\n",
              "      <th>primaria</th>\n",
              "      <td>3951</td>\n",
              "    </tr>\n",
              "    <tr>\n",
              "      <th>sin escolaridad</th>\n",
              "      <td>804</td>\n",
              "    </tr>\n",
              "    <tr>\n",
              "      <th>maestria</th>\n",
              "      <td>723</td>\n",
              "    </tr>\n",
              "    <tr>\n",
              "      <th>doctorado</th>\n",
              "      <td>108</td>\n",
              "    </tr>\n",
              "  </tbody>\n",
              "</table>\n",
              "</div>"
            ],
            "text/plain": [
              "                 conteo_llamadas\n",
              "escolaridad                     \n",
              "bachillerato               20927\n",
              "secundaria                 16043\n",
              "licenciatura                9026\n",
              "primaria                    3951\n",
              "sin escolaridad              804\n",
              "maestria                     723\n",
              "doctorado                    108"
            ]
          },
          "metadata": {
            "tags": []
          },
          "execution_count": 53
        }
      ]
    },
    {
      "cell_type": "markdown",
      "metadata": {
        "id": "feR55_8nYOTO"
      },
      "source": [
        "**¿Cómo se ha reflejado la violencia de género en los últimos años?**<br>\r\n",
        "Durante la pandemia el número de llamadas por violencia llegó a su máximo con 24,500 llamadas en 2020, las razones de la llamada más frecuentes fueron: delitos contra la integridad familiar, violencia de género y contra la paz y seguridad.\r\n",
        "\r\n",
        "**¿Cómo se relaciona la situación social con la violencia de género?**<br>\r\n",
        "La escolaridad de las mujeres que realizaron las llamadas era : bachillerato 40.6% , secundaria 31% y 17.5% licenciatura. Sus ocupaciones: empleada 42.7% , ama de casa 34.2%  y comerciante 6.4%:\r\n",
        "El de las víctimas eran solteras 56.2% , casadas 30.5% y en unión libre 12.2%.\r\n"
      ]
    },
    {
      "cell_type": "markdown",
      "metadata": {
        "id": "jvZRV97LRVqQ"
      },
      "source": [
        "\r\n",
        "\r\n",
        "---\r\n",
        "\r\n"
      ]
    },
    {
      "cell_type": "markdown",
      "metadata": {
        "id": "0Vc-MXaNk0hH"
      },
      "source": [
        "### **Limpieza y análisis de `carpetas_investigacion_cdmx_2016_2020.csv `**\r\n",
        "\r\n",
        "Esta base de datos contiene la información actualizada de las carpetas de investigación de la Fiscalía General de Justicia (FGJ) de la Ciudad de México a partir de enero de 2016.\r\n",
        "\r\n",
        "Las variables que contiene esta base son Carpetas de investigación de delitos a nivel de calle de la FGJ por Fiscalía, Agencia, Unidad de Investigación, fecha de apertura de la carpeta de investigación, delito, categoría de delito, calle, colonia, alcaldía, coordenadas, mes y año. Esta información se actualiza mensualmente."
      ]
    },
    {
      "cell_type": "code",
      "metadata": {
        "id": "nEIRP1PXgx3S"
      },
      "source": [
        "#Importando las paqueterías necesarias \r\n",
        "import pandas as pd \r\n",
        "import os \r\n",
        "import numpy as np "
      ],
      "execution_count": null,
      "outputs": []
    },
    {
      "cell_type": "code",
      "metadata": {
        "colab": {
          "base_uri": "https://localhost:8080/",
          "height": 348
        },
        "id": "v8-LeWpMga_E",
        "outputId": "0374e338-61d3-4644-d34e-290fe6220001"
      },
      "source": [
        "#Lectura de .csv\r\n",
        "path_carpetas_investigacion = \"/content/drive/MyDrive/BEDU/Fase 2/Módulo 2 - Python/Datasets/carpetas_investigacion_cdmx_2016_2020.csv\"\r\n",
        "df_carpetas_investigacion_cdmx_16_20 = pd.read_csv(path_carpetas_investigacion,encoding=\"utf-8\")\r\n",
        "df_carpetas_investigacion_cdmx_16_20.head(3)"
      ],
      "execution_count": null,
      "outputs": [
        {
          "output_type": "stream",
          "text": [
            "/usr/local/lib/python3.7/dist-packages/IPython/core/interactiveshell.py:2718: DtypeWarning: Columns (15) have mixed types.Specify dtype option on import or set low_memory=False.\n",
            "  interactivity=interactivity, compiler=compiler, result=result)\n"
          ],
          "name": "stderr"
        },
        {
          "output_type": "execute_result",
          "data": {
            "text/html": [
              "<div>\n",
              "<style scoped>\n",
              "    .dataframe tbody tr th:only-of-type {\n",
              "        vertical-align: middle;\n",
              "    }\n",
              "\n",
              "    .dataframe tbody tr th {\n",
              "        vertical-align: top;\n",
              "    }\n",
              "\n",
              "    .dataframe thead th {\n",
              "        text-align: right;\n",
              "    }\n",
              "</style>\n",
              "<table border=\"1\" class=\"dataframe\">\n",
              "  <thead>\n",
              "    <tr style=\"text-align: right;\">\n",
              "      <th></th>\n",
              "      <th>ao_hechos</th>\n",
              "      <th>mes_hechos</th>\n",
              "      <th>fecha_hechos</th>\n",
              "      <th>ao_inicio</th>\n",
              "      <th>mes_inicio</th>\n",
              "      <th>fecha_inicio</th>\n",
              "      <th>delito</th>\n",
              "      <th>fiscalia</th>\n",
              "      <th>agencia</th>\n",
              "      <th>unidad_investigacion</th>\n",
              "      <th>categoria_delito</th>\n",
              "      <th>calle_hechos</th>\n",
              "      <th>calle_hechos2</th>\n",
              "      <th>colonia_hechos</th>\n",
              "      <th>alcaldia_hechos</th>\n",
              "      <th>competencia</th>\n",
              "      <th>longitud</th>\n",
              "      <th>latitud</th>\n",
              "    </tr>\n",
              "  </thead>\n",
              "  <tbody>\n",
              "    <tr>\n",
              "      <th>0</th>\n",
              "      <td>2016.0</td>\n",
              "      <td>Enero</td>\n",
              "      <td>2016-01-31 22:16:00</td>\n",
              "      <td>2016</td>\n",
              "      <td>Febrero</td>\n",
              "      <td>2016-02-01 00:25:44</td>\n",
              "      <td>DAÑO EN PROPIEDAD AJENA INTENCIONAL</td>\n",
              "      <td>INVESTIGACIÓN EN BENITO JUÁREZ</td>\n",
              "      <td>BJ-2</td>\n",
              "      <td>UI-3CD</td>\n",
              "      <td>DELITO DE BAJO IMPACTO</td>\n",
              "      <td>CALZ. DE TLALPAN</td>\n",
              "      <td>LAGO PTE.</td>\n",
              "      <td>AMÉRICAS UNIDAS</td>\n",
              "      <td>BENITO JUAREZ</td>\n",
              "      <td>NaN</td>\n",
              "      <td>-99.140215</td>\n",
              "      <td>19.380315</td>\n",
              "    </tr>\n",
              "    <tr>\n",
              "      <th>1</th>\n",
              "      <td>2016.0</td>\n",
              "      <td>Enero</td>\n",
              "      <td>2016-01-31 20:50:00</td>\n",
              "      <td>2016</td>\n",
              "      <td>Febrero</td>\n",
              "      <td>2016-02-01 00:52:37</td>\n",
              "      <td>ROBO DE VEHICULO DE SERVICIO PARTICULAR CON VI...</td>\n",
              "      <td>INVESTIGACIÓN PARA LA ATENCIÓN DEL DELITO DE R...</td>\n",
              "      <td>ORIENTEII</td>\n",
              "      <td>UI-3CD</td>\n",
              "      <td>ROBO DE VEHÍCULO CON Y SIN VIOLENCIA</td>\n",
              "      <td>SUR 25 A</td>\n",
              "      <td>GRANJEROS</td>\n",
              "      <td>LOS CIPRESES</td>\n",
              "      <td>IZTAPALAPA</td>\n",
              "      <td>NaN</td>\n",
              "      <td>-99.108403</td>\n",
              "      <td>19.352859</td>\n",
              "    </tr>\n",
              "    <tr>\n",
              "      <th>2</th>\n",
              "      <td>2016.0</td>\n",
              "      <td>Febrero</td>\n",
              "      <td>2016-02-01 00:30:00</td>\n",
              "      <td>2016</td>\n",
              "      <td>Febrero</td>\n",
              "      <td>2016-02-01 01:33:26</td>\n",
              "      <td>NARCOMENUDEO POSESION SIMPLE</td>\n",
              "      <td>INVESTIGACIÓN PARA LA ATENCIÓN DE NIÑOS, NIÑAS...</td>\n",
              "      <td>57</td>\n",
              "      <td>UI-3CD</td>\n",
              "      <td>DELITO DE BAJO IMPACTO</td>\n",
              "      <td>BATALLONES ROJOS</td>\n",
              "      <td>NaN</td>\n",
              "      <td>UNIDAD VICENTE GUERRERO</td>\n",
              "      <td>IZTAPALAPA</td>\n",
              "      <td>NaN</td>\n",
              "      <td>-99.061321</td>\n",
              "      <td>19.356451</td>\n",
              "    </tr>\n",
              "  </tbody>\n",
              "</table>\n",
              "</div>"
            ],
            "text/plain": [
              "   ao_hechos mes_hechos         fecha_hechos  ...  competencia   longitud    latitud\n",
              "0     2016.0      Enero  2016-01-31 22:16:00  ...          NaN -99.140215  19.380315\n",
              "1     2016.0      Enero  2016-01-31 20:50:00  ...          NaN -99.108403  19.352859\n",
              "2     2016.0    Febrero  2016-02-01 00:30:00  ...          NaN -99.061321  19.356451\n",
              "\n",
              "[3 rows x 18 columns]"
            ]
          },
          "metadata": {
            "tags": []
          },
          "execution_count": 7
        }
      ]
    },
    {
      "cell_type": "code",
      "metadata": {
        "colab": {
          "base_uri": "https://localhost:8080/"
        },
        "id": "y2-15JEWhe5i",
        "outputId": "b81a78ba-f992-40f8-dae1-33d2994345cf"
      },
      "source": [
        "#Obtenemos el número de registros y columnas que hay en el dataframe\r\n",
        "df_carpetas_investigacion_cdmx_16_20.shape"
      ],
      "execution_count": null,
      "outputs": [
        {
          "output_type": "execute_result",
          "data": {
            "text/plain": [
              "(1151850, 18)"
            ]
          },
          "metadata": {
            "tags": []
          },
          "execution_count": 8
        }
      ]
    },
    {
      "cell_type": "code",
      "metadata": {
        "colab": {
          "base_uri": "https://localhost:8080/"
        },
        "id": "ne399gBJhmtU",
        "outputId": "eb81eae4-8e59-4e76-dc68-ece317d370a6"
      },
      "source": [
        "#Obtenemos el nombre de las columnas\r\n",
        "df_carpetas_investigacion_cdmx_16_20.columns"
      ],
      "execution_count": null,
      "outputs": [
        {
          "output_type": "execute_result",
          "data": {
            "text/plain": [
              "Index(['ao_hechos', 'mes_hechos', 'fecha_hechos', 'ao_inicio', 'mes_inicio',\n",
              "       'fecha_inicio', 'delito', 'fiscalia', 'agencia', 'unidad_investigacion',\n",
              "       'categoria_delito', 'calle_hechos', 'calle_hechos2', 'colonia_hechos',\n",
              "       'alcaldia_hechos', 'competencia', 'longitud', 'latitud'],\n",
              "      dtype='object')"
            ]
          },
          "metadata": {
            "tags": []
          },
          "execution_count": 9
        }
      ]
    },
    {
      "cell_type": "code",
      "metadata": {
        "colab": {
          "base_uri": "https://localhost:8080/",
          "height": 238
        },
        "id": "aoQYmBB-hwFI",
        "outputId": "83f9fdb7-b3c0-4a7b-a394-98d11501bd10"
      },
      "source": [
        "#Creamos un diccionario con los nuevos nombres de las columnas\r\n",
        "nuevas_columnas = {\r\n",
        "    'ao_hechos' : 'anio_hechos',\r\n",
        "    'ao_inicio' : 'anio_inicio',\r\n",
        "    'calle_hechos2' : 'calle_hechos_2'\r\n",
        "}\r\n",
        "\r\n",
        "#Cambiamos el nombre de las columnas\r\n",
        "df_carpetas_investigacion_cdmx_16_20 = df_carpetas_investigacion_cdmx_16_20.rename(columns=nuevas_columnas)\r\n",
        "df_carpetas_investigacion_cdmx_16_20.head(2)"
      ],
      "execution_count": null,
      "outputs": [
        {
          "output_type": "execute_result",
          "data": {
            "text/html": [
              "<div>\n",
              "<style scoped>\n",
              "    .dataframe tbody tr th:only-of-type {\n",
              "        vertical-align: middle;\n",
              "    }\n",
              "\n",
              "    .dataframe tbody tr th {\n",
              "        vertical-align: top;\n",
              "    }\n",
              "\n",
              "    .dataframe thead th {\n",
              "        text-align: right;\n",
              "    }\n",
              "</style>\n",
              "<table border=\"1\" class=\"dataframe\">\n",
              "  <thead>\n",
              "    <tr style=\"text-align: right;\">\n",
              "      <th></th>\n",
              "      <th>anio_hechos</th>\n",
              "      <th>mes_hechos</th>\n",
              "      <th>fecha_hechos</th>\n",
              "      <th>anio_inicio</th>\n",
              "      <th>mes_inicio</th>\n",
              "      <th>fecha_inicio</th>\n",
              "      <th>delito</th>\n",
              "      <th>fiscalia</th>\n",
              "      <th>agencia</th>\n",
              "      <th>unidad_investigacion</th>\n",
              "      <th>categoria_delito</th>\n",
              "      <th>calle_hechos</th>\n",
              "      <th>calle_hechos_2</th>\n",
              "      <th>colonia_hechos</th>\n",
              "      <th>alcaldia_hechos</th>\n",
              "      <th>competencia</th>\n",
              "      <th>longitud</th>\n",
              "      <th>latitud</th>\n",
              "    </tr>\n",
              "  </thead>\n",
              "  <tbody>\n",
              "    <tr>\n",
              "      <th>0</th>\n",
              "      <td>2016.0</td>\n",
              "      <td>Enero</td>\n",
              "      <td>2016-01-31 22:16:00</td>\n",
              "      <td>2016</td>\n",
              "      <td>Febrero</td>\n",
              "      <td>2016-02-01 00:25:44</td>\n",
              "      <td>DAÑO EN PROPIEDAD AJENA INTENCIONAL</td>\n",
              "      <td>INVESTIGACIÓN EN BENITO JUÁREZ</td>\n",
              "      <td>BJ-2</td>\n",
              "      <td>UI-3CD</td>\n",
              "      <td>DELITO DE BAJO IMPACTO</td>\n",
              "      <td>CALZ. DE TLALPAN</td>\n",
              "      <td>LAGO PTE.</td>\n",
              "      <td>AMÉRICAS UNIDAS</td>\n",
              "      <td>BENITO JUAREZ</td>\n",
              "      <td>NaN</td>\n",
              "      <td>-99.140215</td>\n",
              "      <td>19.380315</td>\n",
              "    </tr>\n",
              "    <tr>\n",
              "      <th>1</th>\n",
              "      <td>2016.0</td>\n",
              "      <td>Enero</td>\n",
              "      <td>2016-01-31 20:50:00</td>\n",
              "      <td>2016</td>\n",
              "      <td>Febrero</td>\n",
              "      <td>2016-02-01 00:52:37</td>\n",
              "      <td>ROBO DE VEHICULO DE SERVICIO PARTICULAR CON VI...</td>\n",
              "      <td>INVESTIGACIÓN PARA LA ATENCIÓN DEL DELITO DE R...</td>\n",
              "      <td>ORIENTEII</td>\n",
              "      <td>UI-3CD</td>\n",
              "      <td>ROBO DE VEHÍCULO CON Y SIN VIOLENCIA</td>\n",
              "      <td>SUR 25 A</td>\n",
              "      <td>GRANJEROS</td>\n",
              "      <td>LOS CIPRESES</td>\n",
              "      <td>IZTAPALAPA</td>\n",
              "      <td>NaN</td>\n",
              "      <td>-99.108403</td>\n",
              "      <td>19.352859</td>\n",
              "    </tr>\n",
              "  </tbody>\n",
              "</table>\n",
              "</div>"
            ],
            "text/plain": [
              "   anio_hechos mes_hechos  ...   longitud    latitud\n",
              "0       2016.0      Enero  ... -99.140215  19.380315\n",
              "1       2016.0      Enero  ... -99.108403  19.352859\n",
              "\n",
              "[2 rows x 18 columns]"
            ]
          },
          "metadata": {
            "tags": []
          },
          "execution_count": 10
        }
      ]
    },
    {
      "cell_type": "markdown",
      "metadata": {
        "id": "CPgDfm4SiY4D"
      },
      "source": [
        "Analizamos los tipos de datos y observamos que:\r\n",
        "- \r\n",
        "\r\n",
        "`fecha_hechos` y `fecha_inicio` necesitan cambiar el tipo de dato a *datetime*\r\n",
        "- `anio_hechos` debe cambiar a *int* porque son números cerrados correspondientes a los años 2016-2021\r\n",
        "\r\n",
        "Sin embargo es necesario observar si existen NaNs en el DataFrame para que no arroje un error a la hora de cambiar el tipo de dato. "
      ]
    },
    {
      "cell_type": "code",
      "metadata": {
        "colab": {
          "base_uri": "https://localhost:8080/"
        },
        "id": "GdpxSktojTg4",
        "outputId": "08f124b6-d172-4a8e-e50e-18029e02cddf"
      },
      "source": [
        "#Analizamos tipo de datos\r\n",
        "df_carpetas_investigacion_cdmx_16_20.dtypes"
      ],
      "execution_count": null,
      "outputs": [
        {
          "output_type": "execute_result",
          "data": {
            "text/plain": [
              "anio_hechos             float64\n",
              "mes_hechos               object\n",
              "fecha_hechos             object\n",
              "anio_inicio               int64\n",
              "mes_inicio               object\n",
              "fecha_inicio             object\n",
              "delito                   object\n",
              "fiscalia                 object\n",
              "agencia                  object\n",
              "unidad_investigacion     object\n",
              "categoria_delito         object\n",
              "calle_hechos             object\n",
              "calle_hechos_2           object\n",
              "colonia_hechos           object\n",
              "alcaldia_hechos          object\n",
              "competencia              object\n",
              "longitud                float64\n",
              "latitud                 float64\n",
              "dtype: object"
            ]
          },
          "metadata": {
            "tags": []
          },
          "execution_count": 12
        }
      ]
    },
    {
      "cell_type": "code",
      "metadata": {
        "colab": {
          "base_uri": "https://localhost:8080/"
        },
        "id": "TKx4k0NhqJVS",
        "outputId": "fea98faa-942e-4bb0-a1aa-f1e00886d5d2"
      },
      "source": [
        "#Antes de cambiar los tipos de datos\r\n",
        "#contamos el numero de valores NaN que tenemos\r\n",
        "df_carpetas_investigacion_cdmx_16_20.isna().sum(axis=0)"
      ],
      "execution_count": null,
      "outputs": [
        {
          "output_type": "execute_result",
          "data": {
            "text/plain": [
              "anio_hechos                433\n",
              "mes_hechos                 433\n",
              "fecha_hechos               433\n",
              "anio_inicio                  0\n",
              "mes_inicio                   0\n",
              "fecha_inicio                 0\n",
              "delito                       0\n",
              "fiscalia                     2\n",
              "agencia                      0\n",
              "unidad_investigacion       227\n",
              "categoria_delito             0\n",
              "calle_hechos              2947\n",
              "calle_hechos_2          698673\n",
              "colonia_hechos           46786\n",
              "alcaldia_hechos           3146\n",
              "competencia             931933\n",
              "longitud                 45819\n",
              "latitud                  45818\n",
              "dtype: int64"
            ]
          },
          "metadata": {
            "tags": []
          },
          "execution_count": 13
        }
      ]
    },
    {
      "cell_type": "code",
      "metadata": {
        "colab": {
          "base_uri": "https://localhost:8080/",
          "height": 373
        },
        "id": "2DceEcY3qMH4",
        "outputId": "651f93d1-a244-464e-fff9-6606aed34720"
      },
      "source": [
        "#Vemos que tenemos la mayor cantidad de NaNs en las columnas competencia, y calle_hechos_2.\r\n",
        "\r\n",
        "#Obteniendo indices\r\n",
        "index = df_carpetas_investigacion_cdmx_16_20['anio_hechos'].index[df_carpetas_investigacion_cdmx_16_20['anio_hechos'].apply(np.isnan)]\r\n",
        "#accesando a ellos\r\n",
        "df_carpetas_investigacion_cdmx_16_20.loc[index].head(5)\r\n",
        "\r\n",
        "#Explorando los datos, notamos que no falta ningún dato importante sobre el inicio de la carpeta.\r\n",
        "#Se tienen algunos valores faltantes sobre cúando y dónde ocurrieron los hechos del delito pero pueden mantenerse.\r\n"
      ],
      "execution_count": null,
      "outputs": [
        {
          "output_type": "execute_result",
          "data": {
            "text/html": [
              "<div>\n",
              "<style scoped>\n",
              "    .dataframe tbody tr th:only-of-type {\n",
              "        vertical-align: middle;\n",
              "    }\n",
              "\n",
              "    .dataframe tbody tr th {\n",
              "        vertical-align: top;\n",
              "    }\n",
              "\n",
              "    .dataframe thead th {\n",
              "        text-align: right;\n",
              "    }\n",
              "</style>\n",
              "<table border=\"1\" class=\"dataframe\">\n",
              "  <thead>\n",
              "    <tr style=\"text-align: right;\">\n",
              "      <th></th>\n",
              "      <th>anio_hechos</th>\n",
              "      <th>mes_hechos</th>\n",
              "      <th>fecha_hechos</th>\n",
              "      <th>anio_inicio</th>\n",
              "      <th>mes_inicio</th>\n",
              "      <th>fecha_inicio</th>\n",
              "      <th>delito</th>\n",
              "      <th>fiscalia</th>\n",
              "      <th>agencia</th>\n",
              "      <th>unidad_investigacion</th>\n",
              "      <th>categoria_delito</th>\n",
              "      <th>calle_hechos</th>\n",
              "      <th>calle_hechos_2</th>\n",
              "      <th>colonia_hechos</th>\n",
              "      <th>alcaldia_hechos</th>\n",
              "      <th>competencia</th>\n",
              "      <th>longitud</th>\n",
              "      <th>latitud</th>\n",
              "    </tr>\n",
              "  </thead>\n",
              "  <tbody>\n",
              "    <tr>\n",
              "      <th>628</th>\n",
              "      <td>NaN</td>\n",
              "      <td>NaN</td>\n",
              "      <td>NaN</td>\n",
              "      <td>2016</td>\n",
              "      <td>Febrero</td>\n",
              "      <td>2016-02-04 18:53:05</td>\n",
              "      <td>VIOLENCIA FAMILIAR</td>\n",
              "      <td>JUZGADOS FAMILIARES</td>\n",
              "      <td>75</td>\n",
              "      <td>UI-2SD</td>\n",
              "      <td>DELITO DE BAJO IMPACTO</td>\n",
              "      <td>FRANCISCO I. MADERO</td>\n",
              "      <td>NaN</td>\n",
              "      <td>SANTA MARTHA ACATITLA</td>\n",
              "      <td>IZTAPALAPA</td>\n",
              "      <td>NaN</td>\n",
              "      <td>-99.009777</td>\n",
              "      <td>19.362143</td>\n",
              "    </tr>\n",
              "    <tr>\n",
              "      <th>784</th>\n",
              "      <td>NaN</td>\n",
              "      <td>NaN</td>\n",
              "      <td>NaN</td>\n",
              "      <td>2016</td>\n",
              "      <td>Febrero</td>\n",
              "      <td>2016-02-05 16:03:58</td>\n",
              "      <td>EXTORSION</td>\n",
              "      <td>INVESTIGACIÓN EN IZTAPALAPA</td>\n",
              "      <td>IZP-4</td>\n",
              "      <td>UI-2CD</td>\n",
              "      <td>DELITO DE BAJO IMPACTO</td>\n",
              "      <td>STA. MARIA</td>\n",
              "      <td>NaN</td>\n",
              "      <td>MAGDALENA ATLAZOLPA</td>\n",
              "      <td>IZTAPALAPA</td>\n",
              "      <td>NaN</td>\n",
              "      <td>-99.110716</td>\n",
              "      <td>19.373883</td>\n",
              "    </tr>\n",
              "    <tr>\n",
              "      <th>2160</th>\n",
              "      <td>NaN</td>\n",
              "      <td>NaN</td>\n",
              "      <td>NaN</td>\n",
              "      <td>2016</td>\n",
              "      <td>Febrero</td>\n",
              "      <td>2016-02-13 08:59:29</td>\n",
              "      <td>DENUNCIA DE HECHOS</td>\n",
              "      <td>INVESTIGACIÓN EN TLALPAN</td>\n",
              "      <td>TLP-4</td>\n",
              "      <td>UI-1CD</td>\n",
              "      <td>HECHO NO DELICTIVO</td>\n",
              "      <td>NaN</td>\n",
              "      <td>NaN</td>\n",
              "      <td>NaN</td>\n",
              "      <td>NaN</td>\n",
              "      <td>NaN</td>\n",
              "      <td>NaN</td>\n",
              "      <td>NaN</td>\n",
              "    </tr>\n",
              "    <tr>\n",
              "      <th>2227</th>\n",
              "      <td>NaN</td>\n",
              "      <td>NaN</td>\n",
              "      <td>NaN</td>\n",
              "      <td>2016</td>\n",
              "      <td>Febrero</td>\n",
              "      <td>2016-02-13 16:49:20</td>\n",
              "      <td>DENUNCIA DE HECHOS</td>\n",
              "      <td>INVESTIGACIÓN EN MIGUEL HIDALGO</td>\n",
              "      <td>MH-1</td>\n",
              "      <td>UI-1SD</td>\n",
              "      <td>HECHO NO DELICTIVO</td>\n",
              "      <td>NaN</td>\n",
              "      <td>NaN</td>\n",
              "      <td>NaN</td>\n",
              "      <td>NaN</td>\n",
              "      <td>NaN</td>\n",
              "      <td>NaN</td>\n",
              "      <td>NaN</td>\n",
              "    </tr>\n",
              "    <tr>\n",
              "      <th>2815</th>\n",
              "      <td>NaN</td>\n",
              "      <td>NaN</td>\n",
              "      <td>NaN</td>\n",
              "      <td>2016</td>\n",
              "      <td>Febrero</td>\n",
              "      <td>2016-02-17 01:46:00</td>\n",
              "      <td>ROBO DE VEHICULO DE SERVICIO PARTICULAR SIN VI...</td>\n",
              "      <td>INVESTIGACIÓN EN GUSTAVO A. MADERO</td>\n",
              "      <td>GAM-5</td>\n",
              "      <td>UI-1CD</td>\n",
              "      <td>ROBO DE VEHÍCULO CON Y SIN VIOLENCIA</td>\n",
              "      <td>VOLCAN CEBORUCO</td>\n",
              "      <td>FRANCISCO MORAZAN</td>\n",
              "      <td>LA PRADERA</td>\n",
              "      <td>GUSTAVO A MADERO</td>\n",
              "      <td>NaN</td>\n",
              "      <td>-99.067324</td>\n",
              "      <td>19.472209</td>\n",
              "    </tr>\n",
              "  </tbody>\n",
              "</table>\n",
              "</div>"
            ],
            "text/plain": [
              "      anio_hechos mes_hechos fecha_hechos  ...  competencia   longitud    latitud\n",
              "628           NaN        NaN          NaN  ...          NaN -99.009777  19.362143\n",
              "784           NaN        NaN          NaN  ...          NaN -99.110716  19.373883\n",
              "2160          NaN        NaN          NaN  ...          NaN        NaN        NaN\n",
              "2227          NaN        NaN          NaN  ...          NaN        NaN        NaN\n",
              "2815          NaN        NaN          NaN  ...          NaN -99.067324  19.472209\n",
              "\n",
              "[5 rows x 18 columns]"
            ]
          },
          "metadata": {
            "tags": []
          },
          "execution_count": 14
        }
      ]
    },
    {
      "cell_type": "code",
      "metadata": {
        "id": "PtGjmxBMqQKz"
      },
      "source": [
        "#Modificamos el formato de las columnas mes\r\n",
        "df_carpetas_investigacion_cdmx_16_20['mes_inicio'] = df_carpetas_investigacion_cdmx_16_20['mes_inicio'].str.upper()\r\n",
        "df_carpetas_investigacion_cdmx_16_20['mes_hechos'] = df_carpetas_investigacion_cdmx_16_20['mes_hechos'].str.upper()\r\n"
      ],
      "execution_count": null,
      "outputs": []
    },
    {
      "cell_type": "code",
      "metadata": {
        "id": "NUYMWPrFqTkq"
      },
      "source": [
        "#Eliminamos las columnas competencia y calle_hechos_2 por la gran cantidad de NaNs que contienen\r\n",
        "df_carpetas_investigacion_cdmx_16_20 = df_carpetas_investigacion_cdmx_16_20.drop(labels=['competencia','calle_hechos_2'], axis=1)"
      ],
      "execution_count": null,
      "outputs": []
    },
    {
      "cell_type": "code",
      "metadata": {
        "colab": {
          "base_uri": "https://localhost:8080/"
        },
        "id": "YskTc8sOqVXh",
        "outputId": "a8babf0f-4f38-4c8b-a004-c1ef6a4d2edb"
      },
      "source": [
        "#Rellenamos los valores NaNs para recuperar la información\r\n",
        "\r\n",
        "df_carpetas_investigacion_cdmx_16_20['anio_hechos'] = df_carpetas_investigacion_cdmx_16_20['anio_hechos'].fillna(0)\r\n",
        "df_carpetas_investigacion_cdmx_16_20['mes_hechos'] = df_carpetas_investigacion_cdmx_16_20['mes_hechos'].fillna('NO ESPECIFICADO')\r\n",
        "df_carpetas_investigacion_cdmx_16_20['fecha_hechos'] = df_carpetas_investigacion_cdmx_16_20['fecha_hechos'].fillna(0)\r\n",
        "\r\n",
        "df_carpetas_investigacion_cdmx_16_20['fiscalia'] = df_carpetas_investigacion_cdmx_16_20['fiscalia'].fillna('NO ESPECIFICADO')\r\n",
        "df_carpetas_investigacion_cdmx_16_20['unidad_investigacion'] = df_carpetas_investigacion_cdmx_16_20['unidad_investigacion'].fillna('NO ESPECIFICADO')\r\n",
        "df_carpetas_investigacion_cdmx_16_20['calle_hechos'] = df_carpetas_investigacion_cdmx_16_20['calle_hechos'].fillna('NO ESPECIFICADO')\r\n",
        "df_carpetas_investigacion_cdmx_16_20['colonia_hechos'] = df_carpetas_investigacion_cdmx_16_20['colonia_hechos'].fillna('NO ESPECIFICADO')\r\n",
        "df_carpetas_investigacion_cdmx_16_20['alcaldia_hechos'] = df_carpetas_investigacion_cdmx_16_20['alcaldia_hechos'].fillna('NO ESPECIFICADO')\r\n",
        "\r\n",
        "df_carpetas_investigacion_cdmx_16_20['longitud'] = df_carpetas_investigacion_cdmx_16_20['longitud'].fillna(0)\r\n",
        "df_carpetas_investigacion_cdmx_16_20['latitud'] = df_carpetas_investigacion_cdmx_16_20['latitud'].fillna(0)\r\n",
        "\r\n",
        "#Confirmamos que ya no tenemos NaNs\r\n",
        "df_carpetas_investigacion_cdmx_16_20.isna().sum(axis=0)"
      ],
      "execution_count": null,
      "outputs": [
        {
          "output_type": "execute_result",
          "data": {
            "text/plain": [
              "anio_hechos             0\n",
              "mes_hechos              0\n",
              "fecha_hechos            0\n",
              "anio_inicio             0\n",
              "mes_inicio              0\n",
              "fecha_inicio            0\n",
              "delito                  0\n",
              "fiscalia                0\n",
              "agencia                 0\n",
              "unidad_investigacion    0\n",
              "categoria_delito        0\n",
              "calle_hechos            0\n",
              "colonia_hechos          0\n",
              "alcaldia_hechos         0\n",
              "longitud                0\n",
              "latitud                 0\n",
              "dtype: int64"
            ]
          },
          "metadata": {
            "tags": []
          },
          "execution_count": 17
        }
      ]
    },
    {
      "cell_type": "code",
      "metadata": {
        "colab": {
          "base_uri": "https://localhost:8080/"
        },
        "id": "QTuxZMDFqZ7h",
        "outputId": "06393bbd-2ad6-45b9-9d5d-f0387946e0da"
      },
      "source": [
        "#Ya limpios los datos, cambiamos el tipo de dato de las columnas\r\n",
        "df_carpetas_investigacion_cdmx_16_20['fecha_hechos'] = pd.to_datetime(df_carpetas_investigacion_cdmx_16_20['fecha_hechos'], errors = 'coerce')\r\n",
        "df_carpetas_investigacion_cdmx_16_20['fecha_inicio'] = pd.to_datetime(df_carpetas_investigacion_cdmx_16_20['fecha_inicio'], errors = 'coerce')\r\n",
        "df_carpetas_investigacion_cdmx_16_20['anio_hechos'] = df_carpetas_investigacion_cdmx_16_20['anio_hechos'].astype('int64')\r\n",
        "\r\n",
        "#Confirmamos el cambio de tipo de dato\r\n",
        "df_carpetas_investigacion_cdmx_16_20.dtypes"
      ],
      "execution_count": null,
      "outputs": [
        {
          "output_type": "execute_result",
          "data": {
            "text/plain": [
              "anio_hechos                      int64\n",
              "mes_hechos                      object\n",
              "fecha_hechos            datetime64[ns]\n",
              "anio_inicio                      int64\n",
              "mes_inicio                      object\n",
              "fecha_inicio            datetime64[ns]\n",
              "delito                          object\n",
              "fiscalia                        object\n",
              "agencia                         object\n",
              "unidad_investigacion            object\n",
              "categoria_delito                object\n",
              "calle_hechos                    object\n",
              "colonia_hechos                  object\n",
              "alcaldia_hechos                 object\n",
              "longitud                       float64\n",
              "latitud                        float64\n",
              "dtype: object"
            ]
          },
          "metadata": {
            "tags": []
          },
          "execution_count": 18
        }
      ]
    },
    {
      "cell_type": "code",
      "metadata": {
        "colab": {
          "base_uri": "https://localhost:8080/"
        },
        "id": "710E7F8wqc5i",
        "outputId": "ba5e28f5-51d7-4df5-b34f-43a584e92977"
      },
      "source": [
        "#Ya que tenemos todo en orden podemos empezar a hacer agrupaciones\r\n",
        "\r\n",
        "#Delitos totales reportados por año en el que ocurrió el delito\r\n",
        "df_carpetas_investigacion_cdmx_16_20.groupby('anio_hechos')['delito'].count().sort_values(ascending=False).head(5)"
      ],
      "execution_count": null,
      "outputs": [
        {
          "output_type": "execute_result",
          "data": {
            "text/plain": [
              "anio_hechos\n",
              "2018    253276\n",
              "2019    242322\n",
              "2017    226912\n",
              "2016    194800\n",
              "2020    194121\n",
              "Name: delito, dtype: int64"
            ]
          },
          "metadata": {
            "tags": []
          },
          "execution_count": 19
        }
      ]
    },
    {
      "cell_type": "code",
      "metadata": {
        "colab": {
          "base_uri": "https://localhost:8080/"
        },
        "id": "iOan5j_sqgte",
        "outputId": "92adaabf-bdef-46e6-da18-6754dd62f0fb"
      },
      "source": [
        "#Delitos totales reportados por año en el que se reportó el delito\r\n",
        "df_carpetas_investigacion_cdmx_16_20.groupby('anio_inicio')['delito'].count().sort_values(ascending=False)"
      ],
      "execution_count": null,
      "outputs": [
        {
          "output_type": "execute_result",
          "data": {
            "text/plain": [
              "anio_inicio\n",
              "2018    255311\n",
              "2019    250386\n",
              "2017    228323\n",
              "2020    204043\n",
              "2016    197913\n",
              "2021     15874\n",
              "Name: delito, dtype: int64"
            ]
          },
          "metadata": {
            "tags": []
          },
          "execution_count": 20
        }
      ]
    },
    {
      "cell_type": "code",
      "metadata": {
        "colab": {
          "base_uri": "https://localhost:8080/",
          "height": 420
        },
        "id": "uZjZ1DKqqiQq",
        "outputId": "4de3803d-1d8a-4216-995a-5b0bbfb7162d"
      },
      "source": [
        "#Delitos totales por año y mes en el que se reportó el delito\r\n",
        "df_carpetas_investigacion_cdmx_16_20.groupby(['anio_inicio','mes_inicio'])[['delito']].count().sort_values(['anio_inicio','delito'], ascending=[True,False])"
      ],
      "execution_count": null,
      "outputs": [
        {
          "output_type": "execute_result",
          "data": {
            "text/html": [
              "<div>\n",
              "<style scoped>\n",
              "    .dataframe tbody tr th:only-of-type {\n",
              "        vertical-align: middle;\n",
              "    }\n",
              "\n",
              "    .dataframe tbody tr th {\n",
              "        vertical-align: top;\n",
              "    }\n",
              "\n",
              "    .dataframe thead th {\n",
              "        text-align: right;\n",
              "    }\n",
              "</style>\n",
              "<table border=\"1\" class=\"dataframe\">\n",
              "  <thead>\n",
              "    <tr style=\"text-align: right;\">\n",
              "      <th></th>\n",
              "      <th></th>\n",
              "      <th>delito</th>\n",
              "    </tr>\n",
              "    <tr>\n",
              "      <th>anio_inicio</th>\n",
              "      <th>mes_inicio</th>\n",
              "      <th></th>\n",
              "    </tr>\n",
              "  </thead>\n",
              "  <tbody>\n",
              "    <tr>\n",
              "      <th rowspan=\"5\" valign=\"top\">2016</th>\n",
              "      <th>OCTUBRE</th>\n",
              "      <td>17901</td>\n",
              "    </tr>\n",
              "    <tr>\n",
              "      <th>SEPTIEMBRE</th>\n",
              "      <td>17138</td>\n",
              "    </tr>\n",
              "    <tr>\n",
              "      <th>NOVIEMBRE</th>\n",
              "      <td>17003</td>\n",
              "    </tr>\n",
              "    <tr>\n",
              "      <th>ABRIL</th>\n",
              "      <td>16992</td>\n",
              "    </tr>\n",
              "    <tr>\n",
              "      <th>AGOSTO</th>\n",
              "      <td>16924</td>\n",
              "    </tr>\n",
              "    <tr>\n",
              "      <th>...</th>\n",
              "      <th>...</th>\n",
              "      <td>...</td>\n",
              "    </tr>\n",
              "    <tr>\n",
              "      <th rowspan=\"4\" valign=\"top\">2020</th>\n",
              "      <th>JULIO</th>\n",
              "      <td>16515</td>\n",
              "    </tr>\n",
              "    <tr>\n",
              "      <th>JUNIO</th>\n",
              "      <td>13671</td>\n",
              "    </tr>\n",
              "    <tr>\n",
              "      <th>ABRIL</th>\n",
              "      <td>12287</td>\n",
              "    </tr>\n",
              "    <tr>\n",
              "      <th>MAYO</th>\n",
              "      <td>11371</td>\n",
              "    </tr>\n",
              "    <tr>\n",
              "      <th>2021</th>\n",
              "      <th>ENERO</th>\n",
              "      <td>15874</td>\n",
              "    </tr>\n",
              "  </tbody>\n",
              "</table>\n",
              "<p>61 rows × 1 columns</p>\n",
              "</div>"
            ],
            "text/plain": [
              "                        delito\n",
              "anio_inicio mes_inicio        \n",
              "2016        OCTUBRE      17901\n",
              "            SEPTIEMBRE   17138\n",
              "            NOVIEMBRE    17003\n",
              "            ABRIL        16992\n",
              "            AGOSTO       16924\n",
              "...                        ...\n",
              "2020        JULIO        16515\n",
              "            JUNIO        13671\n",
              "            ABRIL        12287\n",
              "            MAYO         11371\n",
              "2021        ENERO        15874\n",
              "\n",
              "[61 rows x 1 columns]"
            ]
          },
          "metadata": {
            "tags": []
          },
          "execution_count": 28
        }
      ]
    },
    {
      "cell_type": "code",
      "metadata": {
        "colab": {
          "base_uri": "https://localhost:8080/"
        },
        "id": "HflD_7DTqkwk",
        "outputId": "5c52bbd3-a28b-4c77-e492-3da357720b92"
      },
      "source": [
        "#Delitos totales registrados por alcaldía\r\n",
        "df_carpetas_investigacion_cdmx_16_20.groupby('alcaldia_hechos')['delito'].count().sort_values(ascending=False).head(6)"
      ],
      "execution_count": null,
      "outputs": [
        {
          "output_type": "execute_result",
          "data": {
            "text/plain": [
              "alcaldia_hechos\n",
              "CUAUHTEMOC          180670\n",
              "IZTAPALAPA          173204\n",
              "GUSTAVO A MADERO    115418\n",
              "BENITO JUAREZ        96603\n",
              "ALVARO OBREGON       77687\n",
              "COYOACAN             76735\n",
              "Name: delito, dtype: int64"
            ]
          },
          "metadata": {
            "tags": []
          },
          "execution_count": 22
        }
      ]
    },
    {
      "cell_type": "code",
      "metadata": {
        "colab": {
          "base_uri": "https://localhost:8080/"
        },
        "id": "Hep0kjbbqmqg",
        "outputId": "39d1879b-ac47-4f60-e4e6-7a7d20b2cac1"
      },
      "source": [
        "#Delitos totales registrados, clasificados por nombre del delito\r\n",
        "df_carpetas_investigacion_cdmx_16_20.groupby('delito')['categoria_delito'].count().sort_values(ascending=False).head(10)"
      ],
      "execution_count": null,
      "outputs": [
        {
          "output_type": "execute_result",
          "data": {
            "text/plain": [
              "delito\n",
              "VIOLENCIA FAMILIAR                                       113712\n",
              "FRAUDE                                                    69387\n",
              "ROBO DE OBJETOS                                           68222\n",
              "ROBO A NEGOCIO SIN VIOLENCIA                              65024\n",
              "AMENAZAS                                                  60043\n",
              "ROBO A TRANSEUNTE EN VIA PUBLICA CON VIOLENCIA            58299\n",
              "DENUNCIA DE HECHOS                                        40150\n",
              "ROBO DE ACCESORIOS DE AUTO                                36141\n",
              "ROBO DE OBJETOS DEL INTERIOR DE UN VEHICULO               31897\n",
              "ROBO DE VEHICULO DE SERVICIO PARTICULAR SIN VIOLENCIA     30508\n",
              "Name: categoria_delito, dtype: int64"
            ]
          },
          "metadata": {
            "tags": []
          },
          "execution_count": 23
        }
      ]
    },
    {
      "cell_type": "code",
      "metadata": {
        "colab": {
          "base_uri": "https://localhost:8080/"
        },
        "id": "UIrB60wNqqLr",
        "outputId": "d41b610f-80bb-433e-8e90-c5fcc01a72be"
      },
      "source": [
        "#Tendencia por delegación de cualquier tipo de violencia de género desde 2016-2021\r\n",
        "\r\n",
        "lista_violencia = ['VIOLENCIA FAMILIAR', 'ABUSO SEXUAL', 'VIOLACION', 'ACOSO SEXUAL',\r\n",
        "                         'VIOLACION EQUIPARADA', 'CONTRA LA INTIMIDAD SEXUAL', 'ABORTO', 'TRATA DE PERSONAS', 'PORNOGRAFÍA',\r\n",
        "                         'FEMINICIDIO', 'VIOLACION DE CORRESPONDENCIA','VIOLACION TUMULTUARIA','ACOSO SEXUAL AGRAVADO EN CONTRA DE MENORES',\r\n",
        "                         'VIOLACION EQUIPARADA POR CONOCIDO', 'TENTATIVA DE VIOLACION', 'FEMINICIDIO POR ARMA BLANCA', \r\n",
        "                         'FEMINICIDIO POR DISPARO DE ARMA DE FUEGO', 'PRIVACION DE LA LIBERTAD PERSONAL (REALIZAR ACTO SEXUAL)', \r\n",
        "                         'FEMINICIDIO POR GOLPES', 'TENTATIVA DE FEMINICIDIO', 'VIOLACION EQUIPARADA Y ROBO DE VEHICULO', 'LENOCINIO', \r\n",
        "                         'VIOLACION TUMULTUARIA EQUIPARADA POR CONOCIDO', 'VIOLACION TUMULTUARIA EQUIPARADA' ,'INCESTO', 'VIOLACION Y ROBO DE VEHICULO',\r\n",
        "                         'PROCREACION ASISTIDA, INSEMINACION ARTIFICIAL Y ESTERILIZACION FORZADA', 'PROCREACION ASISTIDA']\r\n",
        "\r\n",
        "df_carpetas_investigacion_cdmx_16_20[df_carpetas_investigacion_cdmx_16_20['delito'].isin(lista_violencia)].groupby(['alcaldia_hechos'])['delito'].count().sort_values(ascending=False).head(16)"
      ],
      "execution_count": null,
      "outputs": [
        {
          "output_type": "execute_result",
          "data": {
            "text/plain": [
              "alcaldia_hechos\n",
              "IZTAPALAPA                24712\n",
              "GUSTAVO A MADERO          15927\n",
              "CUAUHTEMOC                13427\n",
              "ALVARO OBREGON            10336\n",
              "TLALPAN                    9849\n",
              "COYOACAN                   8954\n",
              "VENUSTIANO CARRANZA        7822\n",
              "IZTACALCO                  7663\n",
              "XOCHIMILCO                 6769\n",
              "AZCAPOTZALCO               6192\n",
              "TLAHUAC                    5643\n",
              "BENITO JUAREZ              5405\n",
              "MIGUEL HIDALGO             5323\n",
              "LA MAGDALENA CONTRERAS     4611\n",
              "CUAJIMALPA DE MORELOS      2473\n",
              "MILPA ALTA                 2081\n",
              "Name: delito, dtype: int64"
            ]
          },
          "metadata": {
            "tags": []
          },
          "execution_count": 24
        }
      ]
    },
    {
      "cell_type": "code",
      "metadata": {
        "colab": {
          "base_uri": "https://localhost:8080/",
          "height": 248
        },
        "id": "9F2-m9fPqxI6",
        "outputId": "7673e3da-286e-423a-b341-78830b57fdff"
      },
      "source": [
        "#Creación de subdataframe sobre los delitos relacionados con violencia de género\r\n",
        "#Ordenado por año, alcaldía y tipo de delito \r\n",
        "\r\n",
        "df_violencia_de_genero_cdmx_16_20 = pd.DataFrame(df_carpetas_investigacion_cdmx_16_20[df_carpetas_investigacion_cdmx_16_20['delito'].isin(lista_violencia)].groupby(['anio_inicio','alcaldia_hechos','delito']).count())\r\n",
        "df_violencia_de_genero_cdmx_16_20_ordenado = pd.DataFrame(df_violencia_de_genero_cdmx_16_20['fiscalia'].sort_values(ascending=False))\r\n",
        "df_violencia_de_genero_cdmx_16_20_ordenado = df_violencia_de_genero_cdmx_16_20_ordenado.rename(columns={'fiscalia':'total_delitos'})\r\n",
        "df_violencia_de_genero_cdmx_16_20_ordenado.head(6)"
      ],
      "execution_count": null,
      "outputs": [
        {
          "output_type": "execute_result",
          "data": {
            "text/html": [
              "<div>\n",
              "<style scoped>\n",
              "    .dataframe tbody tr th:only-of-type {\n",
              "        vertical-align: middle;\n",
              "    }\n",
              "\n",
              "    .dataframe tbody tr th {\n",
              "        vertical-align: top;\n",
              "    }\n",
              "\n",
              "    .dataframe thead th {\n",
              "        text-align: right;\n",
              "    }\n",
              "</style>\n",
              "<table border=\"1\" class=\"dataframe\">\n",
              "  <thead>\n",
              "    <tr style=\"text-align: right;\">\n",
              "      <th></th>\n",
              "      <th></th>\n",
              "      <th></th>\n",
              "      <th>total_delitos</th>\n",
              "    </tr>\n",
              "    <tr>\n",
              "      <th>anio_inicio</th>\n",
              "      <th>alcaldia_hechos</th>\n",
              "      <th>delito</th>\n",
              "      <th></th>\n",
              "    </tr>\n",
              "  </thead>\n",
              "  <tbody>\n",
              "    <tr>\n",
              "      <th>2020</th>\n",
              "      <th>IZTAPALAPA</th>\n",
              "      <th>VIOLENCIA FAMILIAR</th>\n",
              "      <td>4723</td>\n",
              "    </tr>\n",
              "    <tr>\n",
              "      <th>2019</th>\n",
              "      <th>IZTAPALAPA</th>\n",
              "      <th>VIOLENCIA FAMILIAR</th>\n",
              "      <td>4636</td>\n",
              "    </tr>\n",
              "    <tr>\n",
              "      <th>2016</th>\n",
              "      <th>IZTAPALAPA</th>\n",
              "      <th>VIOLENCIA FAMILIAR</th>\n",
              "      <td>3981</td>\n",
              "    </tr>\n",
              "    <tr>\n",
              "      <th>2020</th>\n",
              "      <th>GUSTAVO A MADERO</th>\n",
              "      <th>VIOLENCIA FAMILIAR</th>\n",
              "      <td>3709</td>\n",
              "    </tr>\n",
              "    <tr>\n",
              "      <th>2017</th>\n",
              "      <th>IZTAPALAPA</th>\n",
              "      <th>VIOLENCIA FAMILIAR</th>\n",
              "      <td>3690</td>\n",
              "    </tr>\n",
              "    <tr>\n",
              "      <th>2018</th>\n",
              "      <th>IZTAPALAPA</th>\n",
              "      <th>VIOLENCIA FAMILIAR</th>\n",
              "      <td>3361</td>\n",
              "    </tr>\n",
              "  </tbody>\n",
              "</table>\n",
              "</div>"
            ],
            "text/plain": [
              "                                                 total_delitos\n",
              "anio_inicio alcaldia_hechos  delito                           \n",
              "2020        IZTAPALAPA       VIOLENCIA FAMILIAR           4723\n",
              "2019        IZTAPALAPA       VIOLENCIA FAMILIAR           4636\n",
              "2016        IZTAPALAPA       VIOLENCIA FAMILIAR           3981\n",
              "2020        GUSTAVO A MADERO VIOLENCIA FAMILIAR           3709\n",
              "2017        IZTAPALAPA       VIOLENCIA FAMILIAR           3690\n",
              "2018        IZTAPALAPA       VIOLENCIA FAMILIAR           3361"
            ]
          },
          "metadata": {
            "tags": []
          },
          "execution_count": 26
        }
      ]
    },
    {
      "cell_type": "code",
      "metadata": {
        "colab": {
          "base_uri": "https://localhost:8080/",
          "height": 536
        },
        "id": "jAS-HrQ8rBHI",
        "outputId": "04e0c635-fd47-4c78-94b4-ae999fe0d120"
      },
      "source": [
        "#Delito más recuurrente en el 2020 dividido por alcaldia\r\n",
        "df_violencia_de_genero_cdmx_16_20_ordenado.filter(like='2020', axis=0).head(16)"
      ],
      "execution_count": null,
      "outputs": [
        {
          "output_type": "execute_result",
          "data": {
            "text/html": [
              "<div>\n",
              "<style scoped>\n",
              "    .dataframe tbody tr th:only-of-type {\n",
              "        vertical-align: middle;\n",
              "    }\n",
              "\n",
              "    .dataframe tbody tr th {\n",
              "        vertical-align: top;\n",
              "    }\n",
              "\n",
              "    .dataframe thead th {\n",
              "        text-align: right;\n",
              "    }\n",
              "</style>\n",
              "<table border=\"1\" class=\"dataframe\">\n",
              "  <thead>\n",
              "    <tr style=\"text-align: right;\">\n",
              "      <th></th>\n",
              "      <th></th>\n",
              "      <th></th>\n",
              "      <th>total_delitos</th>\n",
              "    </tr>\n",
              "    <tr>\n",
              "      <th>anio_inicio</th>\n",
              "      <th>alcaldia_hechos</th>\n",
              "      <th>delito</th>\n",
              "      <th></th>\n",
              "    </tr>\n",
              "  </thead>\n",
              "  <tbody>\n",
              "    <tr>\n",
              "      <th rowspan=\"16\" valign=\"top\">2020</th>\n",
              "      <th>IZTAPALAPA</th>\n",
              "      <th>VIOLENCIA FAMILIAR</th>\n",
              "      <td>4723</td>\n",
              "    </tr>\n",
              "    <tr>\n",
              "      <th>GUSTAVO A MADERO</th>\n",
              "      <th>VIOLENCIA FAMILIAR</th>\n",
              "      <td>3709</td>\n",
              "    </tr>\n",
              "    <tr>\n",
              "      <th>ALVARO OBREGON</th>\n",
              "      <th>VIOLENCIA FAMILIAR</th>\n",
              "      <td>2173</td>\n",
              "    </tr>\n",
              "    <tr>\n",
              "      <th>CUAUHTEMOC</th>\n",
              "      <th>VIOLENCIA FAMILIAR</th>\n",
              "      <td>2157</td>\n",
              "    </tr>\n",
              "    <tr>\n",
              "      <th>TLALPAN</th>\n",
              "      <th>VIOLENCIA FAMILIAR</th>\n",
              "      <td>1860</td>\n",
              "    </tr>\n",
              "    <tr>\n",
              "      <th>COYOACAN</th>\n",
              "      <th>VIOLENCIA FAMILIAR</th>\n",
              "      <td>1793</td>\n",
              "    </tr>\n",
              "    <tr>\n",
              "      <th>VENUSTIANO CARRANZA</th>\n",
              "      <th>VIOLENCIA FAMILIAR</th>\n",
              "      <td>1551</td>\n",
              "    </tr>\n",
              "    <tr>\n",
              "      <th>IZTACALCO</th>\n",
              "      <th>VIOLENCIA FAMILIAR</th>\n",
              "      <td>1509</td>\n",
              "    </tr>\n",
              "    <tr>\n",
              "      <th>XOCHIMILCO</th>\n",
              "      <th>VIOLENCIA FAMILIAR</th>\n",
              "      <td>1497</td>\n",
              "    </tr>\n",
              "    <tr>\n",
              "      <th>AZCAPOTZALCO</th>\n",
              "      <th>VIOLENCIA FAMILIAR</th>\n",
              "      <td>1442</td>\n",
              "    </tr>\n",
              "    <tr>\n",
              "      <th>TLAHUAC</th>\n",
              "      <th>VIOLENCIA FAMILIAR</th>\n",
              "      <td>1268</td>\n",
              "    </tr>\n",
              "    <tr>\n",
              "      <th>MIGUEL HIDALGO</th>\n",
              "      <th>VIOLENCIA FAMILIAR</th>\n",
              "      <td>1167</td>\n",
              "    </tr>\n",
              "    <tr>\n",
              "      <th>LA MAGDALENA CONTRERAS</th>\n",
              "      <th>VIOLENCIA FAMILIAR</th>\n",
              "      <td>1078</td>\n",
              "    </tr>\n",
              "    <tr>\n",
              "      <th>BENITO JUAREZ</th>\n",
              "      <th>VIOLENCIA FAMILIAR</th>\n",
              "      <td>862</td>\n",
              "    </tr>\n",
              "    <tr>\n",
              "      <th>IZTAPALAPA</th>\n",
              "      <th>ABUSO SEXUAL</th>\n",
              "      <td>520</td>\n",
              "    </tr>\n",
              "    <tr>\n",
              "      <th>CUAJIMALPA DE MORELOS</th>\n",
              "      <th>VIOLENCIA FAMILIAR</th>\n",
              "      <td>512</td>\n",
              "    </tr>\n",
              "  </tbody>\n",
              "</table>\n",
              "</div>"
            ],
            "text/plain": [
              "                                                       total_delitos\n",
              "anio_inicio alcaldia_hechos        delito                           \n",
              "2020        IZTAPALAPA             VIOLENCIA FAMILIAR           4723\n",
              "            GUSTAVO A MADERO       VIOLENCIA FAMILIAR           3709\n",
              "            ALVARO OBREGON         VIOLENCIA FAMILIAR           2173\n",
              "            CUAUHTEMOC             VIOLENCIA FAMILIAR           2157\n",
              "            TLALPAN                VIOLENCIA FAMILIAR           1860\n",
              "            COYOACAN               VIOLENCIA FAMILIAR           1793\n",
              "            VENUSTIANO CARRANZA    VIOLENCIA FAMILIAR           1551\n",
              "            IZTACALCO              VIOLENCIA FAMILIAR           1509\n",
              "            XOCHIMILCO             VIOLENCIA FAMILIAR           1497\n",
              "            AZCAPOTZALCO           VIOLENCIA FAMILIAR           1442\n",
              "            TLAHUAC                VIOLENCIA FAMILIAR           1268\n",
              "            MIGUEL HIDALGO         VIOLENCIA FAMILIAR           1167\n",
              "            LA MAGDALENA CONTRERAS VIOLENCIA FAMILIAR           1078\n",
              "            BENITO JUAREZ          VIOLENCIA FAMILIAR            862\n",
              "            IZTAPALAPA             ABUSO SEXUAL                  520\n",
              "            CUAJIMALPA DE MORELOS  VIOLENCIA FAMILIAR            512"
            ]
          },
          "metadata": {
            "tags": []
          },
          "execution_count": 27
        }
      ]
    },
    {
      "cell_type": "markdown",
      "metadata": {
        "id": "yDA9cinmYamy"
      },
      "source": [
        "### **Limpieza y análisis de `victimas_carpeta_cdmx_2016_2020.csv `**\r\n",
        " \r\n",
        "Esta base de datos contiene la información actualizada de las víctimas de los delitos en las carpetas de investigación de la Fiscalía General de Justicia (FGJ) de la Ciudad de México a partir de enero de 2019.\r\n",
        "\r\n",
        "Incluye variables como sexo, edad, fecha, hora, denunciante. En el caso del denunciante, es importante aclarar que el denunciante no siempre es la víctima.\r\n",
        "\r\n",
        "Los datos fueron actualizados el 29 de julio de 2020. "
      ]
    },
    {
      "cell_type": "code",
      "metadata": {
        "id": "D9zxkm4MGgij"
      },
      "source": [
        "#Importando las paqueterías necesarias \r\n",
        "import pandas as pd \r\n",
        "import os \r\n",
        "import numpy as np"
      ],
      "execution_count": null,
      "outputs": []
    },
    {
      "cell_type": "code",
      "metadata": {
        "colab": {
          "base_uri": "https://localhost:8080/",
          "height": 312
        },
        "id": "WI_ycIQWGfKy",
        "outputId": "7368ce2c-3966-42b8-fad9-07d3a8129be6"
      },
      "source": [
        "#Lectura de .csv\r\n",
        "path_victimas_carpetas = \"/content/drive/MyDrive/BEDU/Fase 2/Módulo 2 - Python/Datasets/victimas_carpeta_cdmx_2019_2020.csv\"\r\n",
        "df_victimas_carpeta_cdmx_19_20 = pd.read_csv(path_victimas_carpetas,index_col=0,encoding=\"utf-8\")\r\n",
        "df_victimas_carpeta_cdmx_19_20.head(3)\r\n"
      ],
      "execution_count": null,
      "outputs": [
        {
          "output_type": "execute_result",
          "data": {
            "text/html": [
              "<div>\n",
              "<style scoped>\n",
              "    .dataframe tbody tr th:only-of-type {\n",
              "        vertical-align: middle;\n",
              "    }\n",
              "\n",
              "    .dataframe tbody tr th {\n",
              "        vertical-align: top;\n",
              "    }\n",
              "\n",
              "    .dataframe thead th {\n",
              "        text-align: right;\n",
              "    }\n",
              "</style>\n",
              "<table border=\"1\" class=\"dataframe\">\n",
              "  <thead>\n",
              "    <tr style=\"text-align: right;\">\n",
              "      <th></th>\n",
              "      <th>Año_inicio</th>\n",
              "      <th>Mes_inicio</th>\n",
              "      <th>FechaInicio</th>\n",
              "      <th>Delito</th>\n",
              "      <th>Categoria</th>\n",
              "      <th>Sexo</th>\n",
              "      <th>Edad</th>\n",
              "      <th>TipoPersona</th>\n",
              "      <th>CalidadJuridica</th>\n",
              "      <th>competencia</th>\n",
              "      <th>Año_hecho</th>\n",
              "      <th>Mes_hecho</th>\n",
              "      <th>FechaHecho</th>\n",
              "      <th>HoraHecho</th>\n",
              "      <th>HoraInicio</th>\n",
              "      <th>AlcaldiaHechos</th>\n",
              "      <th>ColoniaHechos</th>\n",
              "      <th>Calle_hechos</th>\n",
              "      <th>Calle_hechos2</th>\n",
              "      <th>latitud</th>\n",
              "      <th>longitud</th>\n",
              "    </tr>\n",
              "    <tr>\n",
              "      <th>idCarpeta</th>\n",
              "      <th></th>\n",
              "      <th></th>\n",
              "      <th></th>\n",
              "      <th></th>\n",
              "      <th></th>\n",
              "      <th></th>\n",
              "      <th></th>\n",
              "      <th></th>\n",
              "      <th></th>\n",
              "      <th></th>\n",
              "      <th></th>\n",
              "      <th></th>\n",
              "      <th></th>\n",
              "      <th></th>\n",
              "      <th></th>\n",
              "      <th></th>\n",
              "      <th></th>\n",
              "      <th></th>\n",
              "      <th></th>\n",
              "      <th></th>\n",
              "      <th></th>\n",
              "    </tr>\n",
              "  </thead>\n",
              "  <tbody>\n",
              "    <tr>\n",
              "      <th>8324429</th>\n",
              "      <td>2019</td>\n",
              "      <td>Enero</td>\n",
              "      <td>04/01/2019</td>\n",
              "      <td>FRAUDE</td>\n",
              "      <td>DELITO DE BAJO IMPACTO</td>\n",
              "      <td>Masculino</td>\n",
              "      <td>62.0</td>\n",
              "      <td>FISICA</td>\n",
              "      <td>OFENDIDO</td>\n",
              "      <td>FUERO COMUN</td>\n",
              "      <td>2018.0</td>\n",
              "      <td>Agosto</td>\n",
              "      <td>29/08/2018</td>\n",
              "      <td>12:00:00</td>\n",
              "      <td>12:19:00</td>\n",
              "      <td>ALVARO OBREGON</td>\n",
              "      <td>GUADALUPE INN</td>\n",
              "      <td>INSUGENTES SUR</td>\n",
              "      <td>NaN</td>\n",
              "      <td>19.36125</td>\n",
              "      <td>-99.18314</td>\n",
              "    </tr>\n",
              "    <tr>\n",
              "      <th>8324430</th>\n",
              "      <td>2019</td>\n",
              "      <td>Enero</td>\n",
              "      <td>04/01/2019</td>\n",
              "      <td>PRODUCCIÓN, IMPRESIÓN, ENAJENACIÓN, DISTRIBUCI...</td>\n",
              "      <td>DELITO DE BAJO IMPACTO</td>\n",
              "      <td>Femenino</td>\n",
              "      <td>38.0</td>\n",
              "      <td>FISICA</td>\n",
              "      <td>VICTIMA Y DENUNCIANTE</td>\n",
              "      <td>FUERO COMUN</td>\n",
              "      <td>2018.0</td>\n",
              "      <td>Diciembre</td>\n",
              "      <td>15/12/2018</td>\n",
              "      <td>15:00:00</td>\n",
              "      <td>12:20:00</td>\n",
              "      <td>AZCAPOTZALCO</td>\n",
              "      <td>VICTORIA DE LAS DEMOCRACIAS</td>\n",
              "      <td>AV.  CUATLAHUAC</td>\n",
              "      <td>NaN</td>\n",
              "      <td>19.47181</td>\n",
              "      <td>-99.16458</td>\n",
              "    </tr>\n",
              "    <tr>\n",
              "      <th>8324431</th>\n",
              "      <td>2019</td>\n",
              "      <td>Enero</td>\n",
              "      <td>04/01/2019</td>\n",
              "      <td>ROBO A TRANSEUNTE SALIENDO DEL BANCO CON VIOLE...</td>\n",
              "      <td>ROBO A CUENTAHABIENTE SALIENDO DEL CAJERO CON ...</td>\n",
              "      <td>Masculino</td>\n",
              "      <td>42.0</td>\n",
              "      <td>FISICA</td>\n",
              "      <td>VICTIMA Y DENUNCIANTE</td>\n",
              "      <td>FUERO COMUN</td>\n",
              "      <td>2018.0</td>\n",
              "      <td>Diciembre</td>\n",
              "      <td>22/12/2018</td>\n",
              "      <td>15:30:00</td>\n",
              "      <td>12:23:00</td>\n",
              "      <td>COYOACAN</td>\n",
              "      <td>COPILCO UNIVERSIDAD ISSSTE</td>\n",
              "      <td>COPILCO</td>\n",
              "      <td>NaN</td>\n",
              "      <td>19.33797</td>\n",
              "      <td>-99.18611</td>\n",
              "    </tr>\n",
              "  </tbody>\n",
              "</table>\n",
              "</div>"
            ],
            "text/plain": [
              "           Año_inicio Mes_inicio FechaInicio  ... Calle_hechos2   latitud  longitud\n",
              "idCarpeta                                     ...                                  \n",
              "8324429          2019      Enero  04/01/2019  ...           NaN  19.36125 -99.18314\n",
              "8324430          2019      Enero  04/01/2019  ...           NaN  19.47181 -99.16458\n",
              "8324431          2019      Enero  04/01/2019  ...           NaN  19.33797 -99.18611\n",
              "\n",
              "[3 rows x 21 columns]"
            ]
          },
          "metadata": {
            "tags": []
          },
          "execution_count": 30
        }
      ]
    },
    {
      "cell_type": "code",
      "metadata": {
        "colab": {
          "base_uri": "https://localhost:8080/"
        },
        "id": "x2bYNYgjGkxD",
        "outputId": "724039e6-1fa8-4936-84e3-0587852c5b4d"
      },
      "source": [
        "#Obtenemos el número de registros y columnas que hay en el dataframe\r\n",
        "df_victimas_carpeta_cdmx_19_20.shape"
      ],
      "execution_count": null,
      "outputs": [
        {
          "output_type": "execute_result",
          "data": {
            "text/plain": [
              "(496863, 21)"
            ]
          },
          "metadata": {
            "tags": []
          },
          "execution_count": 31
        }
      ]
    },
    {
      "cell_type": "code",
      "metadata": {
        "colab": {
          "base_uri": "https://localhost:8080/"
        },
        "id": "gPvqNYd5GnsU",
        "outputId": "de5c298d-1bf4-4251-b221-df348ad4b79c"
      },
      "source": [
        "#Obtenemos el nombre de las columnas\r\n",
        "df_victimas_carpeta_cdmx_19_20.columns"
      ],
      "execution_count": null,
      "outputs": [
        {
          "output_type": "execute_result",
          "data": {
            "text/plain": [
              "Index(['Año_inicio', 'Mes_inicio', 'FechaInicio', 'Delito', 'Categoria',\n",
              "       'Sexo', 'Edad', 'TipoPersona', 'CalidadJuridica', 'competencia',\n",
              "       'Año_hecho', 'Mes_hecho', 'FechaHecho', 'HoraHecho', 'HoraInicio',\n",
              "       'AlcaldiaHechos', 'ColoniaHechos', 'Calle_hechos', 'Calle_hechos2',\n",
              "       'latitud', 'longitud'],\n",
              "      dtype='object')"
            ]
          },
          "metadata": {
            "tags": []
          },
          "execution_count": 32
        }
      ]
    },
    {
      "cell_type": "code",
      "metadata": {
        "colab": {
          "base_uri": "https://localhost:8080/",
          "height": 218
        },
        "id": "usvKFL13Gpsq",
        "outputId": "df351424-d69b-4bf6-8bc7-9980b57ba159"
      },
      "source": [
        "#Creamos un diccionario con los nuevos nombres de las columnas\r\n",
        "nuevas_columnas = {\r\n",
        "    'idCarpeta': 'id_carpeta',\r\n",
        "    'Año_inicio' : 'anio_inicio',\r\n",
        "    'Mes_inicio' : 'mes_inicio',\r\n",
        "    'FechaInicio' : 'fecha_inicio',\r\n",
        "    'Delito' : 'delito',\r\n",
        "    'Categoria': 'categoria_delito',\r\n",
        "    'Sexo' : 'sexo',\r\n",
        "    'Edad' : 'edad',\r\n",
        "    'TipoPersona' : 'tipo_persona',\r\n",
        "    'CalidadJuridica': 'calidad_juridica',\r\n",
        "    #'competencia'\r\n",
        "    'Año_hecho': 'anio_hechos',\r\n",
        "    'Mes_hecho' : 'mes_hechos',\r\n",
        "    'FechaHecho' : 'fecha_hechos',\r\n",
        "    'HoraHecho' : 'hora_hechos',\r\n",
        "    'HoraInicio' : 'hora_inicio',\r\n",
        "    'AlcaldiaHechos':'alcaldia_hechos',\r\n",
        "    'ColoniaHechos' : 'colonia_hechos',\r\n",
        "    'Calle_hechos' : 'calle_hechos',\r\n",
        "    'Calle_hechos2' : 'calle_hechos_2'\r\n",
        "    #latitud\r\n",
        "    #longitud\r\n",
        "}\r\n",
        "\r\n",
        "#Cambiamos el nombre de las columnas\r\n",
        "df_victimas_carpeta_cdmx_19_20 = df_victimas_carpeta_cdmx_19_20.rename(columns=nuevas_columnas)\r\n",
        "df_victimas_carpeta_cdmx_19_20.head(2)"
      ],
      "execution_count": null,
      "outputs": [
        {
          "output_type": "execute_result",
          "data": {
            "text/html": [
              "<div>\n",
              "<style scoped>\n",
              "    .dataframe tbody tr th:only-of-type {\n",
              "        vertical-align: middle;\n",
              "    }\n",
              "\n",
              "    .dataframe tbody tr th {\n",
              "        vertical-align: top;\n",
              "    }\n",
              "\n",
              "    .dataframe thead th {\n",
              "        text-align: right;\n",
              "    }\n",
              "</style>\n",
              "<table border=\"1\" class=\"dataframe\">\n",
              "  <thead>\n",
              "    <tr style=\"text-align: right;\">\n",
              "      <th></th>\n",
              "      <th>anio_inicio</th>\n",
              "      <th>mes_inicio</th>\n",
              "      <th>fecha_inicio</th>\n",
              "      <th>delito</th>\n",
              "      <th>categoria_delito</th>\n",
              "      <th>sexo</th>\n",
              "      <th>edad</th>\n",
              "      <th>tipo_persona</th>\n",
              "      <th>calidad_juridica</th>\n",
              "      <th>competencia</th>\n",
              "      <th>anio_hechos</th>\n",
              "      <th>mes_hechos</th>\n",
              "      <th>fecha_hechos</th>\n",
              "      <th>hora_hechos</th>\n",
              "      <th>hora_inicio</th>\n",
              "      <th>alcaldia_hechos</th>\n",
              "      <th>colonia_hechos</th>\n",
              "      <th>calle_hechos</th>\n",
              "      <th>calle_hechos_2</th>\n",
              "      <th>latitud</th>\n",
              "      <th>longitud</th>\n",
              "    </tr>\n",
              "    <tr>\n",
              "      <th>idCarpeta</th>\n",
              "      <th></th>\n",
              "      <th></th>\n",
              "      <th></th>\n",
              "      <th></th>\n",
              "      <th></th>\n",
              "      <th></th>\n",
              "      <th></th>\n",
              "      <th></th>\n",
              "      <th></th>\n",
              "      <th></th>\n",
              "      <th></th>\n",
              "      <th></th>\n",
              "      <th></th>\n",
              "      <th></th>\n",
              "      <th></th>\n",
              "      <th></th>\n",
              "      <th></th>\n",
              "      <th></th>\n",
              "      <th></th>\n",
              "      <th></th>\n",
              "      <th></th>\n",
              "    </tr>\n",
              "  </thead>\n",
              "  <tbody>\n",
              "    <tr>\n",
              "      <th>8324429</th>\n",
              "      <td>2019</td>\n",
              "      <td>Enero</td>\n",
              "      <td>04/01/2019</td>\n",
              "      <td>FRAUDE</td>\n",
              "      <td>DELITO DE BAJO IMPACTO</td>\n",
              "      <td>Masculino</td>\n",
              "      <td>62.0</td>\n",
              "      <td>FISICA</td>\n",
              "      <td>OFENDIDO</td>\n",
              "      <td>FUERO COMUN</td>\n",
              "      <td>2018.0</td>\n",
              "      <td>Agosto</td>\n",
              "      <td>29/08/2018</td>\n",
              "      <td>12:00:00</td>\n",
              "      <td>12:19:00</td>\n",
              "      <td>ALVARO OBREGON</td>\n",
              "      <td>GUADALUPE INN</td>\n",
              "      <td>INSUGENTES SUR</td>\n",
              "      <td>NaN</td>\n",
              "      <td>19.36125</td>\n",
              "      <td>-99.18314</td>\n",
              "    </tr>\n",
              "    <tr>\n",
              "      <th>8324430</th>\n",
              "      <td>2019</td>\n",
              "      <td>Enero</td>\n",
              "      <td>04/01/2019</td>\n",
              "      <td>PRODUCCIÓN, IMPRESIÓN, ENAJENACIÓN, DISTRIBUCI...</td>\n",
              "      <td>DELITO DE BAJO IMPACTO</td>\n",
              "      <td>Femenino</td>\n",
              "      <td>38.0</td>\n",
              "      <td>FISICA</td>\n",
              "      <td>VICTIMA Y DENUNCIANTE</td>\n",
              "      <td>FUERO COMUN</td>\n",
              "      <td>2018.0</td>\n",
              "      <td>Diciembre</td>\n",
              "      <td>15/12/2018</td>\n",
              "      <td>15:00:00</td>\n",
              "      <td>12:20:00</td>\n",
              "      <td>AZCAPOTZALCO</td>\n",
              "      <td>VICTORIA DE LAS DEMOCRACIAS</td>\n",
              "      <td>AV.  CUATLAHUAC</td>\n",
              "      <td>NaN</td>\n",
              "      <td>19.47181</td>\n",
              "      <td>-99.16458</td>\n",
              "    </tr>\n",
              "  </tbody>\n",
              "</table>\n",
              "</div>"
            ],
            "text/plain": [
              "           anio_inicio mes_inicio  ...   latitud  longitud\n",
              "idCarpeta                          ...                    \n",
              "8324429           2019      Enero  ...  19.36125 -99.18314\n",
              "8324430           2019      Enero  ...  19.47181 -99.16458\n",
              "\n",
              "[2 rows x 21 columns]"
            ]
          },
          "metadata": {
            "tags": []
          },
          "execution_count": 33
        }
      ]
    },
    {
      "cell_type": "code",
      "metadata": {
        "colab": {
          "base_uri": "https://localhost:8080/"
        },
        "id": "2_ocEaFsGueU",
        "outputId": "8c67d6a2-617d-4a28-9c12-96ded064fad3"
      },
      "source": [
        "#Analizamos tipo de datos y observamos que se requiere cambiar algunos\r\n",
        "df_victimas_carpeta_cdmx_19_20.dtypes\r\n"
      ],
      "execution_count": null,
      "outputs": [
        {
          "output_type": "execute_result",
          "data": {
            "text/plain": [
              "anio_inicio           int64\n",
              "mes_inicio           object\n",
              "fecha_inicio         object\n",
              "delito               object\n",
              "categoria_delito     object\n",
              "sexo                 object\n",
              "edad                float64\n",
              "tipo_persona         object\n",
              "calidad_juridica     object\n",
              "competencia          object\n",
              "anio_hechos         float64\n",
              "mes_hechos           object\n",
              "fecha_hechos         object\n",
              "hora_hechos          object\n",
              "hora_inicio          object\n",
              "alcaldia_hechos      object\n",
              "colonia_hechos       object\n",
              "calle_hechos         object\n",
              "calle_hechos_2       object\n",
              "latitud             float64\n",
              "longitud            float64\n",
              "dtype: object"
            ]
          },
          "metadata": {
            "tags": []
          },
          "execution_count": 35
        }
      ]
    },
    {
      "cell_type": "code",
      "metadata": {
        "colab": {
          "base_uri": "https://localhost:8080/"
        },
        "id": "pxbLe-8fG2AT",
        "outputId": "9debab88-bf05-4eb4-e652-62181d5f00d8"
      },
      "source": [
        "#Antes de cambiar los tipos de datos\r\n",
        "#contamos el numero de valores NaN que tenemos\r\n",
        "df_victimas_carpeta_cdmx_19_20.isna().sum(axis=0)"
      ],
      "execution_count": null,
      "outputs": [
        {
          "output_type": "execute_result",
          "data": {
            "text/plain": [
              "anio_inicio              0\n",
              "mes_inicio               0\n",
              "fecha_inicio             0\n",
              "delito                   0\n",
              "categoria_delito         0\n",
              "sexo                101904\n",
              "edad                184752\n",
              "tipo_persona          8626\n",
              "calidad_juridica         0\n",
              "competencia              0\n",
              "anio_hechos            286\n",
              "mes_hechos             286\n",
              "fecha_hechos           286\n",
              "hora_hechos            284\n",
              "hora_inicio              1\n",
              "alcaldia_hechos         64\n",
              "colonia_hechos       19623\n",
              "calle_hechos           942\n",
              "calle_hechos_2      314899\n",
              "latitud              19393\n",
              "longitud             19395\n",
              "dtype: int64"
            ]
          },
          "metadata": {
            "tags": []
          },
          "execution_count": 36
        }
      ]
    },
    {
      "cell_type": "code",
      "metadata": {
        "colab": {
          "base_uri": "https://localhost:8080/",
          "height": 296
        },
        "id": "J2tnLFZSG4dG",
        "outputId": "f2d89342-3264-43d3-d276-2a1923b9b20f"
      },
      "source": [
        "#Vemos que tenemos la mayor cantidad de NaNs en las columnas calle_hechos_2.\r\n",
        "\r\n",
        "#Obteniendo indices\r\n",
        "index = df_victimas_carpeta_cdmx_19_20['edad'].index[df_victimas_carpeta_cdmx_19_20['edad'].apply(np.isnan)]\r\n",
        "#accesando a ellos\r\n",
        "df_victimas_carpeta_cdmx_19_20.loc[index].head(3)\r\n",
        "\r\n",
        "#Explorando los datos, notamos que no falta ningún dato importante sobre el inicio de la carpeta a excepción de un valor referente a la hora\r\n",
        "#sin embargo, falta información sobre sexo y edad de un gran número de víctimas.\r\n"
      ],
      "execution_count": null,
      "outputs": [
        {
          "output_type": "execute_result",
          "data": {
            "text/html": [
              "<div>\n",
              "<style scoped>\n",
              "    .dataframe tbody tr th:only-of-type {\n",
              "        vertical-align: middle;\n",
              "    }\n",
              "\n",
              "    .dataframe tbody tr th {\n",
              "        vertical-align: top;\n",
              "    }\n",
              "\n",
              "    .dataframe thead th {\n",
              "        text-align: right;\n",
              "    }\n",
              "</style>\n",
              "<table border=\"1\" class=\"dataframe\">\n",
              "  <thead>\n",
              "    <tr style=\"text-align: right;\">\n",
              "      <th></th>\n",
              "      <th>anio_inicio</th>\n",
              "      <th>mes_inicio</th>\n",
              "      <th>fecha_inicio</th>\n",
              "      <th>delito</th>\n",
              "      <th>categoria_delito</th>\n",
              "      <th>sexo</th>\n",
              "      <th>edad</th>\n",
              "      <th>tipo_persona</th>\n",
              "      <th>calidad_juridica</th>\n",
              "      <th>competencia</th>\n",
              "      <th>anio_hechos</th>\n",
              "      <th>mes_hechos</th>\n",
              "      <th>fecha_hechos</th>\n",
              "      <th>hora_hechos</th>\n",
              "      <th>hora_inicio</th>\n",
              "      <th>alcaldia_hechos</th>\n",
              "      <th>colonia_hechos</th>\n",
              "      <th>calle_hechos</th>\n",
              "      <th>calle_hechos_2</th>\n",
              "      <th>latitud</th>\n",
              "      <th>longitud</th>\n",
              "    </tr>\n",
              "    <tr>\n",
              "      <th>idCarpeta</th>\n",
              "      <th></th>\n",
              "      <th></th>\n",
              "      <th></th>\n",
              "      <th></th>\n",
              "      <th></th>\n",
              "      <th></th>\n",
              "      <th></th>\n",
              "      <th></th>\n",
              "      <th></th>\n",
              "      <th></th>\n",
              "      <th></th>\n",
              "      <th></th>\n",
              "      <th></th>\n",
              "      <th></th>\n",
              "      <th></th>\n",
              "      <th></th>\n",
              "      <th></th>\n",
              "      <th></th>\n",
              "      <th></th>\n",
              "      <th></th>\n",
              "      <th></th>\n",
              "    </tr>\n",
              "  </thead>\n",
              "  <tbody>\n",
              "    <tr>\n",
              "      <th>8324438</th>\n",
              "      <td>2019</td>\n",
              "      <td>Enero</td>\n",
              "      <td>04/01/2019</td>\n",
              "      <td>ROBO DE MOTOCICLETA SIN VIOLENCIA</td>\n",
              "      <td>ROBO DE VEHÍCULO CON Y SIN VIOLENCIA</td>\n",
              "      <td>Masculino</td>\n",
              "      <td>NaN</td>\n",
              "      <td>FISICA</td>\n",
              "      <td>VICTIMA</td>\n",
              "      <td>FUERO COMUN</td>\n",
              "      <td>2019.0</td>\n",
              "      <td>Enero</td>\n",
              "      <td>03/01/2019</td>\n",
              "      <td>20:00:00</td>\n",
              "      <td>12:35:00</td>\n",
              "      <td>IZTAPALAPA</td>\n",
              "      <td>PROGRESISTA</td>\n",
              "      <td>UNIVERSIDAD</td>\n",
              "      <td>NaN</td>\n",
              "      <td>19.35480</td>\n",
              "      <td>-99.06324</td>\n",
              "    </tr>\n",
              "    <tr>\n",
              "      <th>8324438</th>\n",
              "      <td>2019</td>\n",
              "      <td>Enero</td>\n",
              "      <td>04/01/2019</td>\n",
              "      <td>ROBO DE MOTOCICLETA SIN VIOLENCIA</td>\n",
              "      <td>ROBO DE VEHÍCULO CON Y SIN VIOLENCIA</td>\n",
              "      <td>Masculino</td>\n",
              "      <td>25.0</td>\n",
              "      <td>FISICA</td>\n",
              "      <td>OFENDIDO Y DENUNCIANTE</td>\n",
              "      <td>FUERO COMUN</td>\n",
              "      <td>2019.0</td>\n",
              "      <td>Enero</td>\n",
              "      <td>03/01/2019</td>\n",
              "      <td>20:00:00</td>\n",
              "      <td>12:35:00</td>\n",
              "      <td>IZTAPALAPA</td>\n",
              "      <td>PROGRESISTA</td>\n",
              "      <td>UNIVERSIDAD</td>\n",
              "      <td>NaN</td>\n",
              "      <td>19.35480</td>\n",
              "      <td>-99.06324</td>\n",
              "    </tr>\n",
              "    <tr>\n",
              "      <th>8324482</th>\n",
              "      <td>2019</td>\n",
              "      <td>Enero</td>\n",
              "      <td>04/01/2019</td>\n",
              "      <td>ROBO DE OBJETOS</td>\n",
              "      <td>DELITO DE BAJO IMPACTO</td>\n",
              "      <td>Masculino</td>\n",
              "      <td>NaN</td>\n",
              "      <td>FISICA</td>\n",
              "      <td>OFENDIDO</td>\n",
              "      <td>FUERO COMUN</td>\n",
              "      <td>2018.0</td>\n",
              "      <td>Diciembre</td>\n",
              "      <td>23/12/2018</td>\n",
              "      <td>10:00:00</td>\n",
              "      <td>13:19:00</td>\n",
              "      <td>CUAUHTEMOC</td>\n",
              "      <td>MORELOS</td>\n",
              "      <td>CONSTANCIA</td>\n",
              "      <td>NaN</td>\n",
              "      <td>19.44962</td>\n",
              "      <td>-99.12782</td>\n",
              "    </tr>\n",
              "  </tbody>\n",
              "</table>\n",
              "</div>"
            ],
            "text/plain": [
              "           anio_inicio mes_inicio  ...   latitud  longitud\n",
              "idCarpeta                          ...                    \n",
              "8324438           2019      Enero  ...  19.35480 -99.06324\n",
              "8324438           2019      Enero  ...  19.35480 -99.06324\n",
              "8324482           2019      Enero  ...  19.44962 -99.12782\n",
              "\n",
              "[3 rows x 21 columns]"
            ]
          },
          "metadata": {
            "tags": []
          },
          "execution_count": 38
        }
      ]
    },
    {
      "cell_type": "code",
      "metadata": {
        "id": "F6KxEk9GG9hU"
      },
      "source": [
        "#Modificamos el formato de las columnas mes y sexo\r\n",
        "df_victimas_carpeta_cdmx_19_20['mes_inicio'] = df_victimas_carpeta_cdmx_19_20['mes_inicio'].str.upper()\r\n",
        "df_victimas_carpeta_cdmx_19_20['mes_hechos'] = df_victimas_carpeta_cdmx_19_20['mes_hechos'].str.upper()\r\n",
        "df_victimas_carpeta_cdmx_19_20['sexo'] = df_victimas_carpeta_cdmx_19_20['sexo'].str.upper()\r\n"
      ],
      "execution_count": null,
      "outputs": []
    },
    {
      "cell_type": "code",
      "metadata": {
        "id": "W6xrWzOIHAr_"
      },
      "source": [
        "#Eliminamos las columnas competencia y calle_hechos_2 por la gran cantidad de NaNs que contienen\r\n",
        "df_victimas_carpeta_cdmx_19_20 = df_victimas_carpeta_cdmx_19_20.drop(labels=['calle_hechos_2'], axis=1)"
      ],
      "execution_count": null,
      "outputs": []
    },
    {
      "cell_type": "code",
      "metadata": {
        "colab": {
          "base_uri": "https://localhost:8080/",
          "height": 141
        },
        "id": "Rx2-XeNYHCIb",
        "outputId": "3ae5f9a9-4b68-4720-88bc-81ba5990dec4"
      },
      "source": [
        "#Combinaremos las columnas fecha_inicio y hora_inicio, modificando la columna de fecha_inicio\r\n",
        "#despues le cambiamos el tipo de dato a datetime\r\n",
        "df_victimas_carpeta_cdmx_19_20['fecha_inicio'] = df_victimas_carpeta_cdmx_19_20['fecha_inicio'] + \" \" +df_victimas_carpeta_cdmx_19_20['hora_inicio']\r\n",
        "df_victimas_carpeta_cdmx_19_20 = df_victimas_carpeta_cdmx_19_20[ ['fecha_inicio'] + [ col for col in df_victimas_carpeta_cdmx_19_20.columns if col != 'fecha_inicio' ] ]\r\n",
        "df_victimas_carpeta_cdmx_19_20['fecha_inicio'] = pd.to_datetime(df_victimas_carpeta_cdmx_19_20['fecha_inicio'], errors = 'coerce')\r\n",
        "df_victimas_carpeta_cdmx_19_20 = df_victimas_carpeta_cdmx_19_20.drop(labels=['hora_inicio'], axis=1)\r\n",
        "df_victimas_carpeta_cdmx_19_20.head(1)"
      ],
      "execution_count": null,
      "outputs": [
        {
          "output_type": "execute_result",
          "data": {
            "text/html": [
              "<div>\n",
              "<style scoped>\n",
              "    .dataframe tbody tr th:only-of-type {\n",
              "        vertical-align: middle;\n",
              "    }\n",
              "\n",
              "    .dataframe tbody tr th {\n",
              "        vertical-align: top;\n",
              "    }\n",
              "\n",
              "    .dataframe thead th {\n",
              "        text-align: right;\n",
              "    }\n",
              "</style>\n",
              "<table border=\"1\" class=\"dataframe\">\n",
              "  <thead>\n",
              "    <tr style=\"text-align: right;\">\n",
              "      <th></th>\n",
              "      <th>fecha_inicio</th>\n",
              "      <th>anio_inicio</th>\n",
              "      <th>mes_inicio</th>\n",
              "      <th>delito</th>\n",
              "      <th>categoria_delito</th>\n",
              "      <th>sexo</th>\n",
              "      <th>edad</th>\n",
              "      <th>tipo_persona</th>\n",
              "      <th>calidad_juridica</th>\n",
              "      <th>competencia</th>\n",
              "      <th>anio_hechos</th>\n",
              "      <th>mes_hechos</th>\n",
              "      <th>fecha_hechos</th>\n",
              "      <th>hora_hechos</th>\n",
              "      <th>alcaldia_hechos</th>\n",
              "      <th>colonia_hechos</th>\n",
              "      <th>calle_hechos</th>\n",
              "      <th>latitud</th>\n",
              "      <th>longitud</th>\n",
              "    </tr>\n",
              "    <tr>\n",
              "      <th>idCarpeta</th>\n",
              "      <th></th>\n",
              "      <th></th>\n",
              "      <th></th>\n",
              "      <th></th>\n",
              "      <th></th>\n",
              "      <th></th>\n",
              "      <th></th>\n",
              "      <th></th>\n",
              "      <th></th>\n",
              "      <th></th>\n",
              "      <th></th>\n",
              "      <th></th>\n",
              "      <th></th>\n",
              "      <th></th>\n",
              "      <th></th>\n",
              "      <th></th>\n",
              "      <th></th>\n",
              "      <th></th>\n",
              "      <th></th>\n",
              "    </tr>\n",
              "  </thead>\n",
              "  <tbody>\n",
              "    <tr>\n",
              "      <th>8324429</th>\n",
              "      <td>2019-04-01 12:19:00</td>\n",
              "      <td>2019</td>\n",
              "      <td>ENERO</td>\n",
              "      <td>FRAUDE</td>\n",
              "      <td>DELITO DE BAJO IMPACTO</td>\n",
              "      <td>MASCULINO</td>\n",
              "      <td>62.0</td>\n",
              "      <td>FISICA</td>\n",
              "      <td>OFENDIDO</td>\n",
              "      <td>FUERO COMUN</td>\n",
              "      <td>2018.0</td>\n",
              "      <td>AGOSTO</td>\n",
              "      <td>29/08/2018</td>\n",
              "      <td>12:00:00</td>\n",
              "      <td>ALVARO OBREGON</td>\n",
              "      <td>GUADALUPE INN</td>\n",
              "      <td>INSUGENTES SUR</td>\n",
              "      <td>19.36125</td>\n",
              "      <td>-99.18314</td>\n",
              "    </tr>\n",
              "  </tbody>\n",
              "</table>\n",
              "</div>"
            ],
            "text/plain": [
              "                 fecha_inicio  anio_inicio  ...   latitud  longitud\n",
              "idCarpeta                                   ...                    \n",
              "8324429   2019-04-01 12:19:00         2019  ...  19.36125 -99.18314\n",
              "\n",
              "[1 rows x 19 columns]"
            ]
          },
          "metadata": {
            "tags": []
          },
          "execution_count": 41
        }
      ]
    },
    {
      "cell_type": "code",
      "metadata": {
        "colab": {
          "base_uri": "https://localhost:8080/",
          "height": 141
        },
        "id": "Xd4n2SwvHQTk",
        "outputId": "679aac95-dd49-4b33-d1f5-8fbc11361fbf"
      },
      "source": [
        "#Combinaremos las columnas fecha_hechos y hora_hechos, modificando la columna de fecha_hechos\r\n",
        "#despues le cambiamos el tipo de dato a datetime\r\n",
        "df_victimas_carpeta_cdmx_19_20['fecha_hechos'] = df_victimas_carpeta_cdmx_19_20['fecha_hechos'] + \" \" +df_victimas_carpeta_cdmx_19_20['hora_hechos']\r\n",
        "df_victimas_carpeta_cdmx_19_20 = df_victimas_carpeta_cdmx_19_20[ ['fecha_hechos'] + [ col for col in df_victimas_carpeta_cdmx_19_20.columns if col != 'fecha_hechos' ] ]\r\n",
        "df_victimas_carpeta_cdmx_19_20['fecha_hechos'] = pd.to_datetime(df_victimas_carpeta_cdmx_19_20['fecha_hechos'], errors = 'coerce')\r\n",
        "df_victimas_carpeta_cdmx_19_20 = df_victimas_carpeta_cdmx_19_20.drop(labels=['hora_hechos'], axis=1)\r\n",
        "df_victimas_carpeta_cdmx_19_20.head(1)"
      ],
      "execution_count": null,
      "outputs": [
        {
          "output_type": "execute_result",
          "data": {
            "text/html": [
              "<div>\n",
              "<style scoped>\n",
              "    .dataframe tbody tr th:only-of-type {\n",
              "        vertical-align: middle;\n",
              "    }\n",
              "\n",
              "    .dataframe tbody tr th {\n",
              "        vertical-align: top;\n",
              "    }\n",
              "\n",
              "    .dataframe thead th {\n",
              "        text-align: right;\n",
              "    }\n",
              "</style>\n",
              "<table border=\"1\" class=\"dataframe\">\n",
              "  <thead>\n",
              "    <tr style=\"text-align: right;\">\n",
              "      <th></th>\n",
              "      <th>fecha_hechos</th>\n",
              "      <th>fecha_inicio</th>\n",
              "      <th>anio_inicio</th>\n",
              "      <th>mes_inicio</th>\n",
              "      <th>delito</th>\n",
              "      <th>categoria_delito</th>\n",
              "      <th>sexo</th>\n",
              "      <th>edad</th>\n",
              "      <th>tipo_persona</th>\n",
              "      <th>calidad_juridica</th>\n",
              "      <th>competencia</th>\n",
              "      <th>anio_hechos</th>\n",
              "      <th>mes_hechos</th>\n",
              "      <th>alcaldia_hechos</th>\n",
              "      <th>colonia_hechos</th>\n",
              "      <th>calle_hechos</th>\n",
              "      <th>latitud</th>\n",
              "      <th>longitud</th>\n",
              "    </tr>\n",
              "    <tr>\n",
              "      <th>idCarpeta</th>\n",
              "      <th></th>\n",
              "      <th></th>\n",
              "      <th></th>\n",
              "      <th></th>\n",
              "      <th></th>\n",
              "      <th></th>\n",
              "      <th></th>\n",
              "      <th></th>\n",
              "      <th></th>\n",
              "      <th></th>\n",
              "      <th></th>\n",
              "      <th></th>\n",
              "      <th></th>\n",
              "      <th></th>\n",
              "      <th></th>\n",
              "      <th></th>\n",
              "      <th></th>\n",
              "      <th></th>\n",
              "    </tr>\n",
              "  </thead>\n",
              "  <tbody>\n",
              "    <tr>\n",
              "      <th>8324429</th>\n",
              "      <td>2018-08-29 12:00:00</td>\n",
              "      <td>2019-04-01 12:19:00</td>\n",
              "      <td>2019</td>\n",
              "      <td>ENERO</td>\n",
              "      <td>FRAUDE</td>\n",
              "      <td>DELITO DE BAJO IMPACTO</td>\n",
              "      <td>MASCULINO</td>\n",
              "      <td>62.0</td>\n",
              "      <td>FISICA</td>\n",
              "      <td>OFENDIDO</td>\n",
              "      <td>FUERO COMUN</td>\n",
              "      <td>2018.0</td>\n",
              "      <td>AGOSTO</td>\n",
              "      <td>ALVARO OBREGON</td>\n",
              "      <td>GUADALUPE INN</td>\n",
              "      <td>INSUGENTES SUR</td>\n",
              "      <td>19.36125</td>\n",
              "      <td>-99.18314</td>\n",
              "    </tr>\n",
              "  </tbody>\n",
              "</table>\n",
              "</div>"
            ],
            "text/plain": [
              "                 fecha_hechos        fecha_inicio  ...   latitud  longitud\n",
              "idCarpeta                                          ...                    \n",
              "8324429   2018-08-29 12:00:00 2019-04-01 12:19:00  ...  19.36125 -99.18314\n",
              "\n",
              "[1 rows x 18 columns]"
            ]
          },
          "metadata": {
            "tags": []
          },
          "execution_count": 42
        }
      ]
    },
    {
      "cell_type": "code",
      "metadata": {
        "colab": {
          "base_uri": "https://localhost:8080/"
        },
        "id": "7xt2IsA2HeB8",
        "outputId": "da79a871-b758-46ff-cef1-6fffe31098b1"
      },
      "source": [
        "#Rellenamos los valores NaNs para recuperar la información\r\n",
        "\r\n",
        "df_victimas_carpeta_cdmx_19_20['sexo'] = df_victimas_carpeta_cdmx_19_20['sexo'].fillna('NO ESPECIFICADO')\r\n",
        "df_victimas_carpeta_cdmx_19_20['edad'] = df_victimas_carpeta_cdmx_19_20['edad'].fillna(0)\r\n",
        "df_victimas_carpeta_cdmx_19_20['tipo_persona'] = df_victimas_carpeta_cdmx_19_20['tipo_persona'].fillna('NO ESPECIFICADO')\r\n",
        "\r\n",
        "df_victimas_carpeta_cdmx_19_20['anio_hechos'] = df_victimas_carpeta_cdmx_19_20['anio_hechos'].fillna(0)\r\n",
        "df_victimas_carpeta_cdmx_19_20['mes_hechos'] = df_victimas_carpeta_cdmx_19_20['mes_hechos'].fillna('NO ESPECIFICADO')\r\n",
        "df_victimas_carpeta_cdmx_19_20['fecha_hechos'] = df_victimas_carpeta_cdmx_19_20['fecha_hechos'].fillna(0)\r\n",
        "df_victimas_carpeta_cdmx_19_20['fecha_inicio'] = df_victimas_carpeta_cdmx_19_20['fecha_inicio'].fillna(0)\r\n",
        "#df_victimas_carpeta_cdmx_19_20['hora_inicio'] = df_victimas_carpeta_cdmx_19_20['hora_inicio'].fillna(0)\r\n",
        "df_victimas_carpeta_cdmx_19_20['alcaldia_hechos'] = df_victimas_carpeta_cdmx_19_20['alcaldia_hechos'].fillna('NO ESPECIFICADO')\r\n",
        "df_victimas_carpeta_cdmx_19_20['colonia_hechos'] = df_victimas_carpeta_cdmx_19_20['colonia_hechos'].fillna('NO ESPECIFICADO')\r\n",
        "df_victimas_carpeta_cdmx_19_20['calle_hechos'] = df_victimas_carpeta_cdmx_19_20['calle_hechos'].fillna('NO ESPECIFICADO')\r\n",
        "\r\n",
        "df_victimas_carpeta_cdmx_19_20['longitud'] = df_victimas_carpeta_cdmx_19_20['longitud'].fillna(0)\r\n",
        "df_victimas_carpeta_cdmx_19_20['latitud'] = df_victimas_carpeta_cdmx_19_20['latitud'].fillna(0)\r\n",
        "\r\n",
        "#Observamos si tenemos NaNs\r\n",
        "df_victimas_carpeta_cdmx_19_20.isna().sum(axis=0)"
      ],
      "execution_count": null,
      "outputs": [
        {
          "output_type": "execute_result",
          "data": {
            "text/plain": [
              "fecha_hechos        0\n",
              "fecha_inicio        0\n",
              "anio_inicio         0\n",
              "mes_inicio          0\n",
              "delito              0\n",
              "categoria_delito    0\n",
              "sexo                0\n",
              "edad                0\n",
              "tipo_persona        0\n",
              "calidad_juridica    0\n",
              "competencia         0\n",
              "anio_hechos         0\n",
              "mes_hechos          0\n",
              "alcaldia_hechos     0\n",
              "colonia_hechos      0\n",
              "calle_hechos        0\n",
              "latitud             0\n",
              "longitud            0\n",
              "dtype: int64"
            ]
          },
          "metadata": {
            "tags": []
          },
          "execution_count": 43
        }
      ]
    },
    {
      "cell_type": "code",
      "metadata": {
        "colab": {
          "base_uri": "https://localhost:8080/"
        },
        "id": "jIV8X9xDHhUv",
        "outputId": "b8ae6127-0394-4daf-a5f8-95cdc68c6514"
      },
      "source": [
        "#Ya limpios los datos, cambiamos el tipo de dato de las columnas\r\n",
        "df_victimas_carpeta_cdmx_19_20['fecha_hechos'] = pd.to_datetime(df_victimas_carpeta_cdmx_19_20['fecha_hechos'], errors = 'coerce')\r\n",
        "df_victimas_carpeta_cdmx_19_20['fecha_inicio'] = pd.to_datetime(df_victimas_carpeta_cdmx_19_20['fecha_inicio'], errors = 'coerce')\r\n",
        "df_victimas_carpeta_cdmx_19_20['anio_hechos'] = df_victimas_carpeta_cdmx_19_20['anio_hechos'].astype('int64')\r\n",
        "df_victimas_carpeta_cdmx_19_20['edad'] = df_victimas_carpeta_cdmx_19_20['edad'].astype('int64')\r\n",
        "\r\n",
        "#Confirmamos el cambio de tipo de dato\r\n",
        "df_victimas_carpeta_cdmx_19_20.dtypes"
      ],
      "execution_count": null,
      "outputs": [
        {
          "output_type": "execute_result",
          "data": {
            "text/plain": [
              "fecha_hechos        datetime64[ns]\n",
              "fecha_inicio        datetime64[ns]\n",
              "anio_inicio                  int64\n",
              "mes_inicio                  object\n",
              "delito                      object\n",
              "categoria_delito            object\n",
              "sexo                        object\n",
              "edad                         int64\n",
              "tipo_persona                object\n",
              "calidad_juridica            object\n",
              "competencia                 object\n",
              "anio_hechos                  int64\n",
              "mes_hechos                  object\n",
              "alcaldia_hechos             object\n",
              "colonia_hechos              object\n",
              "calle_hechos                object\n",
              "latitud                    float64\n",
              "longitud                   float64\n",
              "dtype: object"
            ]
          },
          "metadata": {
            "tags": []
          },
          "execution_count": 44
        }
      ]
    },
    {
      "cell_type": "code",
      "metadata": {
        "colab": {
          "base_uri": "https://localhost:8080/"
        },
        "id": "bVovQ_XvHmFv",
        "outputId": "3c3212da-dce8-4cd9-dea4-1d21e70afd5a"
      },
      "source": [
        "#Ya limpios los datos, cambiamos el tipo de dato de las columnas\r\n",
        "df_victimas_carpeta_cdmx_19_20['fecha_hechos'] = pd.to_datetime(df_victimas_carpeta_cdmx_19_20['fecha_hechos'], errors = 'coerce')\r\n",
        "df_victimas_carpeta_cdmx_19_20['fecha_inicio'] = pd.to_datetime(df_victimas_carpeta_cdmx_19_20['fecha_inicio'], errors = 'coerce')\r\n",
        "df_victimas_carpeta_cdmx_19_20['anio_hechos'] = df_victimas_carpeta_cdmx_19_20['anio_hechos'].astype('int64')\r\n",
        "df_victimas_carpeta_cdmx_19_20['edad'] = df_victimas_carpeta_cdmx_19_20['edad'].astype('int64')\r\n",
        "\r\n",
        "#Confirmamos el cambio de tipo de dato\r\n",
        "df_victimas_carpeta_cdmx_19_20.dtypes"
      ],
      "execution_count": null,
      "outputs": [
        {
          "output_type": "execute_result",
          "data": {
            "text/plain": [
              "fecha_hechos        datetime64[ns]\n",
              "fecha_inicio        datetime64[ns]\n",
              "anio_inicio                  int64\n",
              "mes_inicio                  object\n",
              "delito                      object\n",
              "categoria_delito            object\n",
              "sexo                        object\n",
              "edad                         int64\n",
              "tipo_persona                object\n",
              "calidad_juridica            object\n",
              "competencia                 object\n",
              "anio_hechos                  int64\n",
              "mes_hechos                  object\n",
              "alcaldia_hechos             object\n",
              "colonia_hechos              object\n",
              "calle_hechos                object\n",
              "latitud                    float64\n",
              "longitud                   float64\n",
              "dtype: object"
            ]
          },
          "metadata": {
            "tags": []
          },
          "execution_count": 45
        }
      ]
    },
    {
      "cell_type": "code",
      "metadata": {
        "colab": {
          "base_uri": "https://localhost:8080/"
        },
        "id": "0ULO02yQHrpL",
        "outputId": "41a0bb6e-3928-48cd-b76b-ee5db655ca74"
      },
      "source": [
        "#Victimas totales desde 2019-2021 clasificadas por sexo\r\n",
        "df_victimas_carpeta_cdmx_19_20.groupby('sexo')['delito'].count().sort_values(ascending=False)"
      ],
      "execution_count": null,
      "outputs": [
        {
          "output_type": "execute_result",
          "data": {
            "text/plain": [
              "sexo\n",
              "MASCULINO          217968\n",
              "FEMENINO           176991\n",
              "NO ESPECIFICADO    101904\n",
              "Name: delito, dtype: int64"
            ]
          },
          "metadata": {
            "tags": []
          },
          "execution_count": 46
        }
      ]
    },
    {
      "cell_type": "code",
      "metadata": {
        "colab": {
          "base_uri": "https://localhost:8080/",
          "height": 420
        },
        "id": "lwIgrnYTHvYh",
        "outputId": "0193f13f-abb7-4245-9530-8dc125bbc819"
      },
      "source": [
        "#Victimas totales clasificados por año, sexo y mes en el que se reportó el delito\r\n",
        "df_victimas_carpeta_cdmx_19_20.groupby(['anio_inicio','mes_inicio','sexo'])[['delito']].count().sort_values(['anio_inicio','mes_inicio','delito'], ascending=[True,True,False])"
      ],
      "execution_count": null,
      "outputs": [
        {
          "output_type": "execute_result",
          "data": {
            "text/html": [
              "<div>\n",
              "<style scoped>\n",
              "    .dataframe tbody tr th:only-of-type {\n",
              "        vertical-align: middle;\n",
              "    }\n",
              "\n",
              "    .dataframe tbody tr th {\n",
              "        vertical-align: top;\n",
              "    }\n",
              "\n",
              "    .dataframe thead th {\n",
              "        text-align: right;\n",
              "    }\n",
              "</style>\n",
              "<table border=\"1\" class=\"dataframe\">\n",
              "  <thead>\n",
              "    <tr style=\"text-align: right;\">\n",
              "      <th></th>\n",
              "      <th></th>\n",
              "      <th></th>\n",
              "      <th>delito</th>\n",
              "    </tr>\n",
              "    <tr>\n",
              "      <th>anio_inicio</th>\n",
              "      <th>mes_inicio</th>\n",
              "      <th>sexo</th>\n",
              "      <th></th>\n",
              "    </tr>\n",
              "  </thead>\n",
              "  <tbody>\n",
              "    <tr>\n",
              "      <th rowspan=\"5\" valign=\"top\">2019</th>\n",
              "      <th rowspan=\"3\" valign=\"top\">ABRIL</th>\n",
              "      <th>MASCULINO</th>\n",
              "      <td>10412</td>\n",
              "    </tr>\n",
              "    <tr>\n",
              "      <th>FEMENINO</th>\n",
              "      <td>7869</td>\n",
              "    </tr>\n",
              "    <tr>\n",
              "      <th>NO ESPECIFICADO</th>\n",
              "      <td>4640</td>\n",
              "    </tr>\n",
              "    <tr>\n",
              "      <th rowspan=\"2\" valign=\"top\">AGOSTO</th>\n",
              "      <th>MASCULINO</th>\n",
              "      <td>10347</td>\n",
              "    </tr>\n",
              "    <tr>\n",
              "      <th>FEMENINO</th>\n",
              "      <td>8177</td>\n",
              "    </tr>\n",
              "    <tr>\n",
              "      <th>...</th>\n",
              "      <th>...</th>\n",
              "      <th>...</th>\n",
              "      <td>...</td>\n",
              "    </tr>\n",
              "    <tr>\n",
              "      <th rowspan=\"2\" valign=\"top\">2020</th>\n",
              "      <th rowspan=\"2\" valign=\"top\">SEPTIEMBRE</th>\n",
              "      <th>FEMENINO</th>\n",
              "      <td>6907</td>\n",
              "    </tr>\n",
              "    <tr>\n",
              "      <th>NO ESPECIFICADO</th>\n",
              "      <td>3425</td>\n",
              "    </tr>\n",
              "    <tr>\n",
              "      <th rowspan=\"3\" valign=\"top\">2021</th>\n",
              "      <th rowspan=\"3\" valign=\"top\">ENERO</th>\n",
              "      <th>MASCULINO</th>\n",
              "      <td>7248</td>\n",
              "    </tr>\n",
              "    <tr>\n",
              "      <th>FEMENINO</th>\n",
              "      <td>6150</td>\n",
              "    </tr>\n",
              "    <tr>\n",
              "      <th>NO ESPECIFICADO</th>\n",
              "      <td>3176</td>\n",
              "    </tr>\n",
              "  </tbody>\n",
              "</table>\n",
              "<p>75 rows × 1 columns</p>\n",
              "</div>"
            ],
            "text/plain": [
              "                                        delito\n",
              "anio_inicio mes_inicio sexo                   \n",
              "2019        ABRIL      MASCULINO         10412\n",
              "                       FEMENINO           7869\n",
              "                       NO ESPECIFICADO    4640\n",
              "            AGOSTO     MASCULINO         10347\n",
              "                       FEMENINO           8177\n",
              "...                                        ...\n",
              "2020        SEPTIEMBRE FEMENINO           6907\n",
              "                       NO ESPECIFICADO    3425\n",
              "2021        ENERO      MASCULINO          7248\n",
              "                       FEMENINO           6150\n",
              "                       NO ESPECIFICADO    3176\n",
              "\n",
              "[75 rows x 1 columns]"
            ]
          },
          "metadata": {
            "tags": []
          },
          "execution_count": 48
        }
      ]
    },
    {
      "cell_type": "code",
      "metadata": {
        "colab": {
          "base_uri": "https://localhost:8080/"
        },
        "id": "ncl1aUchH9zI",
        "outputId": "b02e5fe6-5e24-41fd-aaa7-946afe568fcb"
      },
      "source": [
        "#Victimas registrados, clasificadas por nombre del delito. 10 Delitos con mayor número de víctimas\r\n",
        "df_victimas_carpeta_cdmx_19_20.groupby('delito')['categoria_delito'].count().sort_values(ascending=False).head(10)"
      ],
      "execution_count": null,
      "outputs": [
        {
          "output_type": "execute_result",
          "data": {
            "text/plain": [
              "delito\n",
              "VIOLENCIA FAMILIAR                                       59607\n",
              "FRAUDE                                                   31363\n",
              "AMENAZAS                                                 30183\n",
              "ROBO A TRANSEUNTE EN VIA PUBLICA CON VIOLENCIA           24784\n",
              "ROBO A NEGOCIO SIN VIOLENCIA                             24589\n",
              "ROBO DE OBJETOS                                          22987\n",
              "ROBO A NEGOCIO CON VIOLENCIA                             16576\n",
              "ROBO DE ACCESORIOS DE AUTO                               15960\n",
              "ROBO DE VEHICULO DE SERVICIO PARTICULAR SIN VIOLENCIA    12300\n",
              "ROBO DE OBJETOS DEL INTERIOR DE UN VEHICULO              12219\n",
              "Name: categoria_delito, dtype: int64"
            ]
          },
          "metadata": {
            "tags": []
          },
          "execution_count": 51
        }
      ]
    },
    {
      "cell_type": "code",
      "metadata": {
        "colab": {
          "base_uri": "https://localhost:8080/"
        },
        "id": "NCTmpAYKIFjY",
        "outputId": "9f9a000f-128c-45f5-c9c7-2c502bc77d84"
      },
      "source": [
        "#Tendencia por delegación de cualquier tipo de violencia de género \r\n",
        "\r\n",
        "lista_violencia = ['VIOLENCIA FAMILIAR', 'ABUSO SEXUAL', 'VIOLACION', 'ACOSO SEXUAL',\r\n",
        "                         'VIOLACION EQUIPARADA', 'CONTRA LA INTIMIDAD SEXUAL', 'ABORTO', 'TRATA DE PERSONAS', 'PORNOGRAFÍA',\r\n",
        "                         'FEMINICIDIO', 'VIOLACION DE CORRESPONDENCIA','VIOLACION TUMULTUARIA','ACOSO SEXUAL AGRAVADO EN CONTRA DE MENORES',\r\n",
        "                         'VIOLACION EQUIPARADA POR CONOCIDO', 'TENTATIVA DE VIOLACION', 'FEMINICIDIO POR ARMA BLANCA', \r\n",
        "                         'FEMINICIDIO POR DISPARO DE ARMA DE FUEGO', 'PRIVACION DE LA LIBERTAD PERSONAL (REALIZAR ACTO SEXUAL)', \r\n",
        "                         'FEMINICIDIO POR GOLPES', 'TENTATIVA DE FEMINICIDIO', 'VIOLACION EQUIPARADA Y ROBO DE VEHICULO', 'LENOCINIO', \r\n",
        "                         'VIOLACION TUMULTUARIA EQUIPARADA POR CONOCIDO', 'VIOLACION TUMULTUARIA EQUIPARADA' ,'INCESTO', 'VIOLACION Y ROBO DE VEHICULO',\r\n",
        "                         'PROCREACION ASISTIDA, INSEMINACION ARTIFICIAL Y ESTERILIZACION FORZADA', 'PROCREACION ASISTIDA']\r\n",
        "\r\n",
        "df_victimas_carpeta_cdmx_19_20[df_victimas_carpeta_cdmx_19_20['delito'].isin(lista_violencia)].groupby(['alcaldia_hechos'])['delito'].count().sort_values(ascending=False).head(16)"
      ],
      "execution_count": null,
      "outputs": [
        {
          "output_type": "execute_result",
          "data": {
            "text/plain": [
              "alcaldia_hechos\n",
              "IZTAPALAPA                12691\n",
              "GUSTAVO A MADERO           9233\n",
              "CUAUHTEMOC                 7408\n",
              "ALVARO OBREGON             5893\n",
              "TLALPAN                    4970\n",
              "COYOACAN                   4639\n",
              "VENUSTIANO CARRANZA        4272\n",
              "IZTACALCO                  3821\n",
              "XOCHIMILCO                 3561\n",
              "AZCAPOTZALCO               3471\n",
              "MIGUEL HIDALGO             3154\n",
              "TLAHUAC                    3032\n",
              "BENITO JUAREZ              2624\n",
              "LA MAGDALENA CONTRERAS     2480\n",
              "CUAJIMALPA DE MORELOS      1452\n",
              "MILPA ALTA                 1197\n",
              "Name: delito, dtype: int64"
            ]
          },
          "metadata": {
            "tags": []
          },
          "execution_count": 52
        }
      ]
    },
    {
      "cell_type": "code",
      "metadata": {
        "id": "d6mgvLYaIb0Z"
      },
      "source": [
        "#Creación de subdataframe sobre los delitos relacionados con violencia de género\r\n",
        "#Ordenado por año, alcaldía y tipo de delito\r\n",
        "\r\n",
        "df_victimas_violencia_de_genero_cdmx_19_21 = pd.DataFrame(df_victimas_carpeta_cdmx_19_20[df_victimas_carpeta_cdmx_19_20['delito'].isin(lista_violencia)].groupby(['anio_inicio','alcaldia_hechos','delito','sexo'])['competencia'].count()).sort_values(['anio_inicio','competencia'], ascending=[True,False])\r\n",
        "df_victimas_violencia_de_genero_cdmx_19_21 = df_victimas_violencia_de_genero_cdmx_19_21.rename(columns={'competencia':'total_victimas'})"
      ],
      "execution_count": null,
      "outputs": []
    },
    {
      "cell_type": "code",
      "metadata": {
        "id": "spCOBE4MInWo",
        "colab": {
          "base_uri": "https://localhost:8080/",
          "height": 301
        },
        "outputId": "bb2da005-263a-4f9c-da98-8ba7a5721876"
      },
      "source": [
        "#Número de victimas en el 2019 en las 5 alcaldias con mayor registro\r\n",
        "df_victimas_violencia_de_genero_cdmx_19_21.filter(like='2019', axis=0).head(5)"
      ],
      "execution_count": null,
      "outputs": [
        {
          "output_type": "execute_result",
          "data": {
            "text/html": [
              "<div>\n",
              "<style scoped>\n",
              "    .dataframe tbody tr th:only-of-type {\n",
              "        vertical-align: middle;\n",
              "    }\n",
              "\n",
              "    .dataframe tbody tr th {\n",
              "        vertical-align: top;\n",
              "    }\n",
              "\n",
              "    .dataframe thead th {\n",
              "        text-align: right;\n",
              "    }\n",
              "</style>\n",
              "<table border=\"1\" class=\"dataframe\">\n",
              "  <thead>\n",
              "    <tr style=\"text-align: right;\">\n",
              "      <th></th>\n",
              "      <th></th>\n",
              "      <th></th>\n",
              "      <th></th>\n",
              "      <th>total_victimas</th>\n",
              "    </tr>\n",
              "    <tr>\n",
              "      <th>anio_inicio</th>\n",
              "      <th>alcaldia_hechos</th>\n",
              "      <th>delito</th>\n",
              "      <th>sexo</th>\n",
              "      <th></th>\n",
              "    </tr>\n",
              "  </thead>\n",
              "  <tbody>\n",
              "    <tr>\n",
              "      <th rowspan=\"5\" valign=\"top\">2019</th>\n",
              "      <th>IZTAPALAPA</th>\n",
              "      <th>VIOLENCIA FAMILIAR</th>\n",
              "      <th>FEMENINO</th>\n",
              "      <td>3758</td>\n",
              "    </tr>\n",
              "    <tr>\n",
              "      <th>GUSTAVO A MADERO</th>\n",
              "      <th>VIOLENCIA FAMILIAR</th>\n",
              "      <th>FEMENINO</th>\n",
              "      <td>2450</td>\n",
              "    </tr>\n",
              "    <tr>\n",
              "      <th>CUAUHTEMOC</th>\n",
              "      <th>VIOLENCIA FAMILIAR</th>\n",
              "      <th>FEMENINO</th>\n",
              "      <td>1693</td>\n",
              "    </tr>\n",
              "    <tr>\n",
              "      <th>ALVARO OBREGON</th>\n",
              "      <th>VIOLENCIA FAMILIAR</th>\n",
              "      <th>FEMENINO</th>\n",
              "      <td>1650</td>\n",
              "    </tr>\n",
              "    <tr>\n",
              "      <th>TLALPAN</th>\n",
              "      <th>VIOLENCIA FAMILIAR</th>\n",
              "      <th>FEMENINO</th>\n",
              "      <td>1525</td>\n",
              "    </tr>\n",
              "  </tbody>\n",
              "</table>\n",
              "</div>"
            ],
            "text/plain": [
              "                                                          total_victimas\n",
              "anio_inicio alcaldia_hechos  delito             sexo                    \n",
              "2019        IZTAPALAPA       VIOLENCIA FAMILIAR FEMENINO            3758\n",
              "            GUSTAVO A MADERO VIOLENCIA FAMILIAR FEMENINO            2450\n",
              "            CUAUHTEMOC       VIOLENCIA FAMILIAR FEMENINO            1693\n",
              "            ALVARO OBREGON   VIOLENCIA FAMILIAR FEMENINO            1650\n",
              "            TLALPAN          VIOLENCIA FAMILIAR FEMENINO            1525"
            ]
          },
          "metadata": {
            "tags": []
          },
          "execution_count": 55
        }
      ]
    },
    {
      "cell_type": "code",
      "metadata": {
        "id": "SxVntgHCIpw6",
        "colab": {
          "base_uri": "https://localhost:8080/",
          "height": 301
        },
        "outputId": "80c00313-4f30-487f-a995-64f2c9caded3"
      },
      "source": [
        "#Número de victimas en el 2020 en las 5 alcaldias con mayor registro\r\n",
        "df_victimas_violencia_de_genero_cdmx_19_21.filter(like='2020', axis=0).head(5)"
      ],
      "execution_count": null,
      "outputs": [
        {
          "output_type": "execute_result",
          "data": {
            "text/html": [
              "<div>\n",
              "<style scoped>\n",
              "    .dataframe tbody tr th:only-of-type {\n",
              "        vertical-align: middle;\n",
              "    }\n",
              "\n",
              "    .dataframe tbody tr th {\n",
              "        vertical-align: top;\n",
              "    }\n",
              "\n",
              "    .dataframe thead th {\n",
              "        text-align: right;\n",
              "    }\n",
              "</style>\n",
              "<table border=\"1\" class=\"dataframe\">\n",
              "  <thead>\n",
              "    <tr style=\"text-align: right;\">\n",
              "      <th></th>\n",
              "      <th></th>\n",
              "      <th></th>\n",
              "      <th></th>\n",
              "      <th>total_victimas</th>\n",
              "    </tr>\n",
              "    <tr>\n",
              "      <th>anio_inicio</th>\n",
              "      <th>alcaldia_hechos</th>\n",
              "      <th>delito</th>\n",
              "      <th>sexo</th>\n",
              "      <th></th>\n",
              "    </tr>\n",
              "  </thead>\n",
              "  <tbody>\n",
              "    <tr>\n",
              "      <th rowspan=\"5\" valign=\"top\">2020</th>\n",
              "      <th>IZTAPALAPA</th>\n",
              "      <th>VIOLENCIA FAMILIAR</th>\n",
              "      <th>FEMENINO</th>\n",
              "      <td>3692</td>\n",
              "    </tr>\n",
              "    <tr>\n",
              "      <th>GUSTAVO A MADERO</th>\n",
              "      <th>VIOLENCIA FAMILIAR</th>\n",
              "      <th>FEMENINO</th>\n",
              "      <td>2915</td>\n",
              "    </tr>\n",
              "    <tr>\n",
              "      <th>CUAUHTEMOC</th>\n",
              "      <th>VIOLENCIA FAMILIAR</th>\n",
              "      <th>FEMENINO</th>\n",
              "      <td>1737</td>\n",
              "    </tr>\n",
              "    <tr>\n",
              "      <th>ALVARO OBREGON</th>\n",
              "      <th>VIOLENCIA FAMILIAR</th>\n",
              "      <th>FEMENINO</th>\n",
              "      <td>1674</td>\n",
              "    </tr>\n",
              "    <tr>\n",
              "      <th>TLALPAN</th>\n",
              "      <th>VIOLENCIA FAMILIAR</th>\n",
              "      <th>FEMENINO</th>\n",
              "      <td>1475</td>\n",
              "    </tr>\n",
              "  </tbody>\n",
              "</table>\n",
              "</div>"
            ],
            "text/plain": [
              "                                                          total_victimas\n",
              "anio_inicio alcaldia_hechos  delito             sexo                    \n",
              "2020        IZTAPALAPA       VIOLENCIA FAMILIAR FEMENINO            3692\n",
              "            GUSTAVO A MADERO VIOLENCIA FAMILIAR FEMENINO            2915\n",
              "            CUAUHTEMOC       VIOLENCIA FAMILIAR FEMENINO            1737\n",
              "            ALVARO OBREGON   VIOLENCIA FAMILIAR FEMENINO            1674\n",
              "            TLALPAN          VIOLENCIA FAMILIAR FEMENINO            1475"
            ]
          },
          "metadata": {
            "tags": []
          },
          "execution_count": 56
        }
      ]
    },
    {
      "cell_type": "code",
      "metadata": {
        "id": "nOziq8ZfIsTe",
        "colab": {
          "base_uri": "https://localhost:8080/",
          "height": 301
        },
        "outputId": "013dbe5a-567a-4b91-dea0-7c59eef61b5e"
      },
      "source": [
        "#Número de victimas en el 2021 en las 5 alcaldias con mayor registro\r\n",
        "df_victimas_violencia_de_genero_cdmx_19_21.filter(like='2021', axis=0).head(5)"
      ],
      "execution_count": null,
      "outputs": [
        {
          "output_type": "execute_result",
          "data": {
            "text/html": [
              "<div>\n",
              "<style scoped>\n",
              "    .dataframe tbody tr th:only-of-type {\n",
              "        vertical-align: middle;\n",
              "    }\n",
              "\n",
              "    .dataframe tbody tr th {\n",
              "        vertical-align: top;\n",
              "    }\n",
              "\n",
              "    .dataframe thead th {\n",
              "        text-align: right;\n",
              "    }\n",
              "</style>\n",
              "<table border=\"1\" class=\"dataframe\">\n",
              "  <thead>\n",
              "    <tr style=\"text-align: right;\">\n",
              "      <th></th>\n",
              "      <th></th>\n",
              "      <th></th>\n",
              "      <th></th>\n",
              "      <th>total_victimas</th>\n",
              "    </tr>\n",
              "    <tr>\n",
              "      <th>anio_inicio</th>\n",
              "      <th>alcaldia_hechos</th>\n",
              "      <th>delito</th>\n",
              "      <th>sexo</th>\n",
              "      <th></th>\n",
              "    </tr>\n",
              "  </thead>\n",
              "  <tbody>\n",
              "    <tr>\n",
              "      <th rowspan=\"5\" valign=\"top\">2021</th>\n",
              "      <th>IZTAPALAPA</th>\n",
              "      <th>VIOLENCIA FAMILIAR</th>\n",
              "      <th>FEMENINO</th>\n",
              "      <td>269</td>\n",
              "    </tr>\n",
              "    <tr>\n",
              "      <th>GUSTAVO A MADERO</th>\n",
              "      <th>VIOLENCIA FAMILIAR</th>\n",
              "      <th>FEMENINO</th>\n",
              "      <td>265</td>\n",
              "    </tr>\n",
              "    <tr>\n",
              "      <th>ALVARO OBREGON</th>\n",
              "      <th>VIOLENCIA FAMILIAR</th>\n",
              "      <th>FEMENINO</th>\n",
              "      <td>145</td>\n",
              "    </tr>\n",
              "    <tr>\n",
              "      <th>CUAUHTEMOC</th>\n",
              "      <th>VIOLENCIA FAMILIAR</th>\n",
              "      <th>FEMENINO</th>\n",
              "      <td>139</td>\n",
              "    </tr>\n",
              "    <tr>\n",
              "      <th>COYOACAN</th>\n",
              "      <th>VIOLENCIA FAMILIAR</th>\n",
              "      <th>FEMENINO</th>\n",
              "      <td>121</td>\n",
              "    </tr>\n",
              "  </tbody>\n",
              "</table>\n",
              "</div>"
            ],
            "text/plain": [
              "                                                          total_victimas\n",
              "anio_inicio alcaldia_hechos  delito             sexo                    \n",
              "2021        IZTAPALAPA       VIOLENCIA FAMILIAR FEMENINO             269\n",
              "            GUSTAVO A MADERO VIOLENCIA FAMILIAR FEMENINO             265\n",
              "            ALVARO OBREGON   VIOLENCIA FAMILIAR FEMENINO             145\n",
              "            CUAUHTEMOC       VIOLENCIA FAMILIAR FEMENINO             139\n",
              "            COYOACAN         VIOLENCIA FAMILIAR FEMENINO             121"
            ]
          },
          "metadata": {
            "tags": []
          },
          "execution_count": 57
        }
      ]
    },
    {
      "cell_type": "markdown",
      "metadata": {
        "id": "73UeQrjUYmmP"
      },
      "source": [
        "### **Limpieza y análisis de `municipal_delitos_nacional_2015_ene2021.csv `**"
      ]
    },
    {
      "cell_type": "markdown",
      "metadata": {
        "id": "2D8lPi5fAz1A"
      },
      "source": [
        "Esta base de datos ontiene las cifras de incidencia delictiva municipal, 2015 - enero 2021 en todo México a nivel municipal. Publicados por el Secretariado Ejecutivo del Sistema Nacional de Seguridad Pública.\r\n",
        "\r\n",
        "Contiene variables como entidad, municipio, numeros de delitos por mes, tipo y subtipo de delito cometido.\r\n",
        "\r\n",
        "Se añadió una nueva columna de delitos totales por año."
      ]
    },
    {
      "cell_type": "code",
      "metadata": {
        "id": "2kloMheXtKcW"
      },
      "source": [
        "#Importando las paqueterías necesarias \n",
        "import pandas as pd \n",
        "import os \n",
        "import numpy as np "
      ],
      "execution_count": null,
      "outputs": []
    },
    {
      "cell_type": "code",
      "metadata": {
        "colab": {
          "base_uri": "https://localhost:8080/",
          "height": 271
        },
        "id": "AarFrGO2jYzN",
        "outputId": "8c1fc5c6-f331-432c-e312-f2240a1780ce"
      },
      "source": [
        "#Lectura de archivos .csv\n",
        "path_municipal_delitos_nacional = '/content/municipal_delitos_nacional_2015_ene2021.csv'\n",
        "data_municipal_delitos_nacional = pd.read_csv(path_municipal_delitos_nacional, encoding = \"latin\")\n",
        "data_municipal_delitos_nacional.head(2)"
      ],
      "execution_count": null,
      "outputs": [
        {
          "output_type": "execute_result",
          "data": {
            "text/html": [
              "<div>\n",
              "<style scoped>\n",
              "    .dataframe tbody tr th:only-of-type {\n",
              "        vertical-align: middle;\n",
              "    }\n",
              "\n",
              "    .dataframe tbody tr th {\n",
              "        vertical-align: top;\n",
              "    }\n",
              "\n",
              "    .dataframe thead th {\n",
              "        text-align: right;\n",
              "    }\n",
              "</style>\n",
              "<table border=\"1\" class=\"dataframe\">\n",
              "  <thead>\n",
              "    <tr style=\"text-align: right;\">\n",
              "      <th></th>\n",
              "      <th>Año</th>\n",
              "      <th>Clave_Ent</th>\n",
              "      <th>Entidad</th>\n",
              "      <th>Cve. Municipio</th>\n",
              "      <th>Municipio</th>\n",
              "      <th>Bien jurídico afectado</th>\n",
              "      <th>Tipo de delito</th>\n",
              "      <th>Subtipo de delito</th>\n",
              "      <th>Modalidad</th>\n",
              "      <th>Enero</th>\n",
              "      <th>Febrero</th>\n",
              "      <th>Marzo</th>\n",
              "      <th>Abril</th>\n",
              "      <th>Mayo</th>\n",
              "      <th>Junio</th>\n",
              "      <th>Julio</th>\n",
              "      <th>Agosto</th>\n",
              "      <th>Septiembre</th>\n",
              "      <th>Octubre</th>\n",
              "      <th>Noviembre</th>\n",
              "      <th>Diciembre</th>\n",
              "    </tr>\n",
              "  </thead>\n",
              "  <tbody>\n",
              "    <tr>\n",
              "      <th>0</th>\n",
              "      <td>2015</td>\n",
              "      <td>1</td>\n",
              "      <td>Aguascalientes</td>\n",
              "      <td>1001</td>\n",
              "      <td>Aguascalientes</td>\n",
              "      <td>La vida y la Integridad corporal</td>\n",
              "      <td>Homicidio</td>\n",
              "      <td>Homicidio doloso</td>\n",
              "      <td>Con arma de fuego</td>\n",
              "      <td>2</td>\n",
              "      <td>0.0</td>\n",
              "      <td>1.0</td>\n",
              "      <td>1.0</td>\n",
              "      <td>0.0</td>\n",
              "      <td>1.0</td>\n",
              "      <td>1.0</td>\n",
              "      <td>0.0</td>\n",
              "      <td>2.0</td>\n",
              "      <td>1.0</td>\n",
              "      <td>0.0</td>\n",
              "      <td>1.0</td>\n",
              "    </tr>\n",
              "    <tr>\n",
              "      <th>1</th>\n",
              "      <td>2015</td>\n",
              "      <td>1</td>\n",
              "      <td>Aguascalientes</td>\n",
              "      <td>1001</td>\n",
              "      <td>Aguascalientes</td>\n",
              "      <td>La vida y la Integridad corporal</td>\n",
              "      <td>Homicidio</td>\n",
              "      <td>Homicidio doloso</td>\n",
              "      <td>Con arma blanca</td>\n",
              "      <td>1</td>\n",
              "      <td>1.0</td>\n",
              "      <td>0.0</td>\n",
              "      <td>0.0</td>\n",
              "      <td>0.0</td>\n",
              "      <td>1.0</td>\n",
              "      <td>0.0</td>\n",
              "      <td>1.0</td>\n",
              "      <td>0.0</td>\n",
              "      <td>0.0</td>\n",
              "      <td>0.0</td>\n",
              "      <td>0.0</td>\n",
              "    </tr>\n",
              "  </tbody>\n",
              "</table>\n",
              "</div>"
            ],
            "text/plain": [
              "    Año  Clave_Ent         Entidad  ...  Octubre Noviembre Diciembre\n",
              "0  2015          1  Aguascalientes  ...      1.0       0.0       1.0\n",
              "1  2015          1  Aguascalientes  ...      0.0       0.0       0.0\n",
              "\n",
              "[2 rows x 21 columns]"
            ]
          },
          "metadata": {
            "tags": []
          },
          "execution_count": 2
        }
      ]
    },
    {
      "cell_type": "code",
      "metadata": {
        "colab": {
          "base_uri": "https://localhost:8080/"
        },
        "id": "7SGZBZyZkPHc",
        "outputId": "1ce5369a-ce24-41d3-9ca1-003d0f34e82e"
      },
      "source": [
        "#Obtenemos el numero de registros y columnas que hay en el dataframe\n",
        "data_municipal_delitos_nacional.shape"
      ],
      "execution_count": null,
      "outputs": [
        {
          "output_type": "execute_result",
          "data": {
            "text/plain": [
              "(1588776, 21)"
            ]
          },
          "metadata": {
            "tags": []
          },
          "execution_count": 3
        }
      ]
    },
    {
      "cell_type": "code",
      "metadata": {
        "colab": {
          "base_uri": "https://localhost:8080/"
        },
        "id": "wsenqgQQkWUi",
        "outputId": "5c7a1a1c-8d0b-49c7-e151-5adf39c67d4b"
      },
      "source": [
        "#Obtenemos el nombre de las columnas\n",
        "data_municipal_delitos_nacional.columns"
      ],
      "execution_count": null,
      "outputs": [
        {
          "output_type": "execute_result",
          "data": {
            "text/plain": [
              "Index(['Año', 'Clave_Ent', 'Entidad', 'Cve. Municipio', 'Municipio',\n",
              "       'Bien jurídico afectado', 'Tipo de delito', 'Subtipo de delito',\n",
              "       'Modalidad', 'Enero', 'Febrero', 'Marzo', 'Abril', 'Mayo', 'Junio',\n",
              "       'Julio', 'Agosto', 'Septiembre', 'Octubre', 'Noviembre', 'Diciembre'],\n",
              "      dtype='object')"
            ]
          },
          "metadata": {
            "tags": []
          },
          "execution_count": 4
        }
      ]
    },
    {
      "cell_type": "code",
      "metadata": {
        "colab": {
          "base_uri": "https://localhost:8080/",
          "height": 167
        },
        "id": "zA0rNrsTkiN5",
        "outputId": "28e2ca97-09a8-4d23-b985-aa88298b9738"
      },
      "source": [
        "#Creamos un diccionario con los nuevos nombres de las columnas\n",
        "nuevas_columnas = {\n",
        "    'Año':'ano',\n",
        "    'Clave_Ent':'clave_entidad',\n",
        "    'Entidad':'entidad', \n",
        "    'Cve. Municipio': 'clave_municipio',\n",
        "    'Municipio':'municipio',\n",
        "    'Bien jurídico afectado':'bien_juridico_afectado', \n",
        "    'Tipo de delito':'tipo_de_delito', \n",
        "    'Subtipo de delito': 'subtipo_delito',\n",
        "    'Modalidad': 'modalidad', \n",
        "    'Enero': 'enero',\n",
        "    'Febrero':'febrero', \n",
        "    'Marzo':'marzo', \n",
        "    'Abril':'abril', \n",
        "    'Mayo':'mayo', \n",
        "    'Junio':'junio',\n",
        "    'Julio':'julio', \n",
        "    'Agosto':'agosto', \n",
        "    'Septiembre':'septiembre', \n",
        "    'Octubre':'octubre', \n",
        "    'Noviembre':'noviembre', \n",
        "    'Diciembre':'diciembre'  \n",
        "}\n",
        "\n",
        "#Cambiamos el nombre de las columnas\n",
        "data_municipal_delitos_nacional = data_municipal_delitos_nacional.rename(columns=nuevas_columnas)\n",
        "data_municipal_delitos_nacional.head(2)"
      ],
      "execution_count": null,
      "outputs": [
        {
          "output_type": "execute_result",
          "data": {
            "text/html": [
              "<div>\n",
              "<style scoped>\n",
              "    .dataframe tbody tr th:only-of-type {\n",
              "        vertical-align: middle;\n",
              "    }\n",
              "\n",
              "    .dataframe tbody tr th {\n",
              "        vertical-align: top;\n",
              "    }\n",
              "\n",
              "    .dataframe thead th {\n",
              "        text-align: right;\n",
              "    }\n",
              "</style>\n",
              "<table border=\"1\" class=\"dataframe\">\n",
              "  <thead>\n",
              "    <tr style=\"text-align: right;\">\n",
              "      <th></th>\n",
              "      <th>ano</th>\n",
              "      <th>clave_entidad</th>\n",
              "      <th>entidad</th>\n",
              "      <th>clave_municipio</th>\n",
              "      <th>municipio</th>\n",
              "      <th>bien_juridico_afectado</th>\n",
              "      <th>tipo_de_delito</th>\n",
              "      <th>subtipo_delito</th>\n",
              "      <th>modalidad</th>\n",
              "      <th>enero</th>\n",
              "      <th>febrero</th>\n",
              "      <th>marzo</th>\n",
              "      <th>abril</th>\n",
              "      <th>mayo</th>\n",
              "      <th>junio</th>\n",
              "      <th>julio</th>\n",
              "      <th>agosto</th>\n",
              "      <th>septiembre</th>\n",
              "      <th>octubre</th>\n",
              "      <th>noviembre</th>\n",
              "      <th>diciembre</th>\n",
              "    </tr>\n",
              "  </thead>\n",
              "  <tbody>\n",
              "    <tr>\n",
              "      <th>0</th>\n",
              "      <td>2015</td>\n",
              "      <td>1</td>\n",
              "      <td>Aguascalientes</td>\n",
              "      <td>1001</td>\n",
              "      <td>Aguascalientes</td>\n",
              "      <td>La vida y la Integridad corporal</td>\n",
              "      <td>Homicidio</td>\n",
              "      <td>Homicidio doloso</td>\n",
              "      <td>Con arma de fuego</td>\n",
              "      <td>2</td>\n",
              "      <td>0.0</td>\n",
              "      <td>1.0</td>\n",
              "      <td>1.0</td>\n",
              "      <td>0.0</td>\n",
              "      <td>1.0</td>\n",
              "      <td>1.0</td>\n",
              "      <td>0.0</td>\n",
              "      <td>2.0</td>\n",
              "      <td>1.0</td>\n",
              "      <td>0.0</td>\n",
              "      <td>1.0</td>\n",
              "    </tr>\n",
              "    <tr>\n",
              "      <th>1</th>\n",
              "      <td>2015</td>\n",
              "      <td>1</td>\n",
              "      <td>Aguascalientes</td>\n",
              "      <td>1001</td>\n",
              "      <td>Aguascalientes</td>\n",
              "      <td>La vida y la Integridad corporal</td>\n",
              "      <td>Homicidio</td>\n",
              "      <td>Homicidio doloso</td>\n",
              "      <td>Con arma blanca</td>\n",
              "      <td>1</td>\n",
              "      <td>1.0</td>\n",
              "      <td>0.0</td>\n",
              "      <td>0.0</td>\n",
              "      <td>0.0</td>\n",
              "      <td>1.0</td>\n",
              "      <td>0.0</td>\n",
              "      <td>1.0</td>\n",
              "      <td>0.0</td>\n",
              "      <td>0.0</td>\n",
              "      <td>0.0</td>\n",
              "      <td>0.0</td>\n",
              "    </tr>\n",
              "  </tbody>\n",
              "</table>\n",
              "</div>"
            ],
            "text/plain": [
              "    ano  clave_entidad         entidad  ...  octubre noviembre diciembre\n",
              "0  2015              1  Aguascalientes  ...      1.0       0.0       1.0\n",
              "1  2015              1  Aguascalientes  ...      0.0       0.0       0.0\n",
              "\n",
              "[2 rows x 21 columns]"
            ]
          },
          "metadata": {
            "tags": []
          },
          "execution_count": 5
        }
      ]
    },
    {
      "cell_type": "code",
      "metadata": {
        "colab": {
          "base_uri": "https://localhost:8080/"
        },
        "id": "_S5ecY1wmlGM",
        "outputId": "15920881-8bf6-4ffc-e532-174ce8eaffff"
      },
      "source": [
        "#Analizamos los tipos de datos que tenemos por columna y observamos que los datos ya tienen el tipo correcto\n",
        "#La de año se queda como entero ya que no hay necesidad de pasarlo a datetime, porque solo tenemos el año\n",
        "data_municipal_delitos_nacional.dtypes"
      ],
      "execution_count": null,
      "outputs": [
        {
          "output_type": "execute_result",
          "data": {
            "text/plain": [
              "ano                         int64\n",
              "clave_entidad               int64\n",
              "entidad                    object\n",
              "clave_municipio             int64\n",
              "municipio                  object\n",
              "bien_juridico_afectado     object\n",
              "tipo_de_delito             object\n",
              "subtipo_delito             object\n",
              "modalidad                  object\n",
              "enero                       int64\n",
              "febrero                   float64\n",
              "marzo                     float64\n",
              "abril                     float64\n",
              "mayo                      float64\n",
              "junio                     float64\n",
              "julio                     float64\n",
              "agosto                    float64\n",
              "septiembre                float64\n",
              "octubre                   float64\n",
              "noviembre                 float64\n",
              "diciembre                 float64\n",
              "dtype: object"
            ]
          },
          "metadata": {
            "tags": []
          },
          "execution_count": 6
        }
      ]
    },
    {
      "cell_type": "code",
      "metadata": {
        "colab": {
          "base_uri": "https://localhost:8080/"
        },
        "id": "9jnXZWPjoHju",
        "outputId": "a7f43731-d105-4b71-b284-988e62121215"
      },
      "source": [
        "#Despues, crearemos una nueva columna llamada ['delitos_totales'] en la cual \n",
        "#pondremos la sumatoria de los delitos de todos los meses ocurridos en ese año\n",
        "data_municipal_delitos_nacional['delitos_totales'] = data_municipal_delitos_nacional.loc[:,['enero', 'febrero', 'marzo', 'abril', 'mayo', 'junio',\n",
        "       'julio', 'agosto', 'septiembre', 'octubre', 'noviembre', 'diciembre']].sum(axis=1)\n",
        "data_municipal_delitos_nacional['delitos_totales']"
      ],
      "execution_count": null,
      "outputs": [
        {
          "output_type": "execute_result",
          "data": {
            "text/plain": [
              "0          10.0\n",
              "1           4.0\n",
              "2          10.0\n",
              "3           2.0\n",
              "4           1.0\n",
              "           ... \n",
              "1588771     0.0\n",
              "1588772     0.0\n",
              "1588773     0.0\n",
              "1588774     0.0\n",
              "1588775     0.0\n",
              "Name: delitos_totales, Length: 1588776, dtype: float64"
            ]
          },
          "metadata": {
            "tags": []
          },
          "execution_count": 7
        }
      ]
    },
    {
      "cell_type": "code",
      "metadata": {
        "colab": {
          "base_uri": "https://localhost:8080/"
        },
        "id": "IwFuI0UruGYi",
        "outputId": "1c462cdd-cce5-4c8a-8a28-a0d0c118085d"
      },
      "source": [
        "#Contamos el numero de valores NaN que tenemos\n",
        "data_municipal_delitos_nacional.isna().sum()"
      ],
      "execution_count": null,
      "outputs": [
        {
          "output_type": "execute_result",
          "data": {
            "text/plain": [
              "ano                            0\n",
              "clave_entidad                  0\n",
              "entidad                        0\n",
              "clave_municipio                0\n",
              "municipio                      0\n",
              "bien_juridico_afectado         0\n",
              "tipo_de_delito                 0\n",
              "subtipo_delito                 0\n",
              "modalidad                      0\n",
              "enero                          0\n",
              "febrero                   242158\n",
              "marzo                     242158\n",
              "abril                     242158\n",
              "mayo                      242158\n",
              "junio                     242158\n",
              "julio                     242158\n",
              "agosto                    242158\n",
              "septiembre                242158\n",
              "octubre                   242158\n",
              "noviembre                 242158\n",
              "diciembre                 242158\n",
              "delitos_totales                0\n",
              "dtype: int64"
            ]
          },
          "metadata": {
            "tags": []
          },
          "execution_count": 8
        }
      ]
    },
    {
      "cell_type": "code",
      "metadata": {
        "colab": {
          "base_uri": "https://localhost:8080/",
          "height": 216
        },
        "id": "3hHCd2ZZr4FU",
        "outputId": "01df5fa3-0f96-4a29-fddd-b7252aa9c264"
      },
      "source": [
        "#Vemos que solamente tenemos NaN en los meses(sin contar enero), lo cual nos dice que esto se puede deber a que\n",
        "#son meses que todavia no sucedian(feb-dic 2021) a la hora de hacer la base de datos, esto lo podemos ver obteniendo\n",
        "#los indices de todos los registros con valores NaN, viendose que todos son del año actual.\n",
        "#NOTA: la BBDD no esta incompleta, solo que todavia no suceden esos meses.\n",
        "\n",
        "#Obteniendo indices\n",
        "index = data_municipal_delitos_nacional['febrero'].index[data_municipal_delitos_nacional['febrero'].apply(np.isnan)]\n",
        "#accesando a ellos\n",
        "data_municipal_delitos_nacional.loc[index].head(3)"
      ],
      "execution_count": null,
      "outputs": [
        {
          "output_type": "execute_result",
          "data": {
            "text/html": [
              "<div>\n",
              "<style scoped>\n",
              "    .dataframe tbody tr th:only-of-type {\n",
              "        vertical-align: middle;\n",
              "    }\n",
              "\n",
              "    .dataframe tbody tr th {\n",
              "        vertical-align: top;\n",
              "    }\n",
              "\n",
              "    .dataframe thead th {\n",
              "        text-align: right;\n",
              "    }\n",
              "</style>\n",
              "<table border=\"1\" class=\"dataframe\">\n",
              "  <thead>\n",
              "    <tr style=\"text-align: right;\">\n",
              "      <th></th>\n",
              "      <th>ano</th>\n",
              "      <th>clave_entidad</th>\n",
              "      <th>entidad</th>\n",
              "      <th>clave_municipio</th>\n",
              "      <th>municipio</th>\n",
              "      <th>bien_juridico_afectado</th>\n",
              "      <th>tipo_de_delito</th>\n",
              "      <th>subtipo_delito</th>\n",
              "      <th>modalidad</th>\n",
              "      <th>enero</th>\n",
              "      <th>febrero</th>\n",
              "      <th>marzo</th>\n",
              "      <th>abril</th>\n",
              "      <th>mayo</th>\n",
              "      <th>junio</th>\n",
              "      <th>julio</th>\n",
              "      <th>agosto</th>\n",
              "      <th>septiembre</th>\n",
              "      <th>octubre</th>\n",
              "      <th>noviembre</th>\n",
              "      <th>diciembre</th>\n",
              "      <th>delitos_totales</th>\n",
              "    </tr>\n",
              "  </thead>\n",
              "  <tbody>\n",
              "    <tr>\n",
              "      <th>1346618</th>\n",
              "      <td>2021</td>\n",
              "      <td>1</td>\n",
              "      <td>Aguascalientes</td>\n",
              "      <td>1001</td>\n",
              "      <td>Aguascalientes</td>\n",
              "      <td>La vida y la Integridad corporal</td>\n",
              "      <td>Homicidio</td>\n",
              "      <td>Homicidio doloso</td>\n",
              "      <td>Con arma de fuego</td>\n",
              "      <td>1</td>\n",
              "      <td>NaN</td>\n",
              "      <td>NaN</td>\n",
              "      <td>NaN</td>\n",
              "      <td>NaN</td>\n",
              "      <td>NaN</td>\n",
              "      <td>NaN</td>\n",
              "      <td>NaN</td>\n",
              "      <td>NaN</td>\n",
              "      <td>NaN</td>\n",
              "      <td>NaN</td>\n",
              "      <td>NaN</td>\n",
              "      <td>1.0</td>\n",
              "    </tr>\n",
              "    <tr>\n",
              "      <th>1346619</th>\n",
              "      <td>2021</td>\n",
              "      <td>1</td>\n",
              "      <td>Aguascalientes</td>\n",
              "      <td>1001</td>\n",
              "      <td>Aguascalientes</td>\n",
              "      <td>La vida y la Integridad corporal</td>\n",
              "      <td>Homicidio</td>\n",
              "      <td>Homicidio doloso</td>\n",
              "      <td>Con arma blanca</td>\n",
              "      <td>0</td>\n",
              "      <td>NaN</td>\n",
              "      <td>NaN</td>\n",
              "      <td>NaN</td>\n",
              "      <td>NaN</td>\n",
              "      <td>NaN</td>\n",
              "      <td>NaN</td>\n",
              "      <td>NaN</td>\n",
              "      <td>NaN</td>\n",
              "      <td>NaN</td>\n",
              "      <td>NaN</td>\n",
              "      <td>NaN</td>\n",
              "      <td>0.0</td>\n",
              "    </tr>\n",
              "    <tr>\n",
              "      <th>1346620</th>\n",
              "      <td>2021</td>\n",
              "      <td>1</td>\n",
              "      <td>Aguascalientes</td>\n",
              "      <td>1001</td>\n",
              "      <td>Aguascalientes</td>\n",
              "      <td>La vida y la Integridad corporal</td>\n",
              "      <td>Homicidio</td>\n",
              "      <td>Homicidio doloso</td>\n",
              "      <td>Con otro elemento</td>\n",
              "      <td>0</td>\n",
              "      <td>NaN</td>\n",
              "      <td>NaN</td>\n",
              "      <td>NaN</td>\n",
              "      <td>NaN</td>\n",
              "      <td>NaN</td>\n",
              "      <td>NaN</td>\n",
              "      <td>NaN</td>\n",
              "      <td>NaN</td>\n",
              "      <td>NaN</td>\n",
              "      <td>NaN</td>\n",
              "      <td>NaN</td>\n",
              "      <td>0.0</td>\n",
              "    </tr>\n",
              "  </tbody>\n",
              "</table>\n",
              "</div>"
            ],
            "text/plain": [
              "          ano  clave_entidad  ... diciembre  delitos_totales\n",
              "1346618  2021              1  ...       NaN              1.0\n",
              "1346619  2021              1  ...       NaN              0.0\n",
              "1346620  2021              1  ...       NaN              0.0\n",
              "\n",
              "[3 rows x 22 columns]"
            ]
          },
          "metadata": {
            "tags": []
          },
          "execution_count": 9
        }
      ]
    },
    {
      "cell_type": "code",
      "metadata": {
        "colab": {
          "base_uri": "https://localhost:8080/"
        },
        "id": "Svr8tT0o06dl",
        "outputId": "48626069-7c59-4d4e-f367-f58f900572f4"
      },
      "source": [
        "#Ya que esto afecta a la hora de hacer agregaciones, trabajaremos con datos 2015-2020\n",
        "data_municipal_delitos_2015_2020 = data_municipal_delitos_nacional[data_municipal_delitos_nacional['ano'] < 2021].copy()\n",
        "\n",
        "#Confirmamos que ya no tenemos NaNs\n",
        "data_municipal_delitos_2015_2020.isna().sum()"
      ],
      "execution_count": null,
      "outputs": [
        {
          "output_type": "execute_result",
          "data": {
            "text/plain": [
              "ano                       0\n",
              "clave_entidad             0\n",
              "entidad                   0\n",
              "clave_municipio           0\n",
              "municipio                 0\n",
              "bien_juridico_afectado    0\n",
              "tipo_de_delito            0\n",
              "subtipo_delito            0\n",
              "modalidad                 0\n",
              "enero                     0\n",
              "febrero                   0\n",
              "marzo                     0\n",
              "abril                     0\n",
              "mayo                      0\n",
              "junio                     0\n",
              "julio                     0\n",
              "agosto                    0\n",
              "septiembre                0\n",
              "octubre                   0\n",
              "noviembre                 0\n",
              "diciembre                 0\n",
              "delitos_totales           0\n",
              "dtype: int64"
            ]
          },
          "metadata": {
            "tags": []
          },
          "execution_count": 10
        }
      ]
    },
    {
      "cell_type": "code",
      "metadata": {
        "colab": {
          "base_uri": "https://localhost:8080/",
          "height": 226
        },
        "id": "2L27kiRVu7su",
        "outputId": "12f7342c-4d4c-4bcd-dc2d-0a02149eabc2"
      },
      "source": [
        "#Ya que tenemos todos los datos de nuestras columnas correctos, podemos empezar haciendo funciones de agregacion\n",
        "#Para obtener informacion relevante, como el promedio, el minimo, el maximo, la desviacion estandar y sumatoria\n",
        "#de los delitos realizados en esos meses o delitos totales por municipio\n",
        "\n",
        "data_municipal_delitos_2015_2020[['delitos_totales','enero','febrero','marzo','abril','mayo','junio','julio',\n",
        "                                  'agosto','septiembre','octubre', 'noviembre', 'diciembre']].agg(['max','min', 'sum','mean','std'])"
      ],
      "execution_count": null,
      "outputs": [
        {
          "output_type": "execute_result",
          "data": {
            "text/html": [
              "<div>\n",
              "<style scoped>\n",
              "    .dataframe tbody tr th:only-of-type {\n",
              "        vertical-align: middle;\n",
              "    }\n",
              "\n",
              "    .dataframe tbody tr th {\n",
              "        vertical-align: top;\n",
              "    }\n",
              "\n",
              "    .dataframe thead th {\n",
              "        text-align: right;\n",
              "    }\n",
              "</style>\n",
              "<table border=\"1\" class=\"dataframe\">\n",
              "  <thead>\n",
              "    <tr style=\"text-align: right;\">\n",
              "      <th></th>\n",
              "      <th>delitos_totales</th>\n",
              "      <th>enero</th>\n",
              "      <th>febrero</th>\n",
              "      <th>marzo</th>\n",
              "      <th>abril</th>\n",
              "      <th>mayo</th>\n",
              "      <th>junio</th>\n",
              "      <th>julio</th>\n",
              "      <th>agosto</th>\n",
              "      <th>septiembre</th>\n",
              "      <th>octubre</th>\n",
              "      <th>noviembre</th>\n",
              "      <th>diciembre</th>\n",
              "    </tr>\n",
              "  </thead>\n",
              "  <tbody>\n",
              "    <tr>\n",
              "      <th>max</th>\n",
              "      <td>1.233400e+04</td>\n",
              "      <td>1146.000000</td>\n",
              "      <td>1212.000000</td>\n",
              "      <td>1471.000000</td>\n",
              "      <td>1445.000000</td>\n",
              "      <td>1444.000000</td>\n",
              "      <td>958.000000</td>\n",
              "      <td>1219.000000</td>\n",
              "      <td>1140.000000</td>\n",
              "      <td>1099.000000</td>\n",
              "      <td>1.023000e+03</td>\n",
              "      <td>1156.000000</td>\n",
              "      <td>1394.000000</td>\n",
              "    </tr>\n",
              "    <tr>\n",
              "      <th>min</th>\n",
              "      <td>0.000000e+00</td>\n",
              "      <td>0.000000</td>\n",
              "      <td>0.000000</td>\n",
              "      <td>0.000000</td>\n",
              "      <td>0.000000</td>\n",
              "      <td>-1.000000</td>\n",
              "      <td>0.000000</td>\n",
              "      <td>0.000000</td>\n",
              "      <td>0.000000</td>\n",
              "      <td>-1.000000</td>\n",
              "      <td>0.000000e+00</td>\n",
              "      <td>0.000000</td>\n",
              "      <td>0.000000</td>\n",
              "    </tr>\n",
              "    <tr>\n",
              "      <th>sum</th>\n",
              "      <td>1.126002e+07</td>\n",
              "      <td>894267.000000</td>\n",
              "      <td>896080.000000</td>\n",
              "      <td>970568.000000</td>\n",
              "      <td>902224.000000</td>\n",
              "      <td>951787.000000</td>\n",
              "      <td>949497.000000</td>\n",
              "      <td>948792.000000</td>\n",
              "      <td>973212.000000</td>\n",
              "      <td>950207.000000</td>\n",
              "      <td>1.001677e+06</td>\n",
              "      <td>928524.000000</td>\n",
              "      <td>893183.000000</td>\n",
              "    </tr>\n",
              "    <tr>\n",
              "      <th>mean</th>\n",
              "      <td>8.361702e+00</td>\n",
              "      <td>0.664084</td>\n",
              "      <td>0.665430</td>\n",
              "      <td>0.720745</td>\n",
              "      <td>0.669993</td>\n",
              "      <td>0.706798</td>\n",
              "      <td>0.705098</td>\n",
              "      <td>0.704574</td>\n",
              "      <td>0.722708</td>\n",
              "      <td>0.705625</td>\n",
              "      <td>7.438464e-01</td>\n",
              "      <td>0.689523</td>\n",
              "      <td>0.663279</td>\n",
              "    </tr>\n",
              "    <tr>\n",
              "      <th>std</th>\n",
              "      <td>9.557701e+01</td>\n",
              "      <td>7.906211</td>\n",
              "      <td>7.843012</td>\n",
              "      <td>8.522945</td>\n",
              "      <td>8.066841</td>\n",
              "      <td>8.465183</td>\n",
              "      <td>8.341165</td>\n",
              "      <td>8.401704</td>\n",
              "      <td>8.538184</td>\n",
              "      <td>8.148920</td>\n",
              "      <td>8.603198e+00</td>\n",
              "      <td>7.987917</td>\n",
              "      <td>7.918962</td>\n",
              "    </tr>\n",
              "  </tbody>\n",
              "</table>\n",
              "</div>"
            ],
            "text/plain": [
              "      delitos_totales          enero  ...      noviembre      diciembre\n",
              "max      1.233400e+04    1146.000000  ...    1156.000000    1394.000000\n",
              "min      0.000000e+00       0.000000  ...       0.000000       0.000000\n",
              "sum      1.126002e+07  894267.000000  ...  928524.000000  893183.000000\n",
              "mean     8.361702e+00       0.664084  ...       0.689523       0.663279\n",
              "std      9.557701e+01       7.906211  ...       7.987917       7.918962\n",
              "\n",
              "[5 rows x 13 columns]"
            ]
          },
          "metadata": {
            "tags": []
          },
          "execution_count": 11
        }
      ]
    },
    {
      "cell_type": "code",
      "metadata": {
        "id": "YMGHZPOd2lr2"
      },
      "source": [
        "#Vemos que hay unos meses donde el minimo es -1, esto es debido a un error,\n",
        "#por lo que crearemos una funcion para cambiar valores negativos por 0\n",
        "\n",
        "def checador_valores_negativos(num):\n",
        "  if num < 0:\n",
        "    return 0\n",
        "  else:\n",
        "    return num\n",
        "\n",
        "#luego aplicamos esta funcion a las columnas\n",
        "data_municipal_delitos_2015_2020['mayo'] = data_municipal_delitos_2015_2020['mayo'].apply(checador_valores_negativos)\n",
        "data_municipal_delitos_2015_2020['septiembre'] = data_municipal_delitos_2015_2020['septiembre'].apply(checador_valores_negativos)"
      ],
      "execution_count": null,
      "outputs": []
    },
    {
      "cell_type": "code",
      "metadata": {
        "colab": {
          "base_uri": "https://localhost:8080/"
        },
        "id": "_xGI-kMc6kMH",
        "outputId": "a182ba41-2951-4a60-f748-bca589dbd4f3"
      },
      "source": [
        "#Despues volvemos a checar los valores minimos para confirmar que ya no tenemos negativos\n",
        "data_municipal_delitos_2015_2020[['delitos_totales','enero','febrero','marzo','abril','mayo','junio','julio',\n",
        "                                  'agosto','septiembre','octubre', 'noviembre', 'diciembre']].agg(min)"
      ],
      "execution_count": null,
      "outputs": [
        {
          "output_type": "execute_result",
          "data": {
            "text/plain": [
              "delitos_totales    0.0\n",
              "enero              0.0\n",
              "febrero            0.0\n",
              "marzo              0.0\n",
              "abril              0.0\n",
              "mayo               0.0\n",
              "junio              0.0\n",
              "julio              0.0\n",
              "agosto             0.0\n",
              "septiembre         0.0\n",
              "octubre            0.0\n",
              "noviembre          0.0\n",
              "diciembre          0.0\n",
              "dtype: float64"
            ]
          },
          "metadata": {
            "tags": []
          },
          "execution_count": 13
        }
      ]
    },
    {
      "cell_type": "code",
      "metadata": {
        "colab": {
          "base_uri": "https://localhost:8080/"
        },
        "id": "MdN-IttG67fr",
        "outputId": "afd38739-672c-4b8a-a90e-67facebb236c"
      },
      "source": [
        "#Ya que tenemos todo en orden y tenemos los datos limpios podemos empezar a hacer agrupaciones\n",
        "#Para  obtener datos aun mas relevantes\n",
        "\n",
        "#Delitos totales reportados por año\n",
        "data_municipal_delitos_2015_2020.groupby('ano')['delitos_totales'].sum()"
      ],
      "execution_count": null,
      "outputs": [
        {
          "output_type": "execute_result",
          "data": {
            "text/plain": [
              "ano\n",
              "2015    1657803.0\n",
              "2016    1761830.0\n",
              "2017    1939497.0\n",
              "2018    1989930.0\n",
              "2019    2069787.0\n",
              "2020    1841171.0\n",
              "Name: delitos_totales, dtype: float64"
            ]
          },
          "metadata": {
            "tags": []
          },
          "execution_count": 14
        }
      ]
    },
    {
      "cell_type": "code",
      "metadata": {
        "colab": {
          "base_uri": "https://localhost:8080/",
          "height": 455
        },
        "id": "2Mmfbbid725-",
        "outputId": "1f37a0ca-2cde-4531-9ac6-a2b07ea2d233"
      },
      "source": [
        "#Delitos totales reportados por entidad ordenados de mayor a menor por año\n",
        "data_municipal_delitos_2015_2020.groupby(['ano','entidad'])[['delitos_totales']].sum().sort_values(['ano', 'delitos_totales'], ascending=[True,False])\n"
      ],
      "execution_count": null,
      "outputs": [
        {
          "output_type": "execute_result",
          "data": {
            "text/html": [
              "<div>\n",
              "<style scoped>\n",
              "    .dataframe tbody tr th:only-of-type {\n",
              "        vertical-align: middle;\n",
              "    }\n",
              "\n",
              "    .dataframe tbody tr th {\n",
              "        vertical-align: top;\n",
              "    }\n",
              "\n",
              "    .dataframe thead th {\n",
              "        text-align: right;\n",
              "    }\n",
              "</style>\n",
              "<table border=\"1\" class=\"dataframe\">\n",
              "  <thead>\n",
              "    <tr style=\"text-align: right;\">\n",
              "      <th></th>\n",
              "      <th></th>\n",
              "      <th>delitos_totales</th>\n",
              "    </tr>\n",
              "    <tr>\n",
              "      <th>ano</th>\n",
              "      <th>entidad</th>\n",
              "      <th></th>\n",
              "    </tr>\n",
              "  </thead>\n",
              "  <tbody>\n",
              "    <tr>\n",
              "      <th rowspan=\"5\" valign=\"top\">2015</th>\n",
              "      <th>México</th>\n",
              "      <td>323525.0</td>\n",
              "    </tr>\n",
              "    <tr>\n",
              "      <th>Ciudad de México</th>\n",
              "      <td>169701.0</td>\n",
              "    </tr>\n",
              "    <tr>\n",
              "      <th>Baja California</th>\n",
              "      <td>119944.0</td>\n",
              "    </tr>\n",
              "    <tr>\n",
              "      <th>Guanajuato</th>\n",
              "      <td>95782.0</td>\n",
              "    </tr>\n",
              "    <tr>\n",
              "      <th>Jalisco</th>\n",
              "      <td>95331.0</td>\n",
              "    </tr>\n",
              "    <tr>\n",
              "      <th>...</th>\n",
              "      <th>...</th>\n",
              "      <td>...</td>\n",
              "    </tr>\n",
              "    <tr>\n",
              "      <th rowspan=\"5\" valign=\"top\">2020</th>\n",
              "      <th>Chiapas</th>\n",
              "      <td>17269.0</td>\n",
              "    </tr>\n",
              "    <tr>\n",
              "      <th>Yucatán</th>\n",
              "      <td>8417.0</td>\n",
              "    </tr>\n",
              "    <tr>\n",
              "      <th>Nayarit</th>\n",
              "      <td>4165.0</td>\n",
              "    </tr>\n",
              "    <tr>\n",
              "      <th>Tlaxcala</th>\n",
              "      <td>4141.0</td>\n",
              "    </tr>\n",
              "    <tr>\n",
              "      <th>Campeche</th>\n",
              "      <td>2003.0</td>\n",
              "    </tr>\n",
              "  </tbody>\n",
              "</table>\n",
              "<p>192 rows × 1 columns</p>\n",
              "</div>"
            ],
            "text/plain": [
              "                       delitos_totales\n",
              "ano  entidad                          \n",
              "2015 México                   323525.0\n",
              "     Ciudad de México         169701.0\n",
              "     Baja California          119944.0\n",
              "     Guanajuato                95782.0\n",
              "     Jalisco                   95331.0\n",
              "...                                ...\n",
              "2020 Chiapas                   17269.0\n",
              "     Yucatán                    8417.0\n",
              "     Nayarit                    4165.0\n",
              "     Tlaxcala                   4141.0\n",
              "     Campeche                   2003.0\n",
              "\n",
              "[192 rows x 1 columns]"
            ]
          },
          "metadata": {
            "tags": []
          },
          "execution_count": 15
        }
      ]
    },
    {
      "cell_type": "code",
      "metadata": {
        "colab": {
          "base_uri": "https://localhost:8080/"
        },
        "id": "KgrEEOwK9p_-",
        "outputId": "55830ba0-4a7a-42ad-bf5e-ab2d894de94b"
      },
      "source": [
        "#Delitos totales reportados agrupados por tipo de delito a lo largo de 5 años\n",
        "data_municipal_delitos_2015_2020.groupby('tipo_de_delito')['delitos_totales'].sum().sort_values(ascending=False)"
      ],
      "execution_count": null,
      "outputs": [
        {
          "output_type": "execute_result",
          "data": {
            "text/plain": [
              "tipo_de_delito\n",
              "Robo                                                                             4323925.0\n",
              "Lesiones                                                                         1200288.0\n",
              "Violencia familiar                                                               1061280.0\n",
              "Otros delitos del Fuero Común                                                    1052710.0\n",
              "Daño a la propiedad                                                               757240.0\n",
              "Amenazas                                                                          530852.0\n",
              "Fraude                                                                            397776.0\n",
              "Narcomenudeo                                                                      313144.0\n",
              "Homicidio                                                                         240603.0\n",
              "Despojo                                                                           150706.0\n",
              "Abuso de confianza                                                                142060.0\n",
              "Incumplimiento de obligaciones de asistencia familiar                             140620.0\n",
              "Abuso sexual                                                                      107848.0\n",
              "Delitos cometidos por servidores públicos                                         102163.0\n",
              "Falsificación                                                                     102048.0\n",
              "Otros delitos que atentan contra la libertad personal                              98166.0\n",
              "Allanamiento de morada                                                             78343.0\n",
              "Violación simple                                                                   70652.0\n",
              "Otros delitos contra la familia                                                    65818.0\n",
              "Otros delitos contra el patrimonio                                                 55739.0\n",
              "Extorsión                                                                          41298.0\n",
              "Otros delitos que atentan contra la vida y la integridad corporal                  38226.0\n",
              "Otros delitos que atentan contra la libertad y la seguridad sexual                 33182.0\n",
              "Otros delitos contra la sociedad                                                   30976.0\n",
              "Violación equiparada                                                               18223.0\n",
              "Falsedad                                                                           17598.0\n",
              "Acoso sexual                                                                       16647.0\n",
              "Violencia de género en todas sus modalidades distinta a la violencia familiar      15165.0\n",
              "Corrupción de menores                                                              12137.0\n",
              "Contra el medio ambiente                                                           10729.0\n",
              "Hostigamiento sexual                                                                7654.0\n",
              "Secuestro                                                                           6825.0\n",
              "Electorales                                                                         6075.0\n",
              "Feminicidio                                                                         4533.0\n",
              "Aborto                                                                              3605.0\n",
              "Trata de personas                                                                   2583.0\n",
              "Rapto                                                                               1092.0\n",
              "Evasión de presos                                                                    733.0\n",
              "Tráfico de menores                                                                   565.0\n",
              "Incesto                                                                              191.0\n",
              "Name: delitos_totales, dtype: float64"
            ]
          },
          "metadata": {
            "tags": []
          },
          "execution_count": 17
        }
      ]
    },
    {
      "cell_type": "code",
      "metadata": {
        "colab": {
          "base_uri": "https://localhost:8080/"
        },
        "id": "Z2d5cU2p-14W",
        "outputId": "bc4eed72-1e99-4c5b-856a-569acddb54d5"
      },
      "source": [
        "#Tendencia de feminicidio a lo largo de 5 años\n",
        "data_municipal_delitos_2015_2020[data_municipal_delitos_2015_2020['tipo_de_delito'] == 'Feminicidio'].groupby('ano')['delitos_totales'].sum()"
      ],
      "execution_count": null,
      "outputs": [
        {
          "output_type": "execute_result",
          "data": {
            "text/plain": [
              "ano\n",
              "2015    411.0\n",
              "2016    605.0\n",
              "2017    742.0\n",
              "2018    893.0\n",
              "2019    943.0\n",
              "2020    939.0\n",
              "Name: delitos_totales, dtype: float64"
            ]
          },
          "metadata": {
            "tags": []
          },
          "execution_count": 18
        }
      ]
    },
    {
      "cell_type": "code",
      "metadata": {
        "colab": {
          "base_uri": "https://localhost:8080/"
        },
        "id": "WZ6orzD8RZiA",
        "outputId": "41595e90-6301-4e2a-d7c7-142bc0d49a62"
      },
      "source": [
        "#Tendencia por entidad de acoso sexual/abuso sexual/violacion/feminicidio a lo largo de 5 años\n",
        "lista_acoso_violacion = ['Abuso sexual','Violación simple', 'Violación equiparada', 'Acoso sexual', \n",
        "                         'Violencia de género en todas sus modalidades distinta a la violencia familiar',\n",
        "                         'Hostigamiento sexual', 'Feminicidio' ]\n",
        "\n",
        "data_municipal_delitos_2015_2020[data_municipal_delitos_2015_2020['tipo_de_delito'].isin(lista_acoso_violacion)].groupby('ano')['delitos_totales'].sum()"
      ],
      "execution_count": null,
      "outputs": [
        {
          "output_type": "execute_result",
          "data": {
            "text/plain": [
              "ano\n",
              "2015    28548.0\n",
              "2016    33381.0\n",
              "2017    35055.0\n",
              "2018    41333.0\n",
              "2019    51142.0\n",
              "2020    51263.0\n",
              "Name: delitos_totales, dtype: float64"
            ]
          },
          "metadata": {
            "tags": []
          },
          "execution_count": 27
        }
      ]
    },
    {
      "cell_type": "code",
      "metadata": {
        "colab": {
          "base_uri": "https://localhost:8080/",
          "height": 455
        },
        "id": "gily483_k5ny",
        "outputId": "f8cfc867-4a45-4db3-d63a-68f4b8e79693"
      },
      "source": [
        "#Municipios con mayores reportes de feminicidio en el transcurso de 5 años\n",
        "feminicidios_por_municipio = data_municipal_delitos_2015_2020[data_municipal_delitos_2015_2020['tipo_de_delito'] == 'Feminicidio'].groupby(['ano','municipio'])\n",
        "feminicidios_por_municipio_ordenados = feminicidios_por_municipio[['delitos_totales']].sum().sort_values(['ano', 'delitos_totales'], ascending=[True,False])\n",
        "feminicidios_por_municipio_ordenados\n"
      ],
      "execution_count": null,
      "outputs": [
        {
          "output_type": "execute_result",
          "data": {
            "text/html": [
              "<div>\n",
              "<style scoped>\n",
              "    .dataframe tbody tr th:only-of-type {\n",
              "        vertical-align: middle;\n",
              "    }\n",
              "\n",
              "    .dataframe tbody tr th {\n",
              "        vertical-align: top;\n",
              "    }\n",
              "\n",
              "    .dataframe thead th {\n",
              "        text-align: right;\n",
              "    }\n",
              "</style>\n",
              "<table border=\"1\" class=\"dataframe\">\n",
              "  <thead>\n",
              "    <tr style=\"text-align: right;\">\n",
              "      <th></th>\n",
              "      <th></th>\n",
              "      <th>delitos_totales</th>\n",
              "    </tr>\n",
              "    <tr>\n",
              "      <th>ano</th>\n",
              "      <th>municipio</th>\n",
              "      <th></th>\n",
              "    </tr>\n",
              "  </thead>\n",
              "  <tbody>\n",
              "    <tr>\n",
              "      <th rowspan=\"5\" valign=\"top\">2015</th>\n",
              "      <th>Iztapalapa</th>\n",
              "      <td>16.0</td>\n",
              "    </tr>\n",
              "    <tr>\n",
              "      <th>Guadalajara</th>\n",
              "      <td>14.0</td>\n",
              "    </tr>\n",
              "    <tr>\n",
              "      <th>Ecatepec de Morelos</th>\n",
              "      <td>7.0</td>\n",
              "    </tr>\n",
              "    <tr>\n",
              "      <th>Hermosillo</th>\n",
              "      <td>7.0</td>\n",
              "    </tr>\n",
              "    <tr>\n",
              "      <th>Tlajomulco de Zúñiga</th>\n",
              "      <td>7.0</td>\n",
              "    </tr>\n",
              "    <tr>\n",
              "      <th>...</th>\n",
              "      <th>...</th>\n",
              "      <td>...</td>\n",
              "    </tr>\n",
              "    <tr>\n",
              "      <th rowspan=\"5\" valign=\"top\">2020</th>\n",
              "      <th>Zoquiapan</th>\n",
              "      <td>0.0</td>\n",
              "    </tr>\n",
              "    <tr>\n",
              "      <th>Zozocolco de Hidalgo</th>\n",
              "      <td>0.0</td>\n",
              "    </tr>\n",
              "    <tr>\n",
              "      <th>Zumpahuacán</th>\n",
              "      <td>0.0</td>\n",
              "    </tr>\n",
              "    <tr>\n",
              "      <th>Álamo Temapache</th>\n",
              "      <td>0.0</td>\n",
              "    </tr>\n",
              "    <tr>\n",
              "      <th>Ánimas Trujano</th>\n",
              "      <td>0.0</td>\n",
              "    </tr>\n",
              "  </tbody>\n",
              "</table>\n",
              "<p>12882 rows × 1 columns</p>\n",
              "</div>"
            ],
            "text/plain": [
              "                           delitos_totales\n",
              "ano  municipio                            \n",
              "2015 Iztapalapa                       16.0\n",
              "     Guadalajara                      14.0\n",
              "     Ecatepec de Morelos               7.0\n",
              "     Hermosillo                        7.0\n",
              "     Tlajomulco de Zúñiga              7.0\n",
              "...                                    ...\n",
              "2020 Zoquiapan                         0.0\n",
              "     Zozocolco de Hidalgo              0.0\n",
              "     Zumpahuacán                       0.0\n",
              "     Álamo Temapache                   0.0\n",
              "     Ánimas Trujano                    0.0\n",
              "\n",
              "[12882 rows x 1 columns]"
            ]
          },
          "metadata": {
            "tags": []
          },
          "execution_count": 36
        }
      ]
    },
    {
      "cell_type": "code",
      "metadata": {
        "colab": {
          "base_uri": "https://localhost:8080/",
          "height": 455
        },
        "id": "YziXTZk3nEJ8",
        "outputId": "64a44b0e-474f-4866-abd0-623ac31ad691"
      },
      "source": [
        "#Principales 5 municipios con reportes de feminicidios en 2020\n",
        "feminicidios_por_municipio_ordenados.filter(like='2020', axis=0)"
      ],
      "execution_count": null,
      "outputs": [
        {
          "output_type": "execute_result",
          "data": {
            "text/html": [
              "<div>\n",
              "<style scoped>\n",
              "    .dataframe tbody tr th:only-of-type {\n",
              "        vertical-align: middle;\n",
              "    }\n",
              "\n",
              "    .dataframe tbody tr th {\n",
              "        vertical-align: top;\n",
              "    }\n",
              "\n",
              "    .dataframe thead th {\n",
              "        text-align: right;\n",
              "    }\n",
              "</style>\n",
              "<table border=\"1\" class=\"dataframe\">\n",
              "  <thead>\n",
              "    <tr style=\"text-align: right;\">\n",
              "      <th></th>\n",
              "      <th></th>\n",
              "      <th>delitos_totales</th>\n",
              "    </tr>\n",
              "    <tr>\n",
              "      <th>ano</th>\n",
              "      <th>municipio</th>\n",
              "      <th></th>\n",
              "    </tr>\n",
              "  </thead>\n",
              "  <tbody>\n",
              "    <tr>\n",
              "      <th rowspan=\"11\" valign=\"top\">2020</th>\n",
              "      <th>Juárez</th>\n",
              "      <td>26.0</td>\n",
              "    </tr>\n",
              "    <tr>\n",
              "      <th>Tijuana</th>\n",
              "      <td>18.0</td>\n",
              "    </tr>\n",
              "    <tr>\n",
              "      <th>Monterrey</th>\n",
              "      <td>17.0</td>\n",
              "    </tr>\n",
              "    <tr>\n",
              "      <th>Culiacán</th>\n",
              "      <td>13.0</td>\n",
              "    </tr>\n",
              "    <tr>\n",
              "      <th>Zapopan</th>\n",
              "      <td>13.0</td>\n",
              "    </tr>\n",
              "    <tr>\n",
              "      <th>...</th>\n",
              "      <td>...</td>\n",
              "    </tr>\n",
              "    <tr>\n",
              "      <th>Zoquiapan</th>\n",
              "      <td>0.0</td>\n",
              "    </tr>\n",
              "    <tr>\n",
              "      <th>Zozocolco de Hidalgo</th>\n",
              "      <td>0.0</td>\n",
              "    </tr>\n",
              "    <tr>\n",
              "      <th>Zumpahuacán</th>\n",
              "      <td>0.0</td>\n",
              "    </tr>\n",
              "    <tr>\n",
              "      <th>Álamo Temapache</th>\n",
              "      <td>0.0</td>\n",
              "    </tr>\n",
              "    <tr>\n",
              "      <th>Ánimas Trujano</th>\n",
              "      <td>0.0</td>\n",
              "    </tr>\n",
              "  </tbody>\n",
              "</table>\n",
              "<p>2326 rows × 1 columns</p>\n",
              "</div>"
            ],
            "text/plain": [
              "                           delitos_totales\n",
              "ano  municipio                            \n",
              "2020 Juárez                           26.0\n",
              "     Tijuana                          18.0\n",
              "     Monterrey                        17.0\n",
              "     Culiacán                         13.0\n",
              "     Zapopan                          13.0\n",
              "...                                    ...\n",
              "     Zoquiapan                         0.0\n",
              "     Zozocolco de Hidalgo              0.0\n",
              "     Zumpahuacán                       0.0\n",
              "     Álamo Temapache                   0.0\n",
              "     Ánimas Trujano                    0.0\n",
              "\n",
              "[2326 rows x 1 columns]"
            ]
          },
          "metadata": {
            "tags": []
          },
          "execution_count": 47
        }
      ]
    },
    {
      "cell_type": "code",
      "metadata": {
        "colab": {
          "base_uri": "https://localhost:8080/",
          "height": 455
        },
        "id": "eGjryFL5DzFR",
        "outputId": "3d82428e-d841-431a-e8e5-df0c048ecc01"
      },
      "source": [
        "#Entidades con mayores reportes de feminicidio en el transcurso de 5 años\n",
        "feminicidios_por_entidad = data_municipal_delitos_2015_2020[data_municipal_delitos_2015_2020['tipo_de_delito'] == 'Feminicidio'].groupby(['ano','entidad'])\n",
        "feminicidios_por_entidad_ordenados = feminicidios_por_entidad[['delitos_totales']].sum().sort_values(['ano', 'delitos_totales'], ascending=[True,False])\n",
        "feminicidios_por_entidad_ordenados"
      ],
      "execution_count": null,
      "outputs": [
        {
          "output_type": "execute_result",
          "data": {
            "text/html": [
              "<div>\n",
              "<style scoped>\n",
              "    .dataframe tbody tr th:only-of-type {\n",
              "        vertical-align: middle;\n",
              "    }\n",
              "\n",
              "    .dataframe tbody tr th {\n",
              "        vertical-align: top;\n",
              "    }\n",
              "\n",
              "    .dataframe thead th {\n",
              "        text-align: right;\n",
              "    }\n",
              "</style>\n",
              "<table border=\"1\" class=\"dataframe\">\n",
              "  <thead>\n",
              "    <tr style=\"text-align: right;\">\n",
              "      <th></th>\n",
              "      <th></th>\n",
              "      <th>delitos_totales</th>\n",
              "    </tr>\n",
              "    <tr>\n",
              "      <th>ano</th>\n",
              "      <th>entidad</th>\n",
              "      <th></th>\n",
              "    </tr>\n",
              "  </thead>\n",
              "  <tbody>\n",
              "    <tr>\n",
              "      <th rowspan=\"5\" valign=\"top\">2015</th>\n",
              "      <th>Jalisco</th>\n",
              "      <td>62.0</td>\n",
              "    </tr>\n",
              "    <tr>\n",
              "      <th>México</th>\n",
              "      <td>59.0</td>\n",
              "    </tr>\n",
              "    <tr>\n",
              "      <th>Ciudad de México</th>\n",
              "      <td>56.0</td>\n",
              "    </tr>\n",
              "    <tr>\n",
              "      <th>Veracruz de Ignacio de la Llave</th>\n",
              "      <td>40.0</td>\n",
              "    </tr>\n",
              "    <tr>\n",
              "      <th>Chiapas</th>\n",
              "      <td>36.0</td>\n",
              "    </tr>\n",
              "    <tr>\n",
              "      <th>...</th>\n",
              "      <th>...</th>\n",
              "      <td>...</td>\n",
              "    </tr>\n",
              "    <tr>\n",
              "      <th rowspan=\"5\" valign=\"top\">2020</th>\n",
              "      <th>Tlaxcala</th>\n",
              "      <td>6.0</td>\n",
              "    </tr>\n",
              "    <tr>\n",
              "      <th>Yucatán</th>\n",
              "      <td>6.0</td>\n",
              "    </tr>\n",
              "    <tr>\n",
              "      <th>Baja California Sur</th>\n",
              "      <td>4.0</td>\n",
              "    </tr>\n",
              "    <tr>\n",
              "      <th>Aguascalientes</th>\n",
              "      <td>3.0</td>\n",
              "    </tr>\n",
              "    <tr>\n",
              "      <th>Campeche</th>\n",
              "      <td>3.0</td>\n",
              "    </tr>\n",
              "  </tbody>\n",
              "</table>\n",
              "<p>192 rows × 1 columns</p>\n",
              "</div>"
            ],
            "text/plain": [
              "                                      delitos_totales\n",
              "ano  entidad                                         \n",
              "2015 Jalisco                                     62.0\n",
              "     México                                      59.0\n",
              "     Ciudad de México                            56.0\n",
              "     Veracruz de Ignacio de la Llave             40.0\n",
              "     Chiapas                                     36.0\n",
              "...                                               ...\n",
              "2020 Tlaxcala                                     6.0\n",
              "     Yucatán                                      6.0\n",
              "     Baja California Sur                          4.0\n",
              "     Aguascalientes                               3.0\n",
              "     Campeche                                     3.0\n",
              "\n",
              "[192 rows x 1 columns]"
            ]
          },
          "metadata": {
            "tags": []
          },
          "execution_count": 38
        }
      ]
    },
    {
      "cell_type": "code",
      "metadata": {
        "colab": {
          "base_uri": "https://localhost:8080/",
          "height": 238
        },
        "id": "sHc2bCf6nfBQ",
        "outputId": "672aea35-39ab-4e4e-afe1-fd9552ca559b"
      },
      "source": [
        "#Principales 5 entidades con reportes de feminicidios en 2020\n",
        "feminicidios_por_entidad_ordenados.filter(like='2020', axis=0).head(5)"
      ],
      "execution_count": null,
      "outputs": [
        {
          "output_type": "execute_result",
          "data": {
            "text/html": [
              "<div>\n",
              "<style scoped>\n",
              "    .dataframe tbody tr th:only-of-type {\n",
              "        vertical-align: middle;\n",
              "    }\n",
              "\n",
              "    .dataframe tbody tr th {\n",
              "        vertical-align: top;\n",
              "    }\n",
              "\n",
              "    .dataframe thead th {\n",
              "        text-align: right;\n",
              "    }\n",
              "</style>\n",
              "<table border=\"1\" class=\"dataframe\">\n",
              "  <thead>\n",
              "    <tr style=\"text-align: right;\">\n",
              "      <th></th>\n",
              "      <th></th>\n",
              "      <th>delitos_totales</th>\n",
              "    </tr>\n",
              "    <tr>\n",
              "      <th>ano</th>\n",
              "      <th>entidad</th>\n",
              "      <th></th>\n",
              "    </tr>\n",
              "  </thead>\n",
              "  <tbody>\n",
              "    <tr>\n",
              "      <th rowspan=\"5\" valign=\"top\">2020</th>\n",
              "      <th>México</th>\n",
              "      <td>150.0</td>\n",
              "    </tr>\n",
              "    <tr>\n",
              "      <th>Veracruz de Ignacio de la Llave</th>\n",
              "      <td>84.0</td>\n",
              "    </tr>\n",
              "    <tr>\n",
              "      <th>Nuevo León</th>\n",
              "      <td>67.0</td>\n",
              "    </tr>\n",
              "    <tr>\n",
              "      <th>Jalisco</th>\n",
              "      <td>66.0</td>\n",
              "    </tr>\n",
              "    <tr>\n",
              "      <th>Ciudad de México</th>\n",
              "      <td>64.0</td>\n",
              "    </tr>\n",
              "  </tbody>\n",
              "</table>\n",
              "</div>"
            ],
            "text/plain": [
              "                                      delitos_totales\n",
              "ano  entidad                                         \n",
              "2020 México                                     150.0\n",
              "     Veracruz de Ignacio de la Llave             84.0\n",
              "     Nuevo León                                  67.0\n",
              "     Jalisco                                     66.0\n",
              "     Ciudad de México                            64.0"
            ]
          },
          "metadata": {
            "tags": []
          },
          "execution_count": 48
        }
      ]
    },
    {
      "cell_type": "code",
      "metadata": {
        "colab": {
          "base_uri": "https://localhost:8080/",
          "height": 238
        },
        "id": "n6JolvoDq0bL",
        "outputId": "9fcac2d5-db5b-4beb-d1ae-0229d102b6f8"
      },
      "source": [
        "#Principales municipios con reportes de acoso sexual/violencia de genero/violacion\n",
        "\n",
        "lista_acoso_violacion = ['Abuso sexual','Violación simple', 'Violación equiparada', 'Acoso sexual', \n",
        "                         'Violencia de género en todas sus modalidades distinta a la violencia familiar',\n",
        "                         'Hostigamiento sexual']\n",
        "datos_acoso_violacion_municipal = data_municipal_delitos_2015_2020.loc[data_municipal_delitos_2015_2020['tipo_de_delito'].isin(lista_acoso_violacion)]\n",
        "datos_acoso_violacion_municipal_ordenados = datos_acoso_violacion.groupby(['ano','municipio'])[['delitos_totales']].sum().sort_values(['ano', 'delitos_totales'], ascending=[True,False])\n",
        "datos_acoso_violacion_municipal_ordenados.filter(like='2020', axis=0).head(5)"
      ],
      "execution_count": null,
      "outputs": [
        {
          "output_type": "execute_result",
          "data": {
            "text/html": [
              "<div>\n",
              "<style scoped>\n",
              "    .dataframe tbody tr th:only-of-type {\n",
              "        vertical-align: middle;\n",
              "    }\n",
              "\n",
              "    .dataframe tbody tr th {\n",
              "        vertical-align: top;\n",
              "    }\n",
              "\n",
              "    .dataframe thead th {\n",
              "        text-align: right;\n",
              "    }\n",
              "</style>\n",
              "<table border=\"1\" class=\"dataframe\">\n",
              "  <thead>\n",
              "    <tr style=\"text-align: right;\">\n",
              "      <th></th>\n",
              "      <th></th>\n",
              "      <th>delitos_totales</th>\n",
              "    </tr>\n",
              "    <tr>\n",
              "      <th>ano</th>\n",
              "      <th>municipio</th>\n",
              "      <th></th>\n",
              "    </tr>\n",
              "  </thead>\n",
              "  <tbody>\n",
              "    <tr>\n",
              "      <th rowspan=\"5\" valign=\"top\">2020</th>\n",
              "      <th>Juárez</th>\n",
              "      <td>1314.0</td>\n",
              "    </tr>\n",
              "    <tr>\n",
              "      <th>Tijuana</th>\n",
              "      <td>1128.0</td>\n",
              "    </tr>\n",
              "    <tr>\n",
              "      <th>Ecatepec de Morelos</th>\n",
              "      <td>1021.0</td>\n",
              "    </tr>\n",
              "    <tr>\n",
              "      <th>Cuauhtémoc</th>\n",
              "      <td>1017.0</td>\n",
              "    </tr>\n",
              "    <tr>\n",
              "      <th>Querétaro</th>\n",
              "      <td>968.0</td>\n",
              "    </tr>\n",
              "  </tbody>\n",
              "</table>\n",
              "</div>"
            ],
            "text/plain": [
              "                          delitos_totales\n",
              "ano  municipio                           \n",
              "2020 Juárez                        1314.0\n",
              "     Tijuana                       1128.0\n",
              "     Ecatepec de Morelos           1021.0\n",
              "     Cuauhtémoc                    1017.0\n",
              "     Querétaro                      968.0"
            ]
          },
          "metadata": {
            "tags": []
          },
          "execution_count": 58
        }
      ]
    },
    {
      "cell_type": "code",
      "metadata": {
        "colab": {
          "base_uri": "https://localhost:8080/",
          "height": 238
        },
        "id": "ZJxIUk_LsjQb",
        "outputId": "b25b2477-cd07-4316-cf8a-c546c34eca84"
      },
      "source": [
        "#Principales entidades con reportes de acoso sexual/violencia de genero/violacion\n",
        "lista_acoso_violacion = ['Abuso sexual','Violación simple', 'Violación equiparada', 'Acoso sexual', \n",
        "                         'Violencia de género en todas sus modalidades distinta a la violencia familiar',\n",
        "                         'Hostigamiento sexual']\n",
        "datos_acoso_violacion_entidad = data_municipal_delitos_2015_2020.loc[data_municipal_delitos_2015_2020['tipo_de_delito'].isin(lista_acoso_violacion)]\n",
        "datos_acoso_violacion_entidad_ordenados = datos_acoso_violacion.groupby(['ano','entidad'])[['delitos_totales']].sum().sort_values(['ano', 'delitos_totales'], ascending=[True,False])\n",
        "datos_acoso_violacion_entidad_ordenados.filter(like='2020', axis=0).head(5)"
      ],
      "execution_count": null,
      "outputs": [
        {
          "output_type": "execute_result",
          "data": {
            "text/html": [
              "<div>\n",
              "<style scoped>\n",
              "    .dataframe tbody tr th:only-of-type {\n",
              "        vertical-align: middle;\n",
              "    }\n",
              "\n",
              "    .dataframe tbody tr th {\n",
              "        vertical-align: top;\n",
              "    }\n",
              "\n",
              "    .dataframe thead th {\n",
              "        text-align: right;\n",
              "    }\n",
              "</style>\n",
              "<table border=\"1\" class=\"dataframe\">\n",
              "  <thead>\n",
              "    <tr style=\"text-align: right;\">\n",
              "      <th></th>\n",
              "      <th></th>\n",
              "      <th>delitos_totales</th>\n",
              "    </tr>\n",
              "    <tr>\n",
              "      <th>ano</th>\n",
              "      <th>entidad</th>\n",
              "      <th></th>\n",
              "    </tr>\n",
              "  </thead>\n",
              "  <tbody>\n",
              "    <tr>\n",
              "      <th rowspan=\"5\" valign=\"top\">2020</th>\n",
              "      <th>México</th>\n",
              "      <td>8045.0</td>\n",
              "    </tr>\n",
              "    <tr>\n",
              "      <th>Ciudad de México</th>\n",
              "      <td>5691.0</td>\n",
              "    </tr>\n",
              "    <tr>\n",
              "      <th>Nuevo León</th>\n",
              "      <td>2892.0</td>\n",
              "    </tr>\n",
              "    <tr>\n",
              "      <th>Jalisco</th>\n",
              "      <td>2829.0</td>\n",
              "    </tr>\n",
              "    <tr>\n",
              "      <th>Chihuahua</th>\n",
              "      <td>2567.0</td>\n",
              "    </tr>\n",
              "  </tbody>\n",
              "</table>\n",
              "</div>"
            ],
            "text/plain": [
              "                       delitos_totales\n",
              "ano  entidad                          \n",
              "2020 México                     8045.0\n",
              "     Ciudad de México           5691.0\n",
              "     Nuevo León                 2892.0\n",
              "     Jalisco                    2829.0\n",
              "     Chihuahua                  2567.0"
            ]
          },
          "metadata": {
            "tags": []
          },
          "execution_count": 61
        }
      ]
    },
    {
      "cell_type": "code",
      "metadata": {
        "colab": {
          "base_uri": "https://localhost:8080/",
          "height": 455
        },
        "id": "mr1C0tpu_bIz",
        "outputId": "377239e0-62b4-4740-cbef-b06a14ab2e48"
      },
      "source": [
        "#Tendencia por entidad de acoso sexual/abuso sexual/violacion/feminicidio a lo largo de 5 años\n",
        "lista_acoso_violacion = ['Abuso sexual','Violación simple', 'Violación equiparada', 'Acoso sexual', \n",
        "                         'Violencia de género en todas sus modalidades distinta a la violencia familiar',\n",
        "                         'Hostigamiento sexual']\n",
        "datos_acoso_violacion = data_municipal_delitos_2015_2020.loc[data_municipal_delitos_2015_2020['tipo_de_delito'].isin(lista_acoso_violacion)]\n",
        "datos_acoso_violacion.groupby(['ano','entidad'])[['delitos_totales']].sum().sort_values(['ano', 'delitos_totales'], ascending=[True,False])"
      ],
      "execution_count": null,
      "outputs": [
        {
          "output_type": "execute_result",
          "data": {
            "text/html": [
              "<div>\n",
              "<style scoped>\n",
              "    .dataframe tbody tr th:only-of-type {\n",
              "        vertical-align: middle;\n",
              "    }\n",
              "\n",
              "    .dataframe tbody tr th {\n",
              "        vertical-align: top;\n",
              "    }\n",
              "\n",
              "    .dataframe thead th {\n",
              "        text-align: right;\n",
              "    }\n",
              "</style>\n",
              "<table border=\"1\" class=\"dataframe\">\n",
              "  <thead>\n",
              "    <tr style=\"text-align: right;\">\n",
              "      <th></th>\n",
              "      <th></th>\n",
              "      <th>delitos_totales</th>\n",
              "    </tr>\n",
              "    <tr>\n",
              "      <th>ano</th>\n",
              "      <th>entidad</th>\n",
              "      <th></th>\n",
              "    </tr>\n",
              "  </thead>\n",
              "  <tbody>\n",
              "    <tr>\n",
              "      <th rowspan=\"5\" valign=\"top\">2015</th>\n",
              "      <th>México</th>\n",
              "      <td>3401.0</td>\n",
              "    </tr>\n",
              "    <tr>\n",
              "      <th>Baja California</th>\n",
              "      <td>2443.0</td>\n",
              "    </tr>\n",
              "    <tr>\n",
              "      <th>Ciudad de México</th>\n",
              "      <td>2390.0</td>\n",
              "    </tr>\n",
              "    <tr>\n",
              "      <th>Chihuahua</th>\n",
              "      <td>2138.0</td>\n",
              "    </tr>\n",
              "    <tr>\n",
              "      <th>Jalisco</th>\n",
              "      <td>2099.0</td>\n",
              "    </tr>\n",
              "    <tr>\n",
              "      <th>...</th>\n",
              "      <th>...</th>\n",
              "      <td>...</td>\n",
              "    </tr>\n",
              "    <tr>\n",
              "      <th rowspan=\"5\" valign=\"top\">2020</th>\n",
              "      <th>Aguascalientes</th>\n",
              "      <td>380.0</td>\n",
              "    </tr>\n",
              "    <tr>\n",
              "      <th>Campeche</th>\n",
              "      <td>257.0</td>\n",
              "    </tr>\n",
              "    <tr>\n",
              "      <th>Nayarit</th>\n",
              "      <td>161.0</td>\n",
              "    </tr>\n",
              "    <tr>\n",
              "      <th>Yucatán</th>\n",
              "      <td>112.0</td>\n",
              "    </tr>\n",
              "    <tr>\n",
              "      <th>Tlaxcala</th>\n",
              "      <td>68.0</td>\n",
              "    </tr>\n",
              "  </tbody>\n",
              "</table>\n",
              "<p>192 rows × 1 columns</p>\n",
              "</div>"
            ],
            "text/plain": [
              "                       delitos_totales\n",
              "ano  entidad                          \n",
              "2015 México                     3401.0\n",
              "     Baja California            2443.0\n",
              "     Ciudad de México           2390.0\n",
              "     Chihuahua                  2138.0\n",
              "     Jalisco                    2099.0\n",
              "...                                ...\n",
              "2020 Aguascalientes              380.0\n",
              "     Campeche                    257.0\n",
              "     Nayarit                     161.0\n",
              "     Yucatán                     112.0\n",
              "     Tlaxcala                     68.0\n",
              "\n",
              "[192 rows x 1 columns]"
            ]
          },
          "metadata": {
            "tags": []
          },
          "execution_count": 40
        }
      ]
    },
    {
      "cell_type": "markdown",
      "metadata": {
        "id": "X_oYxijBjm9U"
      },
      "source": [
        "### **Limpieza y análisis de `personas_desaparecidas_al2018_ff.csv `**"
      ]
    },
    {
      "cell_type": "markdown",
      "metadata": {
        "id": "YzVzl6E0B5hk"
      },
      "source": [
        "Contiene el total de registros de personas relacionadas con averiguaciones previas y carpetas de investigación del fuero federal iniciadas en el periodo comprendido entre enero de 2014 y abril de 2018, y que permanecen sin localizar al corte del 30 de abril de 2018.Publicado por el Secretariado Ejecutivo del Sistema Nacional de Seguridad Pública.\r\n",
        "\r\n",
        "Esta base de datos contiene variables como nombre, apellidos, entidad y  municipio donde se vio por ultima vez, sexo, edad , fecha cuando se vió por ultima vez y fecha cuando se hizo el reporte.\r\n",
        "\r\n"
      ]
    },
    {
      "cell_type": "code",
      "metadata": {
        "id": "SubCl05oS1dL"
      },
      "source": [
        "#Importando las paqueterías necesarias \n",
        "import pandas as pd \n",
        "import os \n",
        "import numpy as np "
      ],
      "execution_count": null,
      "outputs": []
    },
    {
      "cell_type": "code",
      "metadata": {
        "colab": {
          "base_uri": "https://localhost:8080/",
          "height": 306
        },
        "id": "STIdNejwS6i7",
        "outputId": "2a848078-9f55-4ada-e275-8fbe3795d0f2"
      },
      "source": [
        "#Lectura de archivos .csv\n",
        "path_desaparecidos_ff = '/content/personas_desaparecidas_al2018_ff.csv'\n",
        "data_desaparecidos_ff = pd.read_csv(path_desaparecidos_ff, encoding = \"latin\")\n",
        "data_desaparecidos_ff.head(2)"
      ],
      "execution_count": null,
      "outputs": [
        {
          "output_type": "execute_result",
          "data": {
            "text/html": [
              "<div>\n",
              "<style scoped>\n",
              "    .dataframe tbody tr th:only-of-type {\n",
              "        vertical-align: middle;\n",
              "    }\n",
              "\n",
              "    .dataframe tbody tr th {\n",
              "        vertical-align: top;\n",
              "    }\n",
              "\n",
              "    .dataframe thead th {\n",
              "        text-align: right;\n",
              "    }\n",
              "</style>\n",
              "<table border=\"1\" class=\"dataframe\">\n",
              "  <thead>\n",
              "    <tr style=\"text-align: right;\">\n",
              "      <th></th>\n",
              "      <th>Fecha en que se le vio por ultima vez</th>\n",
              "      <th>Nombre(s)</th>\n",
              "      <th>Apellido paterno</th>\n",
              "      <th>Apellido materno</th>\n",
              "      <th>Pais en que se le vio por ultima vez</th>\n",
              "      <th>Entidad en que se le vio por ultima vez</th>\n",
              "      <th>Clave de entidad</th>\n",
              "      <th>Municipio en que se le vio por ultima vez</th>\n",
              "      <th>Pais de nacimiento</th>\n",
              "      <th>Nacionalidad</th>\n",
              "      <th>Sexo</th>\n",
              "      <th>Edad</th>\n",
              "      <th>Tipo de Lugar</th>\n",
              "      <th>Autoridad que recibio la denuncia</th>\n",
              "      <th>Fecha de la denuncia</th>\n",
              "      <th>Entidad donde se recibio la denuncia</th>\n",
              "    </tr>\n",
              "  </thead>\n",
              "  <tbody>\n",
              "    <tr>\n",
              "      <th>0</th>\n",
              "      <td>2014-09-26</td>\n",
              "      <td>LUIS ANGEL</td>\n",
              "      <td>ABARCA</td>\n",
              "      <td>CARRILLO</td>\n",
              "      <td>MÉXICO</td>\n",
              "      <td>GUERRERO</td>\n",
              "      <td>12</td>\n",
              "      <td>IGUALA DE LA INDEPENDENCIA</td>\n",
              "      <td>MÉXICO</td>\n",
              "      <td>MÉXICO</td>\n",
              "      <td>HOMBRE</td>\n",
              "      <td>17</td>\n",
              "      <td>VÍA PÚBLICA</td>\n",
              "      <td>SDHPDSC/OICI</td>\n",
              "      <td>2015-11-09</td>\n",
              "      <td>CIUDAD DE MÉXICO</td>\n",
              "    </tr>\n",
              "    <tr>\n",
              "      <th>1</th>\n",
              "      <td>2014-09-26</td>\n",
              "      <td>ADAN</td>\n",
              "      <td>ABRAJAN</td>\n",
              "      <td>DE LA CRUZ</td>\n",
              "      <td>MÉXICO</td>\n",
              "      <td>GUERRERO</td>\n",
              "      <td>12</td>\n",
              "      <td>IGUALA DE LA INDEPENDENCIA</td>\n",
              "      <td>MÉXICO</td>\n",
              "      <td>MÉXICO</td>\n",
              "      <td>HOMBRE</td>\n",
              "      <td>24</td>\n",
              "      <td>VÍA PÚBLICA</td>\n",
              "      <td>SDHPDSC/OICI</td>\n",
              "      <td>2015-11-09</td>\n",
              "      <td>CIUDAD DE MÉXICO</td>\n",
              "    </tr>\n",
              "  </tbody>\n",
              "</table>\n",
              "</div>"
            ],
            "text/plain": [
              "  Fecha en que se le vio por ultima vez  ... Entidad donde se recibio la denuncia\n",
              "0                            2014-09-26  ...                     CIUDAD DE MÉXICO\n",
              "1                            2014-09-26  ...                     CIUDAD DE MÉXICO\n",
              "\n",
              "[2 rows x 16 columns]"
            ]
          },
          "metadata": {
            "tags": []
          },
          "execution_count": 119
        }
      ]
    },
    {
      "cell_type": "code",
      "metadata": {
        "colab": {
          "base_uri": "https://localhost:8080/"
        },
        "id": "BEYIwGX2TQEU",
        "outputId": "89a49aa6-d9c7-4602-ade8-5192fdb9e089"
      },
      "source": [
        "#Obtenemos el numero de registros y columnas que hay en el dataframe\n",
        "data_desaparecidos_ff.shape"
      ],
      "execution_count": null,
      "outputs": [
        {
          "output_type": "execute_result",
          "data": {
            "text/plain": [
              "(1170, 16)"
            ]
          },
          "metadata": {
            "tags": []
          },
          "execution_count": 120
        }
      ]
    },
    {
      "cell_type": "code",
      "metadata": {
        "colab": {
          "base_uri": "https://localhost:8080/"
        },
        "id": "iXCTJnr6Tctb",
        "outputId": "1aa732ec-dd69-4697-db3b-fb19fd6b997d"
      },
      "source": [
        "#Obtenemos el nombre de las columnas\n",
        "data_desaparecidos_ff.columns"
      ],
      "execution_count": null,
      "outputs": [
        {
          "output_type": "execute_result",
          "data": {
            "text/plain": [
              "Index(['Fecha en que se le vio por ultima vez', 'Nombre(s)',\n",
              "       'Apellido paterno', 'Apellido materno',\n",
              "       'Pais en que se le vio por ultima vez',\n",
              "       'Entidad en que se le vio por ultima vez', 'Clave de entidad',\n",
              "       'Municipio en que se le vio por ultima vez', 'Pais de nacimiento',\n",
              "       'Nacionalidad', 'Sexo', 'Edad', 'Tipo de Lugar',\n",
              "       'Autoridad que recibio la denuncia', 'Fecha de la denuncia',\n",
              "       'Entidad donde se recibio la denuncia'],\n",
              "      dtype='object')"
            ]
          },
          "metadata": {
            "tags": []
          },
          "execution_count": 121
        }
      ]
    },
    {
      "cell_type": "code",
      "metadata": {
        "colab": {
          "base_uri": "https://localhost:8080/",
          "height": 167
        },
        "id": "drpthNi5Tirk",
        "outputId": "42f017d2-9a35-4e96-f2df-df1fe049f131"
      },
      "source": [
        "#Creamos un diccionario con los nuevos nombres de las columnas\n",
        "nuevas_columnas = {\n",
        "    'Fecha en que se le vio por ultima vez':'fecha_visto_ultima_vez',\n",
        "     'Nombre(s)':'nombres',\n",
        "     'Apellido paterno':'apellido_paterno',\n",
        "     'Apellido materno':'apellido_materno',\n",
        "     'Pais en que se le vio por ultima vez':'pais_visto_ultima_vez',\n",
        "     'Entidad en que se le vio por ultima vez':'entidad_visto_ultima_vez',\n",
        "     'Clave de entidad':'clave_entidad',\n",
        "     'Municipio en que se le vio por ultima vez':'municipio_visto', \n",
        "     'Pais de nacimiento':'pais_de_nacimiento',\n",
        "     'Nacionalidad':'nacionalidad', \n",
        "     'Sexo':'sexo',\n",
        "     'Edad':'edad',\n",
        "     'Tipo de Lugar':'tipo_de_lugar',\n",
        "     'Autoridad que recibio la denuncia':'autoridad_denuncia', \n",
        "     'Fecha de la denuncia':'fecha_denuncia',\n",
        "     'Entidad donde se recibio la denuncia':'entidad_denuncia'\n",
        "}\n",
        "\n",
        "#Cambiamos el nombre de las columnas\n",
        "data_desaparecidos_ff = data_desaparecidos_ff.rename(columns=nuevas_columnas)\n",
        "data_desaparecidos_ff.head(2)"
      ],
      "execution_count": null,
      "outputs": [
        {
          "output_type": "execute_result",
          "data": {
            "text/html": [
              "<div>\n",
              "<style scoped>\n",
              "    .dataframe tbody tr th:only-of-type {\n",
              "        vertical-align: middle;\n",
              "    }\n",
              "\n",
              "    .dataframe tbody tr th {\n",
              "        vertical-align: top;\n",
              "    }\n",
              "\n",
              "    .dataframe thead th {\n",
              "        text-align: right;\n",
              "    }\n",
              "</style>\n",
              "<table border=\"1\" class=\"dataframe\">\n",
              "  <thead>\n",
              "    <tr style=\"text-align: right;\">\n",
              "      <th></th>\n",
              "      <th>fecha_visto_ultima_vez</th>\n",
              "      <th>nombres</th>\n",
              "      <th>apellido_paterno</th>\n",
              "      <th>apellido_materno</th>\n",
              "      <th>pais_visto_ultima_vez</th>\n",
              "      <th>entidad_visto_ultima_vez</th>\n",
              "      <th>clave_entidad</th>\n",
              "      <th>municipio_visto</th>\n",
              "      <th>pais_de_nacimiento</th>\n",
              "      <th>nacionalidad</th>\n",
              "      <th>sexo</th>\n",
              "      <th>edad</th>\n",
              "      <th>tipo_de_lugar</th>\n",
              "      <th>autoridad_denuncia</th>\n",
              "      <th>fecha_denuncia</th>\n",
              "      <th>entidad_denuncia</th>\n",
              "    </tr>\n",
              "  </thead>\n",
              "  <tbody>\n",
              "    <tr>\n",
              "      <th>0</th>\n",
              "      <td>2014-09-26</td>\n",
              "      <td>LUIS ANGEL</td>\n",
              "      <td>ABARCA</td>\n",
              "      <td>CARRILLO</td>\n",
              "      <td>MÉXICO</td>\n",
              "      <td>GUERRERO</td>\n",
              "      <td>12</td>\n",
              "      <td>IGUALA DE LA INDEPENDENCIA</td>\n",
              "      <td>MÉXICO</td>\n",
              "      <td>MÉXICO</td>\n",
              "      <td>HOMBRE</td>\n",
              "      <td>17</td>\n",
              "      <td>VÍA PÚBLICA</td>\n",
              "      <td>SDHPDSC/OICI</td>\n",
              "      <td>2015-11-09</td>\n",
              "      <td>CIUDAD DE MÉXICO</td>\n",
              "    </tr>\n",
              "    <tr>\n",
              "      <th>1</th>\n",
              "      <td>2014-09-26</td>\n",
              "      <td>ADAN</td>\n",
              "      <td>ABRAJAN</td>\n",
              "      <td>DE LA CRUZ</td>\n",
              "      <td>MÉXICO</td>\n",
              "      <td>GUERRERO</td>\n",
              "      <td>12</td>\n",
              "      <td>IGUALA DE LA INDEPENDENCIA</td>\n",
              "      <td>MÉXICO</td>\n",
              "      <td>MÉXICO</td>\n",
              "      <td>HOMBRE</td>\n",
              "      <td>24</td>\n",
              "      <td>VÍA PÚBLICA</td>\n",
              "      <td>SDHPDSC/OICI</td>\n",
              "      <td>2015-11-09</td>\n",
              "      <td>CIUDAD DE MÉXICO</td>\n",
              "    </tr>\n",
              "  </tbody>\n",
              "</table>\n",
              "</div>"
            ],
            "text/plain": [
              "  fecha_visto_ultima_vez     nombres  ... fecha_denuncia  entidad_denuncia\n",
              "0             2014-09-26  LUIS ANGEL  ...     2015-11-09  CIUDAD DE MÉXICO\n",
              "1             2014-09-26        ADAN  ...     2015-11-09  CIUDAD DE MÉXICO\n",
              "\n",
              "[2 rows x 16 columns]"
            ]
          },
          "metadata": {
            "tags": []
          },
          "execution_count": 122
        }
      ]
    },
    {
      "cell_type": "code",
      "metadata": {
        "colab": {
          "base_uri": "https://localhost:8080/"
        },
        "id": "0ugKVRszU21m",
        "outputId": "2a998af6-56ac-4e8e-8a8b-d2165f02058d"
      },
      "source": [
        "#Analizamos los tipos de datos que tenemos por columna\n",
        "data_desaparecidos_ff.dtypes"
      ],
      "execution_count": null,
      "outputs": [
        {
          "output_type": "execute_result",
          "data": {
            "text/plain": [
              "fecha_visto_ultima_vez      object\n",
              "nombres                     object\n",
              "apellido_paterno            object\n",
              "apellido_materno            object\n",
              "pais_visto_ultima_vez       object\n",
              "entidad_visto_ultima_vez    object\n",
              "clave_entidad                int64\n",
              "municipio_visto             object\n",
              "pais_de_nacimiento          object\n",
              "nacionalidad                object\n",
              "sexo                        object\n",
              "edad                        object\n",
              "tipo_de_lugar               object\n",
              "autoridad_denuncia          object\n",
              "fecha_denuncia              object\n",
              "entidad_denuncia            object\n",
              "dtype: object"
            ]
          },
          "metadata": {
            "tags": []
          },
          "execution_count": 123
        }
      ]
    },
    {
      "cell_type": "code",
      "metadata": {
        "id": "PZw7WEk_U_2x"
      },
      "source": [
        "#Cambiaremos el tipo de dato de edad a dato numerico, pero antes cambiaremos las edades\n",
        "#que aparecen como no disponible a NaN \n",
        "data_desaparecidos_ff['edad'] = data_desaparecidos_ff['edad'].replace(to_replace='NO DISPONIBLE', value=np.nan)\n",
        "data_desaparecidos_ff['edad'] = pd.to_numeric(data_desaparecidos_ff['edad'])"
      ],
      "execution_count": null,
      "outputs": []
    },
    {
      "cell_type": "code",
      "metadata": {
        "id": "4j5gEC34WKv-"
      },
      "source": [
        "#Despues cambiaremos la columna fecha_visto_ultima_vez y fecha_denuncia por tipo datetime\n",
        "data_desaparecidos_ff['fecha_visto_ultima_vez'] = pd.to_datetime(data_desaparecidos_ff['fecha_visto_ultima_vez'], yearfirst=True, errors='coerce')\n",
        "data_desaparecidos_ff['fecha_denuncia'] = pd.to_datetime(data_desaparecidos_ff['fecha_denuncia'], yearfirst=True, errors='coerce')"
      ],
      "execution_count": null,
      "outputs": []
    },
    {
      "cell_type": "code",
      "metadata": {
        "colab": {
          "base_uri": "https://localhost:8080/"
        },
        "id": "XxeHu-tKnlpL",
        "outputId": "b2f35914-05bc-4a87-ae76-759266b91f21"
      },
      "source": [
        "#Despues observamos cuantos valores con NaN hay\n",
        "data_desaparecidos_ff = data_desaparecidos_ff.replace('NO DISPONIBLE',np.nan)\n",
        "data_desaparecidos_ff.isna().sum()"
      ],
      "execution_count": null,
      "outputs": [
        {
          "output_type": "execute_result",
          "data": {
            "text/plain": [
              "fecha_visto_ultima_vez        9\n",
              "nombres                       0\n",
              "apellido_paterno              0\n",
              "apellido_materno              1\n",
              "pais_visto_ultima_vez        29\n",
              "entidad_visto_ultima_vez     33\n",
              "clave_entidad                 0\n",
              "municipio_visto              57\n",
              "pais_de_nacimiento           16\n",
              "nacionalidad                 16\n",
              "sexo                          0\n",
              "edad                        284\n",
              "tipo_de_lugar                 0\n",
              "autoridad_denuncia            0\n",
              "fecha_denuncia                0\n",
              "entidad_denuncia              0\n",
              "dtype: int64"
            ]
          },
          "metadata": {
            "tags": []
          },
          "execution_count": 126
        }
      ]
    },
    {
      "cell_type": "code",
      "metadata": {
        "colab": {
          "base_uri": "https://localhost:8080/"
        },
        "id": "WCP-s09dpXJt",
        "outputId": "50f759b8-93d8-4861-99e9-80a51c978b2a"
      },
      "source": [
        "#Hacemos un drop de todos los registros que contengan NaN \n",
        "#Y observamos que ya no hay valores perdidos\n",
        "data_desaparecidos_ff = data_desaparecidos_ff.dropna(axis=0,how='any')\n",
        "data_desaparecidos_ff.isna().sum()"
      ],
      "execution_count": null,
      "outputs": [
        {
          "output_type": "execute_result",
          "data": {
            "text/plain": [
              "fecha_visto_ultima_vez      0\n",
              "nombres                     0\n",
              "apellido_paterno            0\n",
              "apellido_materno            0\n",
              "pais_visto_ultima_vez       0\n",
              "entidad_visto_ultima_vez    0\n",
              "clave_entidad               0\n",
              "municipio_visto             0\n",
              "pais_de_nacimiento          0\n",
              "nacionalidad                0\n",
              "sexo                        0\n",
              "edad                        0\n",
              "tipo_de_lugar               0\n",
              "autoridad_denuncia          0\n",
              "fecha_denuncia              0\n",
              "entidad_denuncia            0\n",
              "dtype: int64"
            ]
          },
          "metadata": {
            "tags": []
          },
          "execution_count": 127
        }
      ]
    },
    {
      "cell_type": "code",
      "metadata": {
        "colab": {
          "base_uri": "https://localhost:8080/",
          "height": 313
        },
        "id": "YWitNKcIdYDi",
        "outputId": "fc4a33cc-91d1-4fe7-cbd8-b85ab808428c"
      },
      "source": [
        "#Despues crearemos una columna que sea la diferencia de dias entre la fecha que se vio por ultima vez y la fecha de la denuncia\n",
        "#llamando a la columna diferencia_ultima_vez_y_denuncia\n",
        "\n",
        "data_desaparecidos_ff['diferencia_ultima_vez_y_denuncia'] = abs((data_desaparecidos_ff['fecha_denuncia'] - data_desaparecidos_ff['fecha_visto_ultima_vez']).dt.days)\n",
        "data_desaparecidos_ff.head()"
      ],
      "execution_count": null,
      "outputs": [
        {
          "output_type": "execute_result",
          "data": {
            "text/html": [
              "<div>\n",
              "<style scoped>\n",
              "    .dataframe tbody tr th:only-of-type {\n",
              "        vertical-align: middle;\n",
              "    }\n",
              "\n",
              "    .dataframe tbody tr th {\n",
              "        vertical-align: top;\n",
              "    }\n",
              "\n",
              "    .dataframe thead th {\n",
              "        text-align: right;\n",
              "    }\n",
              "</style>\n",
              "<table border=\"1\" class=\"dataframe\">\n",
              "  <thead>\n",
              "    <tr style=\"text-align: right;\">\n",
              "      <th></th>\n",
              "      <th>fecha_visto_ultima_vez</th>\n",
              "      <th>nombres</th>\n",
              "      <th>apellido_paterno</th>\n",
              "      <th>apellido_materno</th>\n",
              "      <th>pais_visto_ultima_vez</th>\n",
              "      <th>entidad_visto_ultima_vez</th>\n",
              "      <th>clave_entidad</th>\n",
              "      <th>municipio_visto</th>\n",
              "      <th>pais_de_nacimiento</th>\n",
              "      <th>nacionalidad</th>\n",
              "      <th>sexo</th>\n",
              "      <th>edad</th>\n",
              "      <th>tipo_de_lugar</th>\n",
              "      <th>autoridad_denuncia</th>\n",
              "      <th>fecha_denuncia</th>\n",
              "      <th>entidad_denuncia</th>\n",
              "      <th>diferencia_ultima_vez_y_denuncia</th>\n",
              "    </tr>\n",
              "  </thead>\n",
              "  <tbody>\n",
              "    <tr>\n",
              "      <th>0</th>\n",
              "      <td>2014-09-26</td>\n",
              "      <td>LUIS ANGEL</td>\n",
              "      <td>ABARCA</td>\n",
              "      <td>CARRILLO</td>\n",
              "      <td>MÉXICO</td>\n",
              "      <td>GUERRERO</td>\n",
              "      <td>12</td>\n",
              "      <td>IGUALA DE LA INDEPENDENCIA</td>\n",
              "      <td>MÉXICO</td>\n",
              "      <td>MÉXICO</td>\n",
              "      <td>HOMBRE</td>\n",
              "      <td>17.0</td>\n",
              "      <td>VÍA PÚBLICA</td>\n",
              "      <td>SDHPDSC/OICI</td>\n",
              "      <td>2015-11-09</td>\n",
              "      <td>CIUDAD DE MÉXICO</td>\n",
              "      <td>409</td>\n",
              "    </tr>\n",
              "    <tr>\n",
              "      <th>1</th>\n",
              "      <td>2014-09-26</td>\n",
              "      <td>ADAN</td>\n",
              "      <td>ABRAJAN</td>\n",
              "      <td>DE LA CRUZ</td>\n",
              "      <td>MÉXICO</td>\n",
              "      <td>GUERRERO</td>\n",
              "      <td>12</td>\n",
              "      <td>IGUALA DE LA INDEPENDENCIA</td>\n",
              "      <td>MÉXICO</td>\n",
              "      <td>MÉXICO</td>\n",
              "      <td>HOMBRE</td>\n",
              "      <td>24.0</td>\n",
              "      <td>VÍA PÚBLICA</td>\n",
              "      <td>SDHPDSC/OICI</td>\n",
              "      <td>2015-11-09</td>\n",
              "      <td>CIUDAD DE MÉXICO</td>\n",
              "      <td>409</td>\n",
              "    </tr>\n",
              "    <tr>\n",
              "      <th>2</th>\n",
              "      <td>2014-03-05</td>\n",
              "      <td>RAUL</td>\n",
              "      <td>ACEVEDO</td>\n",
              "      <td>TABOADA</td>\n",
              "      <td>MÉXICO</td>\n",
              "      <td>GUERRERO</td>\n",
              "      <td>12</td>\n",
              "      <td>IGUALA DE LA INDEPENDENCIA</td>\n",
              "      <td>MÉXICO</td>\n",
              "      <td>MÉXICO</td>\n",
              "      <td>HOMBRE</td>\n",
              "      <td>20.0</td>\n",
              "      <td>DESCONOCIDO</td>\n",
              "      <td>SDHPDSC/FEBPD</td>\n",
              "      <td>2017-07-11</td>\n",
              "      <td>CIUDAD DE MÉXICO</td>\n",
              "      <td>1224</td>\n",
              "    </tr>\n",
              "    <tr>\n",
              "      <th>4</th>\n",
              "      <td>2016-09-25</td>\n",
              "      <td>ELISEO</td>\n",
              "      <td>ACOSTA</td>\n",
              "      <td>BAUTISTA</td>\n",
              "      <td>MÉXICO</td>\n",
              "      <td>GUERRERO</td>\n",
              "      <td>12</td>\n",
              "      <td>PETATLÁN</td>\n",
              "      <td>MÉXICO</td>\n",
              "      <td>MÉXICO</td>\n",
              "      <td>HOMBRE</td>\n",
              "      <td>25.0</td>\n",
              "      <td>VÍA PÚBLICA</td>\n",
              "      <td>SEIDO/UEIDCS</td>\n",
              "      <td>2017-04-06</td>\n",
              "      <td>CIUDAD DE MÉXICO</td>\n",
              "      <td>193</td>\n",
              "    </tr>\n",
              "    <tr>\n",
              "      <th>5</th>\n",
              "      <td>2013-05-16</td>\n",
              "      <td>RICARDO</td>\n",
              "      <td>ACOSTA</td>\n",
              "      <td>REYES</td>\n",
              "      <td>MÉXICO</td>\n",
              "      <td>GUERRERO</td>\n",
              "      <td>12</td>\n",
              "      <td>IGUALA DE LA INDEPENDENCIA</td>\n",
              "      <td>MÉXICO</td>\n",
              "      <td>MÉXICO</td>\n",
              "      <td>HOMBRE</td>\n",
              "      <td>53.0</td>\n",
              "      <td>DESCONOCIDO</td>\n",
              "      <td>SDHPDSC/UEBPD</td>\n",
              "      <td>2015-03-31</td>\n",
              "      <td>CIUDAD DE MÉXICO</td>\n",
              "      <td>684</td>\n",
              "    </tr>\n",
              "  </tbody>\n",
              "</table>\n",
              "</div>"
            ],
            "text/plain": [
              "  fecha_visto_ultima_vez  ... diferencia_ultima_vez_y_denuncia\n",
              "0             2014-09-26  ...                              409\n",
              "1             2014-09-26  ...                              409\n",
              "2             2014-03-05  ...                             1224\n",
              "4             2016-09-25  ...                              193\n",
              "5             2013-05-16  ...                              684\n",
              "\n",
              "[5 rows x 17 columns]"
            ]
          },
          "metadata": {
            "tags": []
          },
          "execution_count": 128
        }
      ]
    },
    {
      "cell_type": "code",
      "metadata": {
        "colab": {
          "base_uri": "https://localhost:8080/"
        },
        "id": "zzpI1x_Le341",
        "outputId": "32fb6f22-1414-423f-d9e0-b0d5c75a1506"
      },
      "source": [
        "#Confirmamos que todos los datos tengan el tipo correcto\n",
        "data_desaparecidos_ff.dtypes"
      ],
      "execution_count": null,
      "outputs": [
        {
          "output_type": "execute_result",
          "data": {
            "text/plain": [
              "fecha_visto_ultima_vez              datetime64[ns]\n",
              "nombres                                     object\n",
              "apellido_paterno                            object\n",
              "apellido_materno                            object\n",
              "pais_visto_ultima_vez                       object\n",
              "entidad_visto_ultima_vez                    object\n",
              "clave_entidad                                int64\n",
              "municipio_visto                             object\n",
              "pais_de_nacimiento                          object\n",
              "nacionalidad                                object\n",
              "sexo                                        object\n",
              "edad                                       float64\n",
              "tipo_de_lugar                               object\n",
              "autoridad_denuncia                          object\n",
              "fecha_denuncia                      datetime64[ns]\n",
              "entidad_denuncia                            object\n",
              "diferencia_ultima_vez_y_denuncia             int64\n",
              "dtype: object"
            ]
          },
          "metadata": {
            "tags": []
          },
          "execution_count": 129
        }
      ]
    },
    {
      "cell_type": "code",
      "metadata": {
        "colab": {
          "base_uri": "https://localhost:8080/",
          "height": 175
        },
        "id": "7qVljDbMe63k",
        "outputId": "9eca971d-f8ff-4320-f129-8c846f32a17a"
      },
      "source": [
        "#Ya que tenemos todos los datos de nuestras columnas correctos, podemos empezar haciendo funciones de agregacion\n",
        "#Para obtener informacion relevante, como el promedio, el minimo, el maximo y la desviacion estandar\n",
        "\n",
        "data_desaparecidos_ff[['edad','diferencia_ultima_vez_y_denuncia']].agg(['mean','min','max','std'])"
      ],
      "execution_count": null,
      "outputs": [
        {
          "output_type": "execute_result",
          "data": {
            "text/html": [
              "<div>\n",
              "<style scoped>\n",
              "    .dataframe tbody tr th:only-of-type {\n",
              "        vertical-align: middle;\n",
              "    }\n",
              "\n",
              "    .dataframe tbody tr th {\n",
              "        vertical-align: top;\n",
              "    }\n",
              "\n",
              "    .dataframe thead th {\n",
              "        text-align: right;\n",
              "    }\n",
              "</style>\n",
              "<table border=\"1\" class=\"dataframe\">\n",
              "  <thead>\n",
              "    <tr style=\"text-align: right;\">\n",
              "      <th></th>\n",
              "      <th>edad</th>\n",
              "      <th>diferencia_ultima_vez_y_denuncia</th>\n",
              "    </tr>\n",
              "  </thead>\n",
              "  <tbody>\n",
              "    <tr>\n",
              "      <th>mean</th>\n",
              "      <td>29.378092</td>\n",
              "      <td>1175.755006</td>\n",
              "    </tr>\n",
              "    <tr>\n",
              "      <th>min</th>\n",
              "      <td>0.000000</td>\n",
              "      <td>0.000000</td>\n",
              "    </tr>\n",
              "    <tr>\n",
              "      <th>max</th>\n",
              "      <td>86.000000</td>\n",
              "      <td>15395.000000</td>\n",
              "    </tr>\n",
              "    <tr>\n",
              "      <th>std</th>\n",
              "      <td>12.011769</td>\n",
              "      <td>1596.265638</td>\n",
              "    </tr>\n",
              "  </tbody>\n",
              "</table>\n",
              "</div>"
            ],
            "text/plain": [
              "           edad  diferencia_ultima_vez_y_denuncia\n",
              "mean  29.378092                       1175.755006\n",
              "min    0.000000                          0.000000\n",
              "max   86.000000                      15395.000000\n",
              "std   12.011769                       1596.265638"
            ]
          },
          "metadata": {
            "tags": []
          },
          "execution_count": 130
        }
      ]
    },
    {
      "cell_type": "code",
      "metadata": {
        "colab": {
          "base_uri": "https://localhost:8080/",
          "height": 118
        },
        "id": "EjtnZynuqAPD",
        "outputId": "b37d2754-4703-421f-cc90-6b93f0c4ec60"
      },
      "source": [
        "#Como dato curioso, vemos que el valor maximo de la columna diferencia_ultima_vez_y_denuncia es de 15395\n",
        "#si buscamos el registro vemos que la ultima vez que se vio es 1973 y la denuncia fue en el 2016\n",
        "data_desaparecidos_ff[data_desaparecidos_ff['diferencia_ultima_vez_y_denuncia'] == 15395]"
      ],
      "execution_count": null,
      "outputs": [
        {
          "output_type": "execute_result",
          "data": {
            "text/html": [
              "<div>\n",
              "<style scoped>\n",
              "    .dataframe tbody tr th:only-of-type {\n",
              "        vertical-align: middle;\n",
              "    }\n",
              "\n",
              "    .dataframe tbody tr th {\n",
              "        vertical-align: top;\n",
              "    }\n",
              "\n",
              "    .dataframe thead th {\n",
              "        text-align: right;\n",
              "    }\n",
              "</style>\n",
              "<table border=\"1\" class=\"dataframe\">\n",
              "  <thead>\n",
              "    <tr style=\"text-align: right;\">\n",
              "      <th></th>\n",
              "      <th>fecha_visto_ultima_vez</th>\n",
              "      <th>nombres</th>\n",
              "      <th>apellido_paterno</th>\n",
              "      <th>apellido_materno</th>\n",
              "      <th>pais_visto_ultima_vez</th>\n",
              "      <th>entidad_visto_ultima_vez</th>\n",
              "      <th>clave_entidad</th>\n",
              "      <th>municipio_visto</th>\n",
              "      <th>pais_de_nacimiento</th>\n",
              "      <th>nacionalidad</th>\n",
              "      <th>sexo</th>\n",
              "      <th>edad</th>\n",
              "      <th>tipo_de_lugar</th>\n",
              "      <th>autoridad_denuncia</th>\n",
              "      <th>fecha_denuncia</th>\n",
              "      <th>entidad_denuncia</th>\n",
              "      <th>diferencia_ultima_vez_y_denuncia</th>\n",
              "    </tr>\n",
              "  </thead>\n",
              "  <tbody>\n",
              "    <tr>\n",
              "      <th>178</th>\n",
              "      <td>1973-11-18</td>\n",
              "      <td>RAUL</td>\n",
              "      <td>CASTAÑEDA</td>\n",
              "      <td>PEÑALOZA</td>\n",
              "      <td>MÉXICO</td>\n",
              "      <td>GUERRERO</td>\n",
              "      <td>12</td>\n",
              "      <td>CHILPANCINGO DE LOS BRAVO</td>\n",
              "      <td>MÉXICO</td>\n",
              "      <td>MÉXICO</td>\n",
              "      <td>HOMBRE</td>\n",
              "      <td>27.0</td>\n",
              "      <td>DESCONOCIDO</td>\n",
              "      <td>SEIDF/CGI</td>\n",
              "      <td>2016-01-12</td>\n",
              "      <td>CIUDAD DE MÉXICO</td>\n",
              "      <td>15395</td>\n",
              "    </tr>\n",
              "  </tbody>\n",
              "</table>\n",
              "</div>"
            ],
            "text/plain": [
              "    fecha_visto_ultima_vez  ... diferencia_ultima_vez_y_denuncia\n",
              "178             1973-11-18  ...                            15395\n",
              "\n",
              "[1 rows x 17 columns]"
            ]
          },
          "metadata": {
            "tags": []
          },
          "execution_count": 131
        }
      ]
    },
    {
      "cell_type": "code",
      "metadata": {
        "colab": {
          "base_uri": "https://localhost:8080/"
        },
        "id": "bTefeiPDf1dz",
        "outputId": "089cf2d3-7662-48be-f061-fb771c522ce2"
      },
      "source": [
        "#Ahora empezaremos a hacer agrupaciones para obtener datos aun mas relevantes\n",
        "#Personas desaparecidas agrupadas por año en que se recibieron las denuncias, fuero federal\n",
        "data_desaparecidos_ff.groupby(data_desaparecidos_ff['fecha_denuncia'].dt.year).size()"
      ],
      "execution_count": null,
      "outputs": [
        {
          "output_type": "execute_result",
          "data": {
            "text/plain": [
              "fecha_denuncia\n",
              "2014    271\n",
              "2015    341\n",
              "2016    127\n",
              "2017     92\n",
              "2018     18\n",
              "dtype: int64"
            ]
          },
          "metadata": {
            "tags": []
          },
          "execution_count": 132
        }
      ]
    },
    {
      "cell_type": "code",
      "metadata": {
        "colab": {
          "base_uri": "https://localhost:8080/"
        },
        "id": "W-MHvv4NmqHD",
        "outputId": "918c18bd-0e2f-40c5-dcb1-8fad217415a0"
      },
      "source": [
        "#Personas desaparecidas agrupadas por sexo, fuero federal\n",
        "data_desaparecidos_ff.groupby('sexo').size()\n"
      ],
      "execution_count": null,
      "outputs": [
        {
          "output_type": "execute_result",
          "data": {
            "text/plain": [
              "sexo\n",
              "HOMBRE    708\n",
              "MUJER     141\n",
              "dtype: int64"
            ]
          },
          "metadata": {
            "tags": []
          },
          "execution_count": 133
        }
      ]
    },
    {
      "cell_type": "code",
      "metadata": {
        "colab": {
          "base_uri": "https://localhost:8080/"
        },
        "id": "-0lsEOdmhV-D",
        "outputId": "cf0fa9aa-8eb4-4531-d43e-2985582f5f1e"
      },
      "source": [
        "#Personas desaparecidas agrupadas por nacionalidad, fuero federal\n",
        "data_desaparecidos_ff.groupby('nacionalidad').size().sort_values(ascending=False)"
      ],
      "execution_count": null,
      "outputs": [
        {
          "output_type": "execute_result",
          "data": {
            "text/plain": [
              "nacionalidad\n",
              "MÉXICO         735\n",
              "GUATEMALA       41\n",
              "HONDURAS        25\n",
              "EL SALVADOR     13\n",
              "COLOMBIA        13\n",
              "INDIA            5\n",
              "PERU             4\n",
              "NICARAGUA        3\n",
              "ITALIA           2\n",
              "ECUADOR          2\n",
              "BRASIL           2\n",
              "POLONIA          1\n",
              "CUBA             1\n",
              "COSTA RICA       1\n",
              "ARGENTINA        1\n",
              "dtype: int64"
            ]
          },
          "metadata": {
            "tags": []
          },
          "execution_count": 134
        }
      ]
    },
    {
      "cell_type": "code",
      "metadata": {
        "colab": {
          "base_uri": "https://localhost:8080/"
        },
        "id": "ZfWnKaZMh-rn",
        "outputId": "767250fb-892e-4692-a5c7-d3883474599c"
      },
      "source": [
        "#Personas desaparecidas agrupadas por rango de edad, fuero federal\n",
        "bins = [-1, 10, 20,30,40,50,60, np.inf]\n",
        "labels=['0-10','10-20','20-30','30-40','40-50', '50-60', '60+']\n",
        "data_desaparecidos_ff_edades =data_desaparecidos_ff.groupby(pd.cut(data_desaparecidos_ff['edad'], bins=bins, labels=labels)).size().reset_index(name='count')\n",
        "print (data_desaparecidos_ff_edades)\n"
      ],
      "execution_count": null,
      "outputs": [
        {
          "output_type": "stream",
          "text": [
            "    edad  count\n",
            "0   0-10     28\n",
            "1  10-20    172\n",
            "2  20-30    319\n",
            "3  30-40    190\n",
            "4  40-50     91\n",
            "5  50-60     39\n",
            "6    60+     10\n"
          ],
          "name": "stdout"
        }
      ]
    },
    {
      "cell_type": "code",
      "metadata": {
        "colab": {
          "base_uri": "https://localhost:8080/"
        },
        "id": "kYYs_u5PmAC5",
        "outputId": "b0ce9e16-843d-47d1-fe7f-7678bfc400c6"
      },
      "source": [
        "#Autoridades que recibieron mas denuncias\n",
        "data_desaparecidos_ff.groupby('autoridad_denuncia').size().sort_values(ascending=False)"
      ],
      "execution_count": null,
      "outputs": [
        {
          "output_type": "execute_result",
          "data": {
            "text/plain": [
              "autoridad_denuncia\n",
              "SDHPDSC/UEBPD                       413\n",
              "SDHPDSC/FEBPD                       198\n",
              "SDHPDSC/UIDPM                       108\n",
              "SDHPDSC/OICI                         43\n",
              "OAXACA/OAXACA                        18\n",
              "TAMAULIPAS/TAMPICO                   11\n",
              "SEIDO/UEIDMS                          7\n",
              "VERACRUZ/VERACRUZ                     6\n",
              "SDHPDSC/FEVIMTRA                      6\n",
              "SEIDF/CGI                             4\n",
              "SDHPDSC/FEIDDF                        3\n",
              "TAMAULIPAS/REYNOSA                    3\n",
              "TAMAULIPAS/MATAMOROS                  3\n",
              "TAMAULIPAS/NUEVO LAREDO               3\n",
              "SEIDO/UEIDCS                          2\n",
              "SEIDF/UEIDAPLE                        2\n",
              "SDHAVSC/USBPD                         1\n",
              "CHIAPAS/SAN CRISTÓBAL                 1\n",
              "COLIMA/COLIMA                         1\n",
              "DISTRITO FEDERAL/DGCAP                1\n",
              "HIDALGO/PACHUCA                       1\n",
              "JALISCO/AUTLÁN                        1\n",
              "JALISCO/GUADALAJARA                   1\n",
              "QUINTANA ROO/CANCÚN                   1\n",
              "SJAI/UEDE                             1\n",
              "SDHPDSC/FEADLE                        1\n",
              "SINALOA/CULIACAN                      1\n",
              "TAMAULIPAS/CIUDAD VICTORIA            1\n",
              "TAMAULIPAS/CD. MANTE                  1\n",
              "TAMAULIPAS/CD. ALEMÁN                 1\n",
              "TABASCO/VILLAHERMOSA                  1\n",
              "SEIDO/UEIARV                          1\n",
              "TABASCO/TENOSIQUE                     1\n",
              "SEIDO/UEITMPO                         1\n",
              "BAJA CALIFORNIA SUR/CABO TIJUANA      1\n",
              "dtype: int64"
            ]
          },
          "metadata": {
            "tags": []
          },
          "execution_count": 136
        }
      ]
    },
    {
      "cell_type": "code",
      "metadata": {
        "colab": {
          "base_uri": "https://localhost:8080/"
        },
        "id": "nOku7i9pmZSs",
        "outputId": "7ec1d75d-d436-4ebb-d68d-1dedb8cd5077"
      },
      "source": [
        "#Entidades que recibieron mas denuncias\n",
        "data_desaparecidos_ff.groupby('entidad_denuncia').size().sort_values(ascending=False)"
      ],
      "execution_count": null,
      "outputs": [
        {
          "output_type": "execute_result",
          "data": {
            "text/plain": [
              "entidad_denuncia\n",
              "CIUDAD DE MÉXICO                   782\n",
              "TAMAULIPAS                          28\n",
              "OAXACA                              18\n",
              "VERACRUZ DE IGNACIO DE LA LLAVE      7\n",
              "TABASCO                              2\n",
              "NUEVO LEÓN                           2\n",
              "JALISCO                              2\n",
              "CHIAPAS                              2\n",
              "BAJA CALIFORNIA                      2\n",
              "SINALOA                              1\n",
              "QUINTANA ROO                         1\n",
              "HIDALGO                              1\n",
              "COLIMA                               1\n",
              "dtype: int64"
            ]
          },
          "metadata": {
            "tags": []
          },
          "execution_count": 137
        }
      ]
    },
    {
      "cell_type": "code",
      "metadata": {
        "colab": {
          "base_uri": "https://localhost:8080/"
        },
        "id": "7_hzGgjGvEAy",
        "outputId": "42f19544-42d6-4775-f22c-fb66489f2dea"
      },
      "source": [
        "#Entidades en las que se realizaron mas denuncias, agrupadas por sexo, fuero federal\n",
        "data_desaparecidos_ff.groupby('sexo')['entidad_denuncia'].value_counts()"
      ],
      "execution_count": null,
      "outputs": [
        {
          "output_type": "execute_result",
          "data": {
            "text/plain": [
              "sexo    entidad_denuncia               \n",
              "HOMBRE  CIUDAD DE MÉXICO                   659\n",
              "        TAMAULIPAS                          22\n",
              "        OAXACA                               9\n",
              "        VERACRUZ DE IGNACIO DE LA LLAVE      7\n",
              "        BAJA CALIFORNIA                      2\n",
              "        JALISCO                              2\n",
              "        NUEVO LEÓN                           2\n",
              "        CHIAPAS                              1\n",
              "        HIDALGO                              1\n",
              "        QUINTANA ROO                         1\n",
              "        SINALOA                              1\n",
              "        TABASCO                              1\n",
              "MUJER   CIUDAD DE MÉXICO                   123\n",
              "        OAXACA                               9\n",
              "        TAMAULIPAS                           6\n",
              "        CHIAPAS                              1\n",
              "        COLIMA                               1\n",
              "        TABASCO                              1\n",
              "Name: entidad_denuncia, dtype: int64"
            ]
          },
          "metadata": {
            "tags": []
          },
          "execution_count": 138
        }
      ]
    },
    {
      "cell_type": "code",
      "metadata": {
        "colab": {
          "base_uri": "https://localhost:8080/"
        },
        "id": "kA8wI7GpejmB",
        "outputId": "fe842625-b36f-43d8-a6c1-be8152d51a1a"
      },
      "source": [
        "#Incidencia de personas desaparecidas con el paso de los años\n",
        "data_desaparecidos_ff.groupby([data_desaparecidos_ff['fecha_visto_ultima_vez'].dt.year])['sexo'].value_counts()"
      ],
      "execution_count": null,
      "outputs": [
        {
          "output_type": "execute_result",
          "data": {
            "text/plain": [
              "fecha_visto_ultima_vez  sexo  \n",
              "1973                    HOMBRE      1\n",
              "1974                    HOMBRE      2\n",
              "1977                    HOMBRE      2\n",
              "1981                    HOMBRE      1\n",
              "1982                    HOMBRE      1\n",
              "1987                    HOMBRE      1\n",
              "1992                    HOMBRE      1\n",
              "1995                    HOMBRE      1\n",
              "1996                    MUJER       1\n",
              "2000                    HOMBRE      1\n",
              "2001                    HOMBRE      1\n",
              "2002                    HOMBRE      3\n",
              "2004                    HOMBRE      2\n",
              "                        MUJER       1\n",
              "2005                    HOMBRE      9\n",
              "                        MUJER       1\n",
              "2006                    HOMBRE      7\n",
              "                        MUJER       4\n",
              "2007                    HOMBRE     18\n",
              "                        MUJER       3\n",
              "2008                    HOMBRE     21\n",
              "                        MUJER       4\n",
              "2009                    HOMBRE     21\n",
              "                        MUJER       7\n",
              "2010                    HOMBRE     82\n",
              "                        MUJER       7\n",
              "2011                    HOMBRE     63\n",
              "                        MUJER      15\n",
              "2012                    HOMBRE     74\n",
              "                        MUJER      16\n",
              "2013                    HOMBRE    132\n",
              "                        MUJER      27\n",
              "2014                    HOMBRE    166\n",
              "                        MUJER      35\n",
              "2015                    HOMBRE     60\n",
              "                        MUJER      13\n",
              "2016                    HOMBRE     16\n",
              "                        MUJER       1\n",
              "2017                    HOMBRE     18\n",
              "                        MUJER       3\n",
              "2018                    HOMBRE      4\n",
              "                        MUJER       3\n",
              "Name: sexo, dtype: int64"
            ]
          },
          "metadata": {
            "tags": []
          },
          "execution_count": 139
        }
      ]
    },
    {
      "cell_type": "markdown",
      "metadata": {
        "id": "UEdzTaWxjqKw"
      },
      "source": [
        "### **Limpieza y análisis de `personas_desaparecidas_al2018_fc.csv`**"
      ]
    },
    {
      "cell_type": "markdown",
      "metadata": {
        "id": "NizxxCMcCx8I"
      },
      "source": [
        "Contiene el total de registros de personas relacionadas con averiguaciones previas, carpetas de investigación o actas circunstanciadas del fuero común que permanecen sin localizar al corte del 30 de abril del 2018.\r\n",
        "Publicado por el Secretariado Ejecutivo del Sistema Nacional de Seguridad Pública.\r\n",
        "\r\n",
        "Esta base de datos contiene variables como fecha, hora, pais, entidad y municipio en el que se le vio por ultima vez, sexo edad, estatura, etnia, discapacidad y dependencia que envió la informacion."
      ]
    },
    {
      "cell_type": "code",
      "metadata": {
        "id": "BlsmzyX2M8d7"
      },
      "source": [
        "#Importando las paqueterías necesarias \n",
        "import pandas as pd \n",
        "import os \n",
        "import numpy as np "
      ],
      "execution_count": null,
      "outputs": []
    },
    {
      "cell_type": "code",
      "metadata": {
        "colab": {
          "base_uri": "https://localhost:8080/",
          "height": 341
        },
        "id": "HPcfWgUcNDcU",
        "outputId": "7109030a-bf76-4b4c-8092-802ebf685a3c"
      },
      "source": [
        "#Lectura de archivos .csv\n",
        "path_personas_desaparecidas_2018_fc = '/content/personas_desaparecidas_al2018_fc.csv'\n",
        "df_personas_desaparecidas_2018_fc = pd.read_csv(path_personas_desaparecidas_2018_fc, encoding = \"latin\")\n",
        "df_personas_desaparecidas_2018_fc.head(2)"
      ],
      "execution_count": null,
      "outputs": [
        {
          "output_type": "execute_result",
          "data": {
            "text/html": [
              "<div>\n",
              "<style scoped>\n",
              "    .dataframe tbody tr th:only-of-type {\n",
              "        vertical-align: middle;\n",
              "    }\n",
              "\n",
              "    .dataframe tbody tr th {\n",
              "        vertical-align: top;\n",
              "    }\n",
              "\n",
              "    .dataframe thead th {\n",
              "        text-align: right;\n",
              "    }\n",
              "</style>\n",
              "<table border=\"1\" class=\"dataframe\">\n",
              "  <thead>\n",
              "    <tr style=\"text-align: right;\">\n",
              "      <th></th>\n",
              "      <th>Fecha en que se le vio por ultima vez</th>\n",
              "      <th>Hora en que se le vio por ultima vez</th>\n",
              "      <th>Pais en que se le vio por ultima vez</th>\n",
              "      <th>Entidad en que se le vio por ultima vez</th>\n",
              "      <th>Municipio en que se le vio por ultima vez</th>\n",
              "      <th>Localidad en que se le vio por ultima vez</th>\n",
              "      <th>Nacionalidad</th>\n",
              "      <th>Estatura</th>\n",
              "      <th>Complexion</th>\n",
              "      <th>Sexo</th>\n",
              "      <th>Edad</th>\n",
              "      <th>Descripcion de senas particulares</th>\n",
              "      <th>Etnia</th>\n",
              "      <th>Discapacidad</th>\n",
              "      <th>Dependencia que envio la informacion</th>\n",
              "    </tr>\n",
              "  </thead>\n",
              "  <tbody>\n",
              "    <tr>\n",
              "      <th>0</th>\n",
              "      <td>2012-03-18</td>\n",
              "      <td>05:00:00</td>\n",
              "      <td>MEXICO</td>\n",
              "      <td>SONORA</td>\n",
              "      <td>NAVOJOA</td>\n",
              "      <td>NAVOJOA</td>\n",
              "      <td>MEXICANA</td>\n",
              "      <td>1.1</td>\n",
              "      <td>DELGADA</td>\n",
              "      <td>MUJER</td>\n",
              "      <td>7</td>\n",
              "      <td>TIENE UNA CICATRIZ EN LA RODILLA IZQUIERDA POR...</td>\n",
              "      <td>NO ESPECIFICADO</td>\n",
              "      <td>NINGUNO</td>\n",
              "      <td>FGE - SONORA</td>\n",
              "    </tr>\n",
              "    <tr>\n",
              "      <th>1</th>\n",
              "      <td>2007-02-05</td>\n",
              "      <td>02:00:26</td>\n",
              "      <td>MEXICO</td>\n",
              "      <td>ESTADO DE MEXICO</td>\n",
              "      <td>VALLE DE BRAVO</td>\n",
              "      <td>VALLE DE BRAVO</td>\n",
              "      <td>MEXICANA</td>\n",
              "      <td>1.1</td>\n",
              "      <td>DELGADA</td>\n",
              "      <td>MUJER</td>\n",
              "      <td>4</td>\n",
              "      <td>NO ESPECIFICADO</td>\n",
              "      <td>NO ESPECIFICADO</td>\n",
              "      <td>NINGUNO</td>\n",
              "      <td>FGJ - ESTADO DE MEXICO</td>\n",
              "    </tr>\n",
              "  </tbody>\n",
              "</table>\n",
              "</div>"
            ],
            "text/plain": [
              "  Fecha en que se le vio por ultima vez  ... Dependencia que envio la informacion\n",
              "0                            2012-03-18  ...                         FGE - SONORA\n",
              "1                            2007-02-05  ...               FGJ - ESTADO DE MEXICO\n",
              "\n",
              "[2 rows x 15 columns]"
            ]
          },
          "metadata": {
            "tags": []
          },
          "execution_count": 2
        }
      ]
    },
    {
      "cell_type": "code",
      "metadata": {
        "colab": {
          "base_uri": "https://localhost:8080/"
        },
        "id": "Pzd_M42PNRBV",
        "outputId": "e75e1712-3649-43a2-a993-003728f94b59"
      },
      "source": [
        "#Obtenemos el numero de registros y columnas que hay en el dataframe\n",
        "df_personas_desaparecidas_2018_fc.shape"
      ],
      "execution_count": null,
      "outputs": [
        {
          "output_type": "execute_result",
          "data": {
            "text/plain": [
              "(36265, 15)"
            ]
          },
          "metadata": {
            "tags": []
          },
          "execution_count": 3
        }
      ]
    },
    {
      "cell_type": "code",
      "metadata": {
        "colab": {
          "base_uri": "https://localhost:8080/"
        },
        "id": "CfepV7jzNS9j",
        "outputId": "aaa2f373-e58e-4c2e-92e4-af48e472a939"
      },
      "source": [
        "#Obtenemos el nombre de las columnas\n",
        "df_personas_desaparecidas_2018_fc.columns"
      ],
      "execution_count": null,
      "outputs": [
        {
          "output_type": "execute_result",
          "data": {
            "text/plain": [
              "Index(['Fecha en que se le vio por ultima vez',\n",
              "       'Hora en que se le vio por ultima vez',\n",
              "       'Pais en que se le vio por ultima vez',\n",
              "       'Entidad en que se le vio por ultima vez',\n",
              "       'Municipio en que se le vio por ultima vez',\n",
              "       'Localidad en que se le vio por ultima vez', 'Nacionalidad', 'Estatura',\n",
              "       'Complexion', 'Sexo', 'Edad', 'Descripcion de senas particulares',\n",
              "       'Etnia', 'Discapacidad', 'Dependencia que envio la informacion'],\n",
              "      dtype='object')"
            ]
          },
          "metadata": {
            "tags": []
          },
          "execution_count": 4
        }
      ]
    },
    {
      "cell_type": "code",
      "metadata": {
        "colab": {
          "base_uri": "https://localhost:8080/",
          "height": 184
        },
        "id": "YSs65x1rNTqq",
        "outputId": "b70debd6-96eb-45fa-9d1a-7ef6eb52d128"
      },
      "source": [
        "#Creamos un diccionario con los nuevos nombres de las columnas\n",
        "nuevas_columnas = {\n",
        "    'Fecha en que se le vio por ultima vez': 'fecha_visto_ultima_vez',\n",
        "       'Hora en que se le vio por ultima vez': 'hora_visto_ultima_vez',\n",
        "       'Pais en que se le vio por ultima vez': 'pais_visto_ultima_vez',\n",
        "       'Entidad en que se le vio por ultima vez': 'entidad_visto_ultima_vez',\n",
        "       'Municipio en que se le vio por ultima vez': 'municipio_visto_ultima_vez',\n",
        "       'Localidad en que se le vio por ultima vez':'localidad_visto_ultima_vez',\n",
        "       'Nacionalidad': 'nacionalidad',\n",
        "       'Estatura':'estatura',\n",
        "       'Complexion': 'complexion',\n",
        "       'Sexo': 'sexo',\n",
        "       'Edad':'edad',\n",
        "       'Descripcion de senas particulares': 'senas_particulares',\n",
        "       'Etnia':'etnia',\n",
        "       'Discapacidad':'discapacidad',\n",
        "       'Dependencia que envio la informacion':'dependencia_informacion'    \n",
        "}\n",
        "\n",
        "#Cambiamos el nombre de las columnas\n",
        "df_personas_desaparecidas_2018_fc = df_personas_desaparecidas_2018_fc.rename(columns=nuevas_columnas)\n",
        "df_personas_desaparecidas_2018_fc.head(2)"
      ],
      "execution_count": null,
      "outputs": [
        {
          "output_type": "execute_result",
          "data": {
            "text/html": [
              "<div>\n",
              "<style scoped>\n",
              "    .dataframe tbody tr th:only-of-type {\n",
              "        vertical-align: middle;\n",
              "    }\n",
              "\n",
              "    .dataframe tbody tr th {\n",
              "        vertical-align: top;\n",
              "    }\n",
              "\n",
              "    .dataframe thead th {\n",
              "        text-align: right;\n",
              "    }\n",
              "</style>\n",
              "<table border=\"1\" class=\"dataframe\">\n",
              "  <thead>\n",
              "    <tr style=\"text-align: right;\">\n",
              "      <th></th>\n",
              "      <th>fecha_visto_ultima_vez</th>\n",
              "      <th>hora_visto_ultima_vez</th>\n",
              "      <th>pais_visto_ultima_vez</th>\n",
              "      <th>entidad_visto_ultima_vez</th>\n",
              "      <th>municipio_visto_ultima_vez</th>\n",
              "      <th>localidad_visto_ultima_vez</th>\n",
              "      <th>nacionalidad</th>\n",
              "      <th>estatura</th>\n",
              "      <th>complexion</th>\n",
              "      <th>sexo</th>\n",
              "      <th>edad</th>\n",
              "      <th>senas_particulares</th>\n",
              "      <th>etnia</th>\n",
              "      <th>discapacidad</th>\n",
              "      <th>dependencia_informacion</th>\n",
              "    </tr>\n",
              "  </thead>\n",
              "  <tbody>\n",
              "    <tr>\n",
              "      <th>0</th>\n",
              "      <td>2012-03-18</td>\n",
              "      <td>05:00:00</td>\n",
              "      <td>MEXICO</td>\n",
              "      <td>SONORA</td>\n",
              "      <td>NAVOJOA</td>\n",
              "      <td>NAVOJOA</td>\n",
              "      <td>MEXICANA</td>\n",
              "      <td>1.1</td>\n",
              "      <td>DELGADA</td>\n",
              "      <td>MUJER</td>\n",
              "      <td>7</td>\n",
              "      <td>TIENE UNA CICATRIZ EN LA RODILLA IZQUIERDA POR...</td>\n",
              "      <td>NO ESPECIFICADO</td>\n",
              "      <td>NINGUNO</td>\n",
              "      <td>FGE - SONORA</td>\n",
              "    </tr>\n",
              "    <tr>\n",
              "      <th>1</th>\n",
              "      <td>2007-02-05</td>\n",
              "      <td>02:00:26</td>\n",
              "      <td>MEXICO</td>\n",
              "      <td>ESTADO DE MEXICO</td>\n",
              "      <td>VALLE DE BRAVO</td>\n",
              "      <td>VALLE DE BRAVO</td>\n",
              "      <td>MEXICANA</td>\n",
              "      <td>1.1</td>\n",
              "      <td>DELGADA</td>\n",
              "      <td>MUJER</td>\n",
              "      <td>4</td>\n",
              "      <td>NO ESPECIFICADO</td>\n",
              "      <td>NO ESPECIFICADO</td>\n",
              "      <td>NINGUNO</td>\n",
              "      <td>FGJ - ESTADO DE MEXICO</td>\n",
              "    </tr>\n",
              "  </tbody>\n",
              "</table>\n",
              "</div>"
            ],
            "text/plain": [
              "  fecha_visto_ultima_vez  ... dependencia_informacion\n",
              "0             2012-03-18  ...            FGE - SONORA\n",
              "1             2007-02-05  ...  FGJ - ESTADO DE MEXICO\n",
              "\n",
              "[2 rows x 15 columns]"
            ]
          },
          "metadata": {
            "tags": []
          },
          "execution_count": 5
        }
      ]
    },
    {
      "cell_type": "code",
      "metadata": {
        "colab": {
          "base_uri": "https://localhost:8080/"
        },
        "id": "ie7MKsmyNVb9",
        "outputId": "be9774e3-e2e5-4ec9-e0a0-e13609eaeda0"
      },
      "source": [
        "#Analizamos los tipos de datos que tenemos por columna\n",
        "df_personas_desaparecidas_2018_fc.dtypes"
      ],
      "execution_count": null,
      "outputs": [
        {
          "output_type": "execute_result",
          "data": {
            "text/plain": [
              "fecha_visto_ultima_vez        object\n",
              "hora_visto_ultima_vez         object\n",
              "pais_visto_ultima_vez         object\n",
              "entidad_visto_ultima_vez      object\n",
              "municipio_visto_ultima_vez    object\n",
              "localidad_visto_ultima_vez    object\n",
              "nacionalidad                  object\n",
              "estatura                      object\n",
              "complexion                    object\n",
              "sexo                          object\n",
              "edad                          object\n",
              "senas_particulares            object\n",
              "etnia                         object\n",
              "discapacidad                  object\n",
              "dependencia_informacion       object\n",
              "dtype: object"
            ]
          },
          "metadata": {
            "tags": []
          },
          "execution_count": 6
        }
      ]
    },
    {
      "cell_type": "code",
      "metadata": {
        "colab": {
          "base_uri": "https://localhost:8080/",
          "height": 135
        },
        "id": "rsha83XDNY-k",
        "outputId": "e729a38f-8188-4fa0-8c2b-48bccd0ceec3"
      },
      "source": [
        "#Combinaremos las columnas fecha_visto_ultima_vez y hora_visto_ultima_vez, creaundo una nueva columna \n",
        "#para facilitar su uso y despues le cambiamos el tipo de dato a datetime\n",
        "df_personas_desaparecidas_2018_fc['fecha_hora_visto_ultima_vez'] = df_personas_desaparecidas_2018_fc['fecha_visto_ultima_vez'] + \" \" +df_personas_desaparecidas_2018_fc['hora_visto_ultima_vez']\n",
        "df_personas_desaparecidas_2018_fc = df_personas_desaparecidas_2018_fc[ ['fecha_hora_visto_ultima_vez'] + [ col for col in df_personas_desaparecidas_2018_fc.columns if col != 'fecha_hora_visto_ultima_vez' ] ]\n",
        "df_personas_desaparecidas_2018_fc['fecha_hora_visto_ultima_vez'] = pd.to_datetime(df_personas_desaparecidas_2018_fc['fecha_hora_visto_ultima_vez'], errors = 'coerce')\n",
        "df_personas_desaparecidas_2018_fc = df_personas_desaparecidas_2018_fc.drop(labels=['fecha_visto_ultima_vez','hora_visto_ultima_vez'], axis=1)\n",
        "df_personas_desaparecidas_2018_fc.head(1)"
      ],
      "execution_count": null,
      "outputs": [
        {
          "output_type": "execute_result",
          "data": {
            "text/html": [
              "<div>\n",
              "<style scoped>\n",
              "    .dataframe tbody tr th:only-of-type {\n",
              "        vertical-align: middle;\n",
              "    }\n",
              "\n",
              "    .dataframe tbody tr th {\n",
              "        vertical-align: top;\n",
              "    }\n",
              "\n",
              "    .dataframe thead th {\n",
              "        text-align: right;\n",
              "    }\n",
              "</style>\n",
              "<table border=\"1\" class=\"dataframe\">\n",
              "  <thead>\n",
              "    <tr style=\"text-align: right;\">\n",
              "      <th></th>\n",
              "      <th>fecha_hora_visto_ultima_vez</th>\n",
              "      <th>pais_visto_ultima_vez</th>\n",
              "      <th>entidad_visto_ultima_vez</th>\n",
              "      <th>municipio_visto_ultima_vez</th>\n",
              "      <th>localidad_visto_ultima_vez</th>\n",
              "      <th>nacionalidad</th>\n",
              "      <th>estatura</th>\n",
              "      <th>complexion</th>\n",
              "      <th>sexo</th>\n",
              "      <th>edad</th>\n",
              "      <th>senas_particulares</th>\n",
              "      <th>etnia</th>\n",
              "      <th>discapacidad</th>\n",
              "      <th>dependencia_informacion</th>\n",
              "    </tr>\n",
              "  </thead>\n",
              "  <tbody>\n",
              "    <tr>\n",
              "      <th>0</th>\n",
              "      <td>2012-03-18 05:00:00</td>\n",
              "      <td>MEXICO</td>\n",
              "      <td>SONORA</td>\n",
              "      <td>NAVOJOA</td>\n",
              "      <td>NAVOJOA</td>\n",
              "      <td>MEXICANA</td>\n",
              "      <td>1.1</td>\n",
              "      <td>DELGADA</td>\n",
              "      <td>MUJER</td>\n",
              "      <td>7</td>\n",
              "      <td>TIENE UNA CICATRIZ EN LA RODILLA IZQUIERDA POR...</td>\n",
              "      <td>NO ESPECIFICADO</td>\n",
              "      <td>NINGUNO</td>\n",
              "      <td>FGE - SONORA</td>\n",
              "    </tr>\n",
              "  </tbody>\n",
              "</table>\n",
              "</div>"
            ],
            "text/plain": [
              "  fecha_hora_visto_ultima_vez  ... dependencia_informacion\n",
              "0         2012-03-18 05:00:00  ...            FGE - SONORA\n",
              "\n",
              "[1 rows x 14 columns]"
            ]
          },
          "metadata": {
            "tags": []
          },
          "execution_count": 7
        }
      ]
    },
    {
      "cell_type": "code",
      "metadata": {
        "id": "hkFam_rON61S"
      },
      "source": [
        "#Cambiaremos el tipo de dato de la columna estatura, para esto primero cambiaremos todos\n",
        "#los valores NO ESPECIFICADO por NaN\n",
        "\n",
        "df_personas_desaparecidas_2018_fc['estatura'] = df_personas_desaparecidas_2018_fc['estatura'].replace(to_replace='NO ESPECIFICADO', value=np.nan)\n",
        "df_personas_desaparecidas_2018_fc['estatura'] = df_personas_desaparecidas_2018_fc['estatura'].replace(to_replace='no ESPECIFICADO', value=np.nan)\n",
        "df_personas_desaparecidas_2018_fc['estatura'] = pd.to_numeric(df_personas_desaparecidas_2018_fc['estatura'])"
      ],
      "execution_count": null,
      "outputs": []
    },
    {
      "cell_type": "code",
      "metadata": {
        "id": "Fa6OzSN6XwDO"
      },
      "source": [
        "#Realizamos el mismo cambio en la columna edad\n",
        "df_personas_desaparecidas_2018_fc['edad'] = df_personas_desaparecidas_2018_fc['edad'].replace(to_replace='NO ESPECIFICADO', value=np.nan)\n",
        "df_personas_desaparecidas_2018_fc['edad'] = df_personas_desaparecidas_2018_fc['edad'].replace(to_replace='no ESPECIFICADO', value=np.nan)\n",
        "df_personas_desaparecidas_2018_fc['edad'] = pd.to_numeric(df_personas_desaparecidas_2018_fc['edad'])"
      ],
      "execution_count": null,
      "outputs": []
    },
    {
      "cell_type": "code",
      "metadata": {
        "colab": {
          "base_uri": "https://localhost:8080/"
        },
        "id": "f9K6HXxlXerz",
        "outputId": "26e79de4-ef28-4e74-b1ee-135ee079f80b"
      },
      "source": [
        "#Observamos que ya tenemos las columnas con el tipo de dato correcto\n",
        "df_personas_desaparecidas_2018_fc.dtypes"
      ],
      "execution_count": null,
      "outputs": [
        {
          "output_type": "execute_result",
          "data": {
            "text/plain": [
              "fecha_hora_visto_ultima_vez    datetime64[ns]\n",
              "pais_visto_ultima_vez                  object\n",
              "entidad_visto_ultima_vez               object\n",
              "municipio_visto_ultima_vez             object\n",
              "localidad_visto_ultima_vez             object\n",
              "nacionalidad                           object\n",
              "estatura                              float64\n",
              "complexion                             object\n",
              "sexo                                   object\n",
              "edad                                  float64\n",
              "senas_particulares                     object\n",
              "etnia                                  object\n",
              "discapacidad                           object\n",
              "dependencia_informacion                object\n",
              "dtype: object"
            ]
          },
          "metadata": {
            "tags": []
          },
          "execution_count": 10
        }
      ]
    },
    {
      "cell_type": "code",
      "metadata": {
        "id": "mE1Z0nNeYLfp"
      },
      "source": [
        "#Ahora normalizamos todos los valores no especificados \n",
        "df_personas_desaparecidas_2018_fc = df_personas_desaparecidas_2018_fc.replace(to_replace= 'No Especificado', value= 'NO ESPECIFICADO')"
      ],
      "execution_count": null,
      "outputs": []
    },
    {
      "cell_type": "code",
      "metadata": {
        "id": "G2hmTNQvjq_L"
      },
      "source": [
        "#Creamos una funcion para transformar todas las estaturas en metros\n",
        "def cm_a_metros(estatura):\n",
        "  if (estatura > 0 and estatura < 3) or estatura == np.nan:\n",
        "    return estatura\n",
        "  else:\n",
        "    return (estatura / 100)\n"
      ],
      "execution_count": null,
      "outputs": []
    },
    {
      "cell_type": "code",
      "metadata": {
        "id": "lg4OMBICkhak"
      },
      "source": [
        "#Aplicamos la funcion creada a la columna de estatura\n",
        "df_personas_desaparecidas_2018_fc['estatura'] = df_personas_desaparecidas_2018_fc['estatura'].apply(cm_a_metros)"
      ],
      "execution_count": null,
      "outputs": []
    },
    {
      "cell_type": "code",
      "metadata": {
        "colab": {
          "base_uri": "https://localhost:8080/",
          "height": 175
        },
        "id": "NEN_AbVSjEZF",
        "outputId": "5f25d92c-5b92-474f-9a68-c472c880156a"
      },
      "source": [
        "#Ya que tenemos todos los datos de nuestras columnas correctos, podemos empezar haciendo funciones de agregacion\n",
        "#Para obtener informacion relevante, como el promedio, el minimo, el maximo y la desviacion estandar\n",
        "\n",
        "df_personas_desaparecidas_2018_fc.agg({'estatura' : ['mean', 'min','max','std'], 'edad' : ['mean','min', 'max','std']})"
      ],
      "execution_count": null,
      "outputs": [
        {
          "output_type": "execute_result",
          "data": {
            "text/html": [
              "<div>\n",
              "<style scoped>\n",
              "    .dataframe tbody tr th:only-of-type {\n",
              "        vertical-align: middle;\n",
              "    }\n",
              "\n",
              "    .dataframe tbody tr th {\n",
              "        vertical-align: top;\n",
              "    }\n",
              "\n",
              "    .dataframe thead th {\n",
              "        text-align: right;\n",
              "    }\n",
              "</style>\n",
              "<table border=\"1\" class=\"dataframe\">\n",
              "  <thead>\n",
              "    <tr style=\"text-align: right;\">\n",
              "      <th></th>\n",
              "      <th>estatura</th>\n",
              "      <th>edad</th>\n",
              "    </tr>\n",
              "  </thead>\n",
              "  <tbody>\n",
              "    <tr>\n",
              "      <th>mean</th>\n",
              "      <td>1.638859</td>\n",
              "      <td>30.801655</td>\n",
              "    </tr>\n",
              "    <tr>\n",
              "      <th>min</th>\n",
              "      <td>0.300000</td>\n",
              "      <td>1.000000</td>\n",
              "    </tr>\n",
              "    <tr>\n",
              "      <th>max</th>\n",
              "      <td>2.040000</td>\n",
              "      <td>103.000000</td>\n",
              "    </tr>\n",
              "    <tr>\n",
              "      <th>std</th>\n",
              "      <td>0.162449</td>\n",
              "      <td>15.025777</td>\n",
              "    </tr>\n",
              "  </tbody>\n",
              "</table>\n",
              "</div>"
            ],
            "text/plain": [
              "      estatura        edad\n",
              "mean  1.638859   30.801655\n",
              "min   0.300000    1.000000\n",
              "max   2.040000  103.000000\n",
              "std   0.162449   15.025777"
            ]
          },
          "metadata": {
            "tags": []
          },
          "execution_count": 14
        }
      ]
    },
    {
      "cell_type": "code",
      "metadata": {
        "colab": {
          "base_uri": "https://localhost:8080/"
        },
        "id": "PuNQinLboayX",
        "outputId": "14f01d3c-5ab2-45f8-c588-28d879707df7"
      },
      "source": [
        "#Ahora empezaremos a hacer agrupaciones para obtener datos aun mas relevantes\n",
        "df_personas_desaparecidas_2018_fc.groupby(['sexo']).size()"
      ],
      "execution_count": null,
      "outputs": [
        {
          "output_type": "execute_result",
          "data": {
            "text/plain": [
              "sexo\n",
              "HOMBRE    26938\n",
              "MUJER      9327\n",
              "dtype: int64"
            ]
          },
          "metadata": {
            "tags": []
          },
          "execution_count": 16
        }
      ]
    },
    {
      "cell_type": "code",
      "metadata": {
        "colab": {
          "base_uri": "https://localhost:8080/"
        },
        "id": "brl5l3e_qE9e",
        "outputId": "13c847ec-afc3-49ab-90ea-7e1f237e0e8a"
      },
      "source": [
        "df_personas_desaparecidas_2018_fc.groupby(['nacionalidad']).size().sort_values(ascending= False)"
      ],
      "execution_count": null,
      "outputs": [
        {
          "output_type": "execute_result",
          "data": {
            "text/plain": [
              "nacionalidad\n",
              "MEXICANA           34016\n",
              "NO ESPECIFICADO     2040\n",
              "ESTADOUNIDENSE       124\n",
              "HONDUREÑA             24\n",
              "GUATEMALTECO          12\n",
              "COLOMBIANA             9\n",
              "SALVADOREÑA            8\n",
              "VENEZOLANA             4\n",
              "ITALIANA               3\n",
              "CUBANA                 3\n",
              "CANADIENSE             3\n",
              "ESPAÑOLA               3\n",
              "HAITIANA               2\n",
              "PERUANA                2\n",
              "CHINA                  1\n",
              "BRASILEÑA              1\n",
              "ARGENTINA              1\n",
              "COSTARICENSE           1\n",
              "FRANCESA               1\n",
              "DOMINICANA             1\n",
              "ERITREA                1\n",
              "HOLANDESA              1\n",
              "NICARAGUENSE           1\n",
              "PANAMEÑA               1\n",
              "PARAGUAYA              1\n",
              "ALEMANA                1\n",
              "dtype: int64"
            ]
          },
          "metadata": {
            "tags": []
          },
          "execution_count": 17
        }
      ]
    },
    {
      "cell_type": "code",
      "metadata": {
        "colab": {
          "base_uri": "https://localhost:8080/"
        },
        "id": "nmrDwYp-qVMg",
        "outputId": "f11fdd0f-7591-4860-b806-65e01d4f1522"
      },
      "source": [
        "#Dependencia donde se reporta el mayor numero de mujeres desaparecidas\n",
        "\n",
        "df_personas_desaparecidas_2018_fc.groupby(['dependencia_informacion']).size().sort_values(ascending= False)"
      ],
      "execution_count": null,
      "outputs": [
        {
          "output_type": "execute_result",
          "data": {
            "text/plain": [
              "dependencia_informacion\n",
              "PGJ - TAMAULIPAS             5979\n",
              "FGJ - ESTADO DE MEXICO       3874\n",
              "FGE - JALISCO                3379\n",
              "FGE - SINALOA                3025\n",
              "PGJ - NUEVO LEON             2884\n",
              "FGE - CHIHUAHUA              2201\n",
              "FGE - SONORA                 2146\n",
              "FGE - PUEBLA                 2086\n",
              "FGE - COAHUILA               1778\n",
              "FGE - GUERRERO               1502\n",
              "PGJ - MICHOACAN              1204\n",
              "PGJ - BAJA CALIFORNIA        1012\n",
              "PGJ - CIUDAD DE MEXICO        742\n",
              "PGJ - GUANAJUATO              615\n",
              "PGJ - COLIMA                  590\n",
              "FGE - VERACRUZ                514\n",
              "FGE - ZACATECAS               510\n",
              "FGE - DURANGO                 406\n",
              "FGE - QUERETARO               361\n",
              "FGE - MORELOS                 240\n",
              "FGE - AGUASCALIENTES          221\n",
              "FGE - OAXACA                  202\n",
              "PGJ - HIDALGO                 175\n",
              "FGE - NAYARIT                 144\n",
              "FGE - CHIAPAS                 107\n",
              "FGE - YUCATAN                  98\n",
              "FGE - TABASCO                  64\n",
              "FGE - QUINTANA ROO             60\n",
              "FGE - SAN LUIS POTOSI          53\n",
              "PGJ - BAJA CALIFORNIA SUR      38\n",
              "FGE - CAMPECHE                 34\n",
              "PGJ - TLAXCALA                 21\n",
              "dtype: int64"
            ]
          },
          "metadata": {
            "tags": []
          },
          "execution_count": 18
        }
      ]
    },
    {
      "cell_type": "code",
      "metadata": {
        "colab": {
          "base_uri": "https://localhost:8080/"
        },
        "id": "3bcV3sFkpbGy",
        "outputId": "7ea54c0d-5187-48ff-8a03-4d2ddde84590"
      },
      "source": [
        "#Despues observamos cuales etnias tienen mas personas desaparecidas reportadas\n",
        "df_personas_desaparecidas_2018_fc[df_personas_desaparecidas_2018_fc['etnia'] != 'NO ESPECIFICADO'].groupby(['etnia']).size().sort_values(ascending= False)"
      ],
      "execution_count": null,
      "outputs": [
        {
          "output_type": "execute_result",
          "data": {
            "text/plain": [
              "etnia\n",
              "MAYAS                     27\n",
              "NAHUAS                    18\n",
              "AMUZGOS OAXACA            13\n",
              "TLALPANECOS               11\n",
              "CHATINOS                  11\n",
              "OTOMIES                   10\n",
              "TARAHUMARAS - RARAMURI     9\n",
              "CHICHIMECAS                6\n",
              "CHINANTECOS                5\n",
              "SERIS                      4\n",
              "MIXTECOS                   4\n",
              "MEXICANEROS                3\n",
              "HUICHOLES                  2\n",
              "CHOLES                     2\n",
              "TOTONACAS                  2\n",
              "YAQUIS                     2\n",
              "HUASTECOS                  1\n",
              "MAMES                      1\n",
              "PAMES                      1\n",
              "dtype: int64"
            ]
          },
          "metadata": {
            "tags": []
          },
          "execution_count": 19
        }
      ]
    },
    {
      "cell_type": "code",
      "metadata": {
        "colab": {
          "base_uri": "https://localhost:8080/"
        },
        "id": "YHfe7rRFs2dA",
        "outputId": "7d82a16d-4882-4ac9-f5d6-93220af28a66"
      },
      "source": [
        "#Agrupando por año para ver cuando se han reportado mas\n",
        "personas_desaparecidas_por_ano = df_personas_desaparecidas_2018_fc.groupby([df_personas_desaparecidas_2018_fc['fecha_hora_visto_ultima_vez'].dt.year]).size().sort_values(ascending= False)\n",
        "personas_desaparecidas_por_ano.sort_index(ascending=False)"
      ],
      "execution_count": null,
      "outputs": [
        {
          "output_type": "execute_result",
          "data": {
            "text/plain": [
              "fecha_hora_visto_ultima_vez\n",
              "2018.0    1634\n",
              "2017.0    5426\n",
              "2016.0    4525\n",
              "2015.0    3272\n",
              "2014.0    3790\n",
              "2013.0    3650\n",
              "2012.0    3288\n",
              "2011.0    4064\n",
              "2010.0    3206\n",
              "2009.0    1372\n",
              "2008.0     800\n",
              "2007.0     620\n",
              "2006.0      89\n",
              "2005.0      47\n",
              "2004.0      15\n",
              "2003.0      16\n",
              "2002.0      19\n",
              "2001.0      13\n",
              "2000.0      18\n",
              "1999.0       8\n",
              "1998.0       9\n",
              "1997.0       9\n",
              "1996.0       5\n",
              "1995.0       2\n",
              "1994.0       1\n",
              "1993.0       3\n",
              "1992.0       1\n",
              "1991.0       2\n",
              "1990.0       1\n",
              "1989.0       4\n",
              "1988.0       2\n",
              "1987.0       2\n",
              "1985.0       2\n",
              "1984.0       1\n",
              "1980.0       1\n",
              "1979.0       3\n",
              "1978.0       1\n",
              "1977.0       2\n",
              "1976.0       1\n",
              "1972.0       1\n",
              "1971.0       1\n",
              "1968.0       1\n",
              "dtype: int64"
            ]
          },
          "metadata": {
            "tags": []
          },
          "execution_count": 27
        }
      ]
    },
    {
      "cell_type": "code",
      "metadata": {
        "colab": {
          "base_uri": "https://localhost:8080/"
        },
        "id": "lH7TAUKotqug",
        "outputId": "a48f1021-c23d-49aa-a602-891f8ea706a0"
      },
      "source": [
        "#Aqui se puede observar como con el paso de los años va aumentando el numero de mujeres desaparecidas repiradas\n",
        "personas_desaparecidas_sexo_fecha = df_personas_desaparecidas_2018_fc.groupby([df_personas_desaparecidas_2018_fc['fecha_hora_visto_ultima_vez'].dt.year])['sexo'].value_counts()\n",
        "personas_desaparecidas_sexo_fecha.tail(25)"
      ],
      "execution_count": null,
      "outputs": [
        {
          "output_type": "execute_result",
          "data": {
            "text/plain": [
              "fecha_hora_visto_ultima_vez  sexo  \n",
              "2006.0                       MUJER       22\n",
              "2007.0                       HOMBRE     476\n",
              "                             MUJER      144\n",
              "2008.0                       HOMBRE     630\n",
              "                             MUJER      170\n",
              "2009.0                       HOMBRE    1074\n",
              "                             MUJER      298\n",
              "2010.0                       HOMBRE    2732\n",
              "                             MUJER      474\n",
              "2011.0                       HOMBRE    3199\n",
              "                             MUJER      865\n",
              "2012.0                       HOMBRE    2580\n",
              "                             MUJER      708\n",
              "2013.0                       HOMBRE    2837\n",
              "                             MUJER      813\n",
              "2014.0                       HOMBRE    2906\n",
              "                             MUJER      884\n",
              "2015.0                       HOMBRE    2350\n",
              "                             MUJER      922\n",
              "2016.0                       HOMBRE    3046\n",
              "                             MUJER     1479\n",
              "2017.0                       HOMBRE    3669\n",
              "                             MUJER     1757\n",
              "2018.0                       HOMBRE     974\n",
              "                             MUJER      660\n",
              "Name: sexo, dtype: int64"
            ]
          },
          "metadata": {
            "tags": []
          },
          "execution_count": 106
        }
      ]
    },
    {
      "cell_type": "code",
      "metadata": {
        "colab": {
          "base_uri": "https://localhost:8080/"
        },
        "id": "qynXkZFTzpiW",
        "outputId": "83dc272e-5ada-4805-c855-715d6a8d32ad"
      },
      "source": [
        "#Principales entidades donde se ve por ultima vez a las mujeres desaparecidas\n",
        "df_personas_desaparecidas_2018_fc[df_personas_desaparecidas_2018_fc['sexo'] == 'MUJER'].groupby(['entidad_visto_ultima_vez']).size().sort_values(ascending= False)"
      ],
      "execution_count": null,
      "outputs": [
        {
          "output_type": "execute_result",
          "data": {
            "text/plain": [
              "entidad_visto_ultima_vez\n",
              "ESTADO DE MEXICO        1785\n",
              "TAMAULIPAS              1274\n",
              "PUEBLA                  1046\n",
              "NUEVO LEON               760\n",
              "SONORA                   641\n",
              "BAJA CALIFORNIA          414\n",
              "SINALOA                  394\n",
              "JALISCO                  386\n",
              "COAHUILA DE ZARAGOZA     327\n",
              "CIUDAD DE MEXICO         327\n",
              "GUERRERO                 301\n",
              "MICHOACAN                232\n",
              "CHIHUAHUA                224\n",
              "COLIMA                   181\n",
              "VERACRUZ                 136\n",
              "AGUASCALIENTES           109\n",
              "GUANAJUATO               102\n",
              "OAXACA                    99\n",
              "MORELOS                   96\n",
              "QUERETARO                 89\n",
              "HIDALGO                   71\n",
              "ZACATECAS                 66\n",
              "DURANGO                   62\n",
              "CHIAPAS                   52\n",
              "TABASCO                   35\n",
              "QUINTANA ROO              33\n",
              "YUCATAN                   32\n",
              "CAMPECHE                  13\n",
              "SAN LUIS POTOSI           12\n",
              "NAYARIT                   10\n",
              "TLAXCALA                  10\n",
              "NO ESPECIFICADO            4\n",
              "BAJA CALIFORNIA SUR        4\n",
              "dtype: int64"
            ]
          },
          "metadata": {
            "tags": []
          },
          "execution_count": 29
        }
      ]
    },
    {
      "cell_type": "code",
      "metadata": {
        "colab": {
          "base_uri": "https://localhost:8080/"
        },
        "id": "oixDYdh_wYPZ",
        "outputId": "19dfbbf6-4b5f-48a2-d2f7-3468034d3c99"
      },
      "source": [
        "#Dependencia donde se reporta el mayor numero de mujeres desaparecidas\n",
        "df_personas_desaparecidas_2018_fc[df_personas_desaparecidas_2018_fc['sexo'] == 'MUJER'].groupby(['dependencia_informacion']).size().sort_values(ascending= False)"
      ],
      "execution_count": null,
      "outputs": [
        {
          "output_type": "execute_result",
          "data": {
            "text/plain": [
              "dependencia_informacion\n",
              "FGJ - ESTADO DE MEXICO       1778\n",
              "PGJ - TAMAULIPAS             1270\n",
              "FGE - PUEBLA                 1050\n",
              "PGJ - NUEVO LEON              758\n",
              "FGE - SONORA                  643\n",
              "PGJ - BAJA CALIFORNIA         412\n",
              "FGE - SINALOA                 395\n",
              "FGE - JALISCO                 385\n",
              "FGE - COAHUILA                337\n",
              "PGJ - CIUDAD DE MEXICO        328\n",
              "FGE - GUERRERO                311\n",
              "PGJ - MICHOACAN               233\n",
              "FGE - CHIHUAHUA               224\n",
              "PGJ - COLIMA                  179\n",
              "FGE - VERACRUZ                133\n",
              "FGE - AGUASCALIENTES          109\n",
              "PGJ - GUANAJUATO              101\n",
              "FGE - OAXACA                   98\n",
              "FGE - QUERETARO                96\n",
              "FGE - MORELOS                  95\n",
              "PGJ - HIDALGO                  69\n",
              "FGE - ZACATECAS                68\n",
              "FGE - DURANGO                  57\n",
              "FGE - CHIAPAS                  52\n",
              "FGE - TABASCO                  34\n",
              "FGE - QUINTANA ROO             32\n",
              "FGE - YUCATAN                  32\n",
              "FGE - CAMPECHE                 13\n",
              "FGE - SAN LUIS POTOSI          12\n",
              "PGJ - TLAXCALA                 10\n",
              "FGE - NAYARIT                   9\n",
              "PGJ - BAJA CALIFORNIA SUR       4\n",
              "dtype: int64"
            ]
          },
          "metadata": {
            "tags": []
          },
          "execution_count": 28
        }
      ]
    },
    {
      "cell_type": "markdown",
      "metadata": {
        "id": "n3SnUbCXXYTt"
      },
      "source": [
        "### **Limpieza y análisis de `victimas_nacional_2015_ene2021.csv `**"
      ]
    },
    {
      "cell_type": "markdown",
      "metadata": {
        "id": "R4lCcZpXZXGx"
      },
      "source": [
        "Este dataset fue obtenido de Datos Abiertos de Incidencia Delictiva, contiene datos de las víctimas registradas a nivel nacional durante 2015-enero 2021."
      ]
    },
    {
      "cell_type": "code",
      "metadata": {
        "id": "XjToLC5N_UWn"
      },
      "source": [
        "#Importando las paqueterías necesarias\r\n",
        "import pandas as pd\r\n",
        "import os\r\n",
        "import numpy as np "
      ],
      "execution_count": null,
      "outputs": []
    },
    {
      "cell_type": "code",
      "metadata": {
        "id": "C3ARzK7hZK0h"
      },
      "source": [
        "#Lectura de los archivos .csv . NOTA: Los archivos se encuentran en una carpeta de Drive que facilita su lectura en este Notebook.\r\n",
        "#Adicionalmente cada dataset analizado se encuentra en formato .zip en el Github del equipo disponibles para su descarga. \r\n",
        "#Fue obtenido de [III] Gobierno de la Ciudad de México, Portal de datos abiertos .\r\n",
        "ruta_archivo = \"/content/drive/MyDrive/Datasets/Datasets/victimas_nacional_2015_ene2021.csv\"\r\n",
        "victimas_nacional_2015_ene2021 = \"victimas_nacional_2015_ene2021.csv\"\r\n",
        "df_victimas_nacional = pd.read_csv(ruta_archivo,encoding = \"latin1\")"
      ],
      "execution_count": null,
      "outputs": []
    },
    {
      "cell_type": "markdown",
      "metadata": {
        "id": "4zd3yJYmdzP3"
      },
      "source": [
        "### **Explorando el dataset.**"
      ]
    },
    {
      "cell_type": "code",
      "metadata": {
        "colab": {
          "base_uri": "https://localhost:8080/",
          "height": 355
        },
        "id": "HYP7DZ6CcWB9",
        "outputId": "574b319a-339c-4ec0-bd28-7283a51fce46"
      },
      "source": [
        "#Exploración del dataset \r\n",
        "df_victimas_nacional.head(3)"
      ],
      "execution_count": null,
      "outputs": [
        {
          "output_type": "execute_result",
          "data": {
            "text/html": [
              "<div>\n",
              "<style scoped>\n",
              "    .dataframe tbody tr th:only-of-type {\n",
              "        vertical-align: middle;\n",
              "    }\n",
              "\n",
              "    .dataframe tbody tr th {\n",
              "        vertical-align: top;\n",
              "    }\n",
              "\n",
              "    .dataframe thead th {\n",
              "        text-align: right;\n",
              "    }\n",
              "</style>\n",
              "<table border=\"1\" class=\"dataframe\">\n",
              "  <thead>\n",
              "    <tr style=\"text-align: right;\">\n",
              "      <th></th>\n",
              "      <th>Año</th>\n",
              "      <th>Clave_Ent</th>\n",
              "      <th>Entidad</th>\n",
              "      <th>Bien jurídico afectado</th>\n",
              "      <th>Tipo de delito</th>\n",
              "      <th>Subtipo de delito</th>\n",
              "      <th>Modalidad</th>\n",
              "      <th>Sexo</th>\n",
              "      <th>Rango de edad</th>\n",
              "      <th>Enero</th>\n",
              "      <th>Febrero</th>\n",
              "      <th>Marzo</th>\n",
              "      <th>Abril</th>\n",
              "      <th>Mayo</th>\n",
              "      <th>Junio</th>\n",
              "      <th>Julio</th>\n",
              "      <th>Agosto</th>\n",
              "      <th>Septiembre</th>\n",
              "      <th>Octubre</th>\n",
              "      <th>Noviembre</th>\n",
              "      <th>Diciembre</th>\n",
              "    </tr>\n",
              "  </thead>\n",
              "  <tbody>\n",
              "    <tr>\n",
              "      <th>0</th>\n",
              "      <td>2015</td>\n",
              "      <td>1</td>\n",
              "      <td>Aguascalientes</td>\n",
              "      <td>La vida y la Integridad corporal</td>\n",
              "      <td>Homicidio</td>\n",
              "      <td>Homicidio doloso</td>\n",
              "      <td>Con arma de fuego</td>\n",
              "      <td>Mujer</td>\n",
              "      <td>Menores de edad (0-17)</td>\n",
              "      <td>0</td>\n",
              "      <td>0.0</td>\n",
              "      <td>0.0</td>\n",
              "      <td>0.0</td>\n",
              "      <td>0.0</td>\n",
              "      <td>0.0</td>\n",
              "      <td>0.0</td>\n",
              "      <td>0.0</td>\n",
              "      <td>0.0</td>\n",
              "      <td>0.0</td>\n",
              "      <td>0.0</td>\n",
              "      <td>0.0</td>\n",
              "    </tr>\n",
              "    <tr>\n",
              "      <th>1</th>\n",
              "      <td>2015</td>\n",
              "      <td>1</td>\n",
              "      <td>Aguascalientes</td>\n",
              "      <td>La vida y la Integridad corporal</td>\n",
              "      <td>Homicidio</td>\n",
              "      <td>Homicidio doloso</td>\n",
              "      <td>Con arma blanca</td>\n",
              "      <td>Mujer</td>\n",
              "      <td>Menores de edad (0-17)</td>\n",
              "      <td>0</td>\n",
              "      <td>0.0</td>\n",
              "      <td>0.0</td>\n",
              "      <td>0.0</td>\n",
              "      <td>0.0</td>\n",
              "      <td>0.0</td>\n",
              "      <td>0.0</td>\n",
              "      <td>0.0</td>\n",
              "      <td>0.0</td>\n",
              "      <td>0.0</td>\n",
              "      <td>0.0</td>\n",
              "      <td>0.0</td>\n",
              "    </tr>\n",
              "    <tr>\n",
              "      <th>2</th>\n",
              "      <td>2015</td>\n",
              "      <td>1</td>\n",
              "      <td>Aguascalientes</td>\n",
              "      <td>La vida y la Integridad corporal</td>\n",
              "      <td>Homicidio</td>\n",
              "      <td>Homicidio doloso</td>\n",
              "      <td>Con otro elemento</td>\n",
              "      <td>Mujer</td>\n",
              "      <td>Menores de edad (0-17)</td>\n",
              "      <td>0</td>\n",
              "      <td>0.0</td>\n",
              "      <td>0.0</td>\n",
              "      <td>0.0</td>\n",
              "      <td>1.0</td>\n",
              "      <td>0.0</td>\n",
              "      <td>0.0</td>\n",
              "      <td>1.0</td>\n",
              "      <td>0.0</td>\n",
              "      <td>0.0</td>\n",
              "      <td>0.0</td>\n",
              "      <td>0.0</td>\n",
              "    </tr>\n",
              "  </tbody>\n",
              "</table>\n",
              "</div>"
            ],
            "text/plain": [
              "    Año  Clave_Ent         Entidad  ... Octubre Noviembre Diciembre\n",
              "0  2015          1  Aguascalientes  ...     0.0       0.0       0.0\n",
              "1  2015          1  Aguascalientes  ...     0.0       0.0       0.0\n",
              "2  2015          1  Aguascalientes  ...     0.0       0.0       0.0\n",
              "\n",
              "[3 rows x 21 columns]"
            ]
          },
          "metadata": {
            "tags": []
          },
          "execution_count": 3
        }
      ]
    },
    {
      "cell_type": "code",
      "metadata": {
        "colab": {
          "base_uri": "https://localhost:8080/",
          "height": 302
        },
        "id": "3Ai6Wsm7ebtM",
        "outputId": "b32307d0-0d5e-4164-ceb2-478a10e5d210"
      },
      "source": [
        "df_victimas_nacional.tail(3) #Se puede observar que existen valores NaN a limpiar y algunos datos disponibles"
      ],
      "execution_count": null,
      "outputs": [
        {
          "output_type": "execute_result",
          "data": {
            "text/html": [
              "<div>\n",
              "<style scoped>\n",
              "    .dataframe tbody tr th:only-of-type {\n",
              "        vertical-align: middle;\n",
              "    }\n",
              "\n",
              "    .dataframe tbody tr th {\n",
              "        vertical-align: top;\n",
              "    }\n",
              "\n",
              "    .dataframe thead th {\n",
              "        text-align: right;\n",
              "    }\n",
              "</style>\n",
              "<table border=\"1\" class=\"dataframe\">\n",
              "  <thead>\n",
              "    <tr style=\"text-align: right;\">\n",
              "      <th></th>\n",
              "      <th>Año</th>\n",
              "      <th>Clave_Ent</th>\n",
              "      <th>Entidad</th>\n",
              "      <th>Bien jurídico afectado</th>\n",
              "      <th>Tipo de delito</th>\n",
              "      <th>Subtipo de delito</th>\n",
              "      <th>Modalidad</th>\n",
              "      <th>Sexo</th>\n",
              "      <th>Rango de edad</th>\n",
              "      <th>Enero</th>\n",
              "      <th>Febrero</th>\n",
              "      <th>Marzo</th>\n",
              "      <th>Abril</th>\n",
              "      <th>Mayo</th>\n",
              "      <th>Junio</th>\n",
              "      <th>Julio</th>\n",
              "      <th>Agosto</th>\n",
              "      <th>Septiembre</th>\n",
              "      <th>Octubre</th>\n",
              "      <th>Noviembre</th>\n",
              "      <th>Diciembre</th>\n",
              "    </tr>\n",
              "  </thead>\n",
              "  <tbody>\n",
              "    <tr>\n",
              "      <th>51517</th>\n",
              "      <td>2021</td>\n",
              "      <td>32</td>\n",
              "      <td>Zacatecas</td>\n",
              "      <td>La sociedad</td>\n",
              "      <td>Corrupción de menores</td>\n",
              "      <td>Corrupción de menores</td>\n",
              "      <td>Corrupción de menores</td>\n",
              "      <td>No identificado</td>\n",
              "      <td>No identificado</td>\n",
              "      <td>0</td>\n",
              "      <td>NaN</td>\n",
              "      <td>NaN</td>\n",
              "      <td>NaN</td>\n",
              "      <td>NaN</td>\n",
              "      <td>NaN</td>\n",
              "      <td>NaN</td>\n",
              "      <td>NaN</td>\n",
              "      <td>NaN</td>\n",
              "      <td>NaN</td>\n",
              "      <td>NaN</td>\n",
              "      <td>NaN</td>\n",
              "    </tr>\n",
              "    <tr>\n",
              "      <th>51518</th>\n",
              "      <td>2021</td>\n",
              "      <td>32</td>\n",
              "      <td>Zacatecas</td>\n",
              "      <td>La sociedad</td>\n",
              "      <td>Trata de personas</td>\n",
              "      <td>Trata de personas</td>\n",
              "      <td>Trata de personas</td>\n",
              "      <td>No identificado</td>\n",
              "      <td>No identificado</td>\n",
              "      <td>0</td>\n",
              "      <td>NaN</td>\n",
              "      <td>NaN</td>\n",
              "      <td>NaN</td>\n",
              "      <td>NaN</td>\n",
              "      <td>NaN</td>\n",
              "      <td>NaN</td>\n",
              "      <td>NaN</td>\n",
              "      <td>NaN</td>\n",
              "      <td>NaN</td>\n",
              "      <td>NaN</td>\n",
              "      <td>NaN</td>\n",
              "    </tr>\n",
              "    <tr>\n",
              "      <th>51519</th>\n",
              "      <td>2021</td>\n",
              "      <td>32</td>\n",
              "      <td>Zacatecas</td>\n",
              "      <td>La sociedad</td>\n",
              "      <td>Otros delitos contra la sociedad</td>\n",
              "      <td>Otros delitos contra la sociedad</td>\n",
              "      <td>Otros delitos contra la sociedad</td>\n",
              "      <td>No identificado</td>\n",
              "      <td>No identificado</td>\n",
              "      <td>0</td>\n",
              "      <td>NaN</td>\n",
              "      <td>NaN</td>\n",
              "      <td>NaN</td>\n",
              "      <td>NaN</td>\n",
              "      <td>NaN</td>\n",
              "      <td>NaN</td>\n",
              "      <td>NaN</td>\n",
              "      <td>NaN</td>\n",
              "      <td>NaN</td>\n",
              "      <td>NaN</td>\n",
              "      <td>NaN</td>\n",
              "    </tr>\n",
              "  </tbody>\n",
              "</table>\n",
              "</div>"
            ],
            "text/plain": [
              "        Año  Clave_Ent    Entidad  ... Octubre Noviembre Diciembre\n",
              "51517  2021         32  Zacatecas  ...     NaN       NaN       NaN\n",
              "51518  2021         32  Zacatecas  ...     NaN       NaN       NaN\n",
              "51519  2021         32  Zacatecas  ...     NaN       NaN       NaN\n",
              "\n",
              "[3 rows x 21 columns]"
            ]
          },
          "metadata": {
            "tags": []
          },
          "execution_count": 4
        }
      ]
    },
    {
      "cell_type": "code",
      "metadata": {
        "colab": {
          "base_uri": "https://localhost:8080/"
        },
        "id": "7Xa_FmGPelDE",
        "outputId": "6e00350d-162c-4063-8aee-fcae6bb25c38"
      },
      "source": [
        "#Exploración del dataset\r\n",
        "print(df_victimas_nacional.dtypes) #Observamos todas las columnas y el tipo de dato que almacenan \r\n",
        "df_victimas_nacional.shape  #Para obtener el número de registros y columnas "
      ],
      "execution_count": null,
      "outputs": [
        {
          "output_type": "stream",
          "text": [
            "Año                         int64\n",
            "Clave_Ent                   int64\n",
            "Entidad                    object\n",
            "Bien jurídico afectado     object\n",
            "Tipo de delito             object\n",
            "Subtipo de delito          object\n",
            "Modalidad                  object\n",
            "Sexo                       object\n",
            "Rango de edad              object\n",
            "Enero                       int64\n",
            "Febrero                   float64\n",
            "Marzo                     float64\n",
            "Abril                     float64\n",
            "Mayo                      float64\n",
            "Junio                     float64\n",
            "Julio                     float64\n",
            "Agosto                    float64\n",
            "Septiembre                float64\n",
            "Octubre                   float64\n",
            "Noviembre                 float64\n",
            "Diciembre                 float64\n",
            "dtype: object\n"
          ],
          "name": "stdout"
        },
        {
          "output_type": "execute_result",
          "data": {
            "text/plain": [
              "(51520, 21)"
            ]
          },
          "metadata": {
            "tags": []
          },
          "execution_count": 5
        }
      ]
    },
    {
      "cell_type": "code",
      "metadata": {
        "colab": {
          "base_uri": "https://localhost:8080/"
        },
        "id": "4iK_ULNek264",
        "outputId": "c3a09ee6-0de0-4406-ce88-99dfc2eaed18"
      },
      "source": [
        "df_victimas_nacional.info() #Obteniendo la información del dataset"
      ],
      "execution_count": null,
      "outputs": [
        {
          "output_type": "stream",
          "text": [
            "<class 'pandas.core.frame.DataFrame'>\n",
            "RangeIndex: 51520 entries, 0 to 51519\n",
            "Data columns (total 21 columns):\n",
            " #   Column                  Non-Null Count  Dtype  \n",
            "---  ------                  --------------  -----  \n",
            " 0   Año                     51520 non-null  int64  \n",
            " 1   Clave_Ent               51520 non-null  int64  \n",
            " 2   Entidad                 51520 non-null  object \n",
            " 3   Bien jurídico afectado  51520 non-null  object \n",
            " 4   Tipo de delito          51520 non-null  object \n",
            " 5   Subtipo de delito       51520 non-null  object \n",
            " 6   Modalidad               51520 non-null  object \n",
            " 7   Sexo                    51520 non-null  object \n",
            " 8   Rango de edad           51520 non-null  object \n",
            " 9   Enero                   51520 non-null  int64  \n",
            " 10  Febrero                 44160 non-null  float64\n",
            " 11  Marzo                   44160 non-null  float64\n",
            " 12  Abril                   44160 non-null  float64\n",
            " 13  Mayo                    44160 non-null  float64\n",
            " 14  Junio                   44160 non-null  float64\n",
            " 15  Julio                   44160 non-null  float64\n",
            " 16  Agosto                  44160 non-null  float64\n",
            " 17  Septiembre              44160 non-null  float64\n",
            " 18  Octubre                 44160 non-null  float64\n",
            " 19  Noviembre               44160 non-null  float64\n",
            " 20  Diciembre               44160 non-null  float64\n",
            "dtypes: float64(11), int64(3), object(7)\n",
            "memory usage: 8.3+ MB\n"
          ],
          "name": "stdout"
        }
      ]
    },
    {
      "cell_type": "code",
      "metadata": {
        "colab": {
          "base_uri": "https://localhost:8080/"
        },
        "id": "EBaFuRjgPTbb",
        "outputId": "224ae679-1a8d-49c2-997d-9c0e548871e1"
      },
      "source": [
        "df_victimas_nacional.columns #obteniendo las columnas del dataset "
      ],
      "execution_count": null,
      "outputs": [
        {
          "output_type": "execute_result",
          "data": {
            "text/plain": [
              "Index(['Año', 'Clave_Ent', 'Entidad', 'Bien jurídico afectado',\n",
              "       'Tipo de delito', 'Subtipo de delito', 'Modalidad', 'Sexo',\n",
              "       'Rango de edad', 'Enero', 'Febrero', 'Marzo', 'Abril', 'Mayo', 'Junio',\n",
              "       'Julio', 'Agosto', 'Septiembre', 'Octubre', 'Noviembre', 'Diciembre'],\n",
              "      dtype='object')"
            ]
          },
          "metadata": {
            "tags": []
          },
          "execution_count": 7
        }
      ]
    },
    {
      "cell_type": "markdown",
      "metadata": {
        "id": "ADCS4eVxlDZa"
      },
      "source": [
        "### **Encontrando y limpiando valores NaN.**"
      ]
    },
    {
      "cell_type": "code",
      "metadata": {
        "colab": {
          "base_uri": "https://localhost:8080/"
        },
        "id": "GQ1728lalBhw",
        "outputId": "8c6da345-952f-4e48-8c10-c41bdcd75d7a"
      },
      "source": [
        "#Identificando los valores perdidos por columna\r\n",
        "df_victimas_nacional_NaN = df_victimas_nacional.isna().sum(axis=0)\r\n",
        "print(df_victimas_nacional_NaN)"
      ],
      "execution_count": null,
      "outputs": [
        {
          "output_type": "stream",
          "text": [
            "Año                          0\n",
            "Clave_Ent                    0\n",
            "Entidad                      0\n",
            "Bien jurídico afectado       0\n",
            "Tipo de delito               0\n",
            "Subtipo de delito            0\n",
            "Modalidad                    0\n",
            "Sexo                         0\n",
            "Rango de edad                0\n",
            "Enero                        0\n",
            "Febrero                   7360\n",
            "Marzo                     7360\n",
            "Abril                     7360\n",
            "Mayo                      7360\n",
            "Junio                     7360\n",
            "Julio                     7360\n",
            "Agosto                    7360\n",
            "Septiembre                7360\n",
            "Octubre                   7360\n",
            "Noviembre                 7360\n",
            "Diciembre                 7360\n",
            "dtype: int64\n"
          ],
          "name": "stdout"
        }
      ]
    },
    {
      "cell_type": "code",
      "metadata": {
        "colab": {
          "base_uri": "https://localhost:8080/",
          "height": 355
        },
        "id": "fsJ_II9OmRFh",
        "outputId": "4c90c01d-9ab9-433d-edeb-ece384a554d4"
      },
      "source": [
        "df_victimas_nacional[51520-7360:51520-7357] #Los registros que contienen los valores perdidos son los correspondientes a 2021"
      ],
      "execution_count": null,
      "outputs": [
        {
          "output_type": "execute_result",
          "data": {
            "text/html": [
              "<div>\n",
              "<style scoped>\n",
              "    .dataframe tbody tr th:only-of-type {\n",
              "        vertical-align: middle;\n",
              "    }\n",
              "\n",
              "    .dataframe tbody tr th {\n",
              "        vertical-align: top;\n",
              "    }\n",
              "\n",
              "    .dataframe thead th {\n",
              "        text-align: right;\n",
              "    }\n",
              "</style>\n",
              "<table border=\"1\" class=\"dataframe\">\n",
              "  <thead>\n",
              "    <tr style=\"text-align: right;\">\n",
              "      <th></th>\n",
              "      <th>Año</th>\n",
              "      <th>Clave_Ent</th>\n",
              "      <th>Entidad</th>\n",
              "      <th>Bien jurídico afectado</th>\n",
              "      <th>Tipo de delito</th>\n",
              "      <th>Subtipo de delito</th>\n",
              "      <th>Modalidad</th>\n",
              "      <th>Sexo</th>\n",
              "      <th>Rango de edad</th>\n",
              "      <th>Enero</th>\n",
              "      <th>Febrero</th>\n",
              "      <th>Marzo</th>\n",
              "      <th>Abril</th>\n",
              "      <th>Mayo</th>\n",
              "      <th>Junio</th>\n",
              "      <th>Julio</th>\n",
              "      <th>Agosto</th>\n",
              "      <th>Septiembre</th>\n",
              "      <th>Octubre</th>\n",
              "      <th>Noviembre</th>\n",
              "      <th>Diciembre</th>\n",
              "    </tr>\n",
              "  </thead>\n",
              "  <tbody>\n",
              "    <tr>\n",
              "      <th>44160</th>\n",
              "      <td>2021</td>\n",
              "      <td>1</td>\n",
              "      <td>Aguascalientes</td>\n",
              "      <td>La vida y la Integridad corporal</td>\n",
              "      <td>Homicidio</td>\n",
              "      <td>Homicidio doloso</td>\n",
              "      <td>Con arma de fuego</td>\n",
              "      <td>Mujer</td>\n",
              "      <td>Menores de edad (0-17)</td>\n",
              "      <td>0</td>\n",
              "      <td>NaN</td>\n",
              "      <td>NaN</td>\n",
              "      <td>NaN</td>\n",
              "      <td>NaN</td>\n",
              "      <td>NaN</td>\n",
              "      <td>NaN</td>\n",
              "      <td>NaN</td>\n",
              "      <td>NaN</td>\n",
              "      <td>NaN</td>\n",
              "      <td>NaN</td>\n",
              "      <td>NaN</td>\n",
              "    </tr>\n",
              "    <tr>\n",
              "      <th>44161</th>\n",
              "      <td>2021</td>\n",
              "      <td>1</td>\n",
              "      <td>Aguascalientes</td>\n",
              "      <td>La vida y la Integridad corporal</td>\n",
              "      <td>Homicidio</td>\n",
              "      <td>Homicidio doloso</td>\n",
              "      <td>Con arma blanca</td>\n",
              "      <td>Mujer</td>\n",
              "      <td>Menores de edad (0-17)</td>\n",
              "      <td>0</td>\n",
              "      <td>NaN</td>\n",
              "      <td>NaN</td>\n",
              "      <td>NaN</td>\n",
              "      <td>NaN</td>\n",
              "      <td>NaN</td>\n",
              "      <td>NaN</td>\n",
              "      <td>NaN</td>\n",
              "      <td>NaN</td>\n",
              "      <td>NaN</td>\n",
              "      <td>NaN</td>\n",
              "      <td>NaN</td>\n",
              "    </tr>\n",
              "    <tr>\n",
              "      <th>44162</th>\n",
              "      <td>2021</td>\n",
              "      <td>1</td>\n",
              "      <td>Aguascalientes</td>\n",
              "      <td>La vida y la Integridad corporal</td>\n",
              "      <td>Homicidio</td>\n",
              "      <td>Homicidio doloso</td>\n",
              "      <td>Con otro elemento</td>\n",
              "      <td>Mujer</td>\n",
              "      <td>Menores de edad (0-17)</td>\n",
              "      <td>0</td>\n",
              "      <td>NaN</td>\n",
              "      <td>NaN</td>\n",
              "      <td>NaN</td>\n",
              "      <td>NaN</td>\n",
              "      <td>NaN</td>\n",
              "      <td>NaN</td>\n",
              "      <td>NaN</td>\n",
              "      <td>NaN</td>\n",
              "      <td>NaN</td>\n",
              "      <td>NaN</td>\n",
              "      <td>NaN</td>\n",
              "    </tr>\n",
              "  </tbody>\n",
              "</table>\n",
              "</div>"
            ],
            "text/plain": [
              "        Año  Clave_Ent         Entidad  ... Octubre Noviembre Diciembre\n",
              "44160  2021          1  Aguascalientes  ...     NaN       NaN       NaN\n",
              "44161  2021          1  Aguascalientes  ...     NaN       NaN       NaN\n",
              "44162  2021          1  Aguascalientes  ...     NaN       NaN       NaN\n",
              "\n",
              "[3 rows x 21 columns]"
            ]
          },
          "metadata": {
            "tags": []
          },
          "execution_count": 9
        }
      ]
    },
    {
      "cell_type": "code",
      "metadata": {
        "id": "IMDKQm9Kqw9a"
      },
      "source": [
        "#Eliminando los valores NaN . Hay que eliminar los registros correspondientes a 2021\r\n",
        "#Nos quedamos con el periodo 2015-2020 para realizar el análisis\r\n",
        "df_victimas_nacional_2015_2020 = df_victimas_nacional[df_victimas_nacional['Año'] < 2021].copy()"
      ],
      "execution_count": null,
      "outputs": []
    },
    {
      "cell_type": "code",
      "metadata": {
        "colab": {
          "base_uri": "https://localhost:8080/"
        },
        "id": "b7whAKe5QtDC",
        "outputId": "06a87c60-ac15-46ad-bfb5-7680c08594f5"
      },
      "source": [
        "#Corroboramos que ya no existan valores NaN en el dataset. \r\n",
        "df_victimas_nacional_NaN = df_victimas_nacional_2015_2020.isna().sum(axis=0)\r\n",
        "df_victimas_nacional_NaN # El Dataset ya no contiene valores NaN"
      ],
      "execution_count": null,
      "outputs": [
        {
          "output_type": "execute_result",
          "data": {
            "text/plain": [
              "Año                       0\n",
              "Clave_Ent                 0\n",
              "Entidad                   0\n",
              "Bien jurídico afectado    0\n",
              "Tipo de delito            0\n",
              "Subtipo de delito         0\n",
              "Modalidad                 0\n",
              "Sexo                      0\n",
              "Rango de edad             0\n",
              "Enero                     0\n",
              "Febrero                   0\n",
              "Marzo                     0\n",
              "Abril                     0\n",
              "Mayo                      0\n",
              "Junio                     0\n",
              "Julio                     0\n",
              "Agosto                    0\n",
              "Septiembre                0\n",
              "Octubre                   0\n",
              "Noviembre                 0\n",
              "Diciembre                 0\n",
              "dtype: int64"
            ]
          },
          "metadata": {
            "tags": []
          },
          "execution_count": 11
        }
      ]
    },
    {
      "cell_type": "code",
      "metadata": {
        "colab": {
          "base_uri": "https://localhost:8080/",
          "height": 302
        },
        "id": "RO16jQ9bS_ch",
        "outputId": "5e4921c7-80df-4e32-8984-e0804034166f"
      },
      "source": [
        "#No es necesario resetear el índice ya que eliminamos los últimos valores del dataset. El índice original se conserva \r\n",
        "df_victimas_nacional_2015_2020.tail(3)"
      ],
      "execution_count": null,
      "outputs": [
        {
          "output_type": "execute_result",
          "data": {
            "text/html": [
              "<div>\n",
              "<style scoped>\n",
              "    .dataframe tbody tr th:only-of-type {\n",
              "        vertical-align: middle;\n",
              "    }\n",
              "\n",
              "    .dataframe tbody tr th {\n",
              "        vertical-align: top;\n",
              "    }\n",
              "\n",
              "    .dataframe thead th {\n",
              "        text-align: right;\n",
              "    }\n",
              "</style>\n",
              "<table border=\"1\" class=\"dataframe\">\n",
              "  <thead>\n",
              "    <tr style=\"text-align: right;\">\n",
              "      <th></th>\n",
              "      <th>Año</th>\n",
              "      <th>Clave_Ent</th>\n",
              "      <th>Entidad</th>\n",
              "      <th>Bien jurídico afectado</th>\n",
              "      <th>Tipo de delito</th>\n",
              "      <th>Subtipo de delito</th>\n",
              "      <th>Modalidad</th>\n",
              "      <th>Sexo</th>\n",
              "      <th>Rango de edad</th>\n",
              "      <th>Enero</th>\n",
              "      <th>Febrero</th>\n",
              "      <th>Marzo</th>\n",
              "      <th>Abril</th>\n",
              "      <th>Mayo</th>\n",
              "      <th>Junio</th>\n",
              "      <th>Julio</th>\n",
              "      <th>Agosto</th>\n",
              "      <th>Septiembre</th>\n",
              "      <th>Octubre</th>\n",
              "      <th>Noviembre</th>\n",
              "      <th>Diciembre</th>\n",
              "    </tr>\n",
              "  </thead>\n",
              "  <tbody>\n",
              "    <tr>\n",
              "      <th>44157</th>\n",
              "      <td>2020</td>\n",
              "      <td>32</td>\n",
              "      <td>Zacatecas</td>\n",
              "      <td>La sociedad</td>\n",
              "      <td>Corrupción de menores</td>\n",
              "      <td>Corrupción de menores</td>\n",
              "      <td>Corrupción de menores</td>\n",
              "      <td>No identificado</td>\n",
              "      <td>No identificado</td>\n",
              "      <td>0</td>\n",
              "      <td>0.0</td>\n",
              "      <td>0.0</td>\n",
              "      <td>0.0</td>\n",
              "      <td>0.0</td>\n",
              "      <td>0.0</td>\n",
              "      <td>0.0</td>\n",
              "      <td>0.0</td>\n",
              "      <td>0.0</td>\n",
              "      <td>1.0</td>\n",
              "      <td>0.0</td>\n",
              "      <td>0.0</td>\n",
              "    </tr>\n",
              "    <tr>\n",
              "      <th>44158</th>\n",
              "      <td>2020</td>\n",
              "      <td>32</td>\n",
              "      <td>Zacatecas</td>\n",
              "      <td>La sociedad</td>\n",
              "      <td>Trata de personas</td>\n",
              "      <td>Trata de personas</td>\n",
              "      <td>Trata de personas</td>\n",
              "      <td>No identificado</td>\n",
              "      <td>No identificado</td>\n",
              "      <td>0</td>\n",
              "      <td>0.0</td>\n",
              "      <td>0.0</td>\n",
              "      <td>0.0</td>\n",
              "      <td>0.0</td>\n",
              "      <td>0.0</td>\n",
              "      <td>0.0</td>\n",
              "      <td>0.0</td>\n",
              "      <td>0.0</td>\n",
              "      <td>0.0</td>\n",
              "      <td>0.0</td>\n",
              "      <td>0.0</td>\n",
              "    </tr>\n",
              "    <tr>\n",
              "      <th>44159</th>\n",
              "      <td>2020</td>\n",
              "      <td>32</td>\n",
              "      <td>Zacatecas</td>\n",
              "      <td>La sociedad</td>\n",
              "      <td>Otros delitos contra la sociedad</td>\n",
              "      <td>Otros delitos contra la sociedad</td>\n",
              "      <td>Otros delitos contra la sociedad</td>\n",
              "      <td>No identificado</td>\n",
              "      <td>No identificado</td>\n",
              "      <td>0</td>\n",
              "      <td>0.0</td>\n",
              "      <td>0.0</td>\n",
              "      <td>0.0</td>\n",
              "      <td>0.0</td>\n",
              "      <td>0.0</td>\n",
              "      <td>0.0</td>\n",
              "      <td>0.0</td>\n",
              "      <td>0.0</td>\n",
              "      <td>0.0</td>\n",
              "      <td>0.0</td>\n",
              "      <td>0.0</td>\n",
              "    </tr>\n",
              "  </tbody>\n",
              "</table>\n",
              "</div>"
            ],
            "text/plain": [
              "        Año  Clave_Ent    Entidad  ... Octubre Noviembre Diciembre\n",
              "44157  2020         32  Zacatecas  ...     1.0       0.0       0.0\n",
              "44158  2020         32  Zacatecas  ...     0.0       0.0       0.0\n",
              "44159  2020         32  Zacatecas  ...     0.0       0.0       0.0\n",
              "\n",
              "[3 rows x 21 columns]"
            ]
          },
          "metadata": {
            "tags": []
          },
          "execution_count": 12
        }
      ]
    },
    {
      "cell_type": "markdown",
      "metadata": {
        "id": "yQmpl8CmWH5y"
      },
      "source": [
        "### **Modificando el nombre de las columnas.**"
      ]
    },
    {
      "cell_type": "code",
      "metadata": {
        "colab": {
          "base_uri": "https://localhost:8080/"
        },
        "id": "5cg0qD7KWBG8",
        "outputId": "9946cb17-a767-4f68-8216-8508b8351c8f"
      },
      "source": [
        "#Primero cambiaremos todos los nombres de las columnas a minúsculas. \r\n",
        "df_victimas_nacional_2015_2020.columns= df_victimas_nacional_2015_2020.columns.str.strip().str.lower()\r\n",
        "df_victimas_nacional_2015_2020.columns"
      ],
      "execution_count": null,
      "outputs": [
        {
          "output_type": "execute_result",
          "data": {
            "text/plain": [
              "Index(['año', 'clave_ent', 'entidad', 'bien jurídico afectado',\n",
              "       'tipo de delito', 'subtipo de delito', 'modalidad', 'sexo',\n",
              "       'rango de edad', 'enero', 'febrero', 'marzo', 'abril', 'mayo', 'junio',\n",
              "       'julio', 'agosto', 'septiembre', 'octubre', 'noviembre', 'diciembre'],\n",
              "      dtype='object')"
            ]
          },
          "metadata": {
            "tags": []
          },
          "execution_count": 13
        }
      ]
    },
    {
      "cell_type": "code",
      "metadata": {
        "id": "m21RtlKFZ2H6"
      },
      "source": [
        "#Es útil modificar el nombre de las columnas a otros que conserven el formato.\r\n",
        "#Creamos un diccionario con el nombre de las columnas viejas y nuevas.\r\n",
        "nombre_columnas_violencia_nacional = {\r\n",
        "    'bien jurídico afectado':'bien_juridico_afectado',\r\n",
        "    'tipo de delito':'tipo_de_delito',\r\n",
        "    'subtipo de delito':'subtipo_de_delito',\r\n",
        "    'rango de edad':'rango_de_edad'\r\n",
        "    \r\n",
        "}"
      ],
      "execution_count": null,
      "outputs": []
    },
    {
      "cell_type": "code",
      "metadata": {
        "id": "bcDzMcUidTRv"
      },
      "source": [
        "#Modificamos el nombre de las columnas del dataframe\r\n",
        "df_victimas_nacional_2015_2020_renombrado = df_victimas_nacional_2015_2020.rename(columns=nombre_columnas_violencia_nacional)"
      ],
      "execution_count": null,
      "outputs": []
    },
    {
      "cell_type": "code",
      "metadata": {
        "colab": {
          "base_uri": "https://localhost:8080/",
          "height": 216
        },
        "id": "6L_5e2m7dfGK",
        "outputId": "4fc8a54b-df8d-4ad9-c79d-1fd478c3bf40"
      },
      "source": [
        "df_victimas_nacional_2015_2020_renombrado.head(3)"
      ],
      "execution_count": null,
      "outputs": [
        {
          "output_type": "execute_result",
          "data": {
            "text/html": [
              "<div>\n",
              "<style scoped>\n",
              "    .dataframe tbody tr th:only-of-type {\n",
              "        vertical-align: middle;\n",
              "    }\n",
              "\n",
              "    .dataframe tbody tr th {\n",
              "        vertical-align: top;\n",
              "    }\n",
              "\n",
              "    .dataframe thead th {\n",
              "        text-align: right;\n",
              "    }\n",
              "</style>\n",
              "<table border=\"1\" class=\"dataframe\">\n",
              "  <thead>\n",
              "    <tr style=\"text-align: right;\">\n",
              "      <th></th>\n",
              "      <th>año</th>\n",
              "      <th>clave_ent</th>\n",
              "      <th>entidad</th>\n",
              "      <th>bien_juridico_afectado</th>\n",
              "      <th>tipo_de_delito</th>\n",
              "      <th>subtipo_de_delito</th>\n",
              "      <th>modalidad</th>\n",
              "      <th>sexo</th>\n",
              "      <th>rango_de_edad</th>\n",
              "      <th>enero</th>\n",
              "      <th>febrero</th>\n",
              "      <th>marzo</th>\n",
              "      <th>abril</th>\n",
              "      <th>mayo</th>\n",
              "      <th>junio</th>\n",
              "      <th>julio</th>\n",
              "      <th>agosto</th>\n",
              "      <th>septiembre</th>\n",
              "      <th>octubre</th>\n",
              "      <th>noviembre</th>\n",
              "      <th>diciembre</th>\n",
              "    </tr>\n",
              "  </thead>\n",
              "  <tbody>\n",
              "    <tr>\n",
              "      <th>0</th>\n",
              "      <td>2015</td>\n",
              "      <td>1</td>\n",
              "      <td>Aguascalientes</td>\n",
              "      <td>La vida y la Integridad corporal</td>\n",
              "      <td>Homicidio</td>\n",
              "      <td>Homicidio doloso</td>\n",
              "      <td>Con arma de fuego</td>\n",
              "      <td>Mujer</td>\n",
              "      <td>Menores de edad (0-17)</td>\n",
              "      <td>0</td>\n",
              "      <td>0.0</td>\n",
              "      <td>0.0</td>\n",
              "      <td>0.0</td>\n",
              "      <td>0.0</td>\n",
              "      <td>0.0</td>\n",
              "      <td>0.0</td>\n",
              "      <td>0.0</td>\n",
              "      <td>0.0</td>\n",
              "      <td>0.0</td>\n",
              "      <td>0.0</td>\n",
              "      <td>0.0</td>\n",
              "    </tr>\n",
              "    <tr>\n",
              "      <th>1</th>\n",
              "      <td>2015</td>\n",
              "      <td>1</td>\n",
              "      <td>Aguascalientes</td>\n",
              "      <td>La vida y la Integridad corporal</td>\n",
              "      <td>Homicidio</td>\n",
              "      <td>Homicidio doloso</td>\n",
              "      <td>Con arma blanca</td>\n",
              "      <td>Mujer</td>\n",
              "      <td>Menores de edad (0-17)</td>\n",
              "      <td>0</td>\n",
              "      <td>0.0</td>\n",
              "      <td>0.0</td>\n",
              "      <td>0.0</td>\n",
              "      <td>0.0</td>\n",
              "      <td>0.0</td>\n",
              "      <td>0.0</td>\n",
              "      <td>0.0</td>\n",
              "      <td>0.0</td>\n",
              "      <td>0.0</td>\n",
              "      <td>0.0</td>\n",
              "      <td>0.0</td>\n",
              "    </tr>\n",
              "    <tr>\n",
              "      <th>2</th>\n",
              "      <td>2015</td>\n",
              "      <td>1</td>\n",
              "      <td>Aguascalientes</td>\n",
              "      <td>La vida y la Integridad corporal</td>\n",
              "      <td>Homicidio</td>\n",
              "      <td>Homicidio doloso</td>\n",
              "      <td>Con otro elemento</td>\n",
              "      <td>Mujer</td>\n",
              "      <td>Menores de edad (0-17)</td>\n",
              "      <td>0</td>\n",
              "      <td>0.0</td>\n",
              "      <td>0.0</td>\n",
              "      <td>0.0</td>\n",
              "      <td>1.0</td>\n",
              "      <td>0.0</td>\n",
              "      <td>0.0</td>\n",
              "      <td>1.0</td>\n",
              "      <td>0.0</td>\n",
              "      <td>0.0</td>\n",
              "      <td>0.0</td>\n",
              "      <td>0.0</td>\n",
              "    </tr>\n",
              "  </tbody>\n",
              "</table>\n",
              "</div>"
            ],
            "text/plain": [
              "    año  clave_ent         entidad  ... octubre noviembre diciembre\n",
              "0  2015          1  Aguascalientes  ...     0.0       0.0       0.0\n",
              "1  2015          1  Aguascalientes  ...     0.0       0.0       0.0\n",
              "2  2015          1  Aguascalientes  ...     0.0       0.0       0.0\n",
              "\n",
              "[3 rows x 21 columns]"
            ]
          },
          "metadata": {
            "tags": []
          },
          "execution_count": 16
        }
      ]
    },
    {
      "cell_type": "markdown",
      "metadata": {
        "id": "YI2GmvS_s596"
      },
      "source": [
        "### **Modificación del dataframe limpio y renombrado.**"
      ]
    },
    {
      "cell_type": "code",
      "metadata": {
        "id": "_-yNC2cUpZMv"
      },
      "source": [
        "#Es necesario cambiar el tipo de dato de float64 a int64 de los meses Febrero-Diciembre ya que el número de víctimas no puede ser decimal\r\n",
        "meses = ['febrero','marzo','abril','mayo','junio','julio','agosto','septiembre','octubre','noviembre','diciembre']\r\n",
        "for mes in range(11): \r\n",
        "    df_victimas_nacional_2015_2020_renombrado[meses[mes]] = df_victimas_nacional_2015_2020_renombrado[meses[mes]].astype(int)"
      ],
      "execution_count": null,
      "outputs": []
    },
    {
      "cell_type": "code",
      "metadata": {
        "colab": {
          "base_uri": "https://localhost:8080/"
        },
        "id": "SzWsHT53_bHQ",
        "outputId": "67071a90-034e-4cdf-d1c9-0dde34e48b93"
      },
      "source": [
        "df_victimas_nacional_2015_2020_renombrado.dtypes #Observando los cambios "
      ],
      "execution_count": null,
      "outputs": [
        {
          "output_type": "execute_result",
          "data": {
            "text/plain": [
              "año                        int64\n",
              "clave_ent                  int64\n",
              "entidad                   object\n",
              "bien_juridico_afectado    object\n",
              "tipo_de_delito            object\n",
              "subtipo_de_delito         object\n",
              "modalidad                 object\n",
              "sexo                      object\n",
              "rango_de_edad             object\n",
              "enero                      int64\n",
              "febrero                    int64\n",
              "marzo                      int64\n",
              "abril                      int64\n",
              "mayo                       int64\n",
              "junio                      int64\n",
              "julio                      int64\n",
              "agosto                     int64\n",
              "septiembre                 int64\n",
              "octubre                    int64\n",
              "noviembre                  int64\n",
              "diciembre                  int64\n",
              "dtype: object"
            ]
          },
          "metadata": {
            "tags": []
          },
          "execution_count": 18
        }
      ]
    },
    {
      "cell_type": "code",
      "metadata": {
        "colab": {
          "base_uri": "https://localhost:8080/",
          "height": 216
        },
        "id": "OFE2qFNsNBtG",
        "outputId": "9f45f7ce-412b-4810-c47f-7a97fb883ff8"
      },
      "source": [
        "df_victimas_nacional_2015_2020_renombrado.head(3) #Este es nuestro dataset "
      ],
      "execution_count": null,
      "outputs": [
        {
          "output_type": "execute_result",
          "data": {
            "text/html": [
              "<div>\n",
              "<style scoped>\n",
              "    .dataframe tbody tr th:only-of-type {\n",
              "        vertical-align: middle;\n",
              "    }\n",
              "\n",
              "    .dataframe tbody tr th {\n",
              "        vertical-align: top;\n",
              "    }\n",
              "\n",
              "    .dataframe thead th {\n",
              "        text-align: right;\n",
              "    }\n",
              "</style>\n",
              "<table border=\"1\" class=\"dataframe\">\n",
              "  <thead>\n",
              "    <tr style=\"text-align: right;\">\n",
              "      <th></th>\n",
              "      <th>año</th>\n",
              "      <th>clave_ent</th>\n",
              "      <th>entidad</th>\n",
              "      <th>bien_juridico_afectado</th>\n",
              "      <th>tipo_de_delito</th>\n",
              "      <th>subtipo_de_delito</th>\n",
              "      <th>modalidad</th>\n",
              "      <th>sexo</th>\n",
              "      <th>rango_de_edad</th>\n",
              "      <th>enero</th>\n",
              "      <th>febrero</th>\n",
              "      <th>marzo</th>\n",
              "      <th>abril</th>\n",
              "      <th>mayo</th>\n",
              "      <th>junio</th>\n",
              "      <th>julio</th>\n",
              "      <th>agosto</th>\n",
              "      <th>septiembre</th>\n",
              "      <th>octubre</th>\n",
              "      <th>noviembre</th>\n",
              "      <th>diciembre</th>\n",
              "    </tr>\n",
              "  </thead>\n",
              "  <tbody>\n",
              "    <tr>\n",
              "      <th>0</th>\n",
              "      <td>2015</td>\n",
              "      <td>1</td>\n",
              "      <td>Aguascalientes</td>\n",
              "      <td>La vida y la Integridad corporal</td>\n",
              "      <td>Homicidio</td>\n",
              "      <td>Homicidio doloso</td>\n",
              "      <td>Con arma de fuego</td>\n",
              "      <td>Mujer</td>\n",
              "      <td>Menores de edad (0-17)</td>\n",
              "      <td>0</td>\n",
              "      <td>0</td>\n",
              "      <td>0</td>\n",
              "      <td>0</td>\n",
              "      <td>0</td>\n",
              "      <td>0</td>\n",
              "      <td>0</td>\n",
              "      <td>0</td>\n",
              "      <td>0</td>\n",
              "      <td>0</td>\n",
              "      <td>0</td>\n",
              "      <td>0</td>\n",
              "    </tr>\n",
              "    <tr>\n",
              "      <th>1</th>\n",
              "      <td>2015</td>\n",
              "      <td>1</td>\n",
              "      <td>Aguascalientes</td>\n",
              "      <td>La vida y la Integridad corporal</td>\n",
              "      <td>Homicidio</td>\n",
              "      <td>Homicidio doloso</td>\n",
              "      <td>Con arma blanca</td>\n",
              "      <td>Mujer</td>\n",
              "      <td>Menores de edad (0-17)</td>\n",
              "      <td>0</td>\n",
              "      <td>0</td>\n",
              "      <td>0</td>\n",
              "      <td>0</td>\n",
              "      <td>0</td>\n",
              "      <td>0</td>\n",
              "      <td>0</td>\n",
              "      <td>0</td>\n",
              "      <td>0</td>\n",
              "      <td>0</td>\n",
              "      <td>0</td>\n",
              "      <td>0</td>\n",
              "    </tr>\n",
              "    <tr>\n",
              "      <th>2</th>\n",
              "      <td>2015</td>\n",
              "      <td>1</td>\n",
              "      <td>Aguascalientes</td>\n",
              "      <td>La vida y la Integridad corporal</td>\n",
              "      <td>Homicidio</td>\n",
              "      <td>Homicidio doloso</td>\n",
              "      <td>Con otro elemento</td>\n",
              "      <td>Mujer</td>\n",
              "      <td>Menores de edad (0-17)</td>\n",
              "      <td>0</td>\n",
              "      <td>0</td>\n",
              "      <td>0</td>\n",
              "      <td>0</td>\n",
              "      <td>1</td>\n",
              "      <td>0</td>\n",
              "      <td>0</td>\n",
              "      <td>1</td>\n",
              "      <td>0</td>\n",
              "      <td>0</td>\n",
              "      <td>0</td>\n",
              "      <td>0</td>\n",
              "    </tr>\n",
              "  </tbody>\n",
              "</table>\n",
              "</div>"
            ],
            "text/plain": [
              "    año  clave_ent         entidad  ... octubre noviembre diciembre\n",
              "0  2015          1  Aguascalientes  ...       0         0         0\n",
              "1  2015          1  Aguascalientes  ...       0         0         0\n",
              "2  2015          1  Aguascalientes  ...       0         0         0\n",
              "\n",
              "[3 rows x 21 columns]"
            ]
          },
          "metadata": {
            "tags": []
          },
          "execution_count": 19
        }
      ]
    },
    {
      "cell_type": "code",
      "metadata": {
        "colab": {
          "base_uri": "https://localhost:8080/"
        },
        "id": "osDWbDTMO9g0",
        "outputId": "b7304c12-9acc-4e44-f887-dce0c1555519"
      },
      "source": [
        "df_victimas_nacional_2015_2020_renombrado.shape #El tamaño del dataframe "
      ],
      "execution_count": null,
      "outputs": [
        {
          "output_type": "execute_result",
          "data": {
            "text/plain": [
              "(44160, 21)"
            ]
          },
          "metadata": {
            "tags": []
          },
          "execution_count": 20
        }
      ]
    },
    {
      "cell_type": "code",
      "metadata": {
        "colab": {
          "base_uri": "https://localhost:8080/"
        },
        "id": "MYe0v7McN1mr",
        "outputId": "a9b27607-d8e4-4049-e61a-dd5f31365535"
      },
      "source": [
        "df_victimas_nacional_2015_2020_renombrado.tipo_de_delito #Podemos observar algunos datos del tipo de delito"
      ],
      "execution_count": null,
      "outputs": [
        {
          "output_type": "execute_result",
          "data": {
            "text/plain": [
              "0                                                Homicidio\n",
              "1                                                Homicidio\n",
              "2                                                Homicidio\n",
              "3                                                Homicidio\n",
              "4                                                Homicidio\n",
              "                               ...                        \n",
              "44155    Otros delitos que atentan contra la libertad p...\n",
              "44156                                            Extorsión\n",
              "44157                                Corrupción de menores\n",
              "44158                                    Trata de personas\n",
              "44159                     Otros delitos contra la sociedad\n",
              "Name: tipo_de_delito, Length: 44160, dtype: object"
            ]
          },
          "metadata": {
            "tags": []
          },
          "execution_count": 21
        }
      ]
    },
    {
      "cell_type": "markdown",
      "metadata": {
        "id": "LZ9dknczOTEr"
      },
      "source": [
        "Como el sexo es el de la víctima, en este caso nos interesan los delitos en \r\n",
        "contra de la **mujer**. "
      ]
    },
    {
      "cell_type": "code",
      "metadata": {
        "colab": {
          "base_uri": "https://localhost:8080/",
          "height": 234
        },
        "id": "Ri21aXQqSxrm",
        "outputId": "9c75133e-1c71-43af-eae3-59e2ba9535b4"
      },
      "source": [
        " #Estos son los relacionados con víctimas masculinas \r\n",
        " df_victimas_hombres_nacional_2015_2020 = df_victimas_nacional_2015_2020_renombrado[df_victimas_nacional_2015_2020_renombrado.sexo.str.contains('Hombre')]\r\n",
        " print(df_victimas_hombres_nacional_2015_2020.shape)\r\n",
        " df_victimas_hombres_nacional_2015_2020.head(3)"
      ],
      "execution_count": null,
      "outputs": [
        {
          "output_type": "stream",
          "text": [
            "(17856, 21)\n"
          ],
          "name": "stdout"
        },
        {
          "output_type": "execute_result",
          "data": {
            "text/html": [
              "<div>\n",
              "<style scoped>\n",
              "    .dataframe tbody tr th:only-of-type {\n",
              "        vertical-align: middle;\n",
              "    }\n",
              "\n",
              "    .dataframe tbody tr th {\n",
              "        vertical-align: top;\n",
              "    }\n",
              "\n",
              "    .dataframe thead th {\n",
              "        text-align: right;\n",
              "    }\n",
              "</style>\n",
              "<table border=\"1\" class=\"dataframe\">\n",
              "  <thead>\n",
              "    <tr style=\"text-align: right;\">\n",
              "      <th></th>\n",
              "      <th>año</th>\n",
              "      <th>clave_ent</th>\n",
              "      <th>entidad</th>\n",
              "      <th>bien_juridico_afectado</th>\n",
              "      <th>tipo_de_delito</th>\n",
              "      <th>subtipo_de_delito</th>\n",
              "      <th>modalidad</th>\n",
              "      <th>sexo</th>\n",
              "      <th>rango_de_edad</th>\n",
              "      <th>enero</th>\n",
              "      <th>febrero</th>\n",
              "      <th>marzo</th>\n",
              "      <th>abril</th>\n",
              "      <th>mayo</th>\n",
              "      <th>junio</th>\n",
              "      <th>julio</th>\n",
              "      <th>agosto</th>\n",
              "      <th>septiembre</th>\n",
              "      <th>octubre</th>\n",
              "      <th>noviembre</th>\n",
              "      <th>diciembre</th>\n",
              "    </tr>\n",
              "  </thead>\n",
              "  <tbody>\n",
              "    <tr>\n",
              "      <th>105</th>\n",
              "      <td>2015</td>\n",
              "      <td>1</td>\n",
              "      <td>Aguascalientes</td>\n",
              "      <td>La vida y la Integridad corporal</td>\n",
              "      <td>Homicidio</td>\n",
              "      <td>Homicidio doloso</td>\n",
              "      <td>Con arma de fuego</td>\n",
              "      <td>Hombre</td>\n",
              "      <td>Menores de edad (0-17)</td>\n",
              "      <td>0</td>\n",
              "      <td>0</td>\n",
              "      <td>0</td>\n",
              "      <td>0</td>\n",
              "      <td>0</td>\n",
              "      <td>0</td>\n",
              "      <td>0</td>\n",
              "      <td>0</td>\n",
              "      <td>0</td>\n",
              "      <td>0</td>\n",
              "      <td>0</td>\n",
              "      <td>0</td>\n",
              "    </tr>\n",
              "    <tr>\n",
              "      <th>106</th>\n",
              "      <td>2015</td>\n",
              "      <td>1</td>\n",
              "      <td>Aguascalientes</td>\n",
              "      <td>La vida y la Integridad corporal</td>\n",
              "      <td>Homicidio</td>\n",
              "      <td>Homicidio doloso</td>\n",
              "      <td>Con arma blanca</td>\n",
              "      <td>Hombre</td>\n",
              "      <td>Menores de edad (0-17)</td>\n",
              "      <td>0</td>\n",
              "      <td>0</td>\n",
              "      <td>0</td>\n",
              "      <td>0</td>\n",
              "      <td>0</td>\n",
              "      <td>0</td>\n",
              "      <td>0</td>\n",
              "      <td>0</td>\n",
              "      <td>0</td>\n",
              "      <td>0</td>\n",
              "      <td>0</td>\n",
              "      <td>0</td>\n",
              "    </tr>\n",
              "    <tr>\n",
              "      <th>107</th>\n",
              "      <td>2015</td>\n",
              "      <td>1</td>\n",
              "      <td>Aguascalientes</td>\n",
              "      <td>La vida y la Integridad corporal</td>\n",
              "      <td>Homicidio</td>\n",
              "      <td>Homicidio doloso</td>\n",
              "      <td>Con otro elemento</td>\n",
              "      <td>Hombre</td>\n",
              "      <td>Menores de edad (0-17)</td>\n",
              "      <td>0</td>\n",
              "      <td>0</td>\n",
              "      <td>0</td>\n",
              "      <td>0</td>\n",
              "      <td>0</td>\n",
              "      <td>0</td>\n",
              "      <td>0</td>\n",
              "      <td>0</td>\n",
              "      <td>0</td>\n",
              "      <td>0</td>\n",
              "      <td>0</td>\n",
              "      <td>0</td>\n",
              "    </tr>\n",
              "  </tbody>\n",
              "</table>\n",
              "</div>"
            ],
            "text/plain": [
              "      año  clave_ent         entidad  ... octubre noviembre diciembre\n",
              "105  2015          1  Aguascalientes  ...       0         0         0\n",
              "106  2015          1  Aguascalientes  ...       0         0         0\n",
              "107  2015          1  Aguascalientes  ...       0         0         0\n",
              "\n",
              "[3 rows x 21 columns]"
            ]
          },
          "metadata": {
            "tags": []
          },
          "execution_count": 22
        }
      ]
    },
    {
      "cell_type": "code",
      "metadata": {
        "colab": {
          "base_uri": "https://localhost:8080/",
          "height": 234
        },
        "id": "n7c1xf5CToKS",
        "outputId": "118b1433-14f5-42dd-995a-16c3c18f3ae2"
      },
      "source": [
        "#En este dataset se encuentran los homicidios que si fueron víctimas hombres\r\n",
        "df_homicidios_nacional_2015_2020 = df_victimas_hombres_nacional_2015_2020[df_victimas_hombres_nacional_2015_2020.tipo_de_delito.str.contains('Homicidio')]\r\n",
        "print(df_homicidios_nacional_2015_2020.shape)\r\n",
        "df_homicidios_nacional_2015_2020.head(3)"
      ],
      "execution_count": null,
      "outputs": [
        {
          "output_type": "stream",
          "text": [
            "(5184, 21)\n"
          ],
          "name": "stdout"
        },
        {
          "output_type": "execute_result",
          "data": {
            "text/html": [
              "<div>\n",
              "<style scoped>\n",
              "    .dataframe tbody tr th:only-of-type {\n",
              "        vertical-align: middle;\n",
              "    }\n",
              "\n",
              "    .dataframe tbody tr th {\n",
              "        vertical-align: top;\n",
              "    }\n",
              "\n",
              "    .dataframe thead th {\n",
              "        text-align: right;\n",
              "    }\n",
              "</style>\n",
              "<table border=\"1\" class=\"dataframe\">\n",
              "  <thead>\n",
              "    <tr style=\"text-align: right;\">\n",
              "      <th></th>\n",
              "      <th>año</th>\n",
              "      <th>clave_ent</th>\n",
              "      <th>entidad</th>\n",
              "      <th>bien_juridico_afectado</th>\n",
              "      <th>tipo_de_delito</th>\n",
              "      <th>subtipo_de_delito</th>\n",
              "      <th>modalidad</th>\n",
              "      <th>sexo</th>\n",
              "      <th>rango_de_edad</th>\n",
              "      <th>enero</th>\n",
              "      <th>febrero</th>\n",
              "      <th>marzo</th>\n",
              "      <th>abril</th>\n",
              "      <th>mayo</th>\n",
              "      <th>junio</th>\n",
              "      <th>julio</th>\n",
              "      <th>agosto</th>\n",
              "      <th>septiembre</th>\n",
              "      <th>octubre</th>\n",
              "      <th>noviembre</th>\n",
              "      <th>diciembre</th>\n",
              "    </tr>\n",
              "  </thead>\n",
              "  <tbody>\n",
              "    <tr>\n",
              "      <th>105</th>\n",
              "      <td>2015</td>\n",
              "      <td>1</td>\n",
              "      <td>Aguascalientes</td>\n",
              "      <td>La vida y la Integridad corporal</td>\n",
              "      <td>Homicidio</td>\n",
              "      <td>Homicidio doloso</td>\n",
              "      <td>Con arma de fuego</td>\n",
              "      <td>Hombre</td>\n",
              "      <td>Menores de edad (0-17)</td>\n",
              "      <td>0</td>\n",
              "      <td>0</td>\n",
              "      <td>0</td>\n",
              "      <td>0</td>\n",
              "      <td>0</td>\n",
              "      <td>0</td>\n",
              "      <td>0</td>\n",
              "      <td>0</td>\n",
              "      <td>0</td>\n",
              "      <td>0</td>\n",
              "      <td>0</td>\n",
              "      <td>0</td>\n",
              "    </tr>\n",
              "    <tr>\n",
              "      <th>106</th>\n",
              "      <td>2015</td>\n",
              "      <td>1</td>\n",
              "      <td>Aguascalientes</td>\n",
              "      <td>La vida y la Integridad corporal</td>\n",
              "      <td>Homicidio</td>\n",
              "      <td>Homicidio doloso</td>\n",
              "      <td>Con arma blanca</td>\n",
              "      <td>Hombre</td>\n",
              "      <td>Menores de edad (0-17)</td>\n",
              "      <td>0</td>\n",
              "      <td>0</td>\n",
              "      <td>0</td>\n",
              "      <td>0</td>\n",
              "      <td>0</td>\n",
              "      <td>0</td>\n",
              "      <td>0</td>\n",
              "      <td>0</td>\n",
              "      <td>0</td>\n",
              "      <td>0</td>\n",
              "      <td>0</td>\n",
              "      <td>0</td>\n",
              "    </tr>\n",
              "    <tr>\n",
              "      <th>107</th>\n",
              "      <td>2015</td>\n",
              "      <td>1</td>\n",
              "      <td>Aguascalientes</td>\n",
              "      <td>La vida y la Integridad corporal</td>\n",
              "      <td>Homicidio</td>\n",
              "      <td>Homicidio doloso</td>\n",
              "      <td>Con otro elemento</td>\n",
              "      <td>Hombre</td>\n",
              "      <td>Menores de edad (0-17)</td>\n",
              "      <td>0</td>\n",
              "      <td>0</td>\n",
              "      <td>0</td>\n",
              "      <td>0</td>\n",
              "      <td>0</td>\n",
              "      <td>0</td>\n",
              "      <td>0</td>\n",
              "      <td>0</td>\n",
              "      <td>0</td>\n",
              "      <td>0</td>\n",
              "      <td>0</td>\n",
              "      <td>0</td>\n",
              "    </tr>\n",
              "  </tbody>\n",
              "</table>\n",
              "</div>"
            ],
            "text/plain": [
              "      año  clave_ent         entidad  ... octubre noviembre diciembre\n",
              "105  2015          1  Aguascalientes  ...       0         0         0\n",
              "106  2015          1  Aguascalientes  ...       0         0         0\n",
              "107  2015          1  Aguascalientes  ...       0         0         0\n",
              "\n",
              "[3 rows x 21 columns]"
            ]
          },
          "metadata": {
            "tags": []
          },
          "execution_count": 23
        }
      ]
    },
    {
      "cell_type": "markdown",
      "metadata": {
        "id": "ytKSPwEhaNi2"
      },
      "source": [
        "### **Filtrando la información de víctimas mujeres.**"
      ]
    },
    {
      "cell_type": "code",
      "metadata": {
        "id": "oWFfILUxOJmE"
      },
      "source": [
        "#Filtrando la información en las que las víctimas son mujeres. \r\n",
        "df_victimas_mujeres_nacional_2015_2020 = df_victimas_nacional_2015_2020_renombrado[df_victimas_nacional_2015_2020_renombrado.sexo.str.contains('Mujer')]"
      ],
      "execution_count": null,
      "outputs": []
    },
    {
      "cell_type": "code",
      "metadata": {
        "colab": {
          "base_uri": "https://localhost:8080/",
          "height": 234
        },
        "id": "vlv-1urpQNOP",
        "outputId": "c161d04d-d858-4b59-db49-5e329b2257e1"
      },
      "source": [
        "# El dataframe filtrado con víctimas mujeres.\r\n",
        "print(df_victimas_mujeres_nacional_2015_2020.shape)\r\n",
        "df_victimas_mujeres_nacional_2015_2020.head(3)"
      ],
      "execution_count": null,
      "outputs": [
        {
          "output_type": "stream",
          "text": [
            "(20160, 21)\n"
          ],
          "name": "stdout"
        },
        {
          "output_type": "execute_result",
          "data": {
            "text/html": [
              "<div>\n",
              "<style scoped>\n",
              "    .dataframe tbody tr th:only-of-type {\n",
              "        vertical-align: middle;\n",
              "    }\n",
              "\n",
              "    .dataframe tbody tr th {\n",
              "        vertical-align: top;\n",
              "    }\n",
              "\n",
              "    .dataframe thead th {\n",
              "        text-align: right;\n",
              "    }\n",
              "</style>\n",
              "<table border=\"1\" class=\"dataframe\">\n",
              "  <thead>\n",
              "    <tr style=\"text-align: right;\">\n",
              "      <th></th>\n",
              "      <th>año</th>\n",
              "      <th>clave_ent</th>\n",
              "      <th>entidad</th>\n",
              "      <th>bien_juridico_afectado</th>\n",
              "      <th>tipo_de_delito</th>\n",
              "      <th>subtipo_de_delito</th>\n",
              "      <th>modalidad</th>\n",
              "      <th>sexo</th>\n",
              "      <th>rango_de_edad</th>\n",
              "      <th>enero</th>\n",
              "      <th>febrero</th>\n",
              "      <th>marzo</th>\n",
              "      <th>abril</th>\n",
              "      <th>mayo</th>\n",
              "      <th>junio</th>\n",
              "      <th>julio</th>\n",
              "      <th>agosto</th>\n",
              "      <th>septiembre</th>\n",
              "      <th>octubre</th>\n",
              "      <th>noviembre</th>\n",
              "      <th>diciembre</th>\n",
              "    </tr>\n",
              "  </thead>\n",
              "  <tbody>\n",
              "    <tr>\n",
              "      <th>0</th>\n",
              "      <td>2015</td>\n",
              "      <td>1</td>\n",
              "      <td>Aguascalientes</td>\n",
              "      <td>La vida y la Integridad corporal</td>\n",
              "      <td>Homicidio</td>\n",
              "      <td>Homicidio doloso</td>\n",
              "      <td>Con arma de fuego</td>\n",
              "      <td>Mujer</td>\n",
              "      <td>Menores de edad (0-17)</td>\n",
              "      <td>0</td>\n",
              "      <td>0</td>\n",
              "      <td>0</td>\n",
              "      <td>0</td>\n",
              "      <td>0</td>\n",
              "      <td>0</td>\n",
              "      <td>0</td>\n",
              "      <td>0</td>\n",
              "      <td>0</td>\n",
              "      <td>0</td>\n",
              "      <td>0</td>\n",
              "      <td>0</td>\n",
              "    </tr>\n",
              "    <tr>\n",
              "      <th>1</th>\n",
              "      <td>2015</td>\n",
              "      <td>1</td>\n",
              "      <td>Aguascalientes</td>\n",
              "      <td>La vida y la Integridad corporal</td>\n",
              "      <td>Homicidio</td>\n",
              "      <td>Homicidio doloso</td>\n",
              "      <td>Con arma blanca</td>\n",
              "      <td>Mujer</td>\n",
              "      <td>Menores de edad (0-17)</td>\n",
              "      <td>0</td>\n",
              "      <td>0</td>\n",
              "      <td>0</td>\n",
              "      <td>0</td>\n",
              "      <td>0</td>\n",
              "      <td>0</td>\n",
              "      <td>0</td>\n",
              "      <td>0</td>\n",
              "      <td>0</td>\n",
              "      <td>0</td>\n",
              "      <td>0</td>\n",
              "      <td>0</td>\n",
              "    </tr>\n",
              "    <tr>\n",
              "      <th>2</th>\n",
              "      <td>2015</td>\n",
              "      <td>1</td>\n",
              "      <td>Aguascalientes</td>\n",
              "      <td>La vida y la Integridad corporal</td>\n",
              "      <td>Homicidio</td>\n",
              "      <td>Homicidio doloso</td>\n",
              "      <td>Con otro elemento</td>\n",
              "      <td>Mujer</td>\n",
              "      <td>Menores de edad (0-17)</td>\n",
              "      <td>0</td>\n",
              "      <td>0</td>\n",
              "      <td>0</td>\n",
              "      <td>0</td>\n",
              "      <td>1</td>\n",
              "      <td>0</td>\n",
              "      <td>0</td>\n",
              "      <td>1</td>\n",
              "      <td>0</td>\n",
              "      <td>0</td>\n",
              "      <td>0</td>\n",
              "      <td>0</td>\n",
              "    </tr>\n",
              "  </tbody>\n",
              "</table>\n",
              "</div>"
            ],
            "text/plain": [
              "    año  clave_ent         entidad  ... octubre noviembre diciembre\n",
              "0  2015          1  Aguascalientes  ...       0         0         0\n",
              "1  2015          1  Aguascalientes  ...       0         0         0\n",
              "2  2015          1  Aguascalientes  ...       0         0         0\n",
              "\n",
              "[3 rows x 21 columns]"
            ]
          },
          "metadata": {
            "tags": []
          },
          "execution_count": 25
        }
      ]
    },
    {
      "cell_type": "code",
      "metadata": {
        "colab": {
          "base_uri": "https://localhost:8080/",
          "height": 234
        },
        "id": "KDgn90ocOgXP",
        "outputId": "a4a43898-1a88-420c-8a1d-6c4c3da38b10"
      },
      "source": [
        "#Datos correspondientes al tipo de delito de Feminicidio\r\n",
        "df_feminicidios_nacional_2015_2020 = df_victimas_mujeres_nacional_2015_2020[df_victimas_mujeres_nacional_2015_2020.tipo_de_delito.str.contains('Feminicidio')]\r\n",
        "print(df_feminicidios_nacional_2015_2020.shape)\r\n",
        "df_feminicidios_nacional_2015_2020.head(3)"
      ],
      "execution_count": null,
      "outputs": [
        {
          "output_type": "stream",
          "text": [
            "(2304, 21)\n"
          ],
          "name": "stdout"
        },
        {
          "output_type": "execute_result",
          "data": {
            "text/html": [
              "<div>\n",
              "<style scoped>\n",
              "    .dataframe tbody tr th:only-of-type {\n",
              "        vertical-align: middle;\n",
              "    }\n",
              "\n",
              "    .dataframe tbody tr th {\n",
              "        vertical-align: top;\n",
              "    }\n",
              "\n",
              "    .dataframe thead th {\n",
              "        text-align: right;\n",
              "    }\n",
              "</style>\n",
              "<table border=\"1\" class=\"dataframe\">\n",
              "  <thead>\n",
              "    <tr style=\"text-align: right;\">\n",
              "      <th></th>\n",
              "      <th>año</th>\n",
              "      <th>clave_ent</th>\n",
              "      <th>entidad</th>\n",
              "      <th>bien_juridico_afectado</th>\n",
              "      <th>tipo_de_delito</th>\n",
              "      <th>subtipo_de_delito</th>\n",
              "      <th>modalidad</th>\n",
              "      <th>sexo</th>\n",
              "      <th>rango_de_edad</th>\n",
              "      <th>enero</th>\n",
              "      <th>febrero</th>\n",
              "      <th>marzo</th>\n",
              "      <th>abril</th>\n",
              "      <th>mayo</th>\n",
              "      <th>junio</th>\n",
              "      <th>julio</th>\n",
              "      <th>agosto</th>\n",
              "      <th>septiembre</th>\n",
              "      <th>octubre</th>\n",
              "      <th>noviembre</th>\n",
              "      <th>diciembre</th>\n",
              "    </tr>\n",
              "  </thead>\n",
              "  <tbody>\n",
              "    <tr>\n",
              "      <th>18</th>\n",
              "      <td>2015</td>\n",
              "      <td>1</td>\n",
              "      <td>Aguascalientes</td>\n",
              "      <td>La vida y la Integridad corporal</td>\n",
              "      <td>Feminicidio</td>\n",
              "      <td>Feminicidio</td>\n",
              "      <td>Con arma de fuego</td>\n",
              "      <td>Mujer</td>\n",
              "      <td>Menores de edad (0-17)</td>\n",
              "      <td>0</td>\n",
              "      <td>0</td>\n",
              "      <td>0</td>\n",
              "      <td>0</td>\n",
              "      <td>0</td>\n",
              "      <td>0</td>\n",
              "      <td>0</td>\n",
              "      <td>0</td>\n",
              "      <td>0</td>\n",
              "      <td>0</td>\n",
              "      <td>0</td>\n",
              "      <td>0</td>\n",
              "    </tr>\n",
              "    <tr>\n",
              "      <th>19</th>\n",
              "      <td>2015</td>\n",
              "      <td>1</td>\n",
              "      <td>Aguascalientes</td>\n",
              "      <td>La vida y la Integridad corporal</td>\n",
              "      <td>Feminicidio</td>\n",
              "      <td>Feminicidio</td>\n",
              "      <td>Con arma blanca</td>\n",
              "      <td>Mujer</td>\n",
              "      <td>Menores de edad (0-17)</td>\n",
              "      <td>0</td>\n",
              "      <td>0</td>\n",
              "      <td>0</td>\n",
              "      <td>0</td>\n",
              "      <td>0</td>\n",
              "      <td>0</td>\n",
              "      <td>0</td>\n",
              "      <td>0</td>\n",
              "      <td>0</td>\n",
              "      <td>0</td>\n",
              "      <td>0</td>\n",
              "      <td>0</td>\n",
              "    </tr>\n",
              "    <tr>\n",
              "      <th>20</th>\n",
              "      <td>2015</td>\n",
              "      <td>1</td>\n",
              "      <td>Aguascalientes</td>\n",
              "      <td>La vida y la Integridad corporal</td>\n",
              "      <td>Feminicidio</td>\n",
              "      <td>Feminicidio</td>\n",
              "      <td>Con otro elemento</td>\n",
              "      <td>Mujer</td>\n",
              "      <td>Menores de edad (0-17)</td>\n",
              "      <td>0</td>\n",
              "      <td>0</td>\n",
              "      <td>0</td>\n",
              "      <td>0</td>\n",
              "      <td>0</td>\n",
              "      <td>0</td>\n",
              "      <td>0</td>\n",
              "      <td>0</td>\n",
              "      <td>0</td>\n",
              "      <td>0</td>\n",
              "      <td>0</td>\n",
              "      <td>0</td>\n",
              "    </tr>\n",
              "  </tbody>\n",
              "</table>\n",
              "</div>"
            ],
            "text/plain": [
              "     año  clave_ent         entidad  ... octubre noviembre diciembre\n",
              "18  2015          1  Aguascalientes  ...       0         0         0\n",
              "19  2015          1  Aguascalientes  ...       0         0         0\n",
              "20  2015          1  Aguascalientes  ...       0         0         0\n",
              "\n",
              "[3 rows x 21 columns]"
            ]
          },
          "metadata": {
            "tags": []
          },
          "execution_count": 26
        }
      ]
    },
    {
      "cell_type": "code",
      "metadata": {
        "colab": {
          "base_uri": "https://localhost:8080/",
          "height": 234
        },
        "id": "K6yI8p_fORj7",
        "outputId": "7524662b-0d77-4331-9f91-9e438cda4f07"
      },
      "source": [
        "#Tenemos que corregir los datos de homicidios mal clasificados, ya que al ser mujeres las víctimas corresponde a un feminicidio  \r\n",
        "df_homicidios_erroneos = df_victimas_mujeres_nacional_2015_2020[df_victimas_mujeres_nacional_2015_2020.tipo_de_delito.str.contains('Homicidio')]\r\n",
        "print(df_homicidios_erroneos.shape)\r\n",
        "df_homicidios_erroneos.head(3)"
      ],
      "execution_count": null,
      "outputs": [
        {
          "output_type": "stream",
          "text": [
            "(5184, 21)\n"
          ],
          "name": "stdout"
        },
        {
          "output_type": "execute_result",
          "data": {
            "text/html": [
              "<div>\n",
              "<style scoped>\n",
              "    .dataframe tbody tr th:only-of-type {\n",
              "        vertical-align: middle;\n",
              "    }\n",
              "\n",
              "    .dataframe tbody tr th {\n",
              "        vertical-align: top;\n",
              "    }\n",
              "\n",
              "    .dataframe thead th {\n",
              "        text-align: right;\n",
              "    }\n",
              "</style>\n",
              "<table border=\"1\" class=\"dataframe\">\n",
              "  <thead>\n",
              "    <tr style=\"text-align: right;\">\n",
              "      <th></th>\n",
              "      <th>año</th>\n",
              "      <th>clave_ent</th>\n",
              "      <th>entidad</th>\n",
              "      <th>bien_juridico_afectado</th>\n",
              "      <th>tipo_de_delito</th>\n",
              "      <th>subtipo_de_delito</th>\n",
              "      <th>modalidad</th>\n",
              "      <th>sexo</th>\n",
              "      <th>rango_de_edad</th>\n",
              "      <th>enero</th>\n",
              "      <th>febrero</th>\n",
              "      <th>marzo</th>\n",
              "      <th>abril</th>\n",
              "      <th>mayo</th>\n",
              "      <th>junio</th>\n",
              "      <th>julio</th>\n",
              "      <th>agosto</th>\n",
              "      <th>septiembre</th>\n",
              "      <th>octubre</th>\n",
              "      <th>noviembre</th>\n",
              "      <th>diciembre</th>\n",
              "    </tr>\n",
              "  </thead>\n",
              "  <tbody>\n",
              "    <tr>\n",
              "      <th>0</th>\n",
              "      <td>2015</td>\n",
              "      <td>1</td>\n",
              "      <td>Aguascalientes</td>\n",
              "      <td>La vida y la Integridad corporal</td>\n",
              "      <td>Homicidio</td>\n",
              "      <td>Homicidio doloso</td>\n",
              "      <td>Con arma de fuego</td>\n",
              "      <td>Mujer</td>\n",
              "      <td>Menores de edad (0-17)</td>\n",
              "      <td>0</td>\n",
              "      <td>0</td>\n",
              "      <td>0</td>\n",
              "      <td>0</td>\n",
              "      <td>0</td>\n",
              "      <td>0</td>\n",
              "      <td>0</td>\n",
              "      <td>0</td>\n",
              "      <td>0</td>\n",
              "      <td>0</td>\n",
              "      <td>0</td>\n",
              "      <td>0</td>\n",
              "    </tr>\n",
              "    <tr>\n",
              "      <th>1</th>\n",
              "      <td>2015</td>\n",
              "      <td>1</td>\n",
              "      <td>Aguascalientes</td>\n",
              "      <td>La vida y la Integridad corporal</td>\n",
              "      <td>Homicidio</td>\n",
              "      <td>Homicidio doloso</td>\n",
              "      <td>Con arma blanca</td>\n",
              "      <td>Mujer</td>\n",
              "      <td>Menores de edad (0-17)</td>\n",
              "      <td>0</td>\n",
              "      <td>0</td>\n",
              "      <td>0</td>\n",
              "      <td>0</td>\n",
              "      <td>0</td>\n",
              "      <td>0</td>\n",
              "      <td>0</td>\n",
              "      <td>0</td>\n",
              "      <td>0</td>\n",
              "      <td>0</td>\n",
              "      <td>0</td>\n",
              "      <td>0</td>\n",
              "    </tr>\n",
              "    <tr>\n",
              "      <th>2</th>\n",
              "      <td>2015</td>\n",
              "      <td>1</td>\n",
              "      <td>Aguascalientes</td>\n",
              "      <td>La vida y la Integridad corporal</td>\n",
              "      <td>Homicidio</td>\n",
              "      <td>Homicidio doloso</td>\n",
              "      <td>Con otro elemento</td>\n",
              "      <td>Mujer</td>\n",
              "      <td>Menores de edad (0-17)</td>\n",
              "      <td>0</td>\n",
              "      <td>0</td>\n",
              "      <td>0</td>\n",
              "      <td>0</td>\n",
              "      <td>1</td>\n",
              "      <td>0</td>\n",
              "      <td>0</td>\n",
              "      <td>1</td>\n",
              "      <td>0</td>\n",
              "      <td>0</td>\n",
              "      <td>0</td>\n",
              "      <td>0</td>\n",
              "    </tr>\n",
              "  </tbody>\n",
              "</table>\n",
              "</div>"
            ],
            "text/plain": [
              "    año  clave_ent         entidad  ... octubre noviembre diciembre\n",
              "0  2015          1  Aguascalientes  ...       0         0         0\n",
              "1  2015          1  Aguascalientes  ...       0         0         0\n",
              "2  2015          1  Aguascalientes  ...       0         0         0\n",
              "\n",
              "[3 rows x 21 columns]"
            ]
          },
          "metadata": {
            "tags": []
          },
          "execution_count": 27
        }
      ]
    },
    {
      "cell_type": "code",
      "metadata": {
        "colab": {
          "base_uri": "https://localhost:8080/",
          "height": 216
        },
        "id": "sBcSQ8LbUXHJ",
        "outputId": "3d64df11-245a-41d8-e04a-bfe4893006a6"
      },
      "source": [
        "#Corrigiendo los datos de homicidios mal clasificados. Modificando de Homicidio a Feminicidio.\r\n",
        "df_homicidios_erroneos_modificados = df_homicidios_erroneos.copy()\r\n",
        "df_homicidios_erroneos_modificados.loc[df_homicidios_erroneos_modificados['tipo_de_delito'] == 'Homicidio', 'tipo_de_delito'] = 'Feminicidio'\r\n",
        "df_homicidios_erroneos_modificados.head(3)"
      ],
      "execution_count": null,
      "outputs": [
        {
          "output_type": "execute_result",
          "data": {
            "text/html": [
              "<div>\n",
              "<style scoped>\n",
              "    .dataframe tbody tr th:only-of-type {\n",
              "        vertical-align: middle;\n",
              "    }\n",
              "\n",
              "    .dataframe tbody tr th {\n",
              "        vertical-align: top;\n",
              "    }\n",
              "\n",
              "    .dataframe thead th {\n",
              "        text-align: right;\n",
              "    }\n",
              "</style>\n",
              "<table border=\"1\" class=\"dataframe\">\n",
              "  <thead>\n",
              "    <tr style=\"text-align: right;\">\n",
              "      <th></th>\n",
              "      <th>año</th>\n",
              "      <th>clave_ent</th>\n",
              "      <th>entidad</th>\n",
              "      <th>bien_juridico_afectado</th>\n",
              "      <th>tipo_de_delito</th>\n",
              "      <th>subtipo_de_delito</th>\n",
              "      <th>modalidad</th>\n",
              "      <th>sexo</th>\n",
              "      <th>rango_de_edad</th>\n",
              "      <th>enero</th>\n",
              "      <th>febrero</th>\n",
              "      <th>marzo</th>\n",
              "      <th>abril</th>\n",
              "      <th>mayo</th>\n",
              "      <th>junio</th>\n",
              "      <th>julio</th>\n",
              "      <th>agosto</th>\n",
              "      <th>septiembre</th>\n",
              "      <th>octubre</th>\n",
              "      <th>noviembre</th>\n",
              "      <th>diciembre</th>\n",
              "    </tr>\n",
              "  </thead>\n",
              "  <tbody>\n",
              "    <tr>\n",
              "      <th>0</th>\n",
              "      <td>2015</td>\n",
              "      <td>1</td>\n",
              "      <td>Aguascalientes</td>\n",
              "      <td>La vida y la Integridad corporal</td>\n",
              "      <td>Feminicidio</td>\n",
              "      <td>Homicidio doloso</td>\n",
              "      <td>Con arma de fuego</td>\n",
              "      <td>Mujer</td>\n",
              "      <td>Menores de edad (0-17)</td>\n",
              "      <td>0</td>\n",
              "      <td>0</td>\n",
              "      <td>0</td>\n",
              "      <td>0</td>\n",
              "      <td>0</td>\n",
              "      <td>0</td>\n",
              "      <td>0</td>\n",
              "      <td>0</td>\n",
              "      <td>0</td>\n",
              "      <td>0</td>\n",
              "      <td>0</td>\n",
              "      <td>0</td>\n",
              "    </tr>\n",
              "    <tr>\n",
              "      <th>1</th>\n",
              "      <td>2015</td>\n",
              "      <td>1</td>\n",
              "      <td>Aguascalientes</td>\n",
              "      <td>La vida y la Integridad corporal</td>\n",
              "      <td>Feminicidio</td>\n",
              "      <td>Homicidio doloso</td>\n",
              "      <td>Con arma blanca</td>\n",
              "      <td>Mujer</td>\n",
              "      <td>Menores de edad (0-17)</td>\n",
              "      <td>0</td>\n",
              "      <td>0</td>\n",
              "      <td>0</td>\n",
              "      <td>0</td>\n",
              "      <td>0</td>\n",
              "      <td>0</td>\n",
              "      <td>0</td>\n",
              "      <td>0</td>\n",
              "      <td>0</td>\n",
              "      <td>0</td>\n",
              "      <td>0</td>\n",
              "      <td>0</td>\n",
              "    </tr>\n",
              "    <tr>\n",
              "      <th>2</th>\n",
              "      <td>2015</td>\n",
              "      <td>1</td>\n",
              "      <td>Aguascalientes</td>\n",
              "      <td>La vida y la Integridad corporal</td>\n",
              "      <td>Feminicidio</td>\n",
              "      <td>Homicidio doloso</td>\n",
              "      <td>Con otro elemento</td>\n",
              "      <td>Mujer</td>\n",
              "      <td>Menores de edad (0-17)</td>\n",
              "      <td>0</td>\n",
              "      <td>0</td>\n",
              "      <td>0</td>\n",
              "      <td>0</td>\n",
              "      <td>1</td>\n",
              "      <td>0</td>\n",
              "      <td>0</td>\n",
              "      <td>1</td>\n",
              "      <td>0</td>\n",
              "      <td>0</td>\n",
              "      <td>0</td>\n",
              "      <td>0</td>\n",
              "    </tr>\n",
              "  </tbody>\n",
              "</table>\n",
              "</div>"
            ],
            "text/plain": [
              "    año  clave_ent         entidad  ... octubre noviembre diciembre\n",
              "0  2015          1  Aguascalientes  ...       0         0         0\n",
              "1  2015          1  Aguascalientes  ...       0         0         0\n",
              "2  2015          1  Aguascalientes  ...       0         0         0\n",
              "\n",
              "[3 rows x 21 columns]"
            ]
          },
          "metadata": {
            "tags": []
          },
          "execution_count": 28
        }
      ]
    },
    {
      "cell_type": "code",
      "metadata": {
        "colab": {
          "base_uri": "https://localhost:8080/"
        },
        "id": "wTDxmCyDWvXd",
        "outputId": "5c909e1c-4bdc-4bf9-c925-119ec12e004b"
      },
      "source": [
        "df_homicidios_erroneos_modificados.subtipo_de_delito #También hay que modificar el subtipo de delito."
      ],
      "execution_count": null,
      "outputs": [
        {
          "output_type": "execute_result",
          "data": {
            "text/plain": [
              "0         Homicidio doloso\n",
              "1         Homicidio doloso\n",
              "2         Homicidio doloso\n",
              "3         Homicidio doloso\n",
              "4        Homicidio culposo\n",
              "               ...        \n",
              "44004    Homicidio culposo\n",
              "44005    Homicidio culposo\n",
              "44006    Homicidio culposo\n",
              "44007    Homicidio culposo\n",
              "44008    Homicidio culposo\n",
              "Name: subtipo_de_delito, Length: 5184, dtype: object"
            ]
          },
          "metadata": {
            "tags": []
          },
          "execution_count": 29
        }
      ]
    },
    {
      "cell_type": "code",
      "metadata": {
        "colab": {
          "base_uri": "https://localhost:8080/"
        },
        "id": "_QaAMLKHfcfC",
        "outputId": "883bf06f-b9ea-41d8-c066-51480c66f5d6"
      },
      "source": [
        "#Los datos que podemos encontrar en subtipo de delito son:\r\n",
        "print(df_homicidios_erroneos_modificados['subtipo_de_delito'].unique())"
      ],
      "execution_count": null,
      "outputs": [
        {
          "output_type": "stream",
          "text": [
            "['Homicidio doloso' 'Homicidio culposo']\n"
          ],
          "name": "stdout"
        }
      ]
    },
    {
      "cell_type": "code",
      "metadata": {
        "colab": {
          "base_uri": "https://localhost:8080/",
          "height": 216
        },
        "id": "StKEYazsXfbf",
        "outputId": "c84f6529-1817-44ce-9fc6-930327c6e119"
      },
      "source": [
        "#Modificando la sección de subtipo de delito cambiando la palabra homicidio por feminicidio.\r\n",
        "df_homicidios_erroneos_corregidos = df_homicidios_erroneos_modificados.copy()\r\n",
        "df_homicidios_erroneos_corregidos.loc[df_homicidios_erroneos_corregidos['subtipo_de_delito'] == 'Homicidio doloso', 'subtipo_de_delito'] = 'Feminicidio doloso'\r\n",
        "df_homicidios_erroneos_corregidos.loc[df_homicidios_erroneos_corregidos['subtipo_de_delito'] == 'Homicidio culposo', 'subtipo_de_delito'] = 'Feminicidio culposo'\r\n",
        "\r\n",
        "df_homicidios_erroneos_corregidos.head(3)"
      ],
      "execution_count": null,
      "outputs": [
        {
          "output_type": "execute_result",
          "data": {
            "text/html": [
              "<div>\n",
              "<style scoped>\n",
              "    .dataframe tbody tr th:only-of-type {\n",
              "        vertical-align: middle;\n",
              "    }\n",
              "\n",
              "    .dataframe tbody tr th {\n",
              "        vertical-align: top;\n",
              "    }\n",
              "\n",
              "    .dataframe thead th {\n",
              "        text-align: right;\n",
              "    }\n",
              "</style>\n",
              "<table border=\"1\" class=\"dataframe\">\n",
              "  <thead>\n",
              "    <tr style=\"text-align: right;\">\n",
              "      <th></th>\n",
              "      <th>año</th>\n",
              "      <th>clave_ent</th>\n",
              "      <th>entidad</th>\n",
              "      <th>bien_juridico_afectado</th>\n",
              "      <th>tipo_de_delito</th>\n",
              "      <th>subtipo_de_delito</th>\n",
              "      <th>modalidad</th>\n",
              "      <th>sexo</th>\n",
              "      <th>rango_de_edad</th>\n",
              "      <th>enero</th>\n",
              "      <th>febrero</th>\n",
              "      <th>marzo</th>\n",
              "      <th>abril</th>\n",
              "      <th>mayo</th>\n",
              "      <th>junio</th>\n",
              "      <th>julio</th>\n",
              "      <th>agosto</th>\n",
              "      <th>septiembre</th>\n",
              "      <th>octubre</th>\n",
              "      <th>noviembre</th>\n",
              "      <th>diciembre</th>\n",
              "    </tr>\n",
              "  </thead>\n",
              "  <tbody>\n",
              "    <tr>\n",
              "      <th>0</th>\n",
              "      <td>2015</td>\n",
              "      <td>1</td>\n",
              "      <td>Aguascalientes</td>\n",
              "      <td>La vida y la Integridad corporal</td>\n",
              "      <td>Feminicidio</td>\n",
              "      <td>Feminicidio doloso</td>\n",
              "      <td>Con arma de fuego</td>\n",
              "      <td>Mujer</td>\n",
              "      <td>Menores de edad (0-17)</td>\n",
              "      <td>0</td>\n",
              "      <td>0</td>\n",
              "      <td>0</td>\n",
              "      <td>0</td>\n",
              "      <td>0</td>\n",
              "      <td>0</td>\n",
              "      <td>0</td>\n",
              "      <td>0</td>\n",
              "      <td>0</td>\n",
              "      <td>0</td>\n",
              "      <td>0</td>\n",
              "      <td>0</td>\n",
              "    </tr>\n",
              "    <tr>\n",
              "      <th>1</th>\n",
              "      <td>2015</td>\n",
              "      <td>1</td>\n",
              "      <td>Aguascalientes</td>\n",
              "      <td>La vida y la Integridad corporal</td>\n",
              "      <td>Feminicidio</td>\n",
              "      <td>Feminicidio doloso</td>\n",
              "      <td>Con arma blanca</td>\n",
              "      <td>Mujer</td>\n",
              "      <td>Menores de edad (0-17)</td>\n",
              "      <td>0</td>\n",
              "      <td>0</td>\n",
              "      <td>0</td>\n",
              "      <td>0</td>\n",
              "      <td>0</td>\n",
              "      <td>0</td>\n",
              "      <td>0</td>\n",
              "      <td>0</td>\n",
              "      <td>0</td>\n",
              "      <td>0</td>\n",
              "      <td>0</td>\n",
              "      <td>0</td>\n",
              "    </tr>\n",
              "    <tr>\n",
              "      <th>2</th>\n",
              "      <td>2015</td>\n",
              "      <td>1</td>\n",
              "      <td>Aguascalientes</td>\n",
              "      <td>La vida y la Integridad corporal</td>\n",
              "      <td>Feminicidio</td>\n",
              "      <td>Feminicidio doloso</td>\n",
              "      <td>Con otro elemento</td>\n",
              "      <td>Mujer</td>\n",
              "      <td>Menores de edad (0-17)</td>\n",
              "      <td>0</td>\n",
              "      <td>0</td>\n",
              "      <td>0</td>\n",
              "      <td>0</td>\n",
              "      <td>1</td>\n",
              "      <td>0</td>\n",
              "      <td>0</td>\n",
              "      <td>1</td>\n",
              "      <td>0</td>\n",
              "      <td>0</td>\n",
              "      <td>0</td>\n",
              "      <td>0</td>\n",
              "    </tr>\n",
              "  </tbody>\n",
              "</table>\n",
              "</div>"
            ],
            "text/plain": [
              "    año  clave_ent         entidad  ... octubre noviembre diciembre\n",
              "0  2015          1  Aguascalientes  ...       0         0         0\n",
              "1  2015          1  Aguascalientes  ...       0         0         0\n",
              "2  2015          1  Aguascalientes  ...       0         0         0\n",
              "\n",
              "[3 rows x 21 columns]"
            ]
          },
          "metadata": {
            "tags": []
          },
          "execution_count": 32
        }
      ]
    },
    {
      "cell_type": "code",
      "metadata": {
        "colab": {
          "base_uri": "https://localhost:8080/",
          "height": 234
        },
        "id": "Ltge47cXZ-Ov",
        "outputId": "85fc021d-fc40-41fe-fb70-76ae39892dc4"
      },
      "source": [
        "#Esto es más útil corregirlo en el dataframe original que contiene a las víctimas mujeres. Modificando los datos mal clasificados.\r\n",
        "df_victimas_mujeres_nacional_corregido = df_victimas_mujeres_nacional_2015_2020.copy()\r\n",
        "\r\n",
        "#Modificando la sección de tipo_de_delito de Homicidio  a Feminicidio \r\n",
        "df_victimas_mujeres_nacional_corregido.loc[df_victimas_mujeres_nacional_corregido['tipo_de_delito'] == 'Homicidio', 'tipo_de_delito'] = 'Feminicidio'\r\n",
        "\r\n",
        "#Modificando la sección de subtipo de delito \r\n",
        "df_victimas_mujeres_nacional_corregido.loc[df_victimas_mujeres_nacional_corregido['subtipo_de_delito'] == 'Homicidio doloso', 'subtipo_de_delito'] = 'Feminicidio doloso'\r\n",
        "df_victimas_mujeres_nacional_corregido.loc[df_victimas_mujeres_nacional_corregido['subtipo_de_delito'] == 'Homicidio culposo', 'subtipo_de_delito'] = 'Feminicidio culposo'\r\n",
        "\r\n",
        "print(df_victimas_mujeres_nacional_corregido.shape)\r\n",
        "df_victimas_mujeres_nacional_corregido.head(3)\r\n",
        "#¡Listo! Nuestro dataframe ha quedado corregido y listo para realizar análisis exploratorio de datos"
      ],
      "execution_count": null,
      "outputs": [
        {
          "output_type": "stream",
          "text": [
            "(20160, 21)\n"
          ],
          "name": "stdout"
        },
        {
          "output_type": "execute_result",
          "data": {
            "text/html": [
              "<div>\n",
              "<style scoped>\n",
              "    .dataframe tbody tr th:only-of-type {\n",
              "        vertical-align: middle;\n",
              "    }\n",
              "\n",
              "    .dataframe tbody tr th {\n",
              "        vertical-align: top;\n",
              "    }\n",
              "\n",
              "    .dataframe thead th {\n",
              "        text-align: right;\n",
              "    }\n",
              "</style>\n",
              "<table border=\"1\" class=\"dataframe\">\n",
              "  <thead>\n",
              "    <tr style=\"text-align: right;\">\n",
              "      <th></th>\n",
              "      <th>año</th>\n",
              "      <th>clave_ent</th>\n",
              "      <th>entidad</th>\n",
              "      <th>bien_juridico_afectado</th>\n",
              "      <th>tipo_de_delito</th>\n",
              "      <th>subtipo_de_delito</th>\n",
              "      <th>modalidad</th>\n",
              "      <th>sexo</th>\n",
              "      <th>rango_de_edad</th>\n",
              "      <th>enero</th>\n",
              "      <th>febrero</th>\n",
              "      <th>marzo</th>\n",
              "      <th>abril</th>\n",
              "      <th>mayo</th>\n",
              "      <th>junio</th>\n",
              "      <th>julio</th>\n",
              "      <th>agosto</th>\n",
              "      <th>septiembre</th>\n",
              "      <th>octubre</th>\n",
              "      <th>noviembre</th>\n",
              "      <th>diciembre</th>\n",
              "    </tr>\n",
              "  </thead>\n",
              "  <tbody>\n",
              "    <tr>\n",
              "      <th>0</th>\n",
              "      <td>2015</td>\n",
              "      <td>1</td>\n",
              "      <td>Aguascalientes</td>\n",
              "      <td>La vida y la Integridad corporal</td>\n",
              "      <td>Feminicidio</td>\n",
              "      <td>Feminicidio doloso</td>\n",
              "      <td>Con arma de fuego</td>\n",
              "      <td>Mujer</td>\n",
              "      <td>Menores de edad (0-17)</td>\n",
              "      <td>0</td>\n",
              "      <td>0</td>\n",
              "      <td>0</td>\n",
              "      <td>0</td>\n",
              "      <td>0</td>\n",
              "      <td>0</td>\n",
              "      <td>0</td>\n",
              "      <td>0</td>\n",
              "      <td>0</td>\n",
              "      <td>0</td>\n",
              "      <td>0</td>\n",
              "      <td>0</td>\n",
              "    </tr>\n",
              "    <tr>\n",
              "      <th>1</th>\n",
              "      <td>2015</td>\n",
              "      <td>1</td>\n",
              "      <td>Aguascalientes</td>\n",
              "      <td>La vida y la Integridad corporal</td>\n",
              "      <td>Feminicidio</td>\n",
              "      <td>Feminicidio doloso</td>\n",
              "      <td>Con arma blanca</td>\n",
              "      <td>Mujer</td>\n",
              "      <td>Menores de edad (0-17)</td>\n",
              "      <td>0</td>\n",
              "      <td>0</td>\n",
              "      <td>0</td>\n",
              "      <td>0</td>\n",
              "      <td>0</td>\n",
              "      <td>0</td>\n",
              "      <td>0</td>\n",
              "      <td>0</td>\n",
              "      <td>0</td>\n",
              "      <td>0</td>\n",
              "      <td>0</td>\n",
              "      <td>0</td>\n",
              "    </tr>\n",
              "    <tr>\n",
              "      <th>2</th>\n",
              "      <td>2015</td>\n",
              "      <td>1</td>\n",
              "      <td>Aguascalientes</td>\n",
              "      <td>La vida y la Integridad corporal</td>\n",
              "      <td>Feminicidio</td>\n",
              "      <td>Feminicidio doloso</td>\n",
              "      <td>Con otro elemento</td>\n",
              "      <td>Mujer</td>\n",
              "      <td>Menores de edad (0-17)</td>\n",
              "      <td>0</td>\n",
              "      <td>0</td>\n",
              "      <td>0</td>\n",
              "      <td>0</td>\n",
              "      <td>1</td>\n",
              "      <td>0</td>\n",
              "      <td>0</td>\n",
              "      <td>1</td>\n",
              "      <td>0</td>\n",
              "      <td>0</td>\n",
              "      <td>0</td>\n",
              "      <td>0</td>\n",
              "    </tr>\n",
              "  </tbody>\n",
              "</table>\n",
              "</div>"
            ],
            "text/plain": [
              "    año  clave_ent         entidad  ... octubre noviembre diciembre\n",
              "0  2015          1  Aguascalientes  ...       0         0         0\n",
              "1  2015          1  Aguascalientes  ...       0         0         0\n",
              "2  2015          1  Aguascalientes  ...       0         0         0\n",
              "\n",
              "[3 rows x 21 columns]"
            ]
          },
          "metadata": {
            "tags": []
          },
          "execution_count": 34
        }
      ]
    },
    {
      "cell_type": "markdown",
      "metadata": {
        "id": "ldoGl_VydJDu"
      },
      "source": [
        "### **Análisis Exploratorio de Datos.**\r\n",
        "Ya tenemos la base de datos limpia y con las columnas deseadas, por lo que es momento de obtener un análisis estadístico y realizar agrupaciones. "
      ]
    },
    {
      "cell_type": "code",
      "metadata": {
        "colab": {
          "base_uri": "https://localhost:8080/"
        },
        "id": "tPlOyAMOdIiw",
        "outputId": "32022d94-e717-405e-8799-1f3d2484d491"
      },
      "source": [
        "#La columna de rango de edad contiene los siguientes datos.\r\n",
        "print(df_victimas_mujeres_nacional_corregido['rango_de_edad'].unique())"
      ],
      "execution_count": null,
      "outputs": [
        {
          "output_type": "stream",
          "text": [
            "['Menores de edad (0-17)' 'Adultos (18 y más)' 'No especificado']\n"
          ],
          "name": "stdout"
        }
      ]
    },
    {
      "cell_type": "code",
      "metadata": {
        "colab": {
          "base_uri": "https://localhost:8080/"
        },
        "id": "nTHRHP4JgFc0",
        "outputId": "93b92938-0442-4325-ad28-6cb0a75c5e06"
      },
      "source": [
        "#Podemos observar que valores toma la columna de tipo_de_delito \r\n",
        "print(df_victimas_mujeres_nacional_corregido['tipo_de_delito'].unique())"
      ],
      "execution_count": null,
      "outputs": [
        {
          "output_type": "stream",
          "text": [
            "['Feminicidio' 'Lesiones'\n",
            " 'Otros delitos que atentan contra la vida y la integridad corporal'\n",
            " 'Secuestro' 'Tráfico de menores' 'Rapto'\n",
            " 'Otros delitos que atentan contra la libertad personal' 'Extorsión'\n",
            " 'Corrupción de menores' 'Trata de personas'\n",
            " 'Otros delitos contra la sociedad']\n"
          ],
          "name": "stdout"
        }
      ]
    },
    {
      "cell_type": "markdown",
      "metadata": {
        "id": "i7MvPjEOMoY8"
      },
      "source": [
        "- En este caso tenemos que agregar una columna que incluya la suma de las víctimas de cada mes para obtener el total de víctimas de ese año. Modificaremos primero el dataset que incluye únicamente los feminicidios bien clasificados."
      ]
    },
    {
      "cell_type": "code",
      "metadata": {
        "colab": {
          "base_uri": "https://localhost:8080/",
          "height": 167
        },
        "id": "XQ6i6huasKac",
        "outputId": "43b3e13e-b8b2-4f02-a0dc-a95f7adf7c96"
      },
      "source": [
        "#Agreganso la columna que tenga el número de feminicidios de cada año \r\n",
        "meses = ['enero','febrero','marzo','abril','mayo','junio','julio','agosto','septiembre','octubre','noviembre','diciembre']\r\n",
        "df_feminicidios_nacional_modificado = df_feminicidios_nacional_2015_2020.copy()\r\n",
        "df_feminicidios_nacional_modificado['casos_victimas_anual']=df_feminicidios_nacional_2015_2020[meses].sum(axis=1)\r\n",
        "df_feminicidios_nacional_modificado.head(2)"
      ],
      "execution_count": null,
      "outputs": [
        {
          "output_type": "execute_result",
          "data": {
            "text/html": [
              "<div>\n",
              "<style scoped>\n",
              "    .dataframe tbody tr th:only-of-type {\n",
              "        vertical-align: middle;\n",
              "    }\n",
              "\n",
              "    .dataframe tbody tr th {\n",
              "        vertical-align: top;\n",
              "    }\n",
              "\n",
              "    .dataframe thead th {\n",
              "        text-align: right;\n",
              "    }\n",
              "</style>\n",
              "<table border=\"1\" class=\"dataframe\">\n",
              "  <thead>\n",
              "    <tr style=\"text-align: right;\">\n",
              "      <th></th>\n",
              "      <th>año</th>\n",
              "      <th>clave_ent</th>\n",
              "      <th>entidad</th>\n",
              "      <th>bien_juridico_afectado</th>\n",
              "      <th>tipo_de_delito</th>\n",
              "      <th>subtipo_de_delito</th>\n",
              "      <th>modalidad</th>\n",
              "      <th>sexo</th>\n",
              "      <th>rango_de_edad</th>\n",
              "      <th>enero</th>\n",
              "      <th>febrero</th>\n",
              "      <th>marzo</th>\n",
              "      <th>abril</th>\n",
              "      <th>mayo</th>\n",
              "      <th>junio</th>\n",
              "      <th>julio</th>\n",
              "      <th>agosto</th>\n",
              "      <th>septiembre</th>\n",
              "      <th>octubre</th>\n",
              "      <th>noviembre</th>\n",
              "      <th>diciembre</th>\n",
              "      <th>casos_victimas_anual</th>\n",
              "    </tr>\n",
              "  </thead>\n",
              "  <tbody>\n",
              "    <tr>\n",
              "      <th>18</th>\n",
              "      <td>2015</td>\n",
              "      <td>1</td>\n",
              "      <td>Aguascalientes</td>\n",
              "      <td>La vida y la Integridad corporal</td>\n",
              "      <td>Feminicidio</td>\n",
              "      <td>Feminicidio</td>\n",
              "      <td>Con arma de fuego</td>\n",
              "      <td>Mujer</td>\n",
              "      <td>Menores de edad (0-17)</td>\n",
              "      <td>0</td>\n",
              "      <td>0</td>\n",
              "      <td>0</td>\n",
              "      <td>0</td>\n",
              "      <td>0</td>\n",
              "      <td>0</td>\n",
              "      <td>0</td>\n",
              "      <td>0</td>\n",
              "      <td>0</td>\n",
              "      <td>0</td>\n",
              "      <td>0</td>\n",
              "      <td>0</td>\n",
              "      <td>0</td>\n",
              "    </tr>\n",
              "    <tr>\n",
              "      <th>19</th>\n",
              "      <td>2015</td>\n",
              "      <td>1</td>\n",
              "      <td>Aguascalientes</td>\n",
              "      <td>La vida y la Integridad corporal</td>\n",
              "      <td>Feminicidio</td>\n",
              "      <td>Feminicidio</td>\n",
              "      <td>Con arma blanca</td>\n",
              "      <td>Mujer</td>\n",
              "      <td>Menores de edad (0-17)</td>\n",
              "      <td>0</td>\n",
              "      <td>0</td>\n",
              "      <td>0</td>\n",
              "      <td>0</td>\n",
              "      <td>0</td>\n",
              "      <td>0</td>\n",
              "      <td>0</td>\n",
              "      <td>0</td>\n",
              "      <td>0</td>\n",
              "      <td>0</td>\n",
              "      <td>0</td>\n",
              "      <td>0</td>\n",
              "      <td>0</td>\n",
              "    </tr>\n",
              "  </tbody>\n",
              "</table>\n",
              "</div>"
            ],
            "text/plain": [
              "     año  clave_ent         entidad  ... noviembre diciembre casos_victimas_anual\n",
              "18  2015          1  Aguascalientes  ...         0         0                    0\n",
              "19  2015          1  Aguascalientes  ...         0         0                    0\n",
              "\n",
              "[2 rows x 22 columns]"
            ]
          },
          "metadata": {
            "tags": []
          },
          "execution_count": 37
        }
      ]
    },
    {
      "cell_type": "code",
      "metadata": {
        "colab": {
          "base_uri": "https://localhost:8080/"
        },
        "id": "xo0XEtckyB4e",
        "outputId": "4f07f946-9d66-4b63-af09-0f552201bd57"
      },
      "source": [
        "#Observamos el número de feminicidios de cada año.  \r\n",
        "df_femicidios = df_feminicidios_nacional_modificado.groupby('año').sum('casos_victimas_anual')\r\n",
        "df_femicidios['casos_victimas_anual']"
      ],
      "execution_count": null,
      "outputs": [
        {
          "output_type": "execute_result",
          "data": {
            "text/plain": [
              "año\n",
              "2015    426\n",
              "2016    645\n",
              "2017    766\n",
              "2018    914\n",
              "2019    969\n",
              "2020    967\n",
              "Name: casos_victimas_anual, dtype: int64"
            ]
          },
          "metadata": {
            "tags": []
          },
          "execution_count": 38
        }
      ]
    },
    {
      "cell_type": "code",
      "metadata": {
        "colab": {
          "base_uri": "https://localhost:8080/",
          "height": 269
        },
        "id": "gB9wxlZU28-a",
        "outputId": "5b948c73-2b6b-4101-e242-d9a6eef7c195"
      },
      "source": [
        "# Obtenemos los femenicidios bien clasificados mensuales de cada año en el periodo 2015-2020.\r\n",
        "df_femicidios[meses]"
      ],
      "execution_count": null,
      "outputs": [
        {
          "output_type": "execute_result",
          "data": {
            "text/html": [
              "<div>\n",
              "<style scoped>\n",
              "    .dataframe tbody tr th:only-of-type {\n",
              "        vertical-align: middle;\n",
              "    }\n",
              "\n",
              "    .dataframe tbody tr th {\n",
              "        vertical-align: top;\n",
              "    }\n",
              "\n",
              "    .dataframe thead th {\n",
              "        text-align: right;\n",
              "    }\n",
              "</style>\n",
              "<table border=\"1\" class=\"dataframe\">\n",
              "  <thead>\n",
              "    <tr style=\"text-align: right;\">\n",
              "      <th></th>\n",
              "      <th>enero</th>\n",
              "      <th>febrero</th>\n",
              "      <th>marzo</th>\n",
              "      <th>abril</th>\n",
              "      <th>mayo</th>\n",
              "      <th>junio</th>\n",
              "      <th>julio</th>\n",
              "      <th>agosto</th>\n",
              "      <th>septiembre</th>\n",
              "      <th>octubre</th>\n",
              "      <th>noviembre</th>\n",
              "      <th>diciembre</th>\n",
              "    </tr>\n",
              "    <tr>\n",
              "      <th>año</th>\n",
              "      <th></th>\n",
              "      <th></th>\n",
              "      <th></th>\n",
              "      <th></th>\n",
              "      <th></th>\n",
              "      <th></th>\n",
              "      <th></th>\n",
              "      <th></th>\n",
              "      <th></th>\n",
              "      <th></th>\n",
              "      <th></th>\n",
              "      <th></th>\n",
              "    </tr>\n",
              "  </thead>\n",
              "  <tbody>\n",
              "    <tr>\n",
              "      <th>2015</th>\n",
              "      <td>33</td>\n",
              "      <td>30</td>\n",
              "      <td>33</td>\n",
              "      <td>36</td>\n",
              "      <td>28</td>\n",
              "      <td>27</td>\n",
              "      <td>37</td>\n",
              "      <td>39</td>\n",
              "      <td>45</td>\n",
              "      <td>48</td>\n",
              "      <td>30</td>\n",
              "      <td>40</td>\n",
              "    </tr>\n",
              "    <tr>\n",
              "      <th>2016</th>\n",
              "      <td>44</td>\n",
              "      <td>54</td>\n",
              "      <td>70</td>\n",
              "      <td>62</td>\n",
              "      <td>52</td>\n",
              "      <td>60</td>\n",
              "      <td>45</td>\n",
              "      <td>44</td>\n",
              "      <td>55</td>\n",
              "      <td>48</td>\n",
              "      <td>62</td>\n",
              "      <td>49</td>\n",
              "    </tr>\n",
              "    <tr>\n",
              "      <th>2017</th>\n",
              "      <td>51</td>\n",
              "      <td>69</td>\n",
              "      <td>63</td>\n",
              "      <td>62</td>\n",
              "      <td>69</td>\n",
              "      <td>77</td>\n",
              "      <td>75</td>\n",
              "      <td>70</td>\n",
              "      <td>56</td>\n",
              "      <td>61</td>\n",
              "      <td>58</td>\n",
              "      <td>55</td>\n",
              "    </tr>\n",
              "    <tr>\n",
              "      <th>2018</th>\n",
              "      <td>70</td>\n",
              "      <td>69</td>\n",
              "      <td>72</td>\n",
              "      <td>79</td>\n",
              "      <td>64</td>\n",
              "      <td>79</td>\n",
              "      <td>84</td>\n",
              "      <td>65</td>\n",
              "      <td>78</td>\n",
              "      <td>85</td>\n",
              "      <td>69</td>\n",
              "      <td>100</td>\n",
              "    </tr>\n",
              "    <tr>\n",
              "      <th>2019</th>\n",
              "      <td>72</td>\n",
              "      <td>70</td>\n",
              "      <td>82</td>\n",
              "      <td>68</td>\n",
              "      <td>82</td>\n",
              "      <td>77</td>\n",
              "      <td>88</td>\n",
              "      <td>94</td>\n",
              "      <td>90</td>\n",
              "      <td>70</td>\n",
              "      <td>81</td>\n",
              "      <td>95</td>\n",
              "    </tr>\n",
              "    <tr>\n",
              "      <th>2020</th>\n",
              "      <td>75</td>\n",
              "      <td>94</td>\n",
              "      <td>78</td>\n",
              "      <td>73</td>\n",
              "      <td>75</td>\n",
              "      <td>99</td>\n",
              "      <td>77</td>\n",
              "      <td>74</td>\n",
              "      <td>78</td>\n",
              "      <td>78</td>\n",
              "      <td>88</td>\n",
              "      <td>78</td>\n",
              "    </tr>\n",
              "  </tbody>\n",
              "</table>\n",
              "</div>"
            ],
            "text/plain": [
              "      enero  febrero  marzo  abril  ...  septiembre  octubre  noviembre  diciembre\n",
              "año                                 ...                                           \n",
              "2015     33       30     33     36  ...          45       48         30         40\n",
              "2016     44       54     70     62  ...          55       48         62         49\n",
              "2017     51       69     63     62  ...          56       61         58         55\n",
              "2018     70       69     72     79  ...          78       85         69        100\n",
              "2019     72       70     82     68  ...          90       70         81         95\n",
              "2020     75       94     78     73  ...          78       78         88         78\n",
              "\n",
              "[6 rows x 12 columns]"
            ]
          },
          "metadata": {
            "tags": []
          },
          "execution_count": 195
        }
      ]
    },
    {
      "cell_type": "markdown",
      "metadata": {
        "id": "_Us1bEwe593B"
      },
      "source": [
        "- Si clasificamos los feminicidios anuales, el año con ***mayor número de feminicidios*** fue **2019**. Sin embargo, el mes con mayor número de casos fue Diciembre de 2018."
      ]
    },
    {
      "cell_type": "code",
      "metadata": {
        "colab": {
          "base_uri": "https://localhost:8080/"
        },
        "id": "F4FRpjDk5Dec",
        "outputId": "95e06f03-a62e-4710-8946-b93574809c20"
      },
      "source": [
        "#El número total de feminicidios (bien clasificados) ocurridos durante 2015-2020.\r\n",
        "df_feminicidios_nacional_modificado.groupby('tipo_de_delito')['casos_victimas_anual'].sum()"
      ],
      "execution_count": null,
      "outputs": [
        {
          "output_type": "execute_result",
          "data": {
            "text/plain": [
              "tipo_de_delito\n",
              "Feminicidio    4687\n",
              "Name: casos_victimas_anual, dtype: int64"
            ]
          },
          "metadata": {
            "tags": []
          },
          "execution_count": 40
        }
      ]
    },
    {
      "cell_type": "markdown",
      "metadata": {
        "id": "_xWBQPDhNIXY"
      },
      "source": [
        "#### **Modificando en el dataframe completo.**\r\n",
        "Con esto podremos ver realmente cuántos feminicidios ocurrieron durante 2015-2020. En el dataframe completo tenemos a las víctimas mujeres de todos los tipos de delitos. "
      ]
    },
    {
      "cell_type": "code",
      "metadata": {
        "colab": {
          "base_uri": "https://localhost:8080/",
          "height": 216
        },
        "id": "ocEbD9jL66oi",
        "outputId": "86dde98b-c37a-468c-9ce2-3723340a8887"
      },
      "source": [
        "#Primero tenemos que crear la nueva columna con el acumulado de víctimas de ese año. \r\n",
        "meses = ['enero','febrero','marzo','abril','mayo','junio','julio','agosto','septiembre','octubre','noviembre','diciembre']\r\n",
        "df_victimas_mujeres_completo = df_victimas_mujeres_nacional_corregido.copy()\r\n",
        "df_victimas_mujeres_completo['casos_victimas_anual']= df_victimas_mujeres_completo[meses].sum(axis=1)\r\n",
        "df_victimas_mujeres_completo.head(3)"
      ],
      "execution_count": null,
      "outputs": [
        {
          "output_type": "execute_result",
          "data": {
            "text/html": [
              "<div>\n",
              "<style scoped>\n",
              "    .dataframe tbody tr th:only-of-type {\n",
              "        vertical-align: middle;\n",
              "    }\n",
              "\n",
              "    .dataframe tbody tr th {\n",
              "        vertical-align: top;\n",
              "    }\n",
              "\n",
              "    .dataframe thead th {\n",
              "        text-align: right;\n",
              "    }\n",
              "</style>\n",
              "<table border=\"1\" class=\"dataframe\">\n",
              "  <thead>\n",
              "    <tr style=\"text-align: right;\">\n",
              "      <th></th>\n",
              "      <th>año</th>\n",
              "      <th>clave_ent</th>\n",
              "      <th>entidad</th>\n",
              "      <th>bien_juridico_afectado</th>\n",
              "      <th>tipo_de_delito</th>\n",
              "      <th>subtipo_de_delito</th>\n",
              "      <th>modalidad</th>\n",
              "      <th>sexo</th>\n",
              "      <th>rango_de_edad</th>\n",
              "      <th>enero</th>\n",
              "      <th>febrero</th>\n",
              "      <th>marzo</th>\n",
              "      <th>abril</th>\n",
              "      <th>mayo</th>\n",
              "      <th>junio</th>\n",
              "      <th>julio</th>\n",
              "      <th>agosto</th>\n",
              "      <th>septiembre</th>\n",
              "      <th>octubre</th>\n",
              "      <th>noviembre</th>\n",
              "      <th>diciembre</th>\n",
              "      <th>casos_victimas_anual</th>\n",
              "    </tr>\n",
              "  </thead>\n",
              "  <tbody>\n",
              "    <tr>\n",
              "      <th>0</th>\n",
              "      <td>2015</td>\n",
              "      <td>1</td>\n",
              "      <td>Aguascalientes</td>\n",
              "      <td>La vida y la Integridad corporal</td>\n",
              "      <td>Feminicidio</td>\n",
              "      <td>Feminicidio doloso</td>\n",
              "      <td>Con arma de fuego</td>\n",
              "      <td>Mujer</td>\n",
              "      <td>Menores de edad (0-17)</td>\n",
              "      <td>0</td>\n",
              "      <td>0</td>\n",
              "      <td>0</td>\n",
              "      <td>0</td>\n",
              "      <td>0</td>\n",
              "      <td>0</td>\n",
              "      <td>0</td>\n",
              "      <td>0</td>\n",
              "      <td>0</td>\n",
              "      <td>0</td>\n",
              "      <td>0</td>\n",
              "      <td>0</td>\n",
              "      <td>0</td>\n",
              "    </tr>\n",
              "    <tr>\n",
              "      <th>1</th>\n",
              "      <td>2015</td>\n",
              "      <td>1</td>\n",
              "      <td>Aguascalientes</td>\n",
              "      <td>La vida y la Integridad corporal</td>\n",
              "      <td>Feminicidio</td>\n",
              "      <td>Feminicidio doloso</td>\n",
              "      <td>Con arma blanca</td>\n",
              "      <td>Mujer</td>\n",
              "      <td>Menores de edad (0-17)</td>\n",
              "      <td>0</td>\n",
              "      <td>0</td>\n",
              "      <td>0</td>\n",
              "      <td>0</td>\n",
              "      <td>0</td>\n",
              "      <td>0</td>\n",
              "      <td>0</td>\n",
              "      <td>0</td>\n",
              "      <td>0</td>\n",
              "      <td>0</td>\n",
              "      <td>0</td>\n",
              "      <td>0</td>\n",
              "      <td>0</td>\n",
              "    </tr>\n",
              "    <tr>\n",
              "      <th>2</th>\n",
              "      <td>2015</td>\n",
              "      <td>1</td>\n",
              "      <td>Aguascalientes</td>\n",
              "      <td>La vida y la Integridad corporal</td>\n",
              "      <td>Feminicidio</td>\n",
              "      <td>Feminicidio doloso</td>\n",
              "      <td>Con otro elemento</td>\n",
              "      <td>Mujer</td>\n",
              "      <td>Menores de edad (0-17)</td>\n",
              "      <td>0</td>\n",
              "      <td>0</td>\n",
              "      <td>0</td>\n",
              "      <td>0</td>\n",
              "      <td>1</td>\n",
              "      <td>0</td>\n",
              "      <td>0</td>\n",
              "      <td>1</td>\n",
              "      <td>0</td>\n",
              "      <td>0</td>\n",
              "      <td>0</td>\n",
              "      <td>0</td>\n",
              "      <td>2</td>\n",
              "    </tr>\n",
              "  </tbody>\n",
              "</table>\n",
              "</div>"
            ],
            "text/plain": [
              "    año  clave_ent         entidad  ... noviembre diciembre casos_victimas_anual\n",
              "0  2015          1  Aguascalientes  ...         0         0                    0\n",
              "1  2015          1  Aguascalientes  ...         0         0                    0\n",
              "2  2015          1  Aguascalientes  ...         0         0                    2\n",
              "\n",
              "[3 rows x 22 columns]"
            ]
          },
          "metadata": {
            "tags": []
          },
          "execution_count": 75
        }
      ]
    },
    {
      "cell_type": "markdown",
      "metadata": {
        "id": "JH407fEnEKZe"
      },
      "source": [
        "#### **Feminicidios.**"
      ]
    },
    {
      "cell_type": "code",
      "metadata": {
        "colab": {
          "base_uri": "https://localhost:8080/",
          "height": 269
        },
        "id": "74F818-O7_mM",
        "outputId": "b61cf4c8-6c15-4c46-de80-1fc9a7950472"
      },
      "source": [
        "#Feminicidios por mes y anuales durante 2015-2020.\r\n",
        "df_victimas_mujeres_nacional_delitos = df_victimas_mujeres_completo.groupby([\"tipo_de_delito\",'año']).sum()\r\n",
        "df_victimas_mujeres_nacional_delitos = df_victimas_mujeres_nacional_delitos.loc[\"Feminicidio\"]\r\n",
        "meses.append('casos_victimas_anual')\r\n",
        "df_victimas_mujeres_nacional_delitos[meses]"
      ],
      "execution_count": null,
      "outputs": [
        {
          "output_type": "execute_result",
          "data": {
            "text/html": [
              "<div>\n",
              "<style scoped>\n",
              "    .dataframe tbody tr th:only-of-type {\n",
              "        vertical-align: middle;\n",
              "    }\n",
              "\n",
              "    .dataframe tbody tr th {\n",
              "        vertical-align: top;\n",
              "    }\n",
              "\n",
              "    .dataframe thead th {\n",
              "        text-align: right;\n",
              "    }\n",
              "</style>\n",
              "<table border=\"1\" class=\"dataframe\">\n",
              "  <thead>\n",
              "    <tr style=\"text-align: right;\">\n",
              "      <th></th>\n",
              "      <th>enero</th>\n",
              "      <th>febrero</th>\n",
              "      <th>marzo</th>\n",
              "      <th>abril</th>\n",
              "      <th>mayo</th>\n",
              "      <th>junio</th>\n",
              "      <th>julio</th>\n",
              "      <th>agosto</th>\n",
              "      <th>septiembre</th>\n",
              "      <th>octubre</th>\n",
              "      <th>noviembre</th>\n",
              "      <th>diciembre</th>\n",
              "      <th>casos_victimas_anual</th>\n",
              "    </tr>\n",
              "    <tr>\n",
              "      <th>año</th>\n",
              "      <th></th>\n",
              "      <th></th>\n",
              "      <th></th>\n",
              "      <th></th>\n",
              "      <th></th>\n",
              "      <th></th>\n",
              "      <th></th>\n",
              "      <th></th>\n",
              "      <th></th>\n",
              "      <th></th>\n",
              "      <th></th>\n",
              "      <th></th>\n",
              "      <th></th>\n",
              "    </tr>\n",
              "  </thead>\n",
              "  <tbody>\n",
              "    <tr>\n",
              "      <th>2015</th>\n",
              "      <td>473</td>\n",
              "      <td>480</td>\n",
              "      <td>460</td>\n",
              "      <td>429</td>\n",
              "      <td>505</td>\n",
              "      <td>406</td>\n",
              "      <td>452</td>\n",
              "      <td>459</td>\n",
              "      <td>485</td>\n",
              "      <td>463</td>\n",
              "      <td>468</td>\n",
              "      <td>472</td>\n",
              "      <td>5552</td>\n",
              "    </tr>\n",
              "    <tr>\n",
              "      <th>2016</th>\n",
              "      <td>411</td>\n",
              "      <td>428</td>\n",
              "      <td>503</td>\n",
              "      <td>472</td>\n",
              "      <td>496</td>\n",
              "      <td>547</td>\n",
              "      <td>547</td>\n",
              "      <td>540</td>\n",
              "      <td>488</td>\n",
              "      <td>461</td>\n",
              "      <td>492</td>\n",
              "      <td>587</td>\n",
              "      <td>5972</td>\n",
              "    </tr>\n",
              "    <tr>\n",
              "      <th>2017</th>\n",
              "      <td>476</td>\n",
              "      <td>513</td>\n",
              "      <td>548</td>\n",
              "      <td>573</td>\n",
              "      <td>560</td>\n",
              "      <td>567</td>\n",
              "      <td>546</td>\n",
              "      <td>584</td>\n",
              "      <td>504</td>\n",
              "      <td>525</td>\n",
              "      <td>543</td>\n",
              "      <td>534</td>\n",
              "      <td>6473</td>\n",
              "    </tr>\n",
              "    <tr>\n",
              "      <th>2018</th>\n",
              "      <td>526</td>\n",
              "      <td>557</td>\n",
              "      <td>597</td>\n",
              "      <td>573</td>\n",
              "      <td>600</td>\n",
              "      <td>570</td>\n",
              "      <td>596</td>\n",
              "      <td>552</td>\n",
              "      <td>555</td>\n",
              "      <td>572</td>\n",
              "      <td>569</td>\n",
              "      <td>617</td>\n",
              "      <td>6884</td>\n",
              "    </tr>\n",
              "    <tr>\n",
              "      <th>2019</th>\n",
              "      <td>534</td>\n",
              "      <td>510</td>\n",
              "      <td>628</td>\n",
              "      <td>567</td>\n",
              "      <td>654</td>\n",
              "      <td>564</td>\n",
              "      <td>612</td>\n",
              "      <td>598</td>\n",
              "      <td>642</td>\n",
              "      <td>547</td>\n",
              "      <td>589</td>\n",
              "      <td>682</td>\n",
              "      <td>7127</td>\n",
              "    </tr>\n",
              "    <tr>\n",
              "      <th>2020</th>\n",
              "      <td>624</td>\n",
              "      <td>604</td>\n",
              "      <td>625</td>\n",
              "      <td>557</td>\n",
              "      <td>488</td>\n",
              "      <td>543</td>\n",
              "      <td>565</td>\n",
              "      <td>548</td>\n",
              "      <td>601</td>\n",
              "      <td>592</td>\n",
              "      <td>557</td>\n",
              "      <td>590</td>\n",
              "      <td>6894</td>\n",
              "    </tr>\n",
              "  </tbody>\n",
              "</table>\n",
              "</div>"
            ],
            "text/plain": [
              "      enero  febrero  marzo  ...  noviembre  diciembre  casos_victimas_anual\n",
              "año                          ...                                            \n",
              "2015    473      480    460  ...        468        472                  5552\n",
              "2016    411      428    503  ...        492        587                  5972\n",
              "2017    476      513    548  ...        543        534                  6473\n",
              "2018    526      557    597  ...        569        617                  6884\n",
              "2019    534      510    628  ...        589        682                  7127\n",
              "2020    624      604    625  ...        557        590                  6894\n",
              "\n",
              "[6 rows x 13 columns]"
            ]
          },
          "metadata": {
            "tags": []
          },
          "execution_count": 76
        }
      ]
    },
    {
      "cell_type": "code",
      "metadata": {
        "colab": {
          "base_uri": "https://localhost:8080/"
        },
        "id": "Fn-I9bG9GZvO",
        "outputId": "a501e7be-eb8f-4a7b-b211-ce0f27cc2413"
      },
      "source": [
        "#El número total de feminicidios totales ocurridos durante 2015-2020.\r\n",
        "feminicidios_2015_2020 = df_victimas_mujeres_nacional_delitos.casos_victimas_anual.sum()\r\n",
        "print(f'Han ocurrido {feminicidios_2015_2020} feminicidios durante 2015-2020.')"
      ],
      "execution_count": null,
      "outputs": [
        {
          "output_type": "stream",
          "text": [
            "Han ocurrido 38902 feminicidios durante 2015-2020.\n"
          ],
          "name": "stdout"
        }
      ]
    },
    {
      "cell_type": "markdown",
      "metadata": {
        "id": "--RW86zxEvxc"
      },
      "source": [
        "El año con el mayor número de feminicidios fue 2020. Hay una gran diferencia respecto a la cantidad de feminicidios obtenidos con el dataframe con los feminicidios correctamente clasificados."
      ]
    },
    {
      "cell_type": "code",
      "metadata": {
        "colab": {
          "base_uri": "https://localhost:8080/"
        },
        "id": "ULcxfJLEH3Dy",
        "outputId": "e37b4af9-101e-409c-b47c-7a6dc9096660"
      },
      "source": [
        "#Observamos cuáles son los delitos que cuentan con el mayor número de víctimas durante 2015-2020.\r\n",
        "df_victimas_mujeres_delitos_gral.casos_victimas_anual.sort_values(ascending=False)"
      ],
      "execution_count": null,
      "outputs": [
        {
          "output_type": "execute_result",
          "data": {
            "text/plain": [
              "tipo_de_delito\n",
              "Lesiones                                                             486891\n",
              "Otros delitos que atentan contra la libertad personal                 44479\n",
              "Feminicidio                                                           38902\n",
              "Extorsión                                                             14461\n",
              "Otros delitos que atentan contra la vida y la integridad corporal     12208\n",
              "Corrupción de menores                                                  7544\n",
              "Otros delitos contra la sociedad                                       5982\n",
              "Trata de personas                                                      2878\n",
              "Secuestro                                                              2140\n",
              "Rapto                                                                  1302\n",
              "Tráfico de menores                                                      296\n",
              "Name: casos_victimas_anual, dtype: int64"
            ]
          },
          "metadata": {
            "tags": []
          },
          "execution_count": 96
        }
      ]
    },
    {
      "cell_type": "code",
      "metadata": {
        "colab": {
          "base_uri": "https://localhost:8080/"
        },
        "id": "q2DM_elPKwNN",
        "outputId": "717238a6-d586-4433-c415-a2c611658bda"
      },
      "source": [
        "#Número total de víctimas mujeres de algún delito.\r\n",
        "victimas_mujeres_2015_2020 = df_victimas_mujeres_delitos_gral.casos_victimas_anual.sum()\r\n",
        "print(f'Existen {victimas_mujeres_2015_2020} vícitmas mujeres de algún delito durante 2015-2020.')"
      ],
      "execution_count": null,
      "outputs": [
        {
          "output_type": "stream",
          "text": [
            "Existen 617083 vícitmas mujeres de algún delito durante 2015-2020.\n"
          ],
          "name": "stdout"
        }
      ]
    },
    {
      "cell_type": "code",
      "metadata": {
        "colab": {
          "base_uri": "https://localhost:8080/"
        },
        "id": "aOQH-Ph0ijQh",
        "outputId": "2cfd62e1-7454-43ab-a40d-cc06a5cac067"
      },
      "source": [
        "#En la distribución de rangos de edad observamos que la mayor parte corresponden a los No especificado\r\n",
        "victimas_por_edad = df_victimas_mujeres_completo.groupby('rango_de_edad').sum()\r\n",
        "victimas_por_edad.casos_victimas_anual"
      ],
      "execution_count": null,
      "outputs": [
        {
          "output_type": "execute_result",
          "data": {
            "text/plain": [
              "rango_de_edad\n",
              "Adultos (18 y más)        440487\n",
              "Menores de edad (0-17)     64004\n",
              "No especificado           112592\n",
              "Name: casos_victimas_anual, dtype: int64"
            ]
          },
          "metadata": {
            "tags": []
          },
          "execution_count": 84
        }
      ]
    },
    {
      "cell_type": "markdown",
      "metadata": {
        "id": "LznXsTjxMXiQ"
      },
      "source": [
        "#### **Víctimas mujeres de cualquier tipo de delito.**"
      ]
    },
    {
      "cell_type": "code",
      "metadata": {
        "colab": {
          "base_uri": "https://localhost:8080/",
          "height": 455
        },
        "id": "2_bxkIj9jRaD",
        "outputId": "f0ec1290-77bc-451d-c623-bed2bcd373ae"
      },
      "source": [
        "#Víctimas mujeres de cualquier tipo de delito clasificadas por año. \r\n",
        "df_delitos_mujer = df_victimas_mujeres_completo.groupby(['año','tipo_de_delito'])['casos_victimas_anual'].sum()\r\n",
        "df_delitos_mujer = pd.DataFrame(df_delitos_mujer)\r\n",
        "df_delitos_mujer"
      ],
      "execution_count": null,
      "outputs": [
        {
          "output_type": "execute_result",
          "data": {
            "text/html": [
              "<div>\n",
              "<style scoped>\n",
              "    .dataframe tbody tr th:only-of-type {\n",
              "        vertical-align: middle;\n",
              "    }\n",
              "\n",
              "    .dataframe tbody tr th {\n",
              "        vertical-align: top;\n",
              "    }\n",
              "\n",
              "    .dataframe thead th {\n",
              "        text-align: right;\n",
              "    }\n",
              "</style>\n",
              "<table border=\"1\" class=\"dataframe\">\n",
              "  <thead>\n",
              "    <tr style=\"text-align: right;\">\n",
              "      <th></th>\n",
              "      <th></th>\n",
              "      <th>casos_victimas_anual</th>\n",
              "    </tr>\n",
              "    <tr>\n",
              "      <th>año</th>\n",
              "      <th>tipo_de_delito</th>\n",
              "      <th></th>\n",
              "    </tr>\n",
              "  </thead>\n",
              "  <tbody>\n",
              "    <tr>\n",
              "      <th rowspan=\"5\" valign=\"top\">2015</th>\n",
              "      <th>Corrupción de menores</th>\n",
              "      <td>1128</td>\n",
              "    </tr>\n",
              "    <tr>\n",
              "      <th>Extorsión</th>\n",
              "      <td>2091</td>\n",
              "    </tr>\n",
              "    <tr>\n",
              "      <th>Feminicidio</th>\n",
              "      <td>5552</td>\n",
              "    </tr>\n",
              "    <tr>\n",
              "      <th>Lesiones</th>\n",
              "      <td>88629</td>\n",
              "    </tr>\n",
              "    <tr>\n",
              "      <th>Otros delitos contra la sociedad</th>\n",
              "      <td>356</td>\n",
              "    </tr>\n",
              "    <tr>\n",
              "      <th>...</th>\n",
              "      <th>...</th>\n",
              "      <td>...</td>\n",
              "    </tr>\n",
              "    <tr>\n",
              "      <th rowspan=\"5\" valign=\"top\">2020</th>\n",
              "      <th>Otros delitos que atentan contra la vida y la integridad corporal</th>\n",
              "      <td>3236</td>\n",
              "    </tr>\n",
              "    <tr>\n",
              "      <th>Rapto</th>\n",
              "      <td>150</td>\n",
              "    </tr>\n",
              "    <tr>\n",
              "      <th>Secuestro</th>\n",
              "      <td>224</td>\n",
              "    </tr>\n",
              "    <tr>\n",
              "      <th>Trata de personas</th>\n",
              "      <td>454</td>\n",
              "    </tr>\n",
              "    <tr>\n",
              "      <th>Tráfico de menores</th>\n",
              "      <td>9</td>\n",
              "    </tr>\n",
              "  </tbody>\n",
              "</table>\n",
              "<p>66 rows × 1 columns</p>\n",
              "</div>"
            ],
            "text/plain": [
              "                                                         casos_victimas_anual\n",
              "año  tipo_de_delito                                                          \n",
              "2015 Corrupción de menores                                               1128\n",
              "     Extorsión                                                           2091\n",
              "     Feminicidio                                                         5552\n",
              "     Lesiones                                                           88629\n",
              "     Otros delitos contra la sociedad                                     356\n",
              "...                                                                       ...\n",
              "2020 Otros delitos que atentan contra la vida y la i...                  3236\n",
              "     Rapto                                                                150\n",
              "     Secuestro                                                            224\n",
              "     Trata de personas                                                    454\n",
              "     Tráfico de menores                                                     9\n",
              "\n",
              "[66 rows x 1 columns]"
            ]
          },
          "metadata": {
            "tags": []
          },
          "execution_count": 94
        }
      ]
    },
    {
      "cell_type": "code",
      "metadata": {
        "colab": {
          "base_uri": "https://localhost:8080/"
        },
        "id": "rH6DeKh6OFIH",
        "outputId": "5625dda9-86f9-46cd-8800-d42db1ff35b3"
      },
      "source": [
        "# Número total de víctimas mujeres al año en el periodo 2015-2020.\r\n",
        "victimas_mujeres_cualquier_delito = df_delitos_mujer.groupby('año')['casos_victimas_anual'].sum()\r\n",
        "victimas_mujeres_cualquier_delito "
      ],
      "execution_count": null,
      "outputs": [
        {
          "output_type": "execute_result",
          "data": {
            "text/plain": [
              "año\n",
              "2015    105646\n",
              "2016     99571\n",
              "2017    101692\n",
              "2018    100935\n",
              "2019    111450\n",
              "2020     97789\n",
              "Name: casos_victimas_anual, dtype: int64"
            ]
          },
          "metadata": {
            "tags": []
          },
          "execution_count": 110
        }
      ]
    },
    {
      "cell_type": "markdown",
      "metadata": {
        "id": "cjasIGAZPsy-"
      },
      "source": [
        "#### **Clasificación de víctimas mujeres por entidad federativa.** "
      ]
    },
    {
      "cell_type": "code",
      "metadata": {
        "colab": {
          "base_uri": "https://localhost:8080/",
          "height": 1000
        },
        "id": "FEwSsO6CPpH7",
        "outputId": "de163c38-64ba-46c6-e697-df2d5081aafa"
      },
      "source": [
        "#Es importante analizar la cantidad de víctimas \r\n",
        "df_victimas_mujer_entidad = df_victimas_mujeres_completo.groupby(['entidad'])['casos_victimas_anual'].sum()\r\n",
        "df_victimas_mujer_entidad = pd.DataFrame(df_victimas_mujer_entidad.sort_values(ascending=False))\r\n",
        "df_victimas_mujer_entidad"
      ],
      "execution_count": null,
      "outputs": [
        {
          "output_type": "execute_result",
          "data": {
            "text/html": [
              "<div>\n",
              "<style scoped>\n",
              "    .dataframe tbody tr th:only-of-type {\n",
              "        vertical-align: middle;\n",
              "    }\n",
              "\n",
              "    .dataframe tbody tr th {\n",
              "        vertical-align: top;\n",
              "    }\n",
              "\n",
              "    .dataframe thead th {\n",
              "        text-align: right;\n",
              "    }\n",
              "</style>\n",
              "<table border=\"1\" class=\"dataframe\">\n",
              "  <thead>\n",
              "    <tr style=\"text-align: right;\">\n",
              "      <th></th>\n",
              "      <th>casos_victimas_anual</th>\n",
              "    </tr>\n",
              "    <tr>\n",
              "      <th>entidad</th>\n",
              "      <th></th>\n",
              "    </tr>\n",
              "  </thead>\n",
              "  <tbody>\n",
              "    <tr>\n",
              "      <th>México</th>\n",
              "      <td>153141</td>\n",
              "    </tr>\n",
              "    <tr>\n",
              "      <th>Baja California</th>\n",
              "      <td>40686</td>\n",
              "    </tr>\n",
              "    <tr>\n",
              "      <th>Nuevo León</th>\n",
              "      <td>38494</td>\n",
              "    </tr>\n",
              "    <tr>\n",
              "      <th>Guanajuato</th>\n",
              "      <td>38312</td>\n",
              "    </tr>\n",
              "    <tr>\n",
              "      <th>Jalisco</th>\n",
              "      <td>38293</td>\n",
              "    </tr>\n",
              "    <tr>\n",
              "      <th>Michoacán de Ocampo</th>\n",
              "      <td>23935</td>\n",
              "    </tr>\n",
              "    <tr>\n",
              "      <th>Querétaro</th>\n",
              "      <td>20302</td>\n",
              "    </tr>\n",
              "    <tr>\n",
              "      <th>Hidalgo</th>\n",
              "      <td>19493</td>\n",
              "    </tr>\n",
              "    <tr>\n",
              "      <th>Ciudad de México</th>\n",
              "      <td>18907</td>\n",
              "    </tr>\n",
              "    <tr>\n",
              "      <th>Puebla</th>\n",
              "      <td>18732</td>\n",
              "    </tr>\n",
              "    <tr>\n",
              "      <th>Veracruz de Ignacio de la Llave</th>\n",
              "      <td>18538</td>\n",
              "    </tr>\n",
              "    <tr>\n",
              "      <th>Chihuahua</th>\n",
              "      <td>18138</td>\n",
              "    </tr>\n",
              "    <tr>\n",
              "      <th>Tamaulipas</th>\n",
              "      <td>15989</td>\n",
              "    </tr>\n",
              "    <tr>\n",
              "      <th>Coahuila de Zaragoza</th>\n",
              "      <td>15241</td>\n",
              "    </tr>\n",
              "    <tr>\n",
              "      <th>Oaxaca</th>\n",
              "      <td>14593</td>\n",
              "    </tr>\n",
              "    <tr>\n",
              "      <th>Morelos</th>\n",
              "      <td>14540</td>\n",
              "    </tr>\n",
              "    <tr>\n",
              "      <th>Guerrero</th>\n",
              "      <td>13727</td>\n",
              "    </tr>\n",
              "    <tr>\n",
              "      <th>Sinaloa</th>\n",
              "      <td>12649</td>\n",
              "    </tr>\n",
              "    <tr>\n",
              "      <th>Tabasco</th>\n",
              "      <td>11846</td>\n",
              "    </tr>\n",
              "    <tr>\n",
              "      <th>Durango</th>\n",
              "      <td>11520</td>\n",
              "    </tr>\n",
              "    <tr>\n",
              "      <th>San Luis Potosí</th>\n",
              "      <td>11465</td>\n",
              "    </tr>\n",
              "    <tr>\n",
              "      <th>Zacatecas</th>\n",
              "      <td>8445</td>\n",
              "    </tr>\n",
              "    <tr>\n",
              "      <th>Sonora</th>\n",
              "      <td>8213</td>\n",
              "    </tr>\n",
              "    <tr>\n",
              "      <th>Quintana Roo</th>\n",
              "      <td>7400</td>\n",
              "    </tr>\n",
              "    <tr>\n",
              "      <th>Chiapas</th>\n",
              "      <td>6550</td>\n",
              "    </tr>\n",
              "    <tr>\n",
              "      <th>Baja California Sur</th>\n",
              "      <td>5916</td>\n",
              "    </tr>\n",
              "    <tr>\n",
              "      <th>Colima</th>\n",
              "      <td>3920</td>\n",
              "    </tr>\n",
              "    <tr>\n",
              "      <th>Yucatán</th>\n",
              "      <td>3743</td>\n",
              "    </tr>\n",
              "    <tr>\n",
              "      <th>Tlaxcala</th>\n",
              "      <td>1452</td>\n",
              "    </tr>\n",
              "    <tr>\n",
              "      <th>Nayarit</th>\n",
              "      <td>1343</td>\n",
              "    </tr>\n",
              "    <tr>\n",
              "      <th>Campeche</th>\n",
              "      <td>960</td>\n",
              "    </tr>\n",
              "    <tr>\n",
              "      <th>Aguascalientes</th>\n",
              "      <td>600</td>\n",
              "    </tr>\n",
              "  </tbody>\n",
              "</table>\n",
              "</div>"
            ],
            "text/plain": [
              "                                 casos_victimas_anual\n",
              "entidad                                              \n",
              "México                                         153141\n",
              "Baja California                                 40686\n",
              "Nuevo León                                      38494\n",
              "Guanajuato                                      38312\n",
              "Jalisco                                         38293\n",
              "Michoacán de Ocampo                             23935\n",
              "Querétaro                                       20302\n",
              "Hidalgo                                         19493\n",
              "Ciudad de México                                18907\n",
              "Puebla                                          18732\n",
              "Veracruz de Ignacio de la Llave                 18538\n",
              "Chihuahua                                       18138\n",
              "Tamaulipas                                      15989\n",
              "Coahuila de Zaragoza                            15241\n",
              "Oaxaca                                          14593\n",
              "Morelos                                         14540\n",
              "Guerrero                                        13727\n",
              "Sinaloa                                         12649\n",
              "Tabasco                                         11846\n",
              "Durango                                         11520\n",
              "San Luis Potosí                                 11465\n",
              "Zacatecas                                        8445\n",
              "Sonora                                           8213\n",
              "Quintana Roo                                     7400\n",
              "Chiapas                                          6550\n",
              "Baja California Sur                              5916\n",
              "Colima                                           3920\n",
              "Yucatán                                          3743\n",
              "Tlaxcala                                         1452\n",
              "Nayarit                                          1343\n",
              "Campeche                                          960\n",
              "Aguascalientes                                    600"
            ]
          },
          "metadata": {
            "tags": []
          },
          "execution_count": 108
        }
      ]
    },
    {
      "cell_type": "code",
      "metadata": {
        "colab": {
          "base_uri": "https://localhost:8080/",
          "height": 1000
        },
        "id": "FW-ThErBnMsd",
        "outputId": "29d95dd0-452c-416d-ac5c-0985074f6132"
      },
      "source": [
        "#Feminicidios por entidad \r\n",
        "meses = ['enero','febrero','marzo','abril','mayo','junio','julio','agosto','septiembre','octubre','noviembre','diciembre']\r\n",
        "df_victimas_mujeres_nacional_delitos = df_victimas_mujeres_completo.groupby([\"tipo_de_delito\",'entidad']).sum()\r\n",
        "df_victimas_mujeres_nacional_delitos = df_victimas_mujeres_nacional_delitos.loc[\"Feminicidio\"]\r\n",
        "meses.append('casos_victimas_anual')\r\n",
        "feminicidios_entidad = pd.DataFrame(df_victimas_mujeres_nacional_delitos['casos_victimas_anual'].sort_values(ascending=False))\r\n",
        "feminicidios_entidad"
      ],
      "execution_count": null,
      "outputs": [
        {
          "output_type": "execute_result",
          "data": {
            "text/html": [
              "<div>\n",
              "<style scoped>\n",
              "    .dataframe tbody tr th:only-of-type {\n",
              "        vertical-align: middle;\n",
              "    }\n",
              "\n",
              "    .dataframe tbody tr th {\n",
              "        vertical-align: top;\n",
              "    }\n",
              "\n",
              "    .dataframe thead th {\n",
              "        text-align: right;\n",
              "    }\n",
              "</style>\n",
              "<table border=\"1\" class=\"dataframe\">\n",
              "  <thead>\n",
              "    <tr style=\"text-align: right;\">\n",
              "      <th></th>\n",
              "      <th>casos_victimas_anual</th>\n",
              "    </tr>\n",
              "    <tr>\n",
              "      <th>entidad</th>\n",
              "      <th></th>\n",
              "    </tr>\n",
              "  </thead>\n",
              "  <tbody>\n",
              "    <tr>\n",
              "      <th>Guanajuato</th>\n",
              "      <td>4180</td>\n",
              "    </tr>\n",
              "    <tr>\n",
              "      <th>México</th>\n",
              "      <td>3443</td>\n",
              "    </tr>\n",
              "    <tr>\n",
              "      <th>Jalisco</th>\n",
              "      <td>2327</td>\n",
              "    </tr>\n",
              "    <tr>\n",
              "      <th>Michoacán de Ocampo</th>\n",
              "      <td>2242</td>\n",
              "    </tr>\n",
              "    <tr>\n",
              "      <th>Veracruz de Ignacio de la Llave</th>\n",
              "      <td>2058</td>\n",
              "    </tr>\n",
              "    <tr>\n",
              "      <th>Guerrero</th>\n",
              "      <td>1944</td>\n",
              "    </tr>\n",
              "    <tr>\n",
              "      <th>Baja California</th>\n",
              "      <td>1833</td>\n",
              "    </tr>\n",
              "    <tr>\n",
              "      <th>Chihuahua</th>\n",
              "      <td>1788</td>\n",
              "    </tr>\n",
              "    <tr>\n",
              "      <th>Ciudad de México</th>\n",
              "      <td>1710</td>\n",
              "    </tr>\n",
              "    <tr>\n",
              "      <th>Puebla</th>\n",
              "      <td>1681</td>\n",
              "    </tr>\n",
              "    <tr>\n",
              "      <th>Nuevo León</th>\n",
              "      <td>1569</td>\n",
              "    </tr>\n",
              "    <tr>\n",
              "      <th>Tamaulipas</th>\n",
              "      <td>1491</td>\n",
              "    </tr>\n",
              "    <tr>\n",
              "      <th>Oaxaca</th>\n",
              "      <td>1413</td>\n",
              "    </tr>\n",
              "    <tr>\n",
              "      <th>Chiapas</th>\n",
              "      <td>1232</td>\n",
              "    </tr>\n",
              "    <tr>\n",
              "      <th>Sinaloa</th>\n",
              "      <td>1004</td>\n",
              "    </tr>\n",
              "    <tr>\n",
              "      <th>Sonora</th>\n",
              "      <td>989</td>\n",
              "    </tr>\n",
              "    <tr>\n",
              "      <th>Hidalgo</th>\n",
              "      <td>859</td>\n",
              "    </tr>\n",
              "    <tr>\n",
              "      <th>Morelos</th>\n",
              "      <td>828</td>\n",
              "    </tr>\n",
              "    <tr>\n",
              "      <th>Quintana Roo</th>\n",
              "      <td>773</td>\n",
              "    </tr>\n",
              "    <tr>\n",
              "      <th>Zacatecas</th>\n",
              "      <td>737</td>\n",
              "    </tr>\n",
              "    <tr>\n",
              "      <th>Coahuila de Zaragoza</th>\n",
              "      <td>684</td>\n",
              "    </tr>\n",
              "    <tr>\n",
              "      <th>Tabasco</th>\n",
              "      <td>652</td>\n",
              "    </tr>\n",
              "    <tr>\n",
              "      <th>San Luis Potosí</th>\n",
              "      <td>609</td>\n",
              "    </tr>\n",
              "    <tr>\n",
              "      <th>Colima</th>\n",
              "      <td>538</td>\n",
              "    </tr>\n",
              "    <tr>\n",
              "      <th>Querétaro</th>\n",
              "      <td>495</td>\n",
              "    </tr>\n",
              "    <tr>\n",
              "      <th>Durango</th>\n",
              "      <td>399</td>\n",
              "    </tr>\n",
              "    <tr>\n",
              "      <th>Aguascalientes</th>\n",
              "      <td>311</td>\n",
              "    </tr>\n",
              "    <tr>\n",
              "      <th>Nayarit</th>\n",
              "      <td>310</td>\n",
              "    </tr>\n",
              "    <tr>\n",
              "      <th>Tlaxcala</th>\n",
              "      <td>288</td>\n",
              "    </tr>\n",
              "    <tr>\n",
              "      <th>Baja California Sur</th>\n",
              "      <td>248</td>\n",
              "    </tr>\n",
              "    <tr>\n",
              "      <th>Campeche</th>\n",
              "      <td>172</td>\n",
              "    </tr>\n",
              "    <tr>\n",
              "      <th>Yucatán</th>\n",
              "      <td>95</td>\n",
              "    </tr>\n",
              "  </tbody>\n",
              "</table>\n",
              "</div>"
            ],
            "text/plain": [
              "                                 casos_victimas_anual\n",
              "entidad                                              \n",
              "Guanajuato                                       4180\n",
              "México                                           3443\n",
              "Jalisco                                          2327\n",
              "Michoacán de Ocampo                              2242\n",
              "Veracruz de Ignacio de la Llave                  2058\n",
              "Guerrero                                         1944\n",
              "Baja California                                  1833\n",
              "Chihuahua                                        1788\n",
              "Ciudad de México                                 1710\n",
              "Puebla                                           1681\n",
              "Nuevo León                                       1569\n",
              "Tamaulipas                                       1491\n",
              "Oaxaca                                           1413\n",
              "Chiapas                                          1232\n",
              "Sinaloa                                          1004\n",
              "Sonora                                            989\n",
              "Hidalgo                                           859\n",
              "Morelos                                           828\n",
              "Quintana Roo                                      773\n",
              "Zacatecas                                         737\n",
              "Coahuila de Zaragoza                              684\n",
              "Tabasco                                           652\n",
              "San Luis Potosí                                   609\n",
              "Colima                                            538\n",
              "Querétaro                                         495\n",
              "Durango                                           399\n",
              "Aguascalientes                                    311\n",
              "Nayarit                                           310\n",
              "Tlaxcala                                          288\n",
              "Baja California Sur                               248\n",
              "Campeche                                          172\n",
              "Yucatán                                            95"
            ]
          },
          "metadata": {
            "tags": []
          },
          "execution_count": 58
        }
      ]
    },
    {
      "cell_type": "markdown",
      "metadata": {
        "id": "wRhRnX_3HLli"
      },
      "source": [
        "## **Conclusiones**\r\n",
        "\r\n",
        "\r\n",
        "---\r\n",
        "\r\n",
        "\r\n"
      ]
    },
    {
      "cell_type": "markdown",
      "metadata": {
        "id": "F3dNH91ww-Fq"
      },
      "source": [
        "En el tema de violencia de género, México se encuentra en un escenario preocupante debido a que los reportes relacionados a acoso sexual/violencia de genero/violación han ido en aumentando año con año. Si bien el número máximo de feminicidios en México fue en 2019 con 7,127 víctimas, las llamadas recibidas a LOCATEL por violencia de género en la CDMX aumentaron durante el aislamiento, llegando a su máximo con 24,500 llamadas en 2020, las razones de la llamada más frecuentes fueron: delitos contra la integridad familiar, violencia de género y contra la paz y seguridad. Esto indicándonos que la mujer se encontraba en aislamiento con su agresor(a).En temas de situación social, la escolaridad de las víctimas de las llamadas representan bachillerato 40.6% , secundaria 31% y 17.5% licenciatura. Sus ocupaciones: empleada 42.7% , ama de casa 34.2%  y comerciante 6.4%:\r\n",
        "El de las víctimas eran solteras 56.2% , casadas 30.5% y en unión libre 12.2%.\r\n",
        " \r\n",
        "El estado donde más se ven a las mujeres desaparecidas por última vez es CDMX, seguido de Tamaulipas y Puebla.Mientas que el Estado de México cuenta con el mayor número de víctimas por cualquier delito( 153,141 víctimas) y en feminicidios encabeza Guanajuato con 4,180 víctimas. En el caso de la CDMX Iztapalapa seguirá siendo la alcaldía donde se comete el mayor número de delitos contra la mujer.\r\n",
        "\r\n",
        "Estos datos son preocupantes y son un llamado urgente de atención a tomar medidas y soluciones en este tema para erradicar la desigualdad de género y la violencia contra la mujer."
      ]
    },
    {
      "cell_type": "markdown",
      "metadata": {
        "id": "gVnm0FBI9ngm"
      },
      "source": [
        "##**Referencias.** \r\n",
        "\r\n",
        "\r\n",
        "---\r\n",
        "\r\n",
        "\r\n",
        "1.  Organización Mundial de la Salud,OMS(2017).**Violencia contra la mujer.** Recuperado de:  https://www.who.int/es/news-room/fact-sheets/detail/violence-against-women. Consultado el : 06 de marzo de 2021.\r\n",
        "2.   ONU Mujeres,México(2018).**La violencia contra las mujeres no es normal ni tolerable. Garantizar los derechos humanos de las mujeres y las niñas es trabajo de todas y de todos.**Recuperado de: https://mexico.unwomen.org/es/noticias-y-eventos/articulos/2018/11/violencia-contra-las-mujeres. Consultado el : 06 de marzo de 2021. \r\n",
        "3. Moctezuma, D. Narro,J.Orozco,L (2014).**La mujer en México: inequidad, pobreza y violencia**.*Revista Mexicana de Ciencias Políticas y Sociales*. Volumen 59,p.117-146.Recuperado de: https://www.sciencedirect.com/science/article/pii/S0185191814708037. Consultado el 07 de marzo de 2021.\r\n",
        "\r\n",
        "\r\n"
      ]
    },
    {
      "cell_type": "markdown",
      "metadata": {
        "id": "ZyBdpM7B0srC"
      },
      "source": [
        "##**Fuentes para los Datasets.**\r\n",
        "\r\n",
        "---\r\n",
        "I. Gobierno de la Ciudad de México, Portal de datos abiertos (12 de enero de 2021).**Servicios para la población en general (antes Llamadas realizadas a Línea Mujeres)**. Recopilada de: https://datos.cdmx.gob.mx/dataset/servicios-para-la-poblacion-en-general/resource/59af003e-042e-4aeb-b4f0-8ca9a6600ec4. Consultada el 04 de marzo de 2021.\r\n",
        "\r\n",
        "II. Gobierno de la Ciudad de México, Portal de datos abiertos(12 de enero de 2021). **Carpetas de investigación FGJ de la Ciudad de México**. Recopilada de: https://datos.cdmx.gob.mx/dataset/carpetas-de-investigacion-fgj-de-la-ciudad-de-mexico#.  Consultada el 04 de marzo de 2021.\r\n",
        "\r\n",
        "III. Gobierno de la Ciudad de México, Portal de datos abiertos (12 de enero de 2021). **Víctimas en carpetas de investigación FGJ**. Recopilada de : https://datos.cdmx.gob.mx/dataset/victimas-en-carpetas-de-investigacion-fgj. Consultada el 04 de marzo de 2021.\r\n",
        "\r\n",
        "IV. Gobierno de México. Secretariado Ejecutivo del Sistema Nacional de Seguridad Pública (20 de febrero de 2021).**Datos Abiertos de Incidencia Delictiva. Reportes de incidencia delictiva al mes de enero 2021 (Nueva metodología).** Recopilado de: https://www.gob.mx/sesnsp/acciones-y-programas/datos-abiertos-de-incidencia-delictiva. Consultada el 10 de marzo de 2021.\r\n",
        "\r\n",
        "V. Gobierno de México. Secretariado Ejecutivo del Sistema Nacional de Seguridad Pública (31 de mayo de 2018).**Registro Nacional de Datos de Personas Extraviadas o Desaparecidas, RNPED**. Recopliado de: https://www.gob.mx/sesnsp/acciones-y-programas/registro-nacional-de-datos-de-personas-extraviadas-o-desaparecidas-rnped . Consultado el 09 de marzo de 2021.\r\n",
        "\r\n"
      ]
    }
  ]
}